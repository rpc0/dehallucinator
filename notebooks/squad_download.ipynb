{
 "cells": [
  {
   "cell_type": "code",
   "execution_count": 23,
   "metadata": {},
   "outputs": [],
   "source": [
    "## Download SQuAD dataset\n",
    "\n",
    "import requests\n",
    "import os\n",
    "from urllib.parse import urlparse\n",
    "import json\n",
    "\n",
    "## Path to SQuAD data-set:\n",
    "# Full Set (40MB): https://rajpurkar.github.io/SQuAD-explorer/dataset/train-v2.0.json\n",
    "# Dev Set (4MB): https://rajpurkar.github.io/SQuAD-explorer/dataset/dev-v2.0.json\n",
    "\n",
    "dl_url = \"https://rajpurkar.github.io/SQuAD-explorer/dataset/dev-v2.0.json\"\n",
    "url = urlparse(dl_url)\n",
    "f_name = os.path.basename(url.path)\n",
    "r = requests.get(dl_url)\n",
    "json_data = r.json()\n",
    "\n",
    "with open(f'../data/{f_name}', 'w') as f:\n",
    "    json.dump(json_data, f)"
   ]
  },
  {
   "cell_type": "code",
   "execution_count": 15,
   "metadata": {},
   "outputs": [],
   "source": [
    "# Load json document\n",
    "\n",
    "with open(f'../data/{f_name}') as json_data:\n",
    "    d = json.load(json_data)"
   ]
  },
  {
   "cell_type": "code",
   "execution_count": 24,
   "metadata": {},
   "outputs": [],
   "source": [
    "## Create context documents\n",
    "\n",
    "import jmespath\n",
    "contexts = jmespath.search(\"data[*].paragraphs[*].context\", json_data)"
   ]
  },
  {
   "cell_type": "code",
   "execution_count": 26,
   "metadata": {},
   "outputs": [],
   "source": [
    "context_cnt = 1\n",
    "for context in contexts:\n",
    "    with open(f\"../data/context_{context_cnt}.txt\", 'w') as f:\n",
    "        f.write(context[0])\n",
    "        context_cnt = context_cnt + 1"
   ]
  },
  {
   "cell_type": "code",
   "execution_count": 38,
   "metadata": {},
   "outputs": [],
   "source": [
    "## Create qa documents\n",
    "\n",
    "possible_qas = jmespath.search(\"data[*].paragraphs[*].qas[?is_impossible!=True]\", json_data)"
   ]
  },
  {
   "cell_type": "code",
   "execution_count": 53,
   "metadata": {},
   "outputs": [],
   "source": [
    "with open(f\"../data/qas.tsv\", 'w') as f:\n",
    "    for qa in possible_qas:\n",
    "        qa = qa[0][0]\n",
    "        question = qa[\"question\"]\n",
    "        answers = set([a[\"text\"] for a in qa[\"answers\"]])\n",
    "\n",
    "        for answer in answers:\n",
    "            f.write( f\"{question}\\t{answer}\\n\" )"
   ]
  },
  {
   "cell_type": "code",
   "execution_count": null,
   "metadata": {},
   "outputs": [],
   "source": []
  }
 ],
 "metadata": {
  "kernelspec": {
   "display_name": "deh",
   "language": "python",
   "name": "python3"
  },
  "language_info": {
   "codemirror_mode": {
    "name": "ipython",
    "version": 3
   },
   "file_extension": ".py",
   "mimetype": "text/x-python",
   "name": "python",
   "nbconvert_exporter": "python",
   "pygments_lexer": "ipython3",
   "version": "3.9.19"
  }
 },
 "nbformat": 4,
 "nbformat_minor": 2
}
