{
 "cells": [
  {
   "cell_type": "code",
   "execution_count": 1,
   "metadata": {},
   "outputs": [],
   "source": [
    "%load_ext autoreload\n",
    "%autoreload 2"
   ]
  },
  {
   "cell_type": "markdown",
   "metadata": {},
   "source": [
    "#### Provides an example of using an AssessmentDataDownloader"
   ]
  },
  {
   "cell_type": "code",
   "execution_count": 7,
   "metadata": {},
   "outputs": [],
   "source": [
    "from deh.assessment import SquadAssessmentDataDownloader\n",
    "\n",
    "# Instantiate a SquadAssessmentDataDownloader:\n",
    "dl = SquadAssessmentDataDownloader(cache_dir=\"../data/\")"
   ]
  },
  {
   "cell_type": "code",
   "execution_count": 10,
   "metadata": {},
   "outputs": [],
   "source": [
    "dl.save_contexts( \"../data/\" )\n",
    "dl.save_question_answers( \"../data/qas.tsv\" )"
   ]
  }
 ],
 "metadata": {
  "kernelspec": {
   "display_name": "deh",
   "language": "python",
   "name": "python3"
  },
  "language_info": {
   "codemirror_mode": {
    "name": "ipython",
    "version": 3
   },
   "file_extension": ".py",
   "mimetype": "text/x-python",
   "name": "python",
   "nbconvert_exporter": "python",
   "pygments_lexer": "ipython3",
   "version": "3.9.19"
  }
 },
 "nbformat": 4,
 "nbformat_minor": 2
}
