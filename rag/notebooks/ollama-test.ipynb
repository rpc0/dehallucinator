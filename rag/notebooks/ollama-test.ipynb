{
 "cells": [
  {
   "cell_type": "code",
   "execution_count": 1,
   "metadata": {},
   "outputs": [],
   "source": [
    "from langchain.llms import Ollama\n",
    "from langchain.callbacks.manager import CallbackManager\n",
    "from langchain.callbacks.streaming_stdout import StreamingStdOutCallbackHandler\n"
   ]
  },
  {
   "cell_type": "code",
   "execution_count": 7,
   "metadata": {},
   "outputs": [],
   "source": [
    "llm = Ollama(\n",
    "    base_url=\"http://localhost:7869\",\n",
    "    model=\"llava-phi3:latest\", \n",
    "    callback_manager = CallbackManager([StreamingStdOutCallbackHandler()]))"
   ]
  },
  {
   "cell_type": "code",
   "execution_count": 8,
   "metadata": {},
   "outputs": [
    {
     "name": "stdout",
     "output_type": "stream",
     "text": [
      "\t* *              (120)\n",
      "\t*   \\           (65)\n",
      "\t*    \\          (87)\n",
      "\t*     \\         (94)\n",
      "\t*      \\        (77)\n",
      "\t*       \\       (32)\n",
      "\t*        \\      (71)\n",
      "\t*         \\     (37)\n",
      "\t*          \\    (65)\n",
      "\t*           \\   (58)\n",
      "\t*            \\ (94)\n",
      "\t*             \\(101)\n",
      "\t*              \\\n",
      "\t*               * (81)"
     ]
    },
    {
     "data": {
      "text/plain": [
       "'\\t* *              (120)\\n\\t*   \\\\           (65)\\n\\t*    \\\\          (87)\\n\\t*     \\\\         (94)\\n\\t*      \\\\        (77)\\n\\t*       \\\\       (32)\\n\\t*        \\\\      (71)\\n\\t*         \\\\     (37)\\n\\t*          \\\\    (65)\\n\\t*           \\\\   (58)\\n\\t*            \\\\ (94)\\n\\t*             \\\\(101)\\n\\t*              \\\\\\n\\t*               * (81)'"
      ]
     },
     "execution_count": 8,
     "metadata": {},
     "output_type": "execute_result"
    }
   ],
   "source": [
    "llm(\"hello:\")"
   ]
  },
  {
   "cell_type": "code",
   "execution_count": null,
   "metadata": {},
   "outputs": [],
   "source": []
  }
 ],
 "metadata": {
  "kernelspec": {
   "display_name": "deh_rag",
   "language": "python",
   "name": "python3"
  },
  "language_info": {
   "codemirror_mode": {
    "name": "ipython",
    "version": 3
   },
   "file_extension": ".py",
   "mimetype": "text/x-python",
   "name": "python",
   "nbconvert_exporter": "python",
   "pygments_lexer": "ipython3",
   "version": "3.9.19"
  }
 },
 "nbformat": 4,
 "nbformat_minor": 2
}
