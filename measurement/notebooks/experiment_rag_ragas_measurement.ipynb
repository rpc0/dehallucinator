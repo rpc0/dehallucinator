{
 "cells": [
  {
   "cell_type": "markdown",
   "metadata": {},
   "source": [
    "### Experiment:  Comparison of RAG models using RAGAS framework"
   ]
  },
  {
   "cell_type": "markdown",
   "metadata": {},
   "source": [
    "**Background:**  Generate RAGAS based measurement for proposed RAG API candidates.\n",
    "\n",
    "**Test Approach:** Test RAG Parameters:\n",
    "\n",
    "* RAG_0"
   ]
  },
  {
   "cell_type": "code",
   "execution_count": 1,
   "metadata": {},
   "outputs": [],
   "source": [
    "%load_ext autoreload\n",
    "%autoreload 2"
   ]
  },
  {
   "cell_type": "code",
   "execution_count": null,
   "metadata": {},
   "outputs": [
    {
     "data": {
      "text/plain": [
       "True"
      ]
     },
     "execution_count": 2,
     "metadata": {},
     "output_type": "execute_result"
    }
   ],
   "source": [
    "import os\n",
    "from dotenv import load_dotenv\n",
    "load_dotenv()\n"
   ]
  },
  {
   "cell_type": "code",
   "execution_count": 3,
   "metadata": {},
   "outputs": [
    {
     "name": "stderr",
     "output_type": "stream",
     "text": [
      "/home/ubuntu/miniconda3/envs/deh_measurement/lib/python3.10/site-packages/tqdm/auto.py:21: TqdmWarning: IProgress not found. Please update jupyter and ipywidgets. See https://ipywidgets.readthedocs.io/en/stable/user_install.html\n",
      "  from .autonotebook import tqdm as notebook_tqdm\n"
     ]
    }
   ],
   "source": [
    "# Common import\n",
    "from deh.assessment import QASetRetriever\n",
    "from deh import settings\n",
    "from deh.eval import generate_experiment_dataset\n",
    "\n",
    "import pandas as pd\n",
    "import json\n",
    "import os\n",
    "from pathlib import Path\n",
    "\n",
    "# For RAGAS evaluation\n",
    "from datasets import Dataset\n",
    "from ragas import evaluate\n",
    "import ragas.metrics as metrics\n",
    "from ragas.run_config import RunConfig"
   ]
  },
  {
   "cell_type": "markdown",
   "metadata": {},
   "source": [
    "#### Test Configuration"
   ]
  },
  {
   "cell_type": "code",
   "execution_count": 4,
   "metadata": {},
   "outputs": [],
   "source": [
    "num_samples:int = 100\n",
    "experiment_folder:str = \"../../data/evaluation/rag_api_ragas_metrics/\"\n",
    "qa_data_set_file:str = \"../../data/qas/squad_qas.tsv\"\n",
    "\n",
    "# Create experiment folder:\n",
    "if not os.path.exists(experiment_folder):\n",
    "    Path(experiment_folder).mkdir(parents=True, exist_ok=True)"
   ]
  },
  {
   "cell_type": "markdown",
   "metadata": {},
   "source": [
    "#### Evaluation Model Setup"
   ]
  },
  {
   "cell_type": "code",
   "execution_count": 5,
   "metadata": {},
   "outputs": [],
   "source": [
    "from langchain_community.embeddings import OllamaEmbeddings\n",
    "from langchain_community.llms import Ollama\n",
    "from langchain_openai import ChatOpenAI, OpenAIEmbeddings\n",
    "from ragas.llms import LangchainLLMWrapper\n",
    "\n",
    "# Either local (Ollama) or remote (OpenAI) evaluation models can be used:\n",
    "\n",
    "# llm = LangchainLLMWrapper(ChatOpenAI(model=\"gpt-4\"))\n",
    "# embedding = OpenAIEmbeddings()\n"
   ]
  },
  {
   "cell_type": "code",
   "execution_count": 6,
   "metadata": {},
   "outputs": [
    {
     "name": "stderr",
     "output_type": "stream",
     "text": [
      "/tmp/ipykernel_162808/277639191.py:1: LangChainDeprecationWarning: The class `OllamaEmbeddings` was deprecated in LangChain 0.3.1 and will be removed in 1.0.0. An updated version of the class exists in the :class:`~langchain-ollama package and should be used instead. To use it run `pip install -U :class:`~langchain-ollama` and import as `from :class:`~langchain_ollama import OllamaEmbeddings``.\n",
      "  embedding = OllamaEmbeddings(\n",
      "/tmp/ipykernel_162808/277639191.py:6: LangChainDeprecationWarning: The class `Ollama` was deprecated in LangChain 0.3.1 and will be removed in 1.0.0. An updated version of the class exists in the :class:`~langchain-ollama package and should be used instead. To use it run `pip install -U :class:`~langchain-ollama` and import as `from :class:`~langchain_ollama import OllamaLLM``.\n",
      "  llm = LangchainLLMWrapper(Ollama(\n"
     ]
    }
   ],
   "source": [
    "embedding = OllamaEmbeddings(\n",
    "    base_url=settings.OLLAMA_URL,\n",
    "    model=settings.ASSESSMENT_EMBEDDING_MODEL,\n",
    ")\n",
    "\n",
    "llm = LangchainLLMWrapper(Ollama(\n",
    "    base_url=settings.OLLAMA_URL,\n",
    "    model=settings.ASSESSMENT_LLM_MODEL\n",
    "))"
   ]
  },
  {
   "cell_type": "markdown",
   "metadata": {},
   "source": [
    "#### Sample QA dataset"
   ]
  },
  {
   "cell_type": "code",
   "execution_count": 7,
   "metadata": {},
   "outputs": [
    {
     "name": "stdout",
     "output_type": "stream",
     "text": [
      "100 questions sampled from QA corpus (../../data/qas/squad_qas.tsv)\n"
     ]
    }
   ],
   "source": [
    "qa_set = QASetRetriever.get_qasets(\n",
    "    file_path = qa_data_set_file,\n",
    "    sample_size= num_samples\n",
    ")\n",
    "\n",
    "print(f\"{len(qa_set)} questions sampled from QA corpus ({qa_data_set_file})\")"
   ]
  },
  {
   "cell_type": "markdown",
   "metadata": {},
   "source": [
    "### NO_RAG Experimentation"
   ]
  },
  {
   "cell_type": "markdown",
   "metadata": {},
   "source": [
    "#### Response Generation"
   ]
  },
  {
   "cell_type": "code",
   "execution_count": 8,
   "metadata": {},
   "outputs": [
    {
     "name": "stdout",
     "output_type": "stream",
     "text": [
      "Processing 1 of 100 question/answer pairs.\n",
      "q=What%20is%20the%20power-to-weight%20ratio%20of%20a%20steam%20plant%20compared%20to%20that%20of%20an%20internal%20combustion%20engine%3F&h=False&e=False&k=1&t=0.5&m=llama3.1:8b-instruct-q3_K_L&lp=2\n",
      "Processing 2 of 100 question/answer pairs.\n",
      "q=Under%20which%20leader%20did%20the%20Huguenots%20fight%20in%20this%20conflict%3F&h=False&e=False&k=1&t=0.5&m=llama3.1:8b-instruct-q3_K_L&lp=2\n",
      "Processing 3 of 100 question/answer pairs.\n",
      "q=When%20did%20this%20attempt%20take%20place%3F&h=False&e=False&k=1&t=0.5&m=llama3.1:8b-instruct-q3_K_L&lp=2\n",
      "Processing 4 of 100 question/answer pairs.\n",
      "q=WHy%20was%20the%20Merit%20network%20formed%20in%20Michigan%20&h=False&e=False&k=1&t=0.5&m=llama3.1:8b-instruct-q3_K_L&lp=2\n",
      "Processing 5 of 100 question/answer pairs.\n",
      "q=Does%20the%20residential%20architecture%20of%20the%20Tower%20District%20compare%20or%20contrast%20with%20other%20part%20of%20Fresno%3F&h=False&e=False&k=1&t=0.5&m=llama3.1:8b-instruct-q3_K_L&lp=2\n",
      "Processing 6 of 100 question/answer pairs.\n",
      "q=How%20do%20you%20pronounce%20Fresno%3F&h=False&e=False&k=1&t=0.5&m=llama3.1:8b-instruct-q3_K_L&lp=2\n",
      "Processing 7 of 100 question/answer pairs.\n",
      "q=Who%20created%20an%20engine%20using%20high%20pressure%20steam%20in%201801%3F&h=False&e=False&k=1&t=0.5&m=llama3.1:8b-instruct-q3_K_L&lp=2\n",
      "Processing 8 of 100 question/answer pairs.\n",
      "q=How%20do%20ctenophores%20control%20buoyancy%3F&h=False&e=False&k=1&t=0.5&m=llama3.1:8b-instruct-q3_K_L&lp=2\n",
      "Processing 9 of 100 question/answer pairs.\n",
      "q=How%20many%20tons%20of%20live%20plants%20were%20found%20to%20live%20in%20one%20square%20kilometer%20of%20the%20Amazon%20rainforest%20in%201999%3F&h=False&e=False&k=1&t=0.5&m=llama3.1:8b-instruct-q3_K_L&lp=2\n",
      "Processing 10 of 100 question/answer pairs.\n",
      "q=What%20type%20of%20numbers%20demonstrate%20a%20flaw%20with%20the%20Fermat%20primality%20test%3F&h=False&e=False&k=1&t=0.5&m=llama3.1:8b-instruct-q3_K_L&lp=2\n",
      "Processing 11 of 100 question/answer pairs.\n",
      "q=Who%20was%20the%20leader%20who%20established%20the%20colony%20at%20Florida%3F&h=False&e=False&k=1&t=0.5&m=llama3.1:8b-instruct-q3_K_L&lp=2\n",
      "Processing 12 of 100 question/answer pairs.\n",
      "q=What%20was%20the%20fort%20that%20was%20being%20built%20to%20be%20named%3F&h=False&e=False&k=1&t=0.5&m=llama3.1:8b-instruct-q3_K_L&lp=2\n",
      "Processing 13 of 100 question/answer pairs.\n",
      "q=Who%20did%20internet2%20partner%20with&h=False&e=False&k=1&t=0.5&m=llama3.1:8b-instruct-q3_K_L&lp=2\n",
      "Processing 14 of 100 question/answer pairs.\n",
      "q=What%20did%20Artur%20Oppman%20give%20to%20the%20world%3F&h=False&e=False&k=1&t=0.5&m=llama3.1:8b-instruct-q3_K_L&lp=2\n",
      "Processing 15 of 100 question/answer pairs.\n",
      "q=In%20what%20kind%20of%20fluid%20are%20pressure%20differences%20caused%20by%20direction%20of%20forces%20over%20gradients%3F&h=False&e=False&k=1&t=0.5&m=llama3.1:8b-instruct-q3_K_L&lp=2\n",
      "Processing 16 of 100 question/answer pairs.\n",
      "q=What%20else%20was%20used%20by%20pharmas%3F&h=False&e=False&k=1&t=0.5&m=llama3.1:8b-instruct-q3_K_L&lp=2\n",
      "Processing 17 of 100 question/answer pairs.\n",
      "q=What%20religions%20did%20Tugh%20Temur%20follow%3F&h=False&e=False&k=1&t=0.5&m=llama3.1:8b-instruct-q3_K_L&lp=2\n",
      "Processing 18 of 100 question/answer pairs.\n",
      "q=Big%20O%20notation%20provides%20autonomy%20to%20upper%20and%20lower%20bounds%20with%20relationship%20to%20what%3F%20&h=False&e=False&k=1&t=0.5&m=llama3.1:8b-instruct-q3_K_L&lp=2\n",
      "Processing 19 of 100 question/answer pairs.\n",
      "q=What%20are%20the%20Siouan-speaking%20tribes%3F&h=False&e=False&k=1&t=0.5&m=llama3.1:8b-instruct-q3_K_L&lp=2\n",
      "Processing 20 of 100 question/answer pairs.\n",
      "q=How%20far%20apart%20are%20some%20of%20the%20neighborhood%27s%20features%3F&h=False&e=False&k=1&t=0.5&m=llama3.1:8b-instruct-q3_K_L&lp=2\n",
      "Processing 21 of 100 question/answer pairs.\n",
      "q=Harvard%20-%20Yale%20Regatta%20predates%20%22The%20Game%22%20by%20how%20many%20years%3F&h=False&e=False&k=1&t=0.5&m=llama3.1:8b-instruct-q3_K_L&lp=2\n",
      "Processing 22 of 100 question/answer pairs.\n",
      "q=Where%20does%20the%20Rhine%20empty%3F&h=False&e=False&k=1&t=0.5&m=llama3.1:8b-instruct-q3_K_L&lp=2\n",
      "Processing 23 of 100 question/answer pairs.\n",
      "q=What%20does%20Salafism%20in%20its%20harshest%20form%20encourage%20its%20followers%20to%20view%20the%20religion%20of%20others%20with%3F&h=False&e=False&k=1&t=0.5&m=llama3.1:8b-instruct-q3_K_L&lp=2\n",
      "Processing 24 of 100 question/answer pairs.\n",
      "q=Problems%20capable%20of%20theoretical%20solutions%20but%20consuming%20unreasonable%20time%20in%20practical%20application%20are%20known%20as%20what%3F&h=False&e=False&k=1&t=0.5&m=llama3.1:8b-instruct-q3_K_L&lp=2\n",
      "Processing 25 of 100 question/answer pairs.\n",
      "q=If%20NP%20is%20not%20equal%20to%20P%2C%20viewed%20through%20this%20lens%2C%20what%20type%20of%20problems%20can%20also%20be%20considered%20intractable%3F&h=False&e=False&k=1&t=0.5&m=llama3.1:8b-instruct-q3_K_L&lp=2\n",
      "Processing 26 of 100 question/answer pairs.\n",
      "q=When%20would%20a%20person%20be%20considered%20to%20be%20excising%20a%20constitutional%20impasse%3F&h=False&e=False&k=1&t=0.5&m=llama3.1:8b-instruct-q3_K_L&lp=2\n",
      "Processing 27 of 100 question/answer pairs.\n",
      "q=How%20do%20platyctenids%20reproduce%3F&h=False&e=False&k=1&t=0.5&m=llama3.1:8b-instruct-q3_K_L&lp=2\n",
      "Processing 28 of 100 question/answer pairs.\n",
      "q=What%20equals%20the%20spring%20reaction%20force%20on%20an%20object%20suspended%20on%20a%20spring%20reaction%20scale%3F%20&h=False&e=False&k=1&t=0.5&m=llama3.1:8b-instruct-q3_K_L&lp=2\n",
      "Processing 29 of 100 question/answer pairs.\n",
      "q=What%20can%20result%20in%20more%20equal%20distribution%20of%20income%3F&h=False&e=False&k=1&t=0.5&m=llama3.1:8b-instruct-q3_K_L&lp=2\n",
      "Processing 30 of 100 question/answer pairs.\n",
      "q=What%20type%20of%20movement%20is%20the%20Muslim%20Brotherhood%3F&h=False&e=False&k=1&t=0.5&m=llama3.1:8b-instruct-q3_K_L&lp=2\n",
      "Processing 31 of 100 question/answer pairs.\n",
      "q=What%20is%20the%20population%20of%20the%20Greater%20Los%20Angeles%20Area%3F&h=False&e=False&k=1&t=0.5&m=llama3.1:8b-instruct-q3_K_L&lp=2\n",
      "Processing 32 of 100 question/answer pairs.\n",
      "q=Who%20had%20the%20idea%20of%20a%20natural%20state%20for%20objects%20at%20rest%3F&h=False&e=False&k=1&t=0.5&m=llama3.1:8b-instruct-q3_K_L&lp=2\n",
      "Processing 33 of 100 question/answer pairs.\n",
      "q=Highways%20built%20in%20the%20Amazon%20rainforest%20were%20built%20primarily%20for%20what%20kind%20of%20farmers%3F&h=False&e=False&k=1&t=0.5&m=llama3.1:8b-instruct-q3_K_L&lp=2\n",
      "Processing 34 of 100 question/answer pairs.\n",
      "q=What%20type%20of%20number%20generators%20make%20use%20of%20prime%20numbers%3F&h=False&e=False&k=1&t=0.5&m=llama3.1:8b-instruct-q3_K_L&lp=2\n",
      "Processing 35 of 100 question/answer pairs.\n",
      "q=What%20is%20the%20area%20called%20where%20two%20plates%20move%20apart%3F&h=False&e=False&k=1&t=0.5&m=llama3.1:8b-instruct-q3_K_L&lp=2\n",
      "Processing 36 of 100 question/answer pairs.\n",
      "q=What%20nationality%20are%20researchers%20Richard%20G.%20Wilkinson%20and%20Kate%20Pickett%3F&h=False&e=False&k=1&t=0.5&m=llama3.1:8b-instruct-q3_K_L&lp=2\n",
      "Processing 37 of 100 question/answer pairs.\n",
      "q=What%20country%20does%20the%20Moselle%20take%20the%20Rhine%20to%3F&h=False&e=False&k=1&t=0.5&m=llama3.1:8b-instruct-q3_K_L&lp=2\n",
      "Processing 38 of 100 question/answer pairs.\n",
      "q=What%20helps%20to%20unleash%20the%20productivity%20ability%20of%20the%20poor%3F&h=False&e=False&k=1&t=0.5&m=llama3.1:8b-instruct-q3_K_L&lp=2\n",
      "Processing 39 of 100 question/answer pairs.\n",
      "q=Where%20was%20the%20FIS%20formed%3F&h=False&e=False&k=1&t=0.5&m=llama3.1:8b-instruct-q3_K_L&lp=2\n",
      "Processing 40 of 100 question/answer pairs.\n",
      "q=What%20famous%20author%20used%20similarity%20and%20likeness%20of%20Percy%20Shelly%20in%20his%20writing%3F&h=False&e=False&k=1&t=0.5&m=llama3.1:8b-instruct-q3_K_L&lp=2\n",
      "Processing 41 of 100 question/answer pairs.\n",
      "q=How%20many%20seats%20must%20a%20political%20party%20have%20to%20be%20represented%20on%20the%20Parliamentary%20Bureau%3F&h=False&e=False&k=1&t=0.5&m=llama3.1:8b-instruct-q3_K_L&lp=2\n",
      "Processing 42 of 100 question/answer pairs.\n",
      "q=What%20basin%20was%20formed%20when%20the%20Andes%20Mountains%20rose%3F&h=False&e=False&k=1&t=0.5&m=llama3.1:8b-instruct-q3_K_L&lp=2\n",
      "Processing 43 of 100 question/answer pairs.\n",
      "q=What%20type%20of%20Delta%20is%20the%20Rhine-Meuse%3F&h=False&e=False&k=1&t=0.5&m=llama3.1:8b-instruct-q3_K_L&lp=2\n",
      "Processing 44 of 100 question/answer pairs.\n",
      "q=Who%20are%20commonly%20associated%20with%20the%20algorithm%20typically%20considered%20the%20most%20effective%20with%20respect%20to%20finite%20polynomial%20hierarchy%20and%20graph%20isomorphism%3F&h=False&e=False&k=1&t=0.5&m=llama3.1:8b-instruct-q3_K_L&lp=2\n",
      "Processing 45 of 100 question/answer pairs.\n",
      "q=Which%20team%20was%20suspended%20from%20the%20MLS%3F&h=False&e=False&k=1&t=0.5&m=llama3.1:8b-instruct-q3_K_L&lp=2\n",
      "Processing 46 of 100 question/answer pairs.\n",
      "q=In%20the%20range%20between%201980%20and%201990%2C%20what%20did%20demand%20for%20grow%3F&h=False&e=False&k=1&t=0.5&m=llama3.1:8b-instruct-q3_K_L&lp=2\n",
      "Processing 47 of 100 question/answer pairs.\n",
      "q=Classification%20of%20resources%20is%20contingent%20on%20determining%20the%20upper%20and%20lower%20bounds%20of%20minimum%20time%20required%20by%20what%3F%20%20&h=False&e=False&k=1&t=0.5&m=llama3.1:8b-instruct-q3_K_L&lp=2\n",
      "Processing 48 of 100 question/answer pairs.\n",
      "q=What%20was%20the%20occupation%20of%20Joseph%20Priestley%3F&h=False&e=False&k=1&t=0.5&m=llama3.1:8b-instruct-q3_K_L&lp=2\n",
      "Processing 49 of 100 question/answer pairs.\n",
      "q=What%20movements%20pursued%20a%20more%20radical%20direction%3F&h=False&e=False&k=1&t=0.5&m=llama3.1:8b-instruct-q3_K_L&lp=2\n",
      "Processing 50 of 100 question/answer pairs.\n",
      "q=What%20was%20the%20UK%20governments%20benefits%20agenchy%20checking%20in%202012%3F&h=False&e=False&k=1&t=0.5&m=llama3.1:8b-instruct-q3_K_L&lp=2\n",
      "Processing 51 of 100 question/answer pairs.\n",
      "q=In%20a%20nuclear%20power%20plant%2C%20what%20is%20the%20steam%20turbine%20connected%20to%3F&h=False&e=False&k=1&t=0.5&m=llama3.1:8b-instruct-q3_K_L&lp=2\n",
      "Processing 52 of 100 question/answer pairs.\n",
      "q=What%20gas%20does%20the%20airline%20exothermic%20reaction%20produce%3F&h=False&e=False&k=1&t=0.5&m=llama3.1:8b-instruct-q3_K_L&lp=2\n",
      "Processing 53 of 100 question/answer pairs.\n",
      "q=Browlee%20also%20applies%20that%20civil%20disobedience%20is%20okay%20regarding%3F&h=False&e=False&k=1&t=0.5&m=llama3.1:8b-instruct-q3_K_L&lp=2\n",
      "Processing 54 of 100 question/answer pairs.\n",
      "q=Why%20did%20natural%20sedimentation%20by%20the%20Rhine%20compensate%20the%20transgression%20bby%20the%20sea%3F&h=False&e=False&k=1&t=0.5&m=llama3.1:8b-instruct-q3_K_L&lp=2\n",
      "Processing 55 of 100 question/answer pairs.\n",
      "q=How%20many%20metric%20tons%20of%20carbon%20are%20believed%20to%20be%20stored%20in%20the%20Amazon%20forest%3F&h=False&e=False&k=1&t=0.5&m=llama3.1:8b-instruct-q3_K_L&lp=2\n",
      "Processing 56 of 100 question/answer pairs.\n",
      "q=What%20other%20kind%20of%20sport%20is%20popular%20in%20southern%20California%3F&h=False&e=False&k=1&t=0.5&m=llama3.1:8b-instruct-q3_K_L&lp=2\n",
      "Processing 57 of 100 question/answer pairs.\n",
      "q=What%20geologic%20feature%20is%20composed%20of%20oxygen%20oxides%3F&h=False&e=False&k=1&t=0.5&m=llama3.1:8b-instruct-q3_K_L&lp=2\n",
      "Processing 58 of 100 question/answer pairs.\n",
      "q=Who%20may%20members%20direct%20questions%20towards%20during%20General%20Question%20Time%3F&h=False&e=False&k=1&t=0.5&m=llama3.1:8b-instruct-q3_K_L&lp=2\n",
      "Processing 59 of 100 question/answer pairs.\n",
      "q=When%20did%20Singer%20dispute%20the%20graph%20at%20a%20Senate%20hearing%3F&h=False&e=False&k=1&t=0.5&m=llama3.1:8b-instruct-q3_K_L&lp=2\n",
      "Processing 60 of 100 question/answer pairs.\n",
      "q=What%20engines%20were%20used%20throughout%20most%20of%20the%2020th%20century%20to%20propel%20ships%3F&h=False&e=False&k=1&t=0.5&m=llama3.1:8b-instruct-q3_K_L&lp=2\n",
      "Processing 61 of 100 question/answer pairs.\n",
      "q=How%20would%20one%20describe%20the%20summers%20in%20Fresno%3F&h=False&e=False&k=1&t=0.5&m=llama3.1:8b-instruct-q3_K_L&lp=2\n",
      "Processing 62 of 100 question/answer pairs.\n",
      "q=How%20many%20plant%20species%20make%20up%20the%20total%20in%20the%20rainforest%3F&h=False&e=False&k=1&t=0.5&m=llama3.1:8b-instruct-q3_K_L&lp=2\n",
      "Processing 63 of 100 question/answer pairs.\n",
      "q=What%20South%20African%20law%20recognized%20two%20types%20of%20schools%3F&h=False&e=False&k=1&t=0.5&m=llama3.1:8b-instruct-q3_K_L&lp=2\n",
      "Processing 64 of 100 question/answer pairs.\n",
      "q=What%20English%20law%20made%20that%20country%20more%20welcoming%20to%20Huguenots%3F&h=False&e=False&k=1&t=0.5&m=llama3.1:8b-instruct-q3_K_L&lp=2\n",
      "Processing 65 of 100 question/answer pairs.\n",
      "q=When%20many%20people%20are%20arrested%2C%20what%20is%20a%20common%20tactic%20negotiating%3F&h=False&e=False&k=1&t=0.5&m=llama3.1:8b-instruct-q3_K_L&lp=2\n",
      "Processing 66 of 100 question/answer pairs.\n",
      "q=What%20sin%20were%20the%20leaders%20the%20extremists%20attacked%20guilty%20of%3F&h=False&e=False&k=1&t=0.5&m=llama3.1:8b-instruct-q3_K_L&lp=2\n",
      "Processing 67 of 100 question/answer pairs.\n",
      "q=What%20is%20the%20comparison%20in%20price%20between%20Australian%20private%20schools%20versus%20public%3F&h=False&e=False&k=1&t=0.5&m=llama3.1:8b-instruct-q3_K_L&lp=2\n",
      "Processing 68 of 100 question/answer pairs.\n",
      "q=What%20was%20the%20percentage%20of%20people%20that%20voted%20in%20favor%20of%20the%20Pico%20Act%20of%201859%3F&h=False&e=False&k=1&t=0.5&m=llama3.1:8b-instruct-q3_K_L&lp=2\n",
      "Processing 69 of 100 question/answer pairs.\n",
      "q=Who%20disliked%20the%20affiliate%20program%3F&h=False&e=False&k=1&t=0.5&m=llama3.1:8b-instruct-q3_K_L&lp=2\n",
      "Processing 70 of 100 question/answer pairs.\n",
      "q=What%20direction%20did%20Watson%20say%20the%20mistake%20went%20in%3F&h=False&e=False&k=1&t=0.5&m=llama3.1:8b-instruct-q3_K_L&lp=2\n",
      "Processing 71 of 100 question/answer pairs.\n",
      "q=Who%20was%20one%20of%20the%20earliest%20examples%20of%20Civil%20Disobedience%20against%3F&h=False&e=False&k=1&t=0.5&m=llama3.1:8b-instruct-q3_K_L&lp=2\n",
      "Processing 72 of 100 question/answer pairs.\n",
      "q=What%20rates%20of%20health%20and%20social%20problems%20are%20in%20countries%20with%20high%20inequality%3F&h=False&e=False&k=1&t=0.5&m=llama3.1:8b-instruct-q3_K_L&lp=2\n",
      "Processing 73 of 100 question/answer pairs.\n",
      "q=Along%20with%20Muslims%2C%20Jews%20and%20Protestant%20Christians%2C%20what%20religious%20group%20notably%20operates%20private%20schools%3F&h=False&e=False&k=1&t=0.5&m=llama3.1:8b-instruct-q3_K_L&lp=2\n",
      "Processing 74 of 100 question/answer pairs.\n",
      "q=What%20is%20the%20main%20defense%20mechanism%20of%20bacteria%20known%20as%3F&h=False&e=False&k=1&t=0.5&m=llama3.1:8b-instruct-q3_K_L&lp=2\n",
      "Processing 75 of 100 question/answer pairs.\n",
      "q=What%20degree%20is%20now%20mandatory%20in%20the%20U.S.%20in%20order%20to%20be%20a%20licensed%20pharmacist%3F&h=False&e=False&k=1&t=0.5&m=llama3.1:8b-instruct-q3_K_L&lp=2\n",
      "Processing 76 of 100 question/answer pairs.\n",
      "q=What%20does%20ctenophora%20rely%20on%20for%20digestion%20and%20respiration%3F&h=False&e=False&k=1&t=0.5&m=llama3.1:8b-instruct-q3_K_L&lp=2\n",
      "Processing 77 of 100 question/answer pairs.\n",
      "q=Which%20country%27s%20imports%20became%20the%20de%20facto%20mass%20market%20leaders%3F&h=False&e=False&k=1&t=0.5&m=llama3.1:8b-instruct-q3_K_L&lp=2\n",
      "Processing 78 of 100 question/answer pairs.\n",
      "q=What%20is%20the%20English%20translation%20of%20tawhid%3F&h=False&e=False&k=1&t=0.5&m=llama3.1:8b-instruct-q3_K_L&lp=2\n",
      "Processing 79 of 100 question/answer pairs.\n",
      "q=The%20motto%20of%20the%20Muslim%20Brotherhood%20specifies%20what%20as%20being%20their%20constitution%3F&h=False&e=False&k=1&t=0.5&m=llama3.1:8b-instruct-q3_K_L&lp=2\n",
      "Processing 80 of 100 question/answer pairs.\n",
      "q=How%20did%20the%20Nixon%20administration%20negotiate%20with%20the%20uncooperative%20countries%3F&h=False&e=False&k=1&t=0.5&m=llama3.1:8b-instruct-q3_K_L&lp=2\n",
      "Processing 81 of 100 question/answer pairs.\n",
      "q=How%20far%20apart%20are%20some%20of%20the%20neighborhood%27s%20features%3F&h=False&e=False&k=1&t=0.5&m=llama3.1:8b-instruct-q3_K_L&lp=2\n",
      "Processing 82 of 100 question/answer pairs.\n",
      "q=What%20is%20the%20typical%20annual%20cost%20for%20an%20Irish%20private%20school%3F&h=False&e=False&k=1&t=0.5&m=llama3.1:8b-instruct-q3_K_L&lp=2\n",
      "Processing 83 of 100 question/answer pairs.\n",
      "q=How%20many%20people%20were%20in%20French%20North%20American%20Colonies%3F&h=False&e=False&k=1&t=0.5&m=llama3.1:8b-instruct-q3_K_L&lp=2\n",
      "Processing 84 of 100 question/answer pairs.\n",
      "q=Where%20can%20a%20tribute%20to%20the%20fall%20of%20Warsaw%20be%20found%3F&h=False&e=False&k=1&t=0.5&m=llama3.1:8b-instruct-q3_K_L&lp=2\n",
      "Processing 85 of 100 question/answer pairs.\n",
      "q=How%20much%20of%20the%20Rhine%20flow%20does%20Ijssel%20carry%3F&h=False&e=False&k=1&t=0.5&m=llama3.1:8b-instruct-q3_K_L&lp=2\n",
      "Processing 86 of 100 question/answer pairs.\n",
      "q=DEC%20originally%20had%203%20layers%20but%20evolved%20into%20how%20many%20layers%20&h=False&e=False&k=1&t=0.5&m=llama3.1:8b-instruct-q3_K_L&lp=2\n",
      "Processing 87 of 100 question/answer pairs.\n",
      "q=What%20carries%20a%20significant%20amount%20of%20the%20Rhine%20flow%20through%20France%3F&h=False&e=False&k=1&t=0.5&m=llama3.1:8b-instruct-q3_K_L&lp=2\n",
      "Processing 88 of 100 question/answer pairs.\n",
      "q=What%20can%20result%20in%20creating%20a%20poverty%20trap%3F&h=False&e=False&k=1&t=0.5&m=llama3.1:8b-instruct-q3_K_L&lp=2\n",
      "Processing 89 of 100 question/answer pairs.\n",
      "q=WBAI%27s%20broadcasting%20Some%20of%20George%20Carlin%27s%20comedy%20eventually%20led%20to%20what%3F&h=False&e=False&k=1&t=0.5&m=llama3.1:8b-instruct-q3_K_L&lp=2\n",
      "Processing 90 of 100 question/answer pairs.\n",
      "q=When%20violence%20is%20used%2C%20what%20is%20civil%20disobedience%20sometimes%20called%3F&h=False&e=False&k=1&t=0.5&m=llama3.1:8b-instruct-q3_K_L&lp=2\n",
      "Processing 91 of 100 question/answer pairs.\n",
      "q=Where%20did%20the%20first%20Huguenot%20colonists%20settle%3F&h=False&e=False&k=1&t=0.5&m=llama3.1:8b-instruct-q3_K_L&lp=2\n",
      "Processing 92 of 100 question/answer pairs.\n",
      "q=What%20complex%20measurements%20were%20defined%20by%20%22On%20the%20Computational%20Complexity%20of%20Algorithms%22%3F&h=False&e=False&k=1&t=0.5&m=llama3.1:8b-instruct-q3_K_L&lp=2\n",
      "Processing 93 of 100 question/answer pairs.\n",
      "q=The%20Rhine%20Gorge%20is%20between%20Koblenz%20and%20what%20other%20city%3F&h=False&e=False&k=1&t=0.5&m=llama3.1:8b-instruct-q3_K_L&lp=2\n",
      "Processing 94 of 100 question/answer pairs.\n",
      "q=What%20was%20apolitical%20Islam%3F&h=False&e=False&k=1&t=0.5&m=llama3.1:8b-instruct-q3_K_L&lp=2\n",
      "Processing 95 of 100 question/answer pairs.\n",
      "q=What%20basin%20was%20formed%20when%20the%20Andes%20Mountains%20rose%3F&h=False&e=False&k=1&t=0.5&m=llama3.1:8b-instruct-q3_K_L&lp=2\n",
      "Processing 96 of 100 question/answer pairs.\n",
      "q=What%20was%20the%20Plos%20Pathogens%20paper%20about%3F&h=False&e=False&k=1&t=0.5&m=llama3.1:8b-instruct-q3_K_L&lp=2\n",
      "Processing 97 of 100 question/answer pairs.\n",
      "q=What%20does%20the%20IPCC%20rely%20on%20for%20research%3F&h=False&e=False&k=1&t=0.5&m=llama3.1:8b-instruct-q3_K_L&lp=2\n",
      "Processing 98 of 100 question/answer pairs.\n",
      "q=Who%20is%20credited%20with%20finding%20evidence%20of%20large%20settlements%20in%20the%20Amazon%20forest%3F&h=False&e=False&k=1&t=0.5&m=llama3.1:8b-instruct-q3_K_L&lp=2\n",
      "Processing 99 of 100 question/answer pairs.\n",
      "q=What%27s%20Thomas%20Piketty%27s%20job%3F&h=False&e=False&k=1&t=0.5&m=llama3.1:8b-instruct-q3_K_L&lp=2\n",
      "Processing 100 of 100 question/answer pairs.\n",
      "q=Strictly%20speaking%20who%20was%20included%20in%20DATANET%201&h=False&e=False&k=1&t=0.5&m=llama3.1:8b-instruct-q3_K_L&lp=2\n"
     ]
    },
    {
     "data": {
      "text/html": [
       "<div>\n",
       "<style scoped>\n",
       "    .dataframe tbody tr th:only-of-type {\n",
       "        vertical-align: middle;\n",
       "    }\n",
       "\n",
       "    .dataframe tbody tr th {\n",
       "        vertical-align: top;\n",
       "    }\n",
       "\n",
       "    .dataframe thead th {\n",
       "        text-align: right;\n",
       "    }\n",
       "</style>\n",
       "<table border=\"1\" class=\"dataframe\">\n",
       "  <thead>\n",
       "    <tr style=\"text-align: right;\">\n",
       "      <th></th>\n",
       "      <th>id</th>\n",
       "      <th>page_content</th>\n",
       "      <th>type</th>\n",
       "      <th>metadata.source</th>\n",
       "      <th>metadata.similarity_score</th>\n",
       "      <th>answer</th>\n",
       "      <th>question</th>\n",
       "      <th>hyde</th>\n",
       "      <th>evaluation.grade</th>\n",
       "      <th>reference.ground_truth</th>\n",
       "      <th>reference.is_impossible</th>\n",
       "      <th>json</th>\n",
       "      <th>reference_id</th>\n",
       "    </tr>\n",
       "  </thead>\n",
       "  <tbody>\n",
       "    <tr>\n",
       "      <th>0</th>\n",
       "      <td>None</td>\n",
       "      <td>The weight of boilers and condensers generally...</td>\n",
       "      <td>Document</td>\n",
       "      <td>/data/contexts/context_1078.context</td>\n",
       "      <td>0.358998</td>\n",
       "      <td>Internal combustion engines have higher power-...</td>\n",
       "      <td>What is the power-to-weight ratio of a steam p...</td>\n",
       "      <td>False</td>\n",
       "      <td></td>\n",
       "      <td>lower</td>\n",
       "      <td>False</td>\n",
       "      <td>{\"response\": {\"question\": \"What is the power-t...</td>\n",
       "      <td>1</td>\n",
       "    </tr>\n",
       "  </tbody>\n",
       "</table>\n",
       "</div>"
      ],
      "text/plain": [
       "     id                                       page_content      type  \\\n",
       "0  None  The weight of boilers and condensers generally...  Document   \n",
       "\n",
       "                       metadata.source  metadata.similarity_score  \\\n",
       "0  /data/contexts/context_1078.context                   0.358998   \n",
       "\n",
       "                                              answer  \\\n",
       "0  Internal combustion engines have higher power-...   \n",
       "\n",
       "                                            question   hyde evaluation.grade  \\\n",
       "0  What is the power-to-weight ratio of a steam p...  False                    \n",
       "\n",
       "  reference.ground_truth  reference.is_impossible  \\\n",
       "0                  lower                    False   \n",
       "\n",
       "                                                json  reference_id  \n",
       "0  {\"response\": {\"question\": \"What is the power-t...             1  "
      ]
     },
     "execution_count": 8,
     "metadata": {},
     "output_type": "execute_result"
    }
   ],
   "source": [
    "def api_endpoint(**kwargs) -> str:\n",
    "    \"\"\"Endpoint for context retrieval.\"\"\"\n",
    "    hyde= False\n",
    "    kwargs[\"h\"] = False\n",
    "    kwargs[\"e\"] = False\n",
    "    kwargs[\"k\"] = 1\n",
    "    kwargs[\"t\"] = 0.5\n",
    "    kwargs[\"m\"] = \"llama3.1:8b-instruct-q3_K_L\"\n",
    "    kwargs[\"lp\"] = 2    # no context, 10 words\n",
    "\n",
    "    query_params = \"&\".join([f\"{key}={kwargs[key]}\" for key in kwargs])\n",
    "    print (query_params)\n",
    "    return f\"http://{settings.API_ANSWER_ENDPOINT}/answer?{query_params}\"\n",
    "\n",
    "def convert(response) -> pd.DataFrame:\n",
    "    \"\"\"Converts retrieved JSON response to Pandas DataFrame\"\"\"\n",
    "    response_df = pd.json_normalize(\n",
    "        data=response[\"response\"], record_path=\"context\", meta=[\"answer\",\"question\", \"hyde\", [\"evaluation\", \"grade\"]]\n",
    "    )\n",
    "\n",
    "    # Add reference/evaluation values:\n",
    "    response_df[\"reference.ground_truth\"] = response[\"reference\"][\"ground_truth\"]\n",
    "    response_df[\"reference.is_impossible\"] = response[\"reference\"][\"is_impossible\"]\n",
    "\n",
    "    # Add full JSON response incase needed:\n",
    "    response_df[\"json\"] = json.dumps(response)\n",
    "    return response_df\n",
    "\n",
    "exp_df = generate_experiment_dataset(qa_set, convert, api_endpoint)\n",
    "\n",
    "# Store the generated response:\n",
    "exp_df.to_pickle( f\"{experiment_folder}/no_rag_b1.pkl\" )\n",
    "exp_df[0:1]\n"
   ]
  },
  {
   "cell_type": "markdown",
   "metadata": {},
   "source": [
    "##### RAGAS Evaluation Responses"
   ]
  },
  {
   "cell_type": "code",
   "execution_count": 10,
   "metadata": {},
   "outputs": [
    {
     "data": {
      "text/html": [
       "<div>\n",
       "<style scoped>\n",
       "    .dataframe tbody tr th:only-of-type {\n",
       "        vertical-align: middle;\n",
       "    }\n",
       "\n",
       "    .dataframe tbody tr th {\n",
       "        vertical-align: top;\n",
       "    }\n",
       "\n",
       "    .dataframe thead th {\n",
       "        text-align: right;\n",
       "    }\n",
       "</style>\n",
       "<table border=\"1\" class=\"dataframe\">\n",
       "  <thead>\n",
       "    <tr style=\"text-align: right;\">\n",
       "      <th></th>\n",
       "      <th>retrieved_contexts</th>\n",
       "      <th>question</th>\n",
       "      <th>ground_truth</th>\n",
       "      <th>answer</th>\n",
       "    </tr>\n",
       "    <tr>\n",
       "      <th>reference_id</th>\n",
       "      <th></th>\n",
       "      <th></th>\n",
       "      <th></th>\n",
       "      <th></th>\n",
       "    </tr>\n",
       "  </thead>\n",
       "  <tbody>\n",
       "    <tr>\n",
       "      <th>1</th>\n",
       "      <td>[The weight of boilers and condensers generall...</td>\n",
       "      <td>What is the power-to-weight ratio of a steam p...</td>\n",
       "      <td>lower</td>\n",
       "      <td>Internal combustion engines have higher power-...</td>\n",
       "    </tr>\n",
       "  </tbody>\n",
       "</table>\n",
       "</div>"
      ],
      "text/plain": [
       "                                             retrieved_contexts  \\\n",
       "reference_id                                                      \n",
       "1             [The weight of boilers and condensers generall...   \n",
       "\n",
       "                                                       question ground_truth  \\\n",
       "reference_id                                                                   \n",
       "1             What is the power-to-weight ratio of a steam p...        lower   \n",
       "\n",
       "                                                         answer  \n",
       "reference_id                                                     \n",
       "1             Internal combustion engines have higher power-...  "
      ]
     },
     "execution_count": 10,
     "metadata": {},
     "output_type": "execute_result"
    }
   ],
   "source": [
    "# Convert to Dataset\n",
    "responses_df = pd.read_pickle(f\"{experiment_folder}/no_rag_b1.pkl\")\n",
    "\n",
    "responses_df = responses_df.groupby(\"reference_id\").agg(\n",
    "    retrieved_contexts = ('page_content', lambda x: list(x)),\n",
    "    question = ('question','first'),\n",
    "    ground_truth = ('reference.ground_truth', 'first'),\n",
    "    answer = ('answer', 'first')\n",
    "    )\n",
    "\n",
    "responses_df[0:1]\n"
   ]
  },
  {
   "cell_type": "code",
   "execution_count": null,
   "metadata": {},
   "outputs": [
    {
     "name": "stdout",
     "output_type": "stream",
     "text": [
      "Processing 0 of 100\n"
     ]
    },
    {
     "name": "stderr",
     "output_type": "stream",
     "text": [
      "Evaluating: 100%|██████████| 2/2 [00:19<00:00,  9.71s/it]\n"
     ]
    },
    {
     "name": "stdout",
     "output_type": "stream",
     "text": [
      "Processing 1 of 100\n"
     ]
    },
    {
     "name": "stderr",
     "output_type": "stream",
     "text": [
      "Evaluating: 100%|██████████| 2/2 [00:17<00:00,  8.76s/it]\n"
     ]
    },
    {
     "name": "stdout",
     "output_type": "stream",
     "text": [
      "Processing 2 of 100\n"
     ]
    },
    {
     "name": "stderr",
     "output_type": "stream",
     "text": [
      "Evaluating: 100%|██████████| 2/2 [00:19<00:00,  9.94s/it]\n"
     ]
    },
    {
     "name": "stdout",
     "output_type": "stream",
     "text": [
      "Processing 3 of 100\n"
     ]
    },
    {
     "name": "stderr",
     "output_type": "stream",
     "text": [
      "Evaluating: 100%|██████████| 2/2 [00:21<00:00, 10.65s/it]\n"
     ]
    },
    {
     "name": "stdout",
     "output_type": "stream",
     "text": [
      "Processing 4 of 100\n"
     ]
    },
    {
     "name": "stderr",
     "output_type": "stream",
     "text": [
      "Evaluating: 100%|██████████| 2/2 [00:19<00:00,  9.84s/it]\n"
     ]
    },
    {
     "name": "stdout",
     "output_type": "stream",
     "text": [
      "Processing 5 of 100\n"
     ]
    },
    {
     "name": "stderr",
     "output_type": "stream",
     "text": [
      "Evaluating: 100%|██████████| 2/2 [00:15<00:00,  7.71s/it]\n"
     ]
    },
    {
     "name": "stdout",
     "output_type": "stream",
     "text": [
      "Processing 6 of 100\n"
     ]
    },
    {
     "name": "stderr",
     "output_type": "stream",
     "text": [
      "Evaluating: 100%|██████████| 2/2 [00:18<00:00,  9.41s/it]\n"
     ]
    },
    {
     "name": "stdout",
     "output_type": "stream",
     "text": [
      "Processing 7 of 100\n"
     ]
    },
    {
     "name": "stderr",
     "output_type": "stream",
     "text": [
      "Evaluating: 100%|██████████| 2/2 [00:20<00:00, 10.06s/it]\n"
     ]
    },
    {
     "name": "stdout",
     "output_type": "stream",
     "text": [
      "Processing 8 of 100\n"
     ]
    },
    {
     "name": "stderr",
     "output_type": "stream",
     "text": [
      "Evaluating:   0%|          | 0/2 [00:00<?, ?it/s]Prompt fix_output_format failed to parse output: The output parser failed to parse the output including retries.\n",
      "Prompt fix_output_format failed to parse output: The output parser failed to parse the output including retries.\n",
      "Prompt fix_output_format failed to parse output: The output parser failed to parse the output including retries.\n",
      "Prompt claim_decomposition_prompt failed to parse output: The output parser failed to parse the output including retries.\n",
      "Exception raised in Job[0]: RagasOutputParserException(The output parser failed to parse the output including retries.)\n",
      "Evaluating: 100%|██████████| 2/2 [00:24<00:00, 12.32s/it]\n"
     ]
    },
    {
     "name": "stdout",
     "output_type": "stream",
     "text": [
      "Processing 9 of 100\n"
     ]
    },
    {
     "name": "stderr",
     "output_type": "stream",
     "text": [
      "Evaluating: 100%|██████████| 2/2 [00:17<00:00,  8.97s/it]\n"
     ]
    },
    {
     "name": "stdout",
     "output_type": "stream",
     "text": [
      "Processing 10 of 100\n"
     ]
    },
    {
     "name": "stderr",
     "output_type": "stream",
     "text": [
      "Evaluating: 100%|██████████| 2/2 [00:17<00:00,  8.93s/it]\n"
     ]
    },
    {
     "name": "stdout",
     "output_type": "stream",
     "text": [
      "Processing 11 of 100\n"
     ]
    },
    {
     "name": "stderr",
     "output_type": "stream",
     "text": [
      "Evaluating: 100%|██████████| 2/2 [00:13<00:00,  6.66s/it]\n"
     ]
    },
    {
     "name": "stdout",
     "output_type": "stream",
     "text": [
      "Processing 12 of 100\n"
     ]
    },
    {
     "name": "stderr",
     "output_type": "stream",
     "text": [
      "Evaluating: 100%|██████████| 2/2 [00:17<00:00,  8.64s/it]\n"
     ]
    },
    {
     "name": "stdout",
     "output_type": "stream",
     "text": [
      "Processing 13 of 100\n"
     ]
    },
    {
     "name": "stderr",
     "output_type": "stream",
     "text": [
      "Evaluating: 100%|██████████| 2/2 [00:15<00:00,  7.50s/it]\n"
     ]
    },
    {
     "name": "stdout",
     "output_type": "stream",
     "text": [
      "Processing 14 of 100\n"
     ]
    },
    {
     "name": "stderr",
     "output_type": "stream",
     "text": [
      "Evaluating: 100%|██████████| 2/2 [00:18<00:00,  9.45s/it]\n"
     ]
    },
    {
     "name": "stdout",
     "output_type": "stream",
     "text": [
      "Processing 15 of 100\n"
     ]
    },
    {
     "name": "stderr",
     "output_type": "stream",
     "text": [
      "Evaluating: 100%|██████████| 2/2 [00:15<00:00,  7.89s/it]\n"
     ]
    },
    {
     "name": "stdout",
     "output_type": "stream",
     "text": [
      "Processing 16 of 100\n"
     ]
    },
    {
     "name": "stderr",
     "output_type": "stream",
     "text": [
      "Evaluating: 100%|██████████| 2/2 [00:18<00:00,  9.21s/it]\n"
     ]
    },
    {
     "name": "stdout",
     "output_type": "stream",
     "text": [
      "Processing 17 of 100\n"
     ]
    },
    {
     "name": "stderr",
     "output_type": "stream",
     "text": [
      "Evaluating: 100%|██████████| 2/2 [00:23<00:00, 11.51s/it]\n"
     ]
    },
    {
     "name": "stdout",
     "output_type": "stream",
     "text": [
      "Processing 18 of 100\n"
     ]
    },
    {
     "name": "stderr",
     "output_type": "stream",
     "text": [
      "Evaluating:   0%|          | 0/2 [00:00<?, ?it/s]Prompt fix_output_format failed to parse output: The output parser failed to parse the output including retries.\n",
      "Prompt fix_output_format failed to parse output: The output parser failed to parse the output including retries.\n",
      "Prompt fix_output_format failed to parse output: The output parser failed to parse the output including retries.\n",
      "Prompt claim_decomposition_prompt failed to parse output: The output parser failed to parse the output including retries.\n",
      "Exception raised in Job[0]: RagasOutputParserException(The output parser failed to parse the output including retries.)\n",
      "Evaluating: 100%|██████████| 2/2 [00:26<00:00, 13.41s/it]\n"
     ]
    },
    {
     "name": "stdout",
     "output_type": "stream",
     "text": [
      "Processing 19 of 100\n"
     ]
    },
    {
     "name": "stderr",
     "output_type": "stream",
     "text": [
      "Evaluating: 100%|██████████| 2/2 [00:17<00:00,  8.62s/it]\n"
     ]
    },
    {
     "name": "stdout",
     "output_type": "stream",
     "text": [
      "Processing 20 of 100\n"
     ]
    },
    {
     "name": "stderr",
     "output_type": "stream",
     "text": [
      "Evaluating:   0%|          | 0/2 [00:00<?, ?it/s]Prompt fix_output_format failed to parse output: The output parser failed to parse the output including retries.\n",
      "Prompt fix_output_format failed to parse output: The output parser failed to parse the output including retries.\n",
      "Prompt fix_output_format failed to parse output: The output parser failed to parse the output including retries.\n",
      "Prompt claim_decomposition_prompt failed to parse output: The output parser failed to parse the output including retries.\n",
      "Exception raised in Job[0]: RagasOutputParserException(The output parser failed to parse the output including retries.)\n",
      "Evaluating: 100%|██████████| 2/2 [00:31<00:00, 15.52s/it]\n"
     ]
    },
    {
     "name": "stdout",
     "output_type": "stream",
     "text": [
      "Processing 21 of 100\n"
     ]
    },
    {
     "name": "stderr",
     "output_type": "stream",
     "text": [
      "Evaluating:   0%|          | 0/2 [00:00<?, ?it/s]Prompt fix_output_format failed to parse output: The output parser failed to parse the output including retries.\n",
      "Prompt fix_output_format failed to parse output: The output parser failed to parse the output including retries.\n",
      "Prompt fix_output_format failed to parse output: The output parser failed to parse the output including retries.\n",
      "Prompt n_l_i_statement_prompt failed to parse output: The output parser failed to parse the output including retries.\n",
      "Exception raised in Job[0]: RagasOutputParserException(The output parser failed to parse the output including retries.)\n",
      "Evaluating: 100%|██████████| 2/2 [00:25<00:00, 12.84s/it]\n"
     ]
    },
    {
     "name": "stdout",
     "output_type": "stream",
     "text": [
      "Processing 22 of 100\n"
     ]
    },
    {
     "name": "stderr",
     "output_type": "stream",
     "text": [
      "Evaluating:   0%|          | 0/2 [00:00<?, ?it/s]Prompt fix_output_format failed to parse output: The output parser failed to parse the output including retries.\n",
      "Prompt fix_output_format failed to parse output: The output parser failed to parse the output including retries.\n",
      "Prompt fix_output_format failed to parse output: The output parser failed to parse the output including retries.\n",
      "Prompt claim_decomposition_prompt failed to parse output: The output parser failed to parse the output including retries.\n",
      "Exception raised in Job[0]: RagasOutputParserException(The output parser failed to parse the output including retries.)\n",
      "Evaluating: 100%|██████████| 2/2 [00:19<00:00,  9.97s/it]\n"
     ]
    },
    {
     "name": "stdout",
     "output_type": "stream",
     "text": [
      "Processing 23 of 100\n"
     ]
    },
    {
     "name": "stderr",
     "output_type": "stream",
     "text": [
      "Evaluating:   0%|          | 0/2 [00:00<?, ?it/s]Exception raised in Job[0]: ValueError(Chunk too big)\n",
      "Evaluating: 100%|██████████| 2/2 [00:29<00:00, 14.63s/it]\n"
     ]
    },
    {
     "name": "stdout",
     "output_type": "stream",
     "text": [
      "Processing 24 of 100\n"
     ]
    },
    {
     "name": "stderr",
     "output_type": "stream",
     "text": [
      "Evaluating:   0%|          | 0/2 [00:00<?, ?it/s]"
     ]
    }
   ],
   "source": [
    "# Single iteration for Exception management\n",
    "\n",
    "from ragas import evaluate\n",
    "from ragas.metrics import Faithfulness, FactualCorrectness\n",
    "\n",
    "results_df = []\n",
    "\n",
    "for i in range(len(responses_df)):\n",
    "   print (f\"Processing {i} of {len(responses_df)}\")\n",
    "   df=responses_df.iloc[i:i+1]\n",
    "   ds = Dataset.from_pandas( df)\n",
    "   \n",
    "   metrics = [FactualCorrectness(), Faithfulness()]\n",
    "   try:\n",
    "      evaluation_ds = evaluate(\n",
    "                     dataset=ds, \n",
    "                     metrics=metrics, \n",
    "                     llm=llm,\n",
    "                     run_config=RunConfig(\n",
    "                        max_workers=1,\n",
    "                        max_retries=1\n",
    "                     ))\n",
    "   \n",
    "      eval_df = evaluation_ds.to_pandas()\n",
    "      results_df.append(eval_df)\n",
    "   except:\n",
    "      pass\n",
    "\n",
    "appended_ds = pd.concat(results_df)\n",
    "appended_ds.to_pickle( f\"{experiment_folder}/no_rag_b1-results.pkl\" )\n",
    "\n",
    "appended_ds[0:5]"
   ]
  },
  {
   "cell_type": "markdown",
   "metadata": {},
   "source": [
    "### RAG_FINAL Experimentation"
   ]
  },
  {
   "cell_type": "code",
   "execution_count": 9,
   "metadata": {},
   "outputs": [
    {
     "name": "stdout",
     "output_type": "stream",
     "text": [
      "Processing 1 of 100 question/answer pairs.\n",
      "q=What%20is%20the%20power-to-weight%20ratio%20of%20a%20steam%20plant%20compared%20to%20that%20of%20an%20internal%20combustion%20engine%3F&h=False&e=False&k=2&t=0.5&m=qwen2.5:7b&lp=0\n",
      "Processing 2 of 100 question/answer pairs.\n",
      "q=Under%20which%20leader%20did%20the%20Huguenots%20fight%20in%20this%20conflict%3F&h=False&e=False&k=2&t=0.5&m=qwen2.5:7b&lp=0\n",
      "Processing 3 of 100 question/answer pairs.\n",
      "q=When%20did%20this%20attempt%20take%20place%3F&h=False&e=False&k=2&t=0.5&m=qwen2.5:7b&lp=0\n",
      "Processing 4 of 100 question/answer pairs.\n",
      "q=WHy%20was%20the%20Merit%20network%20formed%20in%20Michigan%20&h=False&e=False&k=2&t=0.5&m=qwen2.5:7b&lp=0\n",
      "Processing 5 of 100 question/answer pairs.\n",
      "q=Does%20the%20residential%20architecture%20of%20the%20Tower%20District%20compare%20or%20contrast%20with%20other%20part%20of%20Fresno%3F&h=False&e=False&k=2&t=0.5&m=qwen2.5:7b&lp=0\n",
      "Processing 6 of 100 question/answer pairs.\n",
      "q=How%20do%20you%20pronounce%20Fresno%3F&h=False&e=False&k=2&t=0.5&m=qwen2.5:7b&lp=0\n",
      "Processing 7 of 100 question/answer pairs.\n",
      "q=Who%20created%20an%20engine%20using%20high%20pressure%20steam%20in%201801%3F&h=False&e=False&k=2&t=0.5&m=qwen2.5:7b&lp=0\n",
      "Processing 8 of 100 question/answer pairs.\n",
      "q=How%20do%20ctenophores%20control%20buoyancy%3F&h=False&e=False&k=2&t=0.5&m=qwen2.5:7b&lp=0\n",
      "Processing 9 of 100 question/answer pairs.\n",
      "q=How%20many%20tons%20of%20live%20plants%20were%20found%20to%20live%20in%20one%20square%20kilometer%20of%20the%20Amazon%20rainforest%20in%201999%3F&h=False&e=False&k=2&t=0.5&m=qwen2.5:7b&lp=0\n",
      "Processing 10 of 100 question/answer pairs.\n",
      "q=What%20type%20of%20numbers%20demonstrate%20a%20flaw%20with%20the%20Fermat%20primality%20test%3F&h=False&e=False&k=2&t=0.5&m=qwen2.5:7b&lp=0\n",
      "Processing 11 of 100 question/answer pairs.\n",
      "q=Who%20was%20the%20leader%20who%20established%20the%20colony%20at%20Florida%3F&h=False&e=False&k=2&t=0.5&m=qwen2.5:7b&lp=0\n",
      "Processing 12 of 100 question/answer pairs.\n",
      "q=What%20was%20the%20fort%20that%20was%20being%20built%20to%20be%20named%3F&h=False&e=False&k=2&t=0.5&m=qwen2.5:7b&lp=0\n",
      "Processing 13 of 100 question/answer pairs.\n",
      "q=Who%20did%20internet2%20partner%20with&h=False&e=False&k=2&t=0.5&m=qwen2.5:7b&lp=0\n",
      "Processing 14 of 100 question/answer pairs.\n",
      "q=What%20did%20Artur%20Oppman%20give%20to%20the%20world%3F&h=False&e=False&k=2&t=0.5&m=qwen2.5:7b&lp=0\n",
      "Processing 15 of 100 question/answer pairs.\n",
      "q=In%20what%20kind%20of%20fluid%20are%20pressure%20differences%20caused%20by%20direction%20of%20forces%20over%20gradients%3F&h=False&e=False&k=2&t=0.5&m=qwen2.5:7b&lp=0\n",
      "Processing 16 of 100 question/answer pairs.\n",
      "q=What%20else%20was%20used%20by%20pharmas%3F&h=False&e=False&k=2&t=0.5&m=qwen2.5:7b&lp=0\n",
      "Processing 17 of 100 question/answer pairs.\n",
      "q=What%20religions%20did%20Tugh%20Temur%20follow%3F&h=False&e=False&k=2&t=0.5&m=qwen2.5:7b&lp=0\n",
      "Processing 18 of 100 question/answer pairs.\n",
      "q=Big%20O%20notation%20provides%20autonomy%20to%20upper%20and%20lower%20bounds%20with%20relationship%20to%20what%3F%20&h=False&e=False&k=2&t=0.5&m=qwen2.5:7b&lp=0\n",
      "Processing 19 of 100 question/answer pairs.\n",
      "q=What%20are%20the%20Siouan-speaking%20tribes%3F&h=False&e=False&k=2&t=0.5&m=qwen2.5:7b&lp=0\n",
      "Processing 20 of 100 question/answer pairs.\n",
      "q=How%20far%20apart%20are%20some%20of%20the%20neighborhood%27s%20features%3F&h=False&e=False&k=2&t=0.5&m=qwen2.5:7b&lp=0\n",
      "Processing 21 of 100 question/answer pairs.\n",
      "q=Harvard%20-%20Yale%20Regatta%20predates%20%22The%20Game%22%20by%20how%20many%20years%3F&h=False&e=False&k=2&t=0.5&m=qwen2.5:7b&lp=0\n",
      "Processing 22 of 100 question/answer pairs.\n",
      "q=Where%20does%20the%20Rhine%20empty%3F&h=False&e=False&k=2&t=0.5&m=qwen2.5:7b&lp=0\n",
      "Processing 23 of 100 question/answer pairs.\n",
      "q=What%20does%20Salafism%20in%20its%20harshest%20form%20encourage%20its%20followers%20to%20view%20the%20religion%20of%20others%20with%3F&h=False&e=False&k=2&t=0.5&m=qwen2.5:7b&lp=0\n",
      "Processing 24 of 100 question/answer pairs.\n",
      "q=Problems%20capable%20of%20theoretical%20solutions%20but%20consuming%20unreasonable%20time%20in%20practical%20application%20are%20known%20as%20what%3F&h=False&e=False&k=2&t=0.5&m=qwen2.5:7b&lp=0\n",
      "Processing 25 of 100 question/answer pairs.\n",
      "q=If%20NP%20is%20not%20equal%20to%20P%2C%20viewed%20through%20this%20lens%2C%20what%20type%20of%20problems%20can%20also%20be%20considered%20intractable%3F&h=False&e=False&k=2&t=0.5&m=qwen2.5:7b&lp=0\n",
      "Processing 26 of 100 question/answer pairs.\n",
      "q=When%20would%20a%20person%20be%20considered%20to%20be%20excising%20a%20constitutional%20impasse%3F&h=False&e=False&k=2&t=0.5&m=qwen2.5:7b&lp=0\n",
      "Processing 27 of 100 question/answer pairs.\n",
      "q=How%20do%20platyctenids%20reproduce%3F&h=False&e=False&k=2&t=0.5&m=qwen2.5:7b&lp=0\n",
      "Processing 28 of 100 question/answer pairs.\n",
      "q=What%20equals%20the%20spring%20reaction%20force%20on%20an%20object%20suspended%20on%20a%20spring%20reaction%20scale%3F%20&h=False&e=False&k=2&t=0.5&m=qwen2.5:7b&lp=0\n",
      "Processing 29 of 100 question/answer pairs.\n",
      "q=What%20can%20result%20in%20more%20equal%20distribution%20of%20income%3F&h=False&e=False&k=2&t=0.5&m=qwen2.5:7b&lp=0\n",
      "Processing 30 of 100 question/answer pairs.\n",
      "q=What%20type%20of%20movement%20is%20the%20Muslim%20Brotherhood%3F&h=False&e=False&k=2&t=0.5&m=qwen2.5:7b&lp=0\n",
      "Processing 31 of 100 question/answer pairs.\n",
      "q=What%20is%20the%20population%20of%20the%20Greater%20Los%20Angeles%20Area%3F&h=False&e=False&k=2&t=0.5&m=qwen2.5:7b&lp=0\n",
      "Processing 32 of 100 question/answer pairs.\n",
      "q=Who%20had%20the%20idea%20of%20a%20natural%20state%20for%20objects%20at%20rest%3F&h=False&e=False&k=2&t=0.5&m=qwen2.5:7b&lp=0\n",
      "Processing 33 of 100 question/answer pairs.\n",
      "q=Highways%20built%20in%20the%20Amazon%20rainforest%20were%20built%20primarily%20for%20what%20kind%20of%20farmers%3F&h=False&e=False&k=2&t=0.5&m=qwen2.5:7b&lp=0\n",
      "Processing 34 of 100 question/answer pairs.\n",
      "q=What%20type%20of%20number%20generators%20make%20use%20of%20prime%20numbers%3F&h=False&e=False&k=2&t=0.5&m=qwen2.5:7b&lp=0\n",
      "Processing 35 of 100 question/answer pairs.\n",
      "q=What%20is%20the%20area%20called%20where%20two%20plates%20move%20apart%3F&h=False&e=False&k=2&t=0.5&m=qwen2.5:7b&lp=0\n",
      "Processing 36 of 100 question/answer pairs.\n",
      "q=What%20nationality%20are%20researchers%20Richard%20G.%20Wilkinson%20and%20Kate%20Pickett%3F&h=False&e=False&k=2&t=0.5&m=qwen2.5:7b&lp=0\n",
      "Processing 37 of 100 question/answer pairs.\n",
      "q=What%20country%20does%20the%20Moselle%20take%20the%20Rhine%20to%3F&h=False&e=False&k=2&t=0.5&m=qwen2.5:7b&lp=0\n",
      "Processing 38 of 100 question/answer pairs.\n",
      "q=What%20helps%20to%20unleash%20the%20productivity%20ability%20of%20the%20poor%3F&h=False&e=False&k=2&t=0.5&m=qwen2.5:7b&lp=0\n",
      "Processing 39 of 100 question/answer pairs.\n",
      "q=Where%20was%20the%20FIS%20formed%3F&h=False&e=False&k=2&t=0.5&m=qwen2.5:7b&lp=0\n",
      "Processing 40 of 100 question/answer pairs.\n",
      "q=What%20famous%20author%20used%20similarity%20and%20likeness%20of%20Percy%20Shelly%20in%20his%20writing%3F&h=False&e=False&k=2&t=0.5&m=qwen2.5:7b&lp=0\n",
      "Processing 41 of 100 question/answer pairs.\n",
      "q=How%20many%20seats%20must%20a%20political%20party%20have%20to%20be%20represented%20on%20the%20Parliamentary%20Bureau%3F&h=False&e=False&k=2&t=0.5&m=qwen2.5:7b&lp=0\n",
      "Processing 42 of 100 question/answer pairs.\n",
      "q=What%20basin%20was%20formed%20when%20the%20Andes%20Mountains%20rose%3F&h=False&e=False&k=2&t=0.5&m=qwen2.5:7b&lp=0\n",
      "Processing 43 of 100 question/answer pairs.\n",
      "q=What%20type%20of%20Delta%20is%20the%20Rhine-Meuse%3F&h=False&e=False&k=2&t=0.5&m=qwen2.5:7b&lp=0\n",
      "Processing 44 of 100 question/answer pairs.\n",
      "q=Who%20are%20commonly%20associated%20with%20the%20algorithm%20typically%20considered%20the%20most%20effective%20with%20respect%20to%20finite%20polynomial%20hierarchy%20and%20graph%20isomorphism%3F&h=False&e=False&k=2&t=0.5&m=qwen2.5:7b&lp=0\n",
      "Processing 45 of 100 question/answer pairs.\n",
      "q=Which%20team%20was%20suspended%20from%20the%20MLS%3F&h=False&e=False&k=2&t=0.5&m=qwen2.5:7b&lp=0\n",
      "Processing 46 of 100 question/answer pairs.\n",
      "q=In%20the%20range%20between%201980%20and%201990%2C%20what%20did%20demand%20for%20grow%3F&h=False&e=False&k=2&t=0.5&m=qwen2.5:7b&lp=0\n",
      "Processing 47 of 100 question/answer pairs.\n",
      "q=Classification%20of%20resources%20is%20contingent%20on%20determining%20the%20upper%20and%20lower%20bounds%20of%20minimum%20time%20required%20by%20what%3F%20%20&h=False&e=False&k=2&t=0.5&m=qwen2.5:7b&lp=0\n",
      "Processing 48 of 100 question/answer pairs.\n",
      "q=What%20was%20the%20occupation%20of%20Joseph%20Priestley%3F&h=False&e=False&k=2&t=0.5&m=qwen2.5:7b&lp=0\n",
      "Processing 49 of 100 question/answer pairs.\n",
      "q=What%20movements%20pursued%20a%20more%20radical%20direction%3F&h=False&e=False&k=2&t=0.5&m=qwen2.5:7b&lp=0\n",
      "Processing 50 of 100 question/answer pairs.\n",
      "q=What%20was%20the%20UK%20governments%20benefits%20agenchy%20checking%20in%202012%3F&h=False&e=False&k=2&t=0.5&m=qwen2.5:7b&lp=0\n",
      "Processing 51 of 100 question/answer pairs.\n",
      "q=In%20a%20nuclear%20power%20plant%2C%20what%20is%20the%20steam%20turbine%20connected%20to%3F&h=False&e=False&k=2&t=0.5&m=qwen2.5:7b&lp=0\n",
      "Processing 52 of 100 question/answer pairs.\n",
      "q=What%20gas%20does%20the%20airline%20exothermic%20reaction%20produce%3F&h=False&e=False&k=2&t=0.5&m=qwen2.5:7b&lp=0\n",
      "Processing 53 of 100 question/answer pairs.\n",
      "q=Browlee%20also%20applies%20that%20civil%20disobedience%20is%20okay%20regarding%3F&h=False&e=False&k=2&t=0.5&m=qwen2.5:7b&lp=0\n",
      "Processing 54 of 100 question/answer pairs.\n",
      "q=Why%20did%20natural%20sedimentation%20by%20the%20Rhine%20compensate%20the%20transgression%20bby%20the%20sea%3F&h=False&e=False&k=2&t=0.5&m=qwen2.5:7b&lp=0\n",
      "Processing 55 of 100 question/answer pairs.\n",
      "q=How%20many%20metric%20tons%20of%20carbon%20are%20believed%20to%20be%20stored%20in%20the%20Amazon%20forest%3F&h=False&e=False&k=2&t=0.5&m=qwen2.5:7b&lp=0\n",
      "Processing 56 of 100 question/answer pairs.\n",
      "q=What%20other%20kind%20of%20sport%20is%20popular%20in%20southern%20California%3F&h=False&e=False&k=2&t=0.5&m=qwen2.5:7b&lp=0\n",
      "Processing 57 of 100 question/answer pairs.\n",
      "q=What%20geologic%20feature%20is%20composed%20of%20oxygen%20oxides%3F&h=False&e=False&k=2&t=0.5&m=qwen2.5:7b&lp=0\n",
      "Processing 58 of 100 question/answer pairs.\n",
      "q=Who%20may%20members%20direct%20questions%20towards%20during%20General%20Question%20Time%3F&h=False&e=False&k=2&t=0.5&m=qwen2.5:7b&lp=0\n",
      "Processing 59 of 100 question/answer pairs.\n",
      "q=When%20did%20Singer%20dispute%20the%20graph%20at%20a%20Senate%20hearing%3F&h=False&e=False&k=2&t=0.5&m=qwen2.5:7b&lp=0\n",
      "Processing 60 of 100 question/answer pairs.\n",
      "q=What%20engines%20were%20used%20throughout%20most%20of%20the%2020th%20century%20to%20propel%20ships%3F&h=False&e=False&k=2&t=0.5&m=qwen2.5:7b&lp=0\n",
      "Processing 61 of 100 question/answer pairs.\n",
      "q=How%20would%20one%20describe%20the%20summers%20in%20Fresno%3F&h=False&e=False&k=2&t=0.5&m=qwen2.5:7b&lp=0\n",
      "Processing 62 of 100 question/answer pairs.\n",
      "q=How%20many%20plant%20species%20make%20up%20the%20total%20in%20the%20rainforest%3F&h=False&e=False&k=2&t=0.5&m=qwen2.5:7b&lp=0\n",
      "Processing 63 of 100 question/answer pairs.\n",
      "q=What%20South%20African%20law%20recognized%20two%20types%20of%20schools%3F&h=False&e=False&k=2&t=0.5&m=qwen2.5:7b&lp=0\n",
      "Processing 64 of 100 question/answer pairs.\n",
      "q=What%20English%20law%20made%20that%20country%20more%20welcoming%20to%20Huguenots%3F&h=False&e=False&k=2&t=0.5&m=qwen2.5:7b&lp=0\n",
      "Processing 65 of 100 question/answer pairs.\n",
      "q=When%20many%20people%20are%20arrested%2C%20what%20is%20a%20common%20tactic%20negotiating%3F&h=False&e=False&k=2&t=0.5&m=qwen2.5:7b&lp=0\n",
      "Processing 66 of 100 question/answer pairs.\n",
      "q=What%20sin%20were%20the%20leaders%20the%20extremists%20attacked%20guilty%20of%3F&h=False&e=False&k=2&t=0.5&m=qwen2.5:7b&lp=0\n",
      "Processing 67 of 100 question/answer pairs.\n",
      "q=What%20is%20the%20comparison%20in%20price%20between%20Australian%20private%20schools%20versus%20public%3F&h=False&e=False&k=2&t=0.5&m=qwen2.5:7b&lp=0\n",
      "Processing 68 of 100 question/answer pairs.\n",
      "q=What%20was%20the%20percentage%20of%20people%20that%20voted%20in%20favor%20of%20the%20Pico%20Act%20of%201859%3F&h=False&e=False&k=2&t=0.5&m=qwen2.5:7b&lp=0\n",
      "Processing 69 of 100 question/answer pairs.\n",
      "q=Who%20disliked%20the%20affiliate%20program%3F&h=False&e=False&k=2&t=0.5&m=qwen2.5:7b&lp=0\n",
      "Processing 70 of 100 question/answer pairs.\n",
      "q=What%20direction%20did%20Watson%20say%20the%20mistake%20went%20in%3F&h=False&e=False&k=2&t=0.5&m=qwen2.5:7b&lp=0\n",
      "Processing 71 of 100 question/answer pairs.\n",
      "q=Who%20was%20one%20of%20the%20earliest%20examples%20of%20Civil%20Disobedience%20against%3F&h=False&e=False&k=2&t=0.5&m=qwen2.5:7b&lp=0\n",
      "Processing 72 of 100 question/answer pairs.\n",
      "q=What%20rates%20of%20health%20and%20social%20problems%20are%20in%20countries%20with%20high%20inequality%3F&h=False&e=False&k=2&t=0.5&m=qwen2.5:7b&lp=0\n",
      "Processing 73 of 100 question/answer pairs.\n",
      "q=Along%20with%20Muslims%2C%20Jews%20and%20Protestant%20Christians%2C%20what%20religious%20group%20notably%20operates%20private%20schools%3F&h=False&e=False&k=2&t=0.5&m=qwen2.5:7b&lp=0\n",
      "Processing 74 of 100 question/answer pairs.\n",
      "q=What%20is%20the%20main%20defense%20mechanism%20of%20bacteria%20known%20as%3F&h=False&e=False&k=2&t=0.5&m=qwen2.5:7b&lp=0\n",
      "Processing 75 of 100 question/answer pairs.\n",
      "q=What%20degree%20is%20now%20mandatory%20in%20the%20U.S.%20in%20order%20to%20be%20a%20licensed%20pharmacist%3F&h=False&e=False&k=2&t=0.5&m=qwen2.5:7b&lp=0\n",
      "Processing 76 of 100 question/answer pairs.\n",
      "q=What%20does%20ctenophora%20rely%20on%20for%20digestion%20and%20respiration%3F&h=False&e=False&k=2&t=0.5&m=qwen2.5:7b&lp=0\n",
      "Processing 77 of 100 question/answer pairs.\n",
      "q=Which%20country%27s%20imports%20became%20the%20de%20facto%20mass%20market%20leaders%3F&h=False&e=False&k=2&t=0.5&m=qwen2.5:7b&lp=0\n",
      "Processing 78 of 100 question/answer pairs.\n",
      "q=What%20is%20the%20English%20translation%20of%20tawhid%3F&h=False&e=False&k=2&t=0.5&m=qwen2.5:7b&lp=0\n",
      "Processing 79 of 100 question/answer pairs.\n",
      "q=The%20motto%20of%20the%20Muslim%20Brotherhood%20specifies%20what%20as%20being%20their%20constitution%3F&h=False&e=False&k=2&t=0.5&m=qwen2.5:7b&lp=0\n",
      "Processing 80 of 100 question/answer pairs.\n",
      "q=How%20did%20the%20Nixon%20administration%20negotiate%20with%20the%20uncooperative%20countries%3F&h=False&e=False&k=2&t=0.5&m=qwen2.5:7b&lp=0\n",
      "Processing 81 of 100 question/answer pairs.\n",
      "q=How%20far%20apart%20are%20some%20of%20the%20neighborhood%27s%20features%3F&h=False&e=False&k=2&t=0.5&m=qwen2.5:7b&lp=0\n",
      "Processing 82 of 100 question/answer pairs.\n",
      "q=What%20is%20the%20typical%20annual%20cost%20for%20an%20Irish%20private%20school%3F&h=False&e=False&k=2&t=0.5&m=qwen2.5:7b&lp=0\n",
      "Processing 83 of 100 question/answer pairs.\n",
      "q=How%20many%20people%20were%20in%20French%20North%20American%20Colonies%3F&h=False&e=False&k=2&t=0.5&m=qwen2.5:7b&lp=0\n",
      "Processing 84 of 100 question/answer pairs.\n",
      "q=Where%20can%20a%20tribute%20to%20the%20fall%20of%20Warsaw%20be%20found%3F&h=False&e=False&k=2&t=0.5&m=qwen2.5:7b&lp=0\n",
      "Processing 85 of 100 question/answer pairs.\n",
      "q=How%20much%20of%20the%20Rhine%20flow%20does%20Ijssel%20carry%3F&h=False&e=False&k=2&t=0.5&m=qwen2.5:7b&lp=0\n",
      "Processing 86 of 100 question/answer pairs.\n",
      "q=DEC%20originally%20had%203%20layers%20but%20evolved%20into%20how%20many%20layers%20&h=False&e=False&k=2&t=0.5&m=qwen2.5:7b&lp=0\n",
      "Processing 87 of 100 question/answer pairs.\n",
      "q=What%20carries%20a%20significant%20amount%20of%20the%20Rhine%20flow%20through%20France%3F&h=False&e=False&k=2&t=0.5&m=qwen2.5:7b&lp=0\n",
      "Processing 88 of 100 question/answer pairs.\n",
      "q=What%20can%20result%20in%20creating%20a%20poverty%20trap%3F&h=False&e=False&k=2&t=0.5&m=qwen2.5:7b&lp=0\n",
      "Processing 89 of 100 question/answer pairs.\n",
      "q=WBAI%27s%20broadcasting%20Some%20of%20George%20Carlin%27s%20comedy%20eventually%20led%20to%20what%3F&h=False&e=False&k=2&t=0.5&m=qwen2.5:7b&lp=0\n",
      "Processing 90 of 100 question/answer pairs.\n",
      "q=When%20violence%20is%20used%2C%20what%20is%20civil%20disobedience%20sometimes%20called%3F&h=False&e=False&k=2&t=0.5&m=qwen2.5:7b&lp=0\n",
      "Processing 91 of 100 question/answer pairs.\n",
      "q=Where%20did%20the%20first%20Huguenot%20colonists%20settle%3F&h=False&e=False&k=2&t=0.5&m=qwen2.5:7b&lp=0\n",
      "Processing 92 of 100 question/answer pairs.\n",
      "q=What%20complex%20measurements%20were%20defined%20by%20%22On%20the%20Computational%20Complexity%20of%20Algorithms%22%3F&h=False&e=False&k=2&t=0.5&m=qwen2.5:7b&lp=0\n",
      "Processing 93 of 100 question/answer pairs.\n",
      "q=The%20Rhine%20Gorge%20is%20between%20Koblenz%20and%20what%20other%20city%3F&h=False&e=False&k=2&t=0.5&m=qwen2.5:7b&lp=0\n",
      "Processing 94 of 100 question/answer pairs.\n",
      "q=What%20was%20apolitical%20Islam%3F&h=False&e=False&k=2&t=0.5&m=qwen2.5:7b&lp=0\n",
      "Processing 95 of 100 question/answer pairs.\n",
      "q=What%20basin%20was%20formed%20when%20the%20Andes%20Mountains%20rose%3F&h=False&e=False&k=2&t=0.5&m=qwen2.5:7b&lp=0\n",
      "Processing 96 of 100 question/answer pairs.\n",
      "q=What%20was%20the%20Plos%20Pathogens%20paper%20about%3F&h=False&e=False&k=2&t=0.5&m=qwen2.5:7b&lp=0\n",
      "Processing 97 of 100 question/answer pairs.\n",
      "q=What%20does%20the%20IPCC%20rely%20on%20for%20research%3F&h=False&e=False&k=2&t=0.5&m=qwen2.5:7b&lp=0\n",
      "Processing 98 of 100 question/answer pairs.\n",
      "q=Who%20is%20credited%20with%20finding%20evidence%20of%20large%20settlements%20in%20the%20Amazon%20forest%3F&h=False&e=False&k=2&t=0.5&m=qwen2.5:7b&lp=0\n",
      "Processing 99 of 100 question/answer pairs.\n",
      "q=What%27s%20Thomas%20Piketty%27s%20job%3F&h=False&e=False&k=2&t=0.5&m=qwen2.5:7b&lp=0\n",
      "Processing 100 of 100 question/answer pairs.\n",
      "q=Strictly%20speaking%20who%20was%20included%20in%20DATANET%201&h=False&e=False&k=2&t=0.5&m=qwen2.5:7b&lp=0\n"
     ]
    },
    {
     "data": {
      "text/html": [
       "<div>\n",
       "<style scoped>\n",
       "    .dataframe tbody tr th:only-of-type {\n",
       "        vertical-align: middle;\n",
       "    }\n",
       "\n",
       "    .dataframe tbody tr th {\n",
       "        vertical-align: top;\n",
       "    }\n",
       "\n",
       "    .dataframe thead th {\n",
       "        text-align: right;\n",
       "    }\n",
       "</style>\n",
       "<table border=\"1\" class=\"dataframe\">\n",
       "  <thead>\n",
       "    <tr style=\"text-align: right;\">\n",
       "      <th></th>\n",
       "      <th>id</th>\n",
       "      <th>page_content</th>\n",
       "      <th>type</th>\n",
       "      <th>metadata.source</th>\n",
       "      <th>metadata.similarity_score</th>\n",
       "      <th>answer</th>\n",
       "      <th>question</th>\n",
       "      <th>hyde</th>\n",
       "      <th>evaluation.grade</th>\n",
       "      <th>reference.ground_truth</th>\n",
       "      <th>reference.is_impossible</th>\n",
       "      <th>json</th>\n",
       "      <th>reference_id</th>\n",
       "    </tr>\n",
       "  </thead>\n",
       "  <tbody>\n",
       "    <tr>\n",
       "      <th>0</th>\n",
       "      <td>None</td>\n",
       "      <td>The weight of boilers and condensers generally...</td>\n",
       "      <td>Document</td>\n",
       "      <td>/data/contexts/context_1078.context</td>\n",
       "      <td>0.358998</td>\n",
       "      <td>Lower due to boiler and condenser weight const...</td>\n",
       "      <td>What is the power-to-weight ratio of a steam p...</td>\n",
       "      <td>False</td>\n",
       "      <td></td>\n",
       "      <td>lower</td>\n",
       "      <td>False</td>\n",
       "      <td>{\"response\": {\"question\": \"What is the power-t...</td>\n",
       "      <td>1</td>\n",
       "    </tr>\n",
       "  </tbody>\n",
       "</table>\n",
       "</div>"
      ],
      "text/plain": [
       "     id                                       page_content      type  \\\n",
       "0  None  The weight of boilers and condensers generally...  Document   \n",
       "\n",
       "                       metadata.source  metadata.similarity_score  \\\n",
       "0  /data/contexts/context_1078.context                   0.358998   \n",
       "\n",
       "                                              answer  \\\n",
       "0  Lower due to boiler and condenser weight const...   \n",
       "\n",
       "                                            question   hyde evaluation.grade  \\\n",
       "0  What is the power-to-weight ratio of a steam p...  False                    \n",
       "\n",
       "  reference.ground_truth  reference.is_impossible  \\\n",
       "0                  lower                    False   \n",
       "\n",
       "                                                json  reference_id  \n",
       "0  {\"response\": {\"question\": \"What is the power-t...             1  "
      ]
     },
     "execution_count": 9,
     "metadata": {},
     "output_type": "execute_result"
    }
   ],
   "source": [
    "def api_endpoint(**kwargs) -> str:\n",
    "    \"\"\"Endpoint for context retrieval.\"\"\"\n",
    "    hyde= False\n",
    "    kwargs[\"h\"] = False\n",
    "    kwargs[\"e\"] = False\n",
    "    kwargs[\"k\"] = 2\n",
    "    kwargs[\"t\"] = 0.5\n",
    "    kwargs[\"m\"] = \"qwen2.5:7b\"\n",
    "    kwargs[\"lp\"] = 0    # no context, 10 words\n",
    "\n",
    "    query_params = \"&\".join([f\"{key}={kwargs[key]}\" for key in kwargs])\n",
    "    print (query_params)\n",
    "    return f\"http://{settings.API_ANSWER_ENDPOINT}/answer?{query_params}\"\n",
    "\n",
    "def convert(response) -> pd.DataFrame:\n",
    "    \"\"\"Converts retrieved JSON response to Pandas DataFrame\"\"\"\n",
    "    response_df = pd.json_normalize(\n",
    "        data=response[\"response\"], record_path=\"context\", meta=[\"answer\",\"question\", \"hyde\", [\"evaluation\", \"grade\"]]\n",
    "    )\n",
    "\n",
    "    # Add reference/evaluation values:\n",
    "    response_df[\"reference.ground_truth\"] = response[\"reference\"][\"ground_truth\"]\n",
    "    response_df[\"reference.is_impossible\"] = response[\"reference\"][\"is_impossible\"]\n",
    "\n",
    "    # Add full JSON response incase needed:\n",
    "    response_df[\"json\"] = json.dumps(response)\n",
    "    return response_df\n",
    "\n",
    "exp_df = generate_experiment_dataset(qa_set, convert, api_endpoint)\n",
    "\n",
    "# Store the generated response:\n",
    "exp_df.to_pickle( f\"{experiment_folder}/rag_final_b1.pkl\" )\n",
    "exp_df[0:1]\n"
   ]
  },
  {
   "cell_type": "code",
   "execution_count": null,
   "metadata": {},
   "outputs": [],
   "source": [
    "# Convert to Dataset\n",
    "responses_df = pd.read_pickle(f\"{experiment_folder}/rag_final_b1.pkl\")\n",
    "\n",
    "responses_df = responses_df.groupby(\"reference_id\").agg(\n",
    "    retrieved_contexts = ('page_content', lambda x: list(x)),\n",
    "    question = ('question','first'),\n",
    "    ground_truth = ('reference.ground_truth', 'first'),\n",
    "    answer = ('answer', 'first')\n",
    "    )\n",
    "\n",
    "responses_df[0:1]"
   ]
  },
  {
   "cell_type": "code",
   "execution_count": null,
   "metadata": {},
   "outputs": [],
   "source": [
    "# Single iteration for Exception management\n",
    "\n",
    "from ragas import evaluate\n",
    "from ragas.metrics import Faithfulness, FactualCorrectness\n",
    "\n",
    "results_df = []\n",
    "\n",
    "for i in range(len(responses_df)):\n",
    "   print (f\"Processing {i} of {len(responses_df)}\")\n",
    "   df=responses_df.iloc[i:i+1]\n",
    "   ds = Dataset.from_pandas( df)\n",
    "   \n",
    "   metrics = [FactualCorrectness(), Faithfulness()]\n",
    "   try:\n",
    "      evaluation_ds = evaluate(\n",
    "                     dataset=ds, \n",
    "                     metrics=metrics, \n",
    "                     llm=llm,\n",
    "                     run_config=RunConfig(\n",
    "                        max_workers=1,\n",
    "                        max_retries=1\n",
    "                     ))\n",
    "   \n",
    "      eval_df = evaluation_ds.to_pandas()\n",
    "      results_df.append(eval_df)\n",
    "   except:\n",
    "      pass\n",
    "\n",
    "appended_ds = pd.concat(results_df)\n",
    "appended_ds.to_pickle( f\"{experiment_folder}/rag_final_b1-results.pkl\" )\n",
    "appended_ds[0:5]"
   ]
  },
  {
   "cell_type": "markdown",
   "metadata": {},
   "source": [
    "#### View Results"
   ]
  },
  {
   "cell_type": "code",
   "execution_count": 23,
   "metadata": {},
   "outputs": [],
   "source": [
    "no_rag_results_df = pd.read_pickle(f\"{experiment_folder}/no_rag_b1-results.pkl\")\n",
    "no_rag_results_df[0:5]\n",
    "no_rag_results_df.to_csv(f\"{experiment_folder}/no_rag_b1-results.csv\")\n"
   ]
  },
  {
   "cell_type": "code",
   "execution_count": 25,
   "metadata": {},
   "outputs": [],
   "source": [
    "rag_final_results_df = pd.read_pickle(f\"{experiment_folder}/rag_final_b1-results.pkl\")\n",
    "rag_final_results_df[0:5]\n",
    "rag_final_results_df.to_csv(f\"{experiment_folder}/rag_final_b1-results.csv\")\n"
   ]
  },
  {
   "cell_type": "code",
   "execution_count": 21,
   "metadata": {},
   "outputs": [
    {
     "name": "stdout",
     "output_type": "stream",
     "text": [
      "\n",
      "Count: 51\n",
      "Factual_Correctness: 0.42058823529411754\n",
      "Faithfulness: 0.4852941176470588\n",
      "\n"
     ]
    }
   ],
   "source": [
    "# NO_RAG:\n",
    "print( f\"\"\"\n",
    "Count: {len(no_rag_results_df)}\n",
    "Factual_Correctness: {no_rag_results_df[\"factual_correctness\"].mean()}\n",
    "Faithfulness: {no_rag_results_df[\"faithfulness\"].mean()}\n",
    "\"\"\")"
   ]
  },
  {
   "cell_type": "code",
   "execution_count": 22,
   "metadata": {},
   "outputs": [
    {
     "name": "stdout",
     "output_type": "stream",
     "text": [
      "\n",
      "Count: 20\n",
      "Factual_Correctness: 0.48250000000000004\n",
      "Faithfulness: 0.7\n",
      "\n"
     ]
    }
   ],
   "source": [
    "# RAG_FINAL:\n",
    "print( f\"\"\"\n",
    "Count: {len(rag_final_results_df)}\n",
    "Factual_Correctness: {rag_final_results_df[\"factual_correctness\"].mean()}\n",
    "Faithfulness: {rag_final_results_df[\"faithfulness\"].mean()}\n",
    "\"\"\")"
   ]
  }
 ],
 "metadata": {
  "kernelspec": {
   "display_name": "deh_measurement",
   "language": "python",
   "name": "python3"
  },
  "language_info": {
   "codemirror_mode": {
    "name": "ipython",
    "version": 3
   },
   "file_extension": ".py",
   "mimetype": "text/x-python",
   "name": "python",
   "nbconvert_exporter": "python",
   "pygments_lexer": "ipython3",
   "version": "3.10.16"
  }
 },
 "nbformat": 4,
 "nbformat_minor": 2
}
