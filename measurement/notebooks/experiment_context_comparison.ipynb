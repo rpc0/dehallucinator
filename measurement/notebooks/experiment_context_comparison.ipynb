{
 "cells": [
  {
   "cell_type": "markdown",
   "metadata": {},
   "source": [
    "### Experiment:  Impact of HYDE implementation on context retrieval distance"
   ]
  },
  {
   "cell_type": "markdown",
   "metadata": {},
   "source": [
    "**Background:**\n",
    "HYDE (Hypothetical Document Embedding) is an approach that has been indicated to improve the relevancy and comprehensiveness of RAG context retrieval by expanding a provided query prompt into a hypothetical document that can be used for context retrieval.\n",
    "\n",
    "**Test Approach**\n",
    "A sample of questions will be selected from QA corpus.  Documents will be retrieved both via original question and via hypothetical document.  The resulting cosine similarity of original vs. hypothetical documents will be compared.  It is expected that context's retrieved via hypothetical document will have lower \"distance\" values.\n"
   ]
  },
  {
   "cell_type": "code",
   "execution_count": 13,
   "metadata": {},
   "outputs": [
    {
     "name": "stdout",
     "output_type": "stream",
     "text": [
      "/home/knightal/deh_m/bin/python\n"
     ]
    }
   ],
   "source": [
    "import sys\n",
    "print(sys.executable)\n",
    "\n",
    "# Common import\n",
    "from deh.assessment import QASetRetriever\n",
    "from deh import settings\n",
    "from deh.eval import generate_experiment_dataset\n",
    "\n",
    "import pandas as pd\n",
    "import os\n",
    "from pathlib import Path"
   ]
  },
  {
   "cell_type": "markdown",
   "metadata": {},
   "source": [
    "#### Test Configuration"
   ]
  },
  {
   "cell_type": "code",
   "execution_count": 15,
   "metadata": {},
   "outputs": [],
   "source": [
    "num_samples:int = 100\n",
    "experiment_folder:str = \"../../data/evaluations/hyde-experiment/\"\n",
    "qa_data_set_file:str = \"../../data/qas/squad_qas.tsv\"\n",
    "\n",
    "# Create experiment folder:\n",
    "if not os.path.exists(experiment_folder):\n",
    "    Path(experiment_folder).mkdir(parents=True, exist_ok=True)\n"
   ]
  },
  {
   "cell_type": "markdown",
   "metadata": {},
   "source": [
    "#### Sample QA dataset"
   ]
  },
  {
   "cell_type": "code",
   "execution_count": 9,
   "metadata": {},
   "outputs": [
    {
     "name": "stdout",
     "output_type": "stream",
     "text": [
      "100 questions sampled from QA corpus (../../data/qas/squad_qas.tsv)\n"
     ]
    }
   ],
   "source": [
    "qa_set = QASetRetriever.get_qasets(\n",
    "    file_path = qa_data_set_file,\n",
    "    sample_size= num_samples\n",
    ")\n",
    "\n",
    "print(f\"{len(qa_set)} questions sampled from QA corpus ({qa_data_set_file})\")"
   ]
  },
  {
   "cell_type": "markdown",
   "metadata": {},
   "source": [
    "#### Get Similiarity Scores based on original question"
   ]
  },
  {
   "cell_type": "code",
   "execution_count": 19,
   "metadata": {},
   "outputs": [
    {
     "name": "stdout",
     "output_type": "stream",
     "text": [
      "Processing 1 of 100 question/answer pairs.\n",
      "Processing 2 of 100 question/answer pairs.\n",
      "Processing 3 of 100 question/answer pairs.\n",
      "Processing 4 of 100 question/answer pairs.\n",
      "Processing 5 of 100 question/answer pairs.\n",
      "Processing 6 of 100 question/answer pairs.\n",
      "Processing 7 of 100 question/answer pairs.\n",
      "Processing 8 of 100 question/answer pairs.\n",
      "Processing 9 of 100 question/answer pairs.\n",
      "Processing 10 of 100 question/answer pairs.\n",
      "Processing 11 of 100 question/answer pairs.\n",
      "Processing 12 of 100 question/answer pairs.\n",
      "Processing 13 of 100 question/answer pairs.\n",
      "Processing 14 of 100 question/answer pairs.\n",
      "Processing 15 of 100 question/answer pairs.\n",
      "Processing 16 of 100 question/answer pairs.\n",
      "Processing 17 of 100 question/answer pairs.\n",
      "Processing 18 of 100 question/answer pairs.\n",
      "Processing 19 of 100 question/answer pairs.\n",
      "Processing 20 of 100 question/answer pairs.\n",
      "Processing 21 of 100 question/answer pairs.\n",
      "Processing 22 of 100 question/answer pairs.\n",
      "Processing 23 of 100 question/answer pairs.\n",
      "Processing 24 of 100 question/answer pairs.\n",
      "Processing 25 of 100 question/answer pairs.\n",
      "Processing 26 of 100 question/answer pairs.\n",
      "Processing 27 of 100 question/answer pairs.\n",
      "Processing 28 of 100 question/answer pairs.\n",
      "Processing 29 of 100 question/answer pairs.\n",
      "Processing 30 of 100 question/answer pairs.\n",
      "Processing 31 of 100 question/answer pairs.\n",
      "Processing 32 of 100 question/answer pairs.\n",
      "Processing 33 of 100 question/answer pairs.\n",
      "Processing 34 of 100 question/answer pairs.\n",
      "Processing 35 of 100 question/answer pairs.\n",
      "Processing 36 of 100 question/answer pairs.\n",
      "Processing 37 of 100 question/answer pairs.\n",
      "Processing 38 of 100 question/answer pairs.\n",
      "Processing 39 of 100 question/answer pairs.\n",
      "Processing 40 of 100 question/answer pairs.\n",
      "Processing 41 of 100 question/answer pairs.\n",
      "Processing 42 of 100 question/answer pairs.\n",
      "Processing 43 of 100 question/answer pairs.\n",
      "Processing 44 of 100 question/answer pairs.\n",
      "Processing 45 of 100 question/answer pairs.\n",
      "Processing 46 of 100 question/answer pairs.\n",
      "Processing 47 of 100 question/answer pairs.\n",
      "Processing 48 of 100 question/answer pairs.\n",
      "Processing 49 of 100 question/answer pairs.\n",
      "Processing 50 of 100 question/answer pairs.\n",
      "Processing 51 of 100 question/answer pairs.\n",
      "Processing 52 of 100 question/answer pairs.\n",
      "Processing 53 of 100 question/answer pairs.\n",
      "Processing 54 of 100 question/answer pairs.\n",
      "Processing 55 of 100 question/answer pairs.\n",
      "Processing 56 of 100 question/answer pairs.\n",
      "Processing 57 of 100 question/answer pairs.\n",
      "Processing 58 of 100 question/answer pairs.\n",
      "Processing 59 of 100 question/answer pairs.\n",
      "Processing 60 of 100 question/answer pairs.\n",
      "Processing 61 of 100 question/answer pairs.\n",
      "Processing 62 of 100 question/answer pairs.\n",
      "Processing 63 of 100 question/answer pairs.\n",
      "Processing 64 of 100 question/answer pairs.\n",
      "Processing 65 of 100 question/answer pairs.\n",
      "Processing 66 of 100 question/answer pairs.\n",
      "Processing 67 of 100 question/answer pairs.\n",
      "Processing 68 of 100 question/answer pairs.\n",
      "Processing 69 of 100 question/answer pairs.\n",
      "Processing 70 of 100 question/answer pairs.\n",
      "Processing 71 of 100 question/answer pairs.\n",
      "Processing 72 of 100 question/answer pairs.\n",
      "Processing 73 of 100 question/answer pairs.\n",
      "Processing 74 of 100 question/answer pairs.\n",
      "Processing 75 of 100 question/answer pairs.\n",
      "Processing 76 of 100 question/answer pairs.\n",
      "Processing 77 of 100 question/answer pairs.\n",
      "Processing 78 of 100 question/answer pairs.\n",
      "Processing 79 of 100 question/answer pairs.\n",
      "Processing 80 of 100 question/answer pairs.\n",
      "Processing 81 of 100 question/answer pairs.\n",
      "Processing 82 of 100 question/answer pairs.\n",
      "Processing 83 of 100 question/answer pairs.\n",
      "Processing 84 of 100 question/answer pairs.\n",
      "Processing 85 of 100 question/answer pairs.\n",
      "Processing 86 of 100 question/answer pairs.\n",
      "Processing 87 of 100 question/answer pairs.\n",
      "Processing 88 of 100 question/answer pairs.\n",
      "Processing 89 of 100 question/answer pairs.\n",
      "Processing 90 of 100 question/answer pairs.\n",
      "Processing 91 of 100 question/answer pairs.\n",
      "Processing 92 of 100 question/answer pairs.\n",
      "Processing 93 of 100 question/answer pairs.\n",
      "Processing 94 of 100 question/answer pairs.\n",
      "Processing 95 of 100 question/answer pairs.\n",
      "Processing 96 of 100 question/answer pairs.\n",
      "Processing 97 of 100 question/answer pairs.\n",
      "Processing 98 of 100 question/answer pairs.\n",
      "Processing 99 of 100 question/answer pairs.\n",
      "Processing 100 of 100 question/answer pairs.\n"
     ]
    },
    {
     "data": {
      "text/html": [
       "<div>\n",
       "<style scoped>\n",
       "    .dataframe tbody tr th:only-of-type {\n",
       "        vertical-align: middle;\n",
       "    }\n",
       "\n",
       "    .dataframe tbody tr th {\n",
       "        vertical-align: top;\n",
       "    }\n",
       "\n",
       "    .dataframe thead th {\n",
       "        text-align: right;\n",
       "    }\n",
       "</style>\n",
       "<table border=\"1\" class=\"dataframe\">\n",
       "  <thead>\n",
       "    <tr style=\"text-align: right;\">\n",
       "      <th></th>\n",
       "      <th>id</th>\n",
       "      <th>page_content</th>\n",
       "      <th>type</th>\n",
       "      <th>metadata.source</th>\n",
       "      <th>metadata.similarity_score</th>\n",
       "      <th>question</th>\n",
       "    </tr>\n",
       "  </thead>\n",
       "  <tbody>\n",
       "    <tr>\n",
       "      <th>0</th>\n",
       "      <td>None</td>\n",
       "      <td>Both before and after the 1708 passage of the ...</td>\n",
       "      <td>Document</td>\n",
       "      <td>/data/contexts/context_204.context</td>\n",
       "      <td>0.383104</td>\n",
       "      <td>About how many Walloons and Huguenots emigrate...</td>\n",
       "    </tr>\n",
       "  </tbody>\n",
       "</table>\n",
       "</div>"
      ],
      "text/plain": [
       "     id                                       page_content      type  \\\n",
       "0  None  Both before and after the 1708 passage of the ...  Document   \n",
       "\n",
       "                      metadata.source  metadata.similarity_score  \\\n",
       "0  /data/contexts/context_204.context                   0.383104   \n",
       "\n",
       "                                            question  \n",
       "0  About how many Walloons and Huguenots emigrate...  "
      ]
     },
     "execution_count": 19,
     "metadata": {},
     "output_type": "execute_result"
    }
   ],
   "source": [
    "\n",
    "def convert(response) -> pd.DataFrame:\n",
    "    \"\"\"Converts retrieved JSON response to Pandas DataFrame\"\"\"\n",
    "    return pd.json_normalize(\n",
    "        data=response[\"response\"], record_path=\"context\", meta=[\"question\"]\n",
    "    )\n",
    "\n",
    "def api_endpoint(**kwargs) -> str:\n",
    "    \"\"\"Endpoint for context retrieval.\"\"\"\n",
    "    query_params = \"&\".join([f\"{key}={kwargs[key]}\" for key in kwargs])\n",
    "    return f\"http://{settings.API_ANSWER_ENDPOINT}/context_retrieval?{query_params}\"\n",
    "\n",
    "# Collect response:\n",
    "exp_df = generate_experiment_dataset(qa_set, convert, api_endpoint)\n",
    "\n",
    "# Store dataframe:\n",
    "exp_df.to_pickle( f\"{experiment_folder}/context_retrieval.pkl\" )\n",
    "exp_df[0:1]\n"
   ]
  },
  {
   "cell_type": "markdown",
   "metadata": {},
   "source": [
    "#### Get Similiarity Scores based on HYDE question"
   ]
  },
  {
   "cell_type": "code",
   "execution_count": 20,
   "metadata": {},
   "outputs": [
    {
     "name": "stdout",
     "output_type": "stream",
     "text": [
      "Processing 1 of 100 question/answer pairs.\n",
      "Processing 2 of 100 question/answer pairs.\n",
      "Processing 3 of 100 question/answer pairs.\n",
      "Processing 4 of 100 question/answer pairs.\n",
      "Processing 5 of 100 question/answer pairs.\n",
      "Processing 6 of 100 question/answer pairs.\n",
      "Processing 7 of 100 question/answer pairs.\n",
      "Processing 8 of 100 question/answer pairs.\n",
      "Processing 9 of 100 question/answer pairs.\n",
      "Processing 10 of 100 question/answer pairs.\n",
      "Processing 11 of 100 question/answer pairs.\n",
      "Processing 12 of 100 question/answer pairs.\n",
      "Processing 13 of 100 question/answer pairs.\n",
      "Processing 14 of 100 question/answer pairs.\n",
      "Processing 15 of 100 question/answer pairs.\n",
      "Processing 16 of 100 question/answer pairs.\n",
      "Processing 17 of 100 question/answer pairs.\n",
      "Processing 18 of 100 question/answer pairs.\n",
      "Processing 19 of 100 question/answer pairs.\n",
      "Processing 20 of 100 question/answer pairs.\n",
      "Processing 21 of 100 question/answer pairs.\n",
      "Processing 22 of 100 question/answer pairs.\n",
      "Processing 23 of 100 question/answer pairs.\n",
      "Processing 24 of 100 question/answer pairs.\n",
      "Processing 25 of 100 question/answer pairs.\n",
      "Processing 26 of 100 question/answer pairs.\n",
      "Processing 27 of 100 question/answer pairs.\n",
      "Processing 28 of 100 question/answer pairs.\n",
      "Processing 29 of 100 question/answer pairs.\n",
      "Processing 30 of 100 question/answer pairs.\n",
      "Processing 31 of 100 question/answer pairs.\n",
      "Processing 32 of 100 question/answer pairs.\n",
      "Error processing 32 of 100\n",
      "Expecting value: line 1 column 1 (char 0)\n",
      "Processing 33 of 100 question/answer pairs.\n",
      "Processing 34 of 100 question/answer pairs.\n",
      "Processing 35 of 100 question/answer pairs.\n",
      "Processing 36 of 100 question/answer pairs.\n",
      "Processing 37 of 100 question/answer pairs.\n",
      "Processing 38 of 100 question/answer pairs.\n",
      "Processing 39 of 100 question/answer pairs.\n",
      "Processing 40 of 100 question/answer pairs.\n",
      "Processing 41 of 100 question/answer pairs.\n",
      "Processing 42 of 100 question/answer pairs.\n",
      "Processing 43 of 100 question/answer pairs.\n",
      "Processing 44 of 100 question/answer pairs.\n",
      "Processing 45 of 100 question/answer pairs.\n",
      "Processing 46 of 100 question/answer pairs.\n",
      "Processing 47 of 100 question/answer pairs.\n",
      "Processing 48 of 100 question/answer pairs.\n",
      "Processing 49 of 100 question/answer pairs.\n",
      "Error processing 49 of 100\n",
      "Expecting value: line 1 column 1 (char 0)\n",
      "Processing 50 of 100 question/answer pairs.\n",
      "Error processing 50 of 100\n",
      "Expecting value: line 1 column 1 (char 0)\n",
      "Processing 51 of 100 question/answer pairs.\n",
      "Processing 52 of 100 question/answer pairs.\n",
      "Processing 53 of 100 question/answer pairs.\n",
      "Processing 54 of 100 question/answer pairs.\n",
      "Processing 55 of 100 question/answer pairs.\n",
      "Processing 56 of 100 question/answer pairs.\n",
      "Processing 57 of 100 question/answer pairs.\n",
      "Processing 58 of 100 question/answer pairs.\n",
      "Processing 59 of 100 question/answer pairs.\n",
      "Processing 60 of 100 question/answer pairs.\n",
      "Processing 61 of 100 question/answer pairs.\n",
      "Processing 62 of 100 question/answer pairs.\n",
      "Processing 63 of 100 question/answer pairs.\n",
      "Processing 64 of 100 question/answer pairs.\n",
      "Processing 65 of 100 question/answer pairs.\n",
      "Processing 66 of 100 question/answer pairs.\n",
      "Processing 67 of 100 question/answer pairs.\n",
      "Processing 68 of 100 question/answer pairs.\n",
      "Processing 69 of 100 question/answer pairs.\n",
      "Error processing 69 of 100\n",
      "Expecting value: line 1 column 1 (char 0)\n",
      "Processing 70 of 100 question/answer pairs.\n",
      "Processing 71 of 100 question/answer pairs.\n",
      "Processing 72 of 100 question/answer pairs.\n",
      "Processing 73 of 100 question/answer pairs.\n",
      "Processing 74 of 100 question/answer pairs.\n",
      "Processing 75 of 100 question/answer pairs.\n",
      "Processing 76 of 100 question/answer pairs.\n",
      "Processing 77 of 100 question/answer pairs.\n",
      "Processing 78 of 100 question/answer pairs.\n",
      "Processing 79 of 100 question/answer pairs.\n",
      "Processing 80 of 100 question/answer pairs.\n",
      "Processing 81 of 100 question/answer pairs.\n",
      "Processing 82 of 100 question/answer pairs.\n",
      "Processing 83 of 100 question/answer pairs.\n",
      "Processing 84 of 100 question/answer pairs.\n",
      "Processing 85 of 100 question/answer pairs.\n",
      "Processing 86 of 100 question/answer pairs.\n",
      "Processing 87 of 100 question/answer pairs.\n",
      "Error processing 87 of 100\n",
      "Expecting value: line 1 column 1 (char 0)\n",
      "Processing 88 of 100 question/answer pairs.\n",
      "Processing 89 of 100 question/answer pairs.\n",
      "Processing 90 of 100 question/answer pairs.\n",
      "Processing 91 of 100 question/answer pairs.\n",
      "Processing 92 of 100 question/answer pairs.\n",
      "Processing 93 of 100 question/answer pairs.\n",
      "Processing 94 of 100 question/answer pairs.\n",
      "Processing 95 of 100 question/answer pairs.\n",
      "Processing 96 of 100 question/answer pairs.\n",
      "Processing 97 of 100 question/answer pairs.\n",
      "Processing 98 of 100 question/answer pairs.\n",
      "Processing 99 of 100 question/answer pairs.\n",
      "Processing 100 of 100 question/answer pairs.\n"
     ]
    },
    {
     "data": {
      "text/html": [
       "<div>\n",
       "<style scoped>\n",
       "    .dataframe tbody tr th:only-of-type {\n",
       "        vertical-align: middle;\n",
       "    }\n",
       "\n",
       "    .dataframe tbody tr th {\n",
       "        vertical-align: top;\n",
       "    }\n",
       "\n",
       "    .dataframe thead th {\n",
       "        text-align: right;\n",
       "    }\n",
       "</style>\n",
       "<table border=\"1\" class=\"dataframe\">\n",
       "  <thead>\n",
       "    <tr style=\"text-align: right;\">\n",
       "      <th></th>\n",
       "      <th>id</th>\n",
       "      <th>page_content</th>\n",
       "      <th>type</th>\n",
       "      <th>metadata.source</th>\n",
       "      <th>metadata.similarity_score</th>\n",
       "      <th>original_question</th>\n",
       "      <th>question</th>\n",
       "    </tr>\n",
       "  </thead>\n",
       "  <tbody>\n",
       "    <tr>\n",
       "      <th>0</th>\n",
       "      <td>None</td>\n",
       "      <td>The bulk of Huguenot émigrés relocated to Prot...</td>\n",
       "      <td>Document</td>\n",
       "      <td>/data/contexts/context_207.context</td>\n",
       "      <td>0.282335</td>\n",
       "      <td>About how many Walloons and Huguenots emigrate...</td>\n",
       "      <td>**The Migration of Walloons and Huguenots to E...</td>\n",
       "    </tr>\n",
       "  </tbody>\n",
       "</table>\n",
       "</div>"
      ],
      "text/plain": [
       "     id                                       page_content      type  \\\n",
       "0  None  The bulk of Huguenot émigrés relocated to Prot...  Document   \n",
       "\n",
       "                      metadata.source  metadata.similarity_score  \\\n",
       "0  /data/contexts/context_207.context                   0.282335   \n",
       "\n",
       "                                   original_question  \\\n",
       "0  About how many Walloons and Huguenots emigrate...   \n",
       "\n",
       "                                            question  \n",
       "0  **The Migration of Walloons and Huguenots to E...  "
      ]
     },
     "execution_count": 20,
     "metadata": {},
     "output_type": "execute_result"
    }
   ],
   "source": [
    "def hyde_convert(response) -> pd.DataFrame:\n",
    "    \"\"\"Converts retrieved JSON response to Pandas DataFrame\"\"\"\n",
    "    return pd.json_normalize(\n",
    "        data=response[\"response\"],\n",
    "        record_path=\"context\",\n",
    "        meta=[\"original_question\", \"question\"],\n",
    "    )\n",
    "\n",
    "def hyde_api_endpoint(**kwargs) -> str:\n",
    "    \"\"\"Endpoint for context retrieval w/ hyde.\"\"\"\n",
    "    query_params = \"&\".join([f\"{key}={kwargs[key]}\" for key in kwargs])\n",
    "    return (\n",
    "        f\"http://{settings.API_ANSWER_ENDPOINT}/context_retrieval?h=True&{query_params}\"\n",
    "    )\n",
    "\n",
    "# Collect response:\n",
    "exp_df = generate_experiment_dataset(qa_set, hyde_convert, hyde_api_endpoint)\n",
    "\n",
    "# Store dataframe:\n",
    "exp_df.to_pickle( f\"{experiment_folder}/hyde_retrieval.pkl\" )\n",
    "exp_df[0:1]"
   ]
  },
  {
   "cell_type": "markdown",
   "metadata": {},
   "source": [
    "#### Load and merge Experiment Datasets for comparison"
   ]
  },
  {
   "cell_type": "code",
   "execution_count": 16,
   "metadata": {},
   "outputs": [],
   "source": [
    "# Load experiment results:\n",
    "context_retr_df = pd.read_pickle(f\"{experiment_folder}/context_retrieval.pkl\")\n",
    "hyde_retr_df = pd.read_pickle(f\"{experiment_folder}/hyde_retrieval.pkl\")"
   ]
  },
  {
   "cell_type": "code",
   "execution_count": 17,
   "metadata": {},
   "outputs": [
    {
     "data": {
      "text/html": [
       "<div>\n",
       "<style scoped>\n",
       "    .dataframe tbody tr th:only-of-type {\n",
       "        vertical-align: middle;\n",
       "    }\n",
       "\n",
       "    .dataframe tbody tr th {\n",
       "        vertical-align: top;\n",
       "    }\n",
       "\n",
       "    .dataframe thead th {\n",
       "        text-align: right;\n",
       "    }\n",
       "</style>\n",
       "<table border=\"1\" class=\"dataframe\">\n",
       "  <thead>\n",
       "    <tr style=\"text-align: right;\">\n",
       "      <th></th>\n",
       "      <th>id</th>\n",
       "      <th>page_content</th>\n",
       "      <th>type</th>\n",
       "      <th>metadata.source</th>\n",
       "      <th>metadata.similarity_score</th>\n",
       "      <th>question</th>\n",
       "      <th>q_index</th>\n",
       "      <th>q_rank</th>\n",
       "      <th>id_hyde</th>\n",
       "      <th>page_content_hyde</th>\n",
       "      <th>type_hyde</th>\n",
       "      <th>metadata.source_hyde</th>\n",
       "      <th>metadata.similarity_score_hyde</th>\n",
       "      <th>original_question</th>\n",
       "      <th>question_hyde</th>\n",
       "    </tr>\n",
       "  </thead>\n",
       "  <tbody>\n",
       "    <tr>\n",
       "      <th>0</th>\n",
       "      <td>None</td>\n",
       "      <td>Both before and after the 1708 passage of the ...</td>\n",
       "      <td>Document</td>\n",
       "      <td>/data/contexts/context_204.context</td>\n",
       "      <td>0.383104</td>\n",
       "      <td>About how many Walloons and Huguenots emigrate...</td>\n",
       "      <td>About how many Walloons and Huguenots emigrate...</td>\n",
       "      <td>1</td>\n",
       "      <td>None</td>\n",
       "      <td>The bulk of Huguenot émigrés relocated to Prot...</td>\n",
       "      <td>Document</td>\n",
       "      <td>/data/contexts/context_207.context</td>\n",
       "      <td>0.282335</td>\n",
       "      <td>About how many Walloons and Huguenots emigrate...</td>\n",
       "      <td>**The Migration of Walloons and Huguenots to E...</td>\n",
       "    </tr>\n",
       "    <tr>\n",
       "      <th>1</th>\n",
       "      <td>None</td>\n",
       "      <td>The bulk of Huguenot émigrés relocated to Prot...</td>\n",
       "      <td>Document</td>\n",
       "      <td>/data/contexts/context_207.context</td>\n",
       "      <td>0.429309</td>\n",
       "      <td>About how many Walloons and Huguenots emigrate...</td>\n",
       "      <td>About how many Walloons and Huguenots emigrate...</td>\n",
       "      <td>2</td>\n",
       "      <td>None</td>\n",
       "      <td>Both before and after the 1708 passage of the ...</td>\n",
       "      <td>Document</td>\n",
       "      <td>/data/contexts/context_204.context</td>\n",
       "      <td>0.303946</td>\n",
       "      <td>About how many Walloons and Huguenots emigrate...</td>\n",
       "      <td>**The Migration of Walloons and Huguenots to E...</td>\n",
       "    </tr>\n",
       "  </tbody>\n",
       "</table>\n",
       "</div>"
      ],
      "text/plain": [
       "     id                                       page_content      type  \\\n",
       "0  None  Both before and after the 1708 passage of the ...  Document   \n",
       "1  None  The bulk of Huguenot émigrés relocated to Prot...  Document   \n",
       "\n",
       "                      metadata.source  metadata.similarity_score  \\\n",
       "0  /data/contexts/context_204.context                   0.383104   \n",
       "1  /data/contexts/context_207.context                   0.429309   \n",
       "\n",
       "                                            question  \\\n",
       "0  About how many Walloons and Huguenots emigrate...   \n",
       "1  About how many Walloons and Huguenots emigrate...   \n",
       "\n",
       "                                             q_index  q_rank id_hyde  \\\n",
       "0  About how many Walloons and Huguenots emigrate...       1    None   \n",
       "1  About how many Walloons and Huguenots emigrate...       2    None   \n",
       "\n",
       "                                   page_content_hyde type_hyde  \\\n",
       "0  The bulk of Huguenot émigrés relocated to Prot...  Document   \n",
       "1  Both before and after the 1708 passage of the ...  Document   \n",
       "\n",
       "                 metadata.source_hyde  metadata.similarity_score_hyde  \\\n",
       "0  /data/contexts/context_207.context                        0.282335   \n",
       "1  /data/contexts/context_204.context                        0.303946   \n",
       "\n",
       "                                   original_question  \\\n",
       "0  About how many Walloons and Huguenots emigrate...   \n",
       "1  About how many Walloons and Huguenots emigrate...   \n",
       "\n",
       "                                       question_hyde  \n",
       "0  **The Migration of Walloons and Huguenots to E...  \n",
       "1  **The Migration of Walloons and Huguenots to E...  "
      ]
     },
     "execution_count": 17,
     "metadata": {},
     "output_type": "execute_result"
    }
   ],
   "source": [
    "# Concatenate datasets together for comparison:\n",
    "\n",
    "context_retr_df[\"q_index\"] = context_retr_df[\"question\"]\n",
    "context_retr_df[\"q_rank\"] = context_retr_df.groupby([\"q_index\"]).cumcount()+1\n",
    "context_retr_df.reset_index(drop=True)\n",
    "hyde_retr_df[\"q_index\"] = hyde_retr_df[\"original_question\"]\n",
    "hyde_retr_df[\"q_rank\"] = hyde_retr_df.groupby([\"q_index\"]).cumcount()+1\n",
    "hyde_retr_df.reset_index(drop=True)\n",
    "\n",
    "combined_df = pd.merge( context_retr_df,hyde_retr_df, on=[\"q_index\", \"q_rank\"], suffixes=[\"\", \"_hyde\"])\n",
    "combined_df[0:2]"
   ]
  },
  {
   "cell_type": "code",
   "execution_count": 19,
   "metadata": {},
   "outputs": [
    {
     "data": {
      "text/html": [
       "<div>\n",
       "<style scoped>\n",
       "    .dataframe tbody tr th:only-of-type {\n",
       "        vertical-align: middle;\n",
       "    }\n",
       "\n",
       "    .dataframe tbody tr th {\n",
       "        vertical-align: top;\n",
       "    }\n",
       "\n",
       "    .dataframe thead th {\n",
       "        text-align: right;\n",
       "    }\n",
       "</style>\n",
       "<table border=\"1\" class=\"dataframe\">\n",
       "  <thead>\n",
       "    <tr style=\"text-align: right;\">\n",
       "      <th></th>\n",
       "      <th>similarity_delta</th>\n",
       "      <th>same_context</th>\n",
       "    </tr>\n",
       "  </thead>\n",
       "  <tbody>\n",
       "    <tr>\n",
       "      <th>0</th>\n",
       "      <td>-0.100770</td>\n",
       "      <td>False</td>\n",
       "    </tr>\n",
       "    <tr>\n",
       "      <th>1</th>\n",
       "      <td>-0.125363</td>\n",
       "      <td>False</td>\n",
       "    </tr>\n",
       "    <tr>\n",
       "      <th>2</th>\n",
       "      <td>-0.145865</td>\n",
       "      <td>False</td>\n",
       "    </tr>\n",
       "    <tr>\n",
       "      <th>3</th>\n",
       "      <td>-0.119621</td>\n",
       "      <td>False</td>\n",
       "    </tr>\n",
       "    <tr>\n",
       "      <th>4</th>\n",
       "      <td>-0.156142</td>\n",
       "      <td>False</td>\n",
       "    </tr>\n",
       "  </tbody>\n",
       "</table>\n",
       "</div>"
      ],
      "text/plain": [
       "   similarity_delta  same_context\n",
       "0         -0.100770         False\n",
       "1         -0.125363         False\n",
       "2         -0.145865         False\n",
       "3         -0.119621         False\n",
       "4         -0.156142         False"
      ]
     },
     "execution_count": 19,
     "metadata": {},
     "output_type": "execute_result"
    }
   ],
   "source": [
    "# Compare if the hyde similarity is better than raw question (lower is better):\n",
    "combined_df[\"similarity_delta\"] = combined_df[\"metadata.similarity_score_hyde\"] - combined_df[\"metadata.similarity_score\"]\n",
    "\n",
    "# Compare if same context was selected (hypothesis that would be different):\n",
    "combined_df[\"same_context\"] = combined_df[\"metadata.source_hyde\"] == combined_df[\"metadata.source\"]\n",
    "combined_df[[\"similarity_delta\",\"same_context\"]][0:5]"
   ]
  },
  {
   "cell_type": "markdown",
   "metadata": {},
   "source": [
    "##### Number of contexts in same position\n"
   ]
  },
  {
   "cell_type": "code",
   "execution_count": 20,
   "metadata": {},
   "outputs": [
    {
     "data": {
      "text/plain": [
       "27.192982456140353"
      ]
     },
     "execution_count": 20,
     "metadata": {},
     "output_type": "execute_result"
    }
   ],
   "source": [
    "# Percent of same:\n",
    "len( combined_df[ combined_df[\"same_context\"] == True ] ) / len (combined_df) * 100"
   ]
  },
  {
   "cell_type": "markdown",
   "metadata": {},
   "source": [
    "##### Number of recos with higher similarity via HYDE"
   ]
  },
  {
   "cell_type": "code",
   "execution_count": 21,
   "metadata": {},
   "outputs": [
    {
     "data": {
      "text/plain": [
       "84.73684210526315"
      ]
     },
     "execution_count": 21,
     "metadata": {},
     "output_type": "execute_result"
    }
   ],
   "source": [
    "len ( combined_df[ combined_df[\"similarity_delta\"] < 0 ]) / len(combined_df) * 100"
   ]
  },
  {
   "cell_type": "code",
   "execution_count": 23,
   "metadata": {},
   "outputs": [
    {
     "data": {
      "text/plain": [
       "<Axes: >"
      ]
     },
     "execution_count": 23,
     "metadata": {},
     "output_type": "execute_result"
    },
    {
     "data": {
      "image/png": "[encoded data removed]",
      "text/plain": [
       "<Figure size 640x480 with 1 Axes>"
      ]
     },
     "metadata": {},
     "output_type": "display_data"
    }
   ],
   "source": [
    "combined_df.sort_values(by=[\"similarity_delta\"]).plot(kind=\"bar\", y=\"similarity_delta\")"
   ]
  },
  {
   "cell_type": "code",
   "execution_count": null,
   "metadata": {},
   "outputs": [],
   "source": []
  }
 ],
 "metadata": {
  "kernelspec": {
   "display_name": "deh_m",
   "language": "python",
   "name": "python3"
  },
  "language_info": {
   "codemirror_mode": {
    "name": "ipython",
    "version": 3
   },
   "file_extension": ".py",
   "mimetype": "text/x-python",
   "name": "python",
   "nbconvert_exporter": "python",
   "pygments_lexer": "ipython3",
   "version": "3.12.3"
  }
 },
 "nbformat": 4,
 "nbformat_minor": 2
}
