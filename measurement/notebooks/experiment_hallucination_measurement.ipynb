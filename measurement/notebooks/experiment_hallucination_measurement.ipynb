{
 "cells": [
  {
   "cell_type": "markdown",
   "metadata": {},
   "source": [
    "### Experiment:  Establish a Base-line Measurement of model hallucination"
   ]
  },
  {
   "cell_type": "markdown",
   "metadata": {},
   "source": [
    "**Background:**  There are several metrics which are indicative of hallucination.  \n",
    "Specifcically we will look at _Answer Faithfulness_ as it identifies deviations from provided context which would likely be hallucinated:\n",
    "\n",
    "* [Answer Faithfulness](https://docs.ragas.io/en/stable/concepts/metrics/faithfulness.html) - measures the factual consistency of generated answer vs. given context.\n",
    "\n",
    "Secondarily the following provide indications of total RAG system effectiveness at generating a correct answer:\n",
    "\n",
    "* [Answer Similarity](https://docs.ragas.io/en/stable/concepts/metrics/semantic_similarity.html) - (aka Answer Semantic Similarity) which is the simple cosine similarity of the generated and ground-truth answer.\n",
    "* [Answer Correctness](https://docs.ragas.io/en/stable/concepts/metrics/answer_correctness.html) - measures the accuracy of the generated answer when compared to the ground truth answer.\n",
    "\n",
    "**Test Approach:** A sample of questions will be selected from QA corpus.  Answers to questions will be generated via \"v0\" RAG implementation (excluding mitigation and advanced processing).  The above measures will be generated to establish a baseline of comparison for future experiments."
   ]
  },
  {
   "cell_type": "code",
   "execution_count": 1,
   "metadata": {},
   "outputs": [],
   "source": [
    "%load_ext autoreload\n",
    "%autoreload 2"
   ]
  },
  {
   "cell_type": "code",
   "execution_count": 32,
   "metadata": {},
   "outputs": [],
   "source": [
    "import os\n",
    "os.environ[\"http_proxy\"] = ''"
   ]
  },
  {
   "cell_type": "code",
   "execution_count": 33,
   "metadata": {},
   "outputs": [],
   "source": [
    "# Common import\n",
    "from deh.assessment import QASetRetriever\n",
    "from deh import settings\n",
    "from deh.eval import generate_experiment_dataset\n",
    "\n",
    "import pandas as pd\n",
    "import json\n",
    "import os\n",
    "from pathlib import Path"
   ]
  },
  {
   "cell_type": "markdown",
   "metadata": {},
   "source": [
    "#### Test Configuration"
   ]
  },
  {
   "cell_type": "code",
   "execution_count": 34,
   "metadata": {},
   "outputs": [],
   "source": [
    "num_samples:int = 100\n",
    "experiment_folder:str = \"../../data/evaluation/baseline-v0/\"\n",
    "qa_data_set_file:str = \"../../data/qas/squad_qas.tsv\"\n",
    "\n",
    "# Create experiment folder:\n",
    "if not os.path.exists(experiment_folder):\n",
    "    Path(experiment_folder).mkdir(parents=True, exist_ok=True)"
   ]
  },
  {
   "cell_type": "markdown",
   "metadata": {},
   "source": [
    "#### Sample QA dataset"
   ]
  },
  {
   "cell_type": "code",
   "execution_count": 35,
   "metadata": {},
   "outputs": [
    {
     "name": "stdout",
     "output_type": "stream",
     "text": [
      "100 questions sampled from QA corpus (../../data/qas/squad_qas.tsv)\n"
     ]
    }
   ],
   "source": [
    "qa_set = QASetRetriever.get_qasets(\n",
    "    file_path = qa_data_set_file,\n",
    "    sample_size= num_samples\n",
    ")\n",
    "\n",
    "print(f\"{len(qa_set)} questions sampled from QA corpus ({qa_data_set_file})\")"
   ]
  },
  {
   "cell_type": "code",
   "execution_count": 36,
   "metadata": {},
   "outputs": [
    {
     "name": "stdout",
     "output_type": "stream",
     "text": [
      "Processing 1 of 100 question/answer pairs.\n",
      "Processing 2 of 100 question/answer pairs.\n",
      "Processing 3 of 100 question/answer pairs.\n",
      "Processing 4 of 100 question/answer pairs.\n",
      "Processing 5 of 100 question/answer pairs.\n",
      "Processing 6 of 100 question/answer pairs.\n",
      "Processing 7 of 100 question/answer pairs.\n",
      "Processing 8 of 100 question/answer pairs.\n",
      "Processing 9 of 100 question/answer pairs.\n",
      "Processing 10 of 100 question/answer pairs.\n",
      "Processing 11 of 100 question/answer pairs.\n",
      "Processing 12 of 100 question/answer pairs.\n",
      "Processing 13 of 100 question/answer pairs.\n",
      "Processing 14 of 100 question/answer pairs.\n",
      "Processing 15 of 100 question/answer pairs.\n",
      "Processing 16 of 100 question/answer pairs.\n",
      "Processing 17 of 100 question/answer pairs.\n",
      "Processing 18 of 100 question/answer pairs.\n",
      "Processing 19 of 100 question/answer pairs.\n",
      "Processing 20 of 100 question/answer pairs.\n",
      "Processing 21 of 100 question/answer pairs.\n",
      "Processing 22 of 100 question/answer pairs.\n",
      "Processing 23 of 100 question/answer pairs.\n",
      "Processing 24 of 100 question/answer pairs.\n",
      "Processing 25 of 100 question/answer pairs.\n",
      "Processing 26 of 100 question/answer pairs.\n",
      "Processing 27 of 100 question/answer pairs.\n",
      "Processing 28 of 100 question/answer pairs.\n",
      "Processing 29 of 100 question/answer pairs.\n",
      "Processing 30 of 100 question/answer pairs.\n",
      "Processing 31 of 100 question/answer pairs.\n",
      "Processing 32 of 100 question/answer pairs.\n",
      "Processing 33 of 100 question/answer pairs.\n",
      "Processing 34 of 100 question/answer pairs.\n",
      "Processing 35 of 100 question/answer pairs.\n",
      "Processing 36 of 100 question/answer pairs.\n",
      "Processing 37 of 100 question/answer pairs.\n",
      "Processing 38 of 100 question/answer pairs.\n",
      "Processing 39 of 100 question/answer pairs.\n",
      "Processing 40 of 100 question/answer pairs.\n",
      "Processing 41 of 100 question/answer pairs.\n",
      "Processing 42 of 100 question/answer pairs.\n",
      "Processing 43 of 100 question/answer pairs.\n",
      "Processing 44 of 100 question/answer pairs.\n",
      "Processing 45 of 100 question/answer pairs.\n",
      "Processing 46 of 100 question/answer pairs.\n",
      "Processing 47 of 100 question/answer pairs.\n",
      "Processing 48 of 100 question/answer pairs.\n",
      "Processing 49 of 100 question/answer pairs.\n",
      "Processing 50 of 100 question/answer pairs.\n",
      "Processing 51 of 100 question/answer pairs.\n",
      "Processing 52 of 100 question/answer pairs.\n",
      "Processing 53 of 100 question/answer pairs.\n",
      "Processing 54 of 100 question/answer pairs.\n",
      "Processing 55 of 100 question/answer pairs.\n",
      "Processing 56 of 100 question/answer pairs.\n",
      "Processing 57 of 100 question/answer pairs.\n",
      "Processing 58 of 100 question/answer pairs.\n",
      "Processing 59 of 100 question/answer pairs.\n",
      "Processing 60 of 100 question/answer pairs.\n",
      "Processing 61 of 100 question/answer pairs.\n",
      "Processing 62 of 100 question/answer pairs.\n",
      "Processing 63 of 100 question/answer pairs.\n",
      "Processing 64 of 100 question/answer pairs.\n",
      "Processing 65 of 100 question/answer pairs.\n",
      "Processing 66 of 100 question/answer pairs.\n",
      "Processing 67 of 100 question/answer pairs.\n",
      "Processing 68 of 100 question/answer pairs.\n",
      "Processing 69 of 100 question/answer pairs.\n",
      "Processing 70 of 100 question/answer pairs.\n",
      "Processing 71 of 100 question/answer pairs.\n",
      "Processing 72 of 100 question/answer pairs.\n",
      "Processing 73 of 100 question/answer pairs.\n",
      "Processing 74 of 100 question/answer pairs.\n",
      "Processing 75 of 100 question/answer pairs.\n",
      "Processing 76 of 100 question/answer pairs.\n",
      "Processing 77 of 100 question/answer pairs.\n",
      "Processing 78 of 100 question/answer pairs.\n",
      "Processing 79 of 100 question/answer pairs.\n",
      "Processing 80 of 100 question/answer pairs.\n",
      "Processing 81 of 100 question/answer pairs.\n",
      "Processing 82 of 100 question/answer pairs.\n",
      "Processing 83 of 100 question/answer pairs.\n",
      "Processing 84 of 100 question/answer pairs.\n",
      "Processing 85 of 100 question/answer pairs.\n",
      "Processing 86 of 100 question/answer pairs.\n",
      "Processing 87 of 100 question/answer pairs.\n",
      "Processing 88 of 100 question/answer pairs.\n",
      "Processing 89 of 100 question/answer pairs.\n",
      "Processing 90 of 100 question/answer pairs.\n",
      "Processing 91 of 100 question/answer pairs.\n",
      "Processing 92 of 100 question/answer pairs.\n",
      "Processing 93 of 100 question/answer pairs.\n",
      "Processing 94 of 100 question/answer pairs.\n",
      "Processing 95 of 100 question/answer pairs.\n",
      "Processing 96 of 100 question/answer pairs.\n",
      "Processing 97 of 100 question/answer pairs.\n",
      "Processing 98 of 100 question/answer pairs.\n",
      "Processing 99 of 100 question/answer pairs.\n",
      "Processing 100 of 100 question/answer pairs.\n"
     ]
    },
    {
     "data": {
      "text/html": [
       "<div>\n",
       "<style scoped>\n",
       "    .dataframe tbody tr th:only-of-type {\n",
       "        vertical-align: middle;\n",
       "    }\n",
       "\n",
       "    .dataframe tbody tr th {\n",
       "        vertical-align: top;\n",
       "    }\n",
       "\n",
       "    .dataframe thead th {\n",
       "        text-align: right;\n",
       "    }\n",
       "</style>\n",
       "<table border=\"1\" class=\"dataframe\">\n",
       "  <thead>\n",
       "    <tr style=\"text-align: right;\">\n",
       "      <th></th>\n",
       "      <th>id</th>\n",
       "      <th>page_content</th>\n",
       "      <th>type</th>\n",
       "      <th>metadata.source</th>\n",
       "      <th>metadata.similarity_score</th>\n",
       "      <th>answer</th>\n",
       "      <th>question</th>\n",
       "      <th>hyde</th>\n",
       "      <th>evaluation.grade</th>\n",
       "      <th>reference.ground_truth</th>\n",
       "      <th>reference.is_impossible</th>\n",
       "      <th>json</th>\n",
       "      <th>reference_id</th>\n",
       "    </tr>\n",
       "  </thead>\n",
       "  <tbody>\n",
       "    <tr>\n",
       "      <th>0</th>\n",
       "      <td>None</td>\n",
       "      <td>The flora of the city may be considered very r...</td>\n",
       "      <td>Document</td>\n",
       "      <td>/data/contexts/context_1089.context</td>\n",
       "      <td>0.250279</td>\n",
       "      <td>Warsaw's flora is very rich in species due to ...</td>\n",
       "      <td>Why is Warsaw's flora very rich in species?</td>\n",
       "      <td>False</td>\n",
       "      <td></td>\n",
       "      <td>location</td>\n",
       "      <td>False</td>\n",
       "      <td>{\"response\": {\"question\": \"Why is Warsaw's flo...</td>\n",
       "      <td>1</td>\n",
       "    </tr>\n",
       "  </tbody>\n",
       "</table>\n",
       "</div>"
      ],
      "text/plain": [
       "     id                                       page_content      type  \\\n",
       "0  None  The flora of the city may be considered very r...  Document   \n",
       "\n",
       "                       metadata.source  metadata.similarity_score  \\\n",
       "0  /data/contexts/context_1089.context                   0.250279   \n",
       "\n",
       "                                              answer  \\\n",
       "0  Warsaw's flora is very rich in species due to ...   \n",
       "\n",
       "                                      question   hyde evaluation.grade  \\\n",
       "0  Why is Warsaw's flora very rich in species?  False                    \n",
       "\n",
       "  reference.ground_truth  reference.is_impossible  \\\n",
       "0               location                    False   \n",
       "\n",
       "                                                json  reference_id  \n",
       "0  {\"response\": {\"question\": \"Why is Warsaw's flo...             1  "
      ]
     },
     "execution_count": 36,
     "metadata": {},
     "output_type": "execute_result"
    }
   ],
   "source": [
    "def api_endpoint(**kwargs) -> str:\n",
    "    \"\"\"Endpoint for context retrieval.\"\"\"\n",
    "    hyde= False\n",
    "    evaluation = False\n",
    "    \n",
    "    query_params = \"&\".join([f\"{key}={kwargs[key]}\" for key in kwargs])\n",
    "    return f\"http://{settings.API_ANSWER_ENDPOINT}/answer?h={hyde}&e={evaluation}&{query_params}\"\n",
    "\n",
    "def convert(response) -> pd.DataFrame:\n",
    "    \"\"\"Converts retrieved JSON response to Pandas DataFrame\"\"\"\n",
    "    response_df = pd.json_normalize(\n",
    "        data=response[\"response\"], record_path=\"context\", meta=[\"answer\",\"question\", \"hyde\", [\"evaluation\", \"grade\"]]\n",
    "    )\n",
    "\n",
    "    # Add reference/evaluation values:\n",
    "    response_df[\"reference.ground_truth\"] = response[\"reference\"][\"ground_truth\"]\n",
    "    response_df[\"reference.is_impossible\"] = response[\"reference\"][\"is_impossible\"]\n",
    "\n",
    "    # Add full JSON response incase needed:\n",
    "    response_df[\"json\"] = json.dumps(response)\n",
    "    return response_df\n",
    "\n",
    "exp_df = generate_experiment_dataset(qa_set, convert, api_endpoint)\n",
    "\n",
    "# Store the generated response:\n",
    "exp_df.to_pickle( f\"{experiment_folder}/baseline-response-v0.pkl\" )\n",
    "exp_df[0:1]\n"
   ]
  },
  {
   "cell_type": "markdown",
   "metadata": {},
   "source": [
    "#### Generate Measures for Response"
   ]
  },
  {
   "cell_type": "markdown",
   "metadata": {},
   "source": [
    "##### Evaluation Model Configuration"
   ]
  },
  {
   "cell_type": "code",
   "execution_count": 46,
   "metadata": {},
   "outputs": [],
   "source": [
    "from langchain_community.embeddings import OllamaEmbeddings\n",
    "from langchain_community.llms import Ollama\n",
    "from langchain_openai import ChatOpenAI, OpenAIEmbeddings\n",
    "\n",
    "# Either local (Ollama) or remote (OpenAI) evaluation models can be used:\n",
    "\n",
    "embedding = OllamaEmbeddings(\n",
    "    base_url=settings.OLLAMA_URL,\n",
    "    model=settings.ASSESSMENT_EMBEDDING_MODEL,\n",
    ")\n",
    "\n",
    "llm = Ollama(\n",
    "    base_url=settings.OLLAMA_URL,\n",
    "    model=settings.ASSESSMENT_LLM_MODEL,\n",
    ")\n",
    "\n",
    "openai_llm = ChatOpenAI(model=\"gpt-4o-mini\")\n",
    "openai_embedding = OpenAIEmbeddings()"
   ]
  },
  {
   "cell_type": "markdown",
   "metadata": {},
   "source": [
    "##### Evaluation Responses"
   ]
  },
  {
   "cell_type": "code",
   "execution_count": 48,
   "metadata": {},
   "outputs": [],
   "source": [
    "from datasets import Dataset\n",
    "from ragas import evaluate\n",
    "import ragas.metrics as metrics\n",
    "from ragas.run_config import RunConfig"
   ]
  },
  {
   "cell_type": "code",
   "execution_count": 43,
   "metadata": {},
   "outputs": [
    {
     "data": {
      "text/html": [
       "<div>\n",
       "<style scoped>\n",
       "    .dataframe tbody tr th:only-of-type {\n",
       "        vertical-align: middle;\n",
       "    }\n",
       "\n",
       "    .dataframe tbody tr th {\n",
       "        vertical-align: top;\n",
       "    }\n",
       "\n",
       "    .dataframe thead th {\n",
       "        text-align: right;\n",
       "    }\n",
       "</style>\n",
       "<table border=\"1\" class=\"dataframe\">\n",
       "  <thead>\n",
       "    <tr style=\"text-align: right;\">\n",
       "      <th></th>\n",
       "      <th>retrieved_contexts</th>\n",
       "      <th>question</th>\n",
       "      <th>ground_truth</th>\n",
       "      <th>answer</th>\n",
       "    </tr>\n",
       "    <tr>\n",
       "      <th>reference_id</th>\n",
       "      <th></th>\n",
       "      <th></th>\n",
       "      <th></th>\n",
       "      <th></th>\n",
       "    </tr>\n",
       "  </thead>\n",
       "  <tbody>\n",
       "    <tr>\n",
       "      <th>1</th>\n",
       "      <td>[The flora of the city may be considered very ...</td>\n",
       "      <td>Why is Warsaw's flora very rich in species?</td>\n",
       "      <td>location</td>\n",
       "      <td>Warsaw's flora is very rich in species due to ...</td>\n",
       "    </tr>\n",
       "  </tbody>\n",
       "</table>\n",
       "</div>"
      ],
      "text/plain": [
       "                                             retrieved_contexts  \\\n",
       "reference_id                                                      \n",
       "1             [The flora of the city may be considered very ...   \n",
       "\n",
       "                                                 question ground_truth  \\\n",
       "reference_id                                                             \n",
       "1             Why is Warsaw's flora very rich in species?     location   \n",
       "\n",
       "                                                         answer  \n",
       "reference_id                                                     \n",
       "1             Warsaw's flora is very rich in species due to ...  "
      ]
     },
     "execution_count": 43,
     "metadata": {},
     "output_type": "execute_result"
    }
   ],
   "source": [
    "# Convert to Dataset\n",
    "responses_df = pd.read_pickle(f\"{experiment_folder}/baseline-response-v0.pkl\")\n",
    "\n",
    "responses_df = responses_df.groupby(\"reference_id\").agg(\n",
    "    retrieved_contexts = ('page_content', lambda x: list(x)),\n",
    "    question = ('question','first'),\n",
    "    ground_truth = ('reference.ground_truth', 'first'),\n",
    "    answer = ('answer', 'first')\n",
    "    )\n",
    "\n",
    "responses_df[0:1]\n"
   ]
  },
  {
   "cell_type": "code",
   "execution_count": 49,
   "metadata": {},
   "outputs": [
    {
     "name": "stderr",
     "output_type": "stream",
     "text": [
      "Evaluating: 100%|██████████| 300/300 [08:50<00:00,  1.77s/it]\n"
     ]
    }
   ],
   "source": [
    "\n",
    "responses_ds = Dataset.from_pandas( responses_df)\n",
    "\n",
    "evaluation_ds = evaluate(\n",
    "    dataset = responses_ds,\n",
    "    metrics = [metrics.answer_similarity, metrics.faithfulness, metrics.answer_correctness],\n",
    "    embeddings = openai_embedding,\n",
    "    llm = openai_llm,\n",
    "    run_config=RunConfig(\n",
    "        max_workers=5\n",
    "    ),\n",
    "    raise_exceptions=False\n",
    ")\n"
   ]
  },
  {
   "cell_type": "code",
   "execution_count": 52,
   "metadata": {},
   "outputs": [
    {
     "data": {
      "text/html": [
       "<div>\n",
       "<style scoped>\n",
       "    .dataframe tbody tr th:only-of-type {\n",
       "        vertical-align: middle;\n",
       "    }\n",
       "\n",
       "    .dataframe tbody tr th {\n",
       "        vertical-align: top;\n",
       "    }\n",
       "\n",
       "    .dataframe thead th {\n",
       "        text-align: right;\n",
       "    }\n",
       "</style>\n",
       "<table border=\"1\" class=\"dataframe\">\n",
       "  <thead>\n",
       "    <tr style=\"text-align: right;\">\n",
       "      <th></th>\n",
       "      <th>question</th>\n",
       "      <th>contexts</th>\n",
       "      <th>answer</th>\n",
       "      <th>ground_truth</th>\n",
       "      <th>answer_similarity</th>\n",
       "      <th>faithfulness</th>\n",
       "      <th>answer_correctness</th>\n",
       "      <th>evaluation.llm_model</th>\n",
       "      <th>evaluation.embedding_model</th>\n",
       "    </tr>\n",
       "  </thead>\n",
       "  <tbody>\n",
       "    <tr>\n",
       "      <th>0</th>\n",
       "      <td>Why is Warsaw's flora very rich in species?</td>\n",
       "      <td>[The flora of the city may be considered very ...</td>\n",
       "      <td>Warsaw's flora is very rich in species due to ...</td>\n",
       "      <td>location</td>\n",
       "      <td>0.737363</td>\n",
       "      <td>1.0</td>\n",
       "      <td>0.593432</td>\n",
       "      <td>openai.gpt-4o-mini</td>\n",
       "      <td>openai.Text-embedding-ada-002-v2</td>\n",
       "    </tr>\n",
       "    <tr>\n",
       "      <th>1</th>\n",
       "      <td>Going to jail accomplished what goal of civil ...</td>\n",
       "      <td>[Some civil disobedients feel it is incumbent ...</td>\n",
       "      <td>Going to jail as a form of civil disobedience ...</td>\n",
       "      <td>reminding their countrymen of injustice</td>\n",
       "      <td>0.801872</td>\n",
       "      <td>1.0</td>\n",
       "      <td>0.414749</td>\n",
       "      <td>openai.gpt-4o-mini</td>\n",
       "      <td>openai.Text-embedding-ada-002-v2</td>\n",
       "    </tr>\n",
       "  </tbody>\n",
       "</table>\n",
       "</div>"
      ],
      "text/plain": [
       "                                            question  \\\n",
       "0        Why is Warsaw's flora very rich in species?   \n",
       "1  Going to jail accomplished what goal of civil ...   \n",
       "\n",
       "                                            contexts  \\\n",
       "0  [The flora of the city may be considered very ...   \n",
       "1  [Some civil disobedients feel it is incumbent ...   \n",
       "\n",
       "                                              answer  \\\n",
       "0  Warsaw's flora is very rich in species due to ...   \n",
       "1  Going to jail as a form of civil disobedience ...   \n",
       "\n",
       "                              ground_truth  answer_similarity  faithfulness  \\\n",
       "0                                 location           0.737363           1.0   \n",
       "1  reminding their countrymen of injustice           0.801872           1.0   \n",
       "\n",
       "   answer_correctness evaluation.llm_model        evaluation.embedding_model  \n",
       "0            0.593432   openai.gpt-4o-mini  openai.Text-embedding-ada-002-v2  \n",
       "1            0.414749   openai.gpt-4o-mini  openai.Text-embedding-ada-002-v2  "
      ]
     },
     "execution_count": 52,
     "metadata": {},
     "output_type": "execute_result"
    }
   ],
   "source": [
    "eval_df = evaluation_ds.to_pandas()\n",
    "\n",
    "# Evaluation metadata\n",
    "eval_df[\"evaluation.llm_model\"] = \"openai.gpt-4o-mini\"\n",
    "eval_df[\"evaluation.embedding_model\"] = \"openai.Text-embedding-ada-002-v2\"\n",
    "\n",
    "eval_df[0:2]"
   ]
  },
  {
   "cell_type": "code",
   "execution_count": 53,
   "metadata": {},
   "outputs": [],
   "source": [
    "eval_df.to_pickle( f\"{experiment_folder}/baseline-evaluation-openai-results-v0.pkl\" )"
   ]
  },
  {
   "cell_type": "markdown",
   "metadata": {},
   "source": [
    "##### Comparison vs. HHEM and Local Embedding (Work in Progress)"
   ]
  },
  {
   "cell_type": "code",
   "execution_count": null,
   "metadata": {},
   "outputs": [],
   "source": [
    "#### Evaluation with HHEM\n",
    "# https://docs.ragas.io/en/stable/concepts/metrics/faithfulness.html\n",
    "from ragas.metrics import FaithulnesswithHHEM\n",
    "\n",
    "# pip install transformers, torch\n",
    "\n",
    "subset_responses_df = responses_df[0:50]\n",
    "\n",
    "faithfulness_with_hhem = FaithulnesswithHHEM()\n",
    "\n",
    "evaluation_hhem_ds = evaluate(\n",
    "    dataset = subset_responses_df,\n",
    "    metrics = [faithfulness_with_hhem],\n",
    "    embeddings = embedding,\n",
    "    llm = openai_llm,\n",
    "    run_config=RunConfig(\n",
    "        max_workers=5\n",
    "    ),\n",
    "    raise_exceptions=False\n",
    ")"
   ]
  },
  {
   "cell_type": "markdown",
   "metadata": {},
   "source": [
    "#### Faithful vs. Non-Faithful Responses"
   ]
  },
  {
   "cell_type": "code",
   "execution_count": 78,
   "metadata": {},
   "outputs": [
    {
     "name": "stdout",
     "output_type": "stream",
     "text": [
      "% of responses indicated as faithful: 65.0%\n"
     ]
    }
   ],
   "source": [
    "faithfulness_threshold = 0.75 #75% of claims are considered supported by context.\n",
    "ttl = len ( eval_df )\n",
    "faithful = len( eval_df[ eval_df[\"faithfulness\"] >= faithfulness_threshold ] )\n",
    "\n",
    "print (f\"% of responses indicated as faithful: {faithful/ttl*100}%\")"
   ]
  },
  {
   "cell_type": "markdown",
   "metadata": {},
   "source": [
    "#### Metric Trending Comparison"
   ]
  },
  {
   "cell_type": "code",
   "execution_count": 94,
   "metadata": {},
   "outputs": [
    {
     "name": "stdout",
     "output_type": "stream",
     "text": [
      "True\n"
     ]
    },
    {
     "data": {
      "image/png": "[encoded data removed]",
      "text/plain": [
       "<Figure size 640x480 with 1 Axes>"
      ]
     },
     "metadata": {},
     "output_type": "display_data"
    }
   ],
   "source": [
    "eval_df['x']=eval_df.index\n",
    "ax1 = eval_df.plot(kind='scatter', x=\"x\", y=\"faithfulness\", color='r')\n",
    "ax2 = eval_df.plot(kind='scatter', x=\"x\", y=\"answer_similarity\", color='g', ax=ax1)\n",
    "ax3 = eval_df.plot(kind='scatter', x=\"x\", y=\"answer_correctness\", color='b', ax=ax1)\n",
    "\n",
    "\n",
    "print(ax1==ax2==ax3)"
   ]
  }
 ],
 "metadata": {
  "kernelspec": {
   "display_name": "deh_measure",
   "language": "python",
   "name": "python3"
  },
  "language_info": {
   "codemirror_mode": {
    "name": "ipython",
    "version": 3
   },
   "file_extension": ".py",
   "mimetype": "text/x-python",
   "name": "python",
   "nbconvert_exporter": "python",
   "pygments_lexer": "ipython3",
   "version": "3.10.15"
  }
 },
 "nbformat": 4,
 "nbformat_minor": 2
}
