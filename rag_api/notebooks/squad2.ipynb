{
 "cells": [
  {
   "cell_type": "markdown",
   "metadata": {},
   "source": [
    "#\n",
    "# Load squad2.0 train .json onto df\n",
    "#"
   ]
  },
  {
   "cell_type": "code",
   "execution_count": 1,
   "metadata": {
    "id": "7bGlwDfSLct3"
   },
   "outputs": [],
   "source": [
    "import json, requests\n",
    "import pandas as pd\n",
    "from tqdm import tqdm"
   ]
  },
  {
   "cell_type": "code",
   "execution_count": 2,
   "metadata": {
    "id": "H7EDzBMfLc8k"
   },
   "outputs": [],
   "source": [
    "# Load the SQuAD 2.0 JSON file\n",
    "# URL of the SQuAD 2.0 dataset\n",
    "url = 'https://rajpurkar.github.io/SQuAD-explorer/dataset/train-v2.0.json'\n",
    "\n",
    "# Fetch the content from the URL\n",
    "response = requests.get(url)\n",
    "\n",
    "# Check if the request was successful (status code 200)\n",
    "if response.status_code == 200:\n",
    "    # Load the JSON content into a dictionary\n",
    "    squad_data = response.json()"
   ]
  },
  {
   "cell_type": "code",
   "execution_count": 3,
   "metadata": {
    "colab": {
     "base_uri": "https://localhost:8080/"
    },
    "id": "A3f38k5IK--L",
    "outputId": "8e2e406d-05d7-4704-f00b-8ba2694fdaf0"
   },
   "outputs": [
    {
     "name": "stderr",
     "output_type": "stream",
     "text": [
      "Processing Articles: 100%|██████████| 442/442 [00:00<00:00, 4719.12it/s]"
     ]
    },
    {
     "name": "stdout",
     "output_type": "stream",
     "text": [
      "                            title  \\\n",
      "id                                  \n",
      "56be85543aeaaa14008c9063  Beyoncé   \n",
      "56be85543aeaaa14008c9065  Beyoncé   \n",
      "56be85543aeaaa14008c9066  Beyoncé   \n",
      "56bf6b0f3aeaaa14008c9601  Beyoncé   \n",
      "56bf6b0f3aeaaa14008c9602  Beyoncé   \n",
      "\n",
      "                                                                    context  \\\n",
      "id                                                                            \n",
      "56be85543aeaaa14008c9063  Beyoncé Giselle Knowles-Carter (/biːˈjɒnseɪ/ b...   \n",
      "56be85543aeaaa14008c9065  Beyoncé Giselle Knowles-Carter (/biːˈjɒnseɪ/ b...   \n",
      "56be85543aeaaa14008c9066  Beyoncé Giselle Knowles-Carter (/biːˈjɒnseɪ/ b...   \n",
      "56bf6b0f3aeaaa14008c9601  Beyoncé Giselle Knowles-Carter (/biːˈjɒnseɪ/ b...   \n",
      "56bf6b0f3aeaaa14008c9602  Beyoncé Giselle Knowles-Carter (/biːˈjɒnseɪ/ b...   \n",
      "\n",
      "                                                                   question  \\\n",
      "id                                                                            \n",
      "56be85543aeaaa14008c9063           When did Beyonce start becoming popular?   \n",
      "56be85543aeaaa14008c9065  What areas did Beyonce compete in when she was...   \n",
      "56be85543aeaaa14008c9066  When did Beyonce leave Destiny's Child and bec...   \n",
      "56bf6b0f3aeaaa14008c9601      In what city and state did Beyonce  grow up?    \n",
      "56bf6b0f3aeaaa14008c9602         In which decade did Beyonce become famous?   \n",
      "\n",
      "                          is_impossible          answer_text  answer_start  \n",
      "id                                                                          \n",
      "56be85543aeaaa14008c9063          False    in the late 1990s         269.0  \n",
      "56be85543aeaaa14008c9065          False  singing and dancing         207.0  \n",
      "56be85543aeaaa14008c9066          False                 2003         526.0  \n",
      "56bf6b0f3aeaaa14008c9601          False       Houston, Texas         166.0  \n",
      "56bf6b0f3aeaaa14008c9602          False           late 1990s         276.0  \n"
     ]
    },
    {
     "name": "stderr",
     "output_type": "stream",
     "text": [
      "\n"
     ]
    }
   ],
   "source": [
    "# Initialize lists to hold flattened data\n",
    "data_list = []\n",
    "\n",
    "# Use tqdm to add a progress bar to the outer loop\n",
    "for article in tqdm(squad_data['data'], desc='Processing Articles'):\n",
    "    title = article['title']\n",
    "    for paragraph in article['paragraphs']:\n",
    "        context = paragraph['context']\n",
    "        for qa in paragraph['qas']:\n",
    "            question = qa['question']\n",
    "            qid = qa['id']\n",
    "            is_impossible = qa.get('is_impossible', False)\n",
    "            answers = qa.get('answers', [])\n",
    "            if not is_impossible:\n",
    "                for answer in answers:\n",
    "                    answer_text = answer['text']\n",
    "                    answer_start = answer['answer_start']\n",
    "                    data_list.append({\n",
    "                        'title': title,\n",
    "                        'context': context,\n",
    "                        'question': question,\n",
    "                        'id': qid,\n",
    "                        'is_impossible': is_impossible,\n",
    "                        'answer_text': answer_text,\n",
    "                        'answer_start': answer_start\n",
    "                    })\n",
    "            else:\n",
    "                # For unanswerable questions, append with empty answer fields\n",
    "                data_list.append({\n",
    "                    'title': title,\n",
    "                    'context': context,\n",
    "                    'question': question,\n",
    "                    'id': qid,\n",
    "                    'is_impossible': is_impossible,\n",
    "                    'answer_text': None,\n",
    "                    'answer_start': None\n",
    "                })\n",
    "\n",
    "# Convert list of records to a DataFrame\n",
    "df = pd.DataFrame(data_list)\n",
    "df.set_index(\"id\", inplace=True)\n",
    "\n",
    "# Display the DataFrame\n",
    "print(df.head())"
   ]
  },
  {
   "cell_type": "code",
   "execution_count": 4,
   "metadata": {
    "colab": {
     "base_uri": "https://localhost:8080/",
     "height": 674
    },
    "id": "HPgJwJPRMQOn",
    "outputId": "60345f37-7a8a-4e49-94af-397f3501e61c"
   },
   "outputs": [
    {
     "data": {
      "text/html": [
       "<div>\n",
       "<style scoped>\n",
       "    .dataframe tbody tr th:only-of-type {\n",
       "        vertical-align: middle;\n",
       "    }\n",
       "\n",
       "    .dataframe tbody tr th {\n",
       "        vertical-align: top;\n",
       "    }\n",
       "\n",
       "    .dataframe thead th {\n",
       "        text-align: right;\n",
       "    }\n",
       "</style>\n",
       "<table border=\"1\" class=\"dataframe\">\n",
       "  <thead>\n",
       "    <tr style=\"text-align: right;\">\n",
       "      <th></th>\n",
       "      <th>title</th>\n",
       "      <th>context</th>\n",
       "      <th>question</th>\n",
       "      <th>is_impossible</th>\n",
       "      <th>answer_text</th>\n",
       "      <th>answer_start</th>\n",
       "    </tr>\n",
       "    <tr>\n",
       "      <th>id</th>\n",
       "      <th></th>\n",
       "      <th></th>\n",
       "      <th></th>\n",
       "      <th></th>\n",
       "      <th></th>\n",
       "      <th></th>\n",
       "    </tr>\n",
       "  </thead>\n",
       "  <tbody>\n",
       "    <tr>\n",
       "      <th>56cf4ed5aab44d1400b88fa6</th>\n",
       "      <td>New_York_City</td>\n",
       "      <td>New York City's most important economic sector...</td>\n",
       "      <td>What percentage of the city's wages does the s...</td>\n",
       "      <td>False</td>\n",
       "      <td>22</td>\n",
       "      <td>448.0</td>\n",
       "    </tr>\n",
       "    <tr>\n",
       "      <th>57284cb1ff5b5019007da129</th>\n",
       "      <td>John_von_Neumann</td>\n",
       "      <td>Stochastic computing was first introduced in a...</td>\n",
       "      <td>What is another name for the first self reprod...</td>\n",
       "      <td>False</td>\n",
       "      <td>computer virus</td>\n",
       "      <td>1003.0</td>\n",
       "    </tr>\n",
       "    <tr>\n",
       "      <th>571090e2a58dae1900cd6a3a</th>\n",
       "      <td>Age_of_Enlightenment</td>\n",
       "      <td>In Germany, practical reference works intended...</td>\n",
       "      <td>The Encyclopaedia Britannica was modelled alon...</td>\n",
       "      <td>False</td>\n",
       "      <td>Germany</td>\n",
       "      <td>3.0</td>\n",
       "    </tr>\n",
       "    <tr>\n",
       "      <th>5acd1a1a07355d001abf34fc</th>\n",
       "      <td>British_Isles</td>\n",
       "      <td>The oldest rocks in the group are in the north...</td>\n",
       "      <td>what is the age of the oldest rocks in Europe?</td>\n",
       "      <td>True</td>\n",
       "      <td>None</td>\n",
       "      <td>NaN</td>\n",
       "    </tr>\n",
       "    <tr>\n",
       "      <th>5a79e3ed17ab25001a8a0167</th>\n",
       "      <td>Law_of_the_United_States</td>\n",
       "      <td>As federal judge Alex Kozinski has pointed out...</td>\n",
       "      <td>Reporters were not allowed to prevent publicat...</td>\n",
       "      <td>True</td>\n",
       "      <td>None</td>\n",
       "      <td>NaN</td>\n",
       "    </tr>\n",
       "  </tbody>\n",
       "</table>\n",
       "</div>"
      ],
      "text/plain": [
       "                                             title  \\\n",
       "id                                                   \n",
       "56cf4ed5aab44d1400b88fa6             New_York_City   \n",
       "57284cb1ff5b5019007da129          John_von_Neumann   \n",
       "571090e2a58dae1900cd6a3a      Age_of_Enlightenment   \n",
       "5acd1a1a07355d001abf34fc             British_Isles   \n",
       "5a79e3ed17ab25001a8a0167  Law_of_the_United_States   \n",
       "\n",
       "                                                                    context  \\\n",
       "id                                                                            \n",
       "56cf4ed5aab44d1400b88fa6  New York City's most important economic sector...   \n",
       "57284cb1ff5b5019007da129  Stochastic computing was first introduced in a...   \n",
       "571090e2a58dae1900cd6a3a  In Germany, practical reference works intended...   \n",
       "5acd1a1a07355d001abf34fc  The oldest rocks in the group are in the north...   \n",
       "5a79e3ed17ab25001a8a0167  As federal judge Alex Kozinski has pointed out...   \n",
       "\n",
       "                                                                   question  \\\n",
       "id                                                                            \n",
       "56cf4ed5aab44d1400b88fa6  What percentage of the city's wages does the s...   \n",
       "57284cb1ff5b5019007da129  What is another name for the first self reprod...   \n",
       "571090e2a58dae1900cd6a3a  The Encyclopaedia Britannica was modelled alon...   \n",
       "5acd1a1a07355d001abf34fc     what is the age of the oldest rocks in Europe?   \n",
       "5a79e3ed17ab25001a8a0167  Reporters were not allowed to prevent publicat...   \n",
       "\n",
       "                          is_impossible     answer_text  answer_start  \n",
       "id                                                                     \n",
       "56cf4ed5aab44d1400b88fa6          False              22         448.0  \n",
       "57284cb1ff5b5019007da129          False  computer virus        1003.0  \n",
       "571090e2a58dae1900cd6a3a          False         Germany           3.0  \n",
       "5acd1a1a07355d001abf34fc           True            None           NaN  \n",
       "5a79e3ed17ab25001a8a0167           True            None           NaN  "
      ]
     },
     "execution_count": 4,
     "metadata": {},
     "output_type": "execute_result"
    }
   ],
   "source": [
    "df.sample(5)"
   ]
  },
  {
   "cell_type": "markdown",
   "metadata": {
    "id": "1ccBoOAzROGB"
   },
   "source": [
    "Evaluation on LLM-RAG:\n",
    "\n",
    "1. Retrieval - RAG retrieved the needed context? <br>\n",
    "2. Relevance - LLM deciphered the relevant context? <br>\n",
    "3. Accuracy - LLM answer contains the answer <br>\n",
    "4. Precision - LLM answer does not contain irrelevant answer <br>\n",
    "\n",
    "\n",
    "\n",
    "\n",
    "\n"
   ]
  },
  {
   "cell_type": "markdown",
   "metadata": {},
   "source": [
    "#\n",
    "# Multi-Ollama for Concurrent Invokes\n",
    "#"
   ]
  },
  {
   "cell_type": "code",
   "execution_count": 5,
   "metadata": {},
   "outputs": [],
   "source": [
    "import itertools\n",
    "from langchain_community.llms import Ollama\n",
    "from langchain.prompts import PromptTemplate\n",
    "\n",
    "import deh.settings as settings\n",
    "import deh.guardrail as guardrail\n",
    "from deh.utils import format_context_documents as format_docs\n",
    "from deh.utils import retriever_with_scores, dedupulicate_contexts\n",
    "from deh.prompts import (\n",
    "    qa_eval_prompt_with_context_text,\n",
    "    LLMEvalResult,\n",
    "    rag_text_prompts,\n",
    "    hyde_prompts,\n",
    ")\n",
    "import deh"
   ]
  },
  {
   "cell_type": "code",
   "execution_count": 6,
   "metadata": {},
   "outputs": [
    {
     "name": "stdout",
     "output_type": "stream",
     "text": [
      "4\n",
      "\u001b[1mOllama\u001b[0m\n",
      "Params: {'model': 'llama3.1:8b-instruct-q3_K_L', 'format': None, 'options': {'mirostat': None, 'mirostat_eta': None, 'mirostat_tau': None, 'num_ctx': None, 'num_gpu': None, 'num_thread': None, 'num_predict': None, 'repeat_last_n': None, 'repeat_penalty': None, 'temperature': None, 'stop': None, 'tfs_z': None, 'top_k': None, 'top_p': None}, 'system': None, 'template': None, 'keep_alive': None, 'raw': None}\n"
     ]
    },
    {
     "name": "stderr",
     "output_type": "stream",
     "text": [
      "/tmp/ipykernel_25/1720856701.py:3: LangChainDeprecationWarning: The class `Ollama` was deprecated in LangChain 0.3.1 and will be removed in 1.0.0. An updated version of the class exists in the :class:`~langchain-ollama package and should be used instead. To use it run `pip install -U :class:`~langchain-ollama` and import as `from :class:`~langchain_ollama import OllamaLLM``.\n",
      "  LLM = [Ollama(\n"
     ]
    }
   ],
   "source": [
    "# Set up load balancing between the two instances\n",
    "nLLM = 4\n",
    "LLM = [Ollama(\n",
    "            base_url=settings.OLLAMA_HOST, model=settings.LLM_MODEL, verbose=True\n",
    "        ) for i in range(nLLM)\n",
    "      ] \n",
    "\n",
    "print(len(LLM))\n",
    "print(LLM[-1])\n",
    "\n",
    "# Create a round-robin iterator using itertools.cycle\n",
    "round_robin_models = itertools.cycle(LLM)\n",
    "\n",
    "def LLMinvoke(prompt):\n",
    "    # Get the next model in the round-robin cycle\n",
    "    selected_model = next(round_robin_models)\n",
    "    \n",
    "    # Invoke the selected model with the prompt\n",
    "    response = selected_model.invoke(prompt)\n",
    "    return response"
   ]
  },
  {
   "cell_type": "code",
   "execution_count": 7,
   "metadata": {},
   "outputs": [
    {
     "name": "stdout",
     "output_type": "stream",
     "text": [
      "Beyoncé rose to fame in the late 1990s as lead singer of R&B girl-group Destiny's Child. Her group became one of the world's best-selling girl groups of all time during this period. She started her solo career with her debut album \"Dangerously in Love\" in 2003, which earned five Grammy Awards.\n"
     ]
    }
   ],
   "source": [
    "row = 0\n",
    "q = df.iloc[row][\"question\"]\n",
    "c = df.iloc[row][\"context\"]\n",
    "gt = df.iloc[row][\"answer_text\"]\n",
    "\n",
    "# Initial LLM generation prompt:\n",
    "qa_prompt = PromptTemplate(\n",
    "    template=rag_text_prompts[0], input_variables=[\"question\", \"context\"]\n",
    ")\n",
    "\n",
    "chain = qa_prompt | LLMinvoke\n",
    "llmans = chain.invoke({\"question\": q, \"context\": c})\n",
    "\n",
    "print(llmans)"
   ]
  },
  {
   "cell_type": "code",
   "execution_count": 8,
   "metadata": {},
   "outputs": [
    {
     "name": "stdout",
     "output_type": "stream",
     "text": [
      "When did Beyonce start becoming popular?\n",
      "Beyoncé Giselle Knowles-Carter (/biːˈjɒnseɪ/ bee-YON-say) (born September 4, 1981) is an American singer, songwriter, record producer and actress. Born and raised in Houston, Texas, she performed in various singing and dancing competitions as a child, and rose to fame in the late 1990s as lead singer of R&B girl-group Destiny's Child. Managed by her father, Mathew Knowles, the group became one of the world's best-selling girl groups of all time. Their hiatus saw the release of Beyoncé's debut album, Dangerously in Love (2003), which established her as a solo artist worldwide, earned five Grammy Awards and featured the Billboard Hot 100 number-one singles \"Crazy in Love\" and \"Baby Boy\".\n",
      "in the late 1990s\n",
      "first=PromptTemplate(input_variables=['context', 'question'], input_types={}, partial_variables={}, template=\"\\n    You are an assistant for question-answering tasks.\\n    Use the following pieces of retrieved context to answer the question.\\n    If you don't know the answer, just say that you don't know.\\n    Use three sentences maximum and keep the answer concise.\\n\\n    Question: {question}\\n    Context: {context}\\n\\n    Answer:\\n    \") middle=[] last=RunnableLambda(LLMinvoke)\n"
     ]
    }
   ],
   "source": [
    "print(q)\n",
    "print(c)\n",
    "print(gt)\n",
    "print(chain)"
   ]
  },
  {
   "cell_type": "code",
   "execution_count": 9,
   "metadata": {},
   "outputs": [],
   "source": [
    "import asyncio\n",
    "from tqdm.asyncio import tqdm_asyncio\n",
    "import nest_asyncio\n",
    "\n",
    "nest_asyncio.apply()\n",
    "\n",
    "# Assuming chain.invoke is an asynchronous function\n",
    "async def invoke_chain(chain, q, c, semaphore, pbar):\n",
    "    async with semaphore:\n",
    "        pbar.update(1)\n",
    "        return await chain.ainvoke({\"question\": q, \"context\": c})\n",
    "\n",
    "async def main(df = None, LLM = None, n=50, clim=8):\n",
    "    # input validation \n",
    "    if df.empty:\n",
    "        raise ValueError(\"The DataFrame is empty\")\n",
    "    assert (LLM != None)\n",
    "    \n",
    "    # Initial LLM generation prompt:\n",
    "    qa_prompt = PromptTemplate(\n",
    "        template=rag_text_prompts[0], input_variables=[\"question\", \"context\"]\n",
    "    )\n",
    "    chain = qa_prompt | LLMinvoke\n",
    "\n",
    "    # Create a semaphore with a limit on concurrent tasks\n",
    "    semaphore = asyncio.Semaphore(clim)\n",
    "\n",
    "    # Create a tqdm progress bar\n",
    "    samdf = df.sample(n, random_state=42)\n",
    "    with tqdm(total=n, desc=\"Processing\") as pbar:\n",
    "        tasks = [invoke_chain(chain, row['question'], row['context'], semaphore, pbar) for _, row in samdf.iterrows()]\n",
    "        results = await asyncio.gather(*tasks)\n",
    "\n",
    "    return results"
   ]
  },
  {
   "cell_type": "code",
   "execution_count": 10,
   "metadata": {},
   "outputs": [
    {
     "name": "stderr",
     "output_type": "stream",
     "text": [
      "Processing: 100%|██████████| 100/100 [02:21<00:00,  1.41s/it]\n"
     ]
    }
   ],
   "source": [
    "# Run the main function\n",
    "results = await main(df, LLM, 100, 32)"
   ]
  },
  {
   "cell_type": "code",
   "execution_count": 11,
   "metadata": {},
   "outputs": [
    {
     "name": "stdout",
     "output_type": "stream",
     "text": [
      "0 : The global recession that followed the financial crisis of 2007 ended in 2012. The crisis had a significant impact on the world economy, leading to widespread job losses and economic downturns. It contributed to the European sovereign-debt crisis as well.\n",
      "1 : Amnesia was a popular club in Ibiza that started playing dance and house music. It was known for its distinctive sound, which blended rock, pop, disco, and house music. DJ Alfredo played at Amnesia, contributing to the development of the Balearic mix of house music.\n",
      "2 : Martin Luther honored Mary as the Mother of God in the 16th century. This was less than Calvin and Huldrych Zwingli who also did so in the same century. As a result, Protestant interest in Mary decreased over time.\n",
      "3 : The climate in Himachal varies greatly due to its extreme elevation variation, ranging from hot and tropical to cold and glacial conditions. It experiences three seasons: summer, winter, and rainy season. The state has diverse climatic conditions, with some areas receiving heavy rainfall while others are cold and rainless.\n",
      "4 : I don't know how many times the Queen has toured Canada, but I do know she visited there on one occasion that is mentioned. It's possible it may be part of a larger number, but I couldn't find that information within this context.\n",
      "5 : Yes, Bermuda's constitution has been amended twice - in 1989 and 2003. This suggests that the country's founding document is flexible and can be updated as needed. The amendments may have reflected changes in the political landscape or social norms within the country.\n",
      "6 : I don't know. The text doesn't mention a train line connecting Florida to the south. It only mentions the Amtrak lines that travel through or originate in Florida.\n",
      "7 : The name of a show from Northern Ireland broadcast all over the United Kingdom is \"Patrick Kielty Almost Live\".\n",
      "8 : Whitehead left behind no Nachlass (papers and documents) because his family followed his instructions to destroy all of them after his death. This was due to his strong belief in the right to privacy. As a result, many details of his life remain obscure.\n",
      "9 : I don't know about concerns related to animals digging in the soil for food from this context. The provided text appears to discuss pesticide use, its environmental impact, and effects on water and soil quality, but does not directly address animals' behavior of digging in the soil. \n",
      "\n",
      "(I'll wait for more context if needed)\n"
     ]
    }
   ],
   "source": [
    "# Print the results\n",
    "for i in range(10): \n",
    "    print(str(i) + \" : \" + results[i])"
   ]
  },
  {
   "cell_type": "markdown",
   "metadata": {},
   "source": [
    "#\n",
    "# Visualization of words counts\n",
    "#"
   ]
  },
  {
   "cell_type": "code",
   "execution_count": 12,
   "metadata": {},
   "outputs": [
    {
     "name": "stdout",
     "output_type": "stream",
     "text": [
      "3.1627716796627543\n",
      "3.3909471172900374\n"
     ]
    }
   ],
   "source": [
    "ans_len = df[\"answer_text\"].str.split().str.len()\n",
    "print(ans_len.mean())\n",
    "print(ans_len.std())"
   ]
  },
  {
   "cell_type": "code",
   "execution_count": 13,
   "metadata": {},
   "outputs": [
    {
     "name": "stdout",
     "output_type": "stream",
     "text": [
      "Requirement already satisfied: matplotlib in /usr/local/lib/python3.10/site-packages (3.9.2)\n",
      "Requirement already satisfied: seaborn in /usr/local/lib/python3.10/site-packages (0.13.2)\n",
      "Requirement already satisfied: contourpy>=1.0.1 in /usr/local/lib/python3.10/site-packages (from matplotlib) (1.3.1)\n",
      "Requirement already satisfied: cycler>=0.10 in /usr/local/lib/python3.10/site-packages (from matplotlib) (0.12.1)\n",
      "Requirement already satisfied: fonttools>=4.22.0 in /usr/local/lib/python3.10/site-packages (from matplotlib) (4.55.0)\n",
      "Requirement already satisfied: kiwisolver>=1.3.1 in /usr/local/lib/python3.10/site-packages (from matplotlib) (1.4.7)\n",
      "Requirement already satisfied: numpy>=1.23 in /usr/local/lib/python3.10/site-packages (from matplotlib) (1.26.4)\n",
      "Requirement already satisfied: packaging>=20.0 in /usr/local/lib/python3.10/site-packages (from matplotlib) (24.2)\n",
      "Requirement already satisfied: pillow>=8 in /usr/local/lib/python3.10/site-packages (from matplotlib) (11.0.0)\n",
      "Requirement already satisfied: pyparsing>=2.3.1 in /usr/local/lib/python3.10/site-packages (from matplotlib) (3.2.0)\n",
      "Requirement already satisfied: python-dateutil>=2.7 in /usr/local/lib/python3.10/site-packages (from matplotlib) (2.8.2)\n",
      "Requirement already satisfied: pandas>=1.2 in /usr/local/lib/python3.10/site-packages (from seaborn) (2.2.3)\n",
      "Requirement already satisfied: pytz>=2020.1 in /usr/local/lib/python3.10/site-packages (from pandas>=1.2->seaborn) (2024.2)\n",
      "Requirement already satisfied: tzdata>=2022.7 in /usr/local/lib/python3.10/site-packages (from pandas>=1.2->seaborn) (2024.2)\n",
      "Requirement already satisfied: six>=1.5 in /usr/local/lib/python3.10/site-packages (from python-dateutil>=2.7->matplotlib) (1.16.0)\n",
      "\u001b[33mWARNING: Running pip as the 'root' user can result in broken permissions and conflicting behaviour with the system package manager, possibly rendering your system unusable.It is recommended to use a virtual environment instead: https://pip.pypa.io/warnings/venv. Use the --root-user-action option if you know what you are doing and want to suppress this warning.\u001b[0m\u001b[33m\n",
      "\u001b[0m"
     ]
    }
   ],
   "source": [
    "!pip install matplotlib seaborn"
   ]
  },
  {
   "cell_type": "code",
   "execution_count": 14,
   "metadata": {},
   "outputs": [
    {
     "name": "stdout",
     "output_type": "stream",
     "text": [
      "[1, 2, 3, 4, 5, 6, 7, 8, 9, 10, 11, 12, 13, 14, 15, 16, 17, 18, 19, 20, 21, 22, 23, 24]\n"
     ]
    },
    {
     "data": {
      "text/plain": [
       "<Figure size 1000x600 with 0 Axes>"
      ]
     },
     "metadata": {},
     "output_type": "display_data"
    },
    {
     "data": {
      "image/png": "[encoded data removed]",
      "text/plain": [
       "<Figure size 640x480 with 1 Axes>"
      ]
     },
     "metadata": {},
     "output_type": "display_data"
    }
   ],
   "source": [
    "import matplotlib.pyplot as plt\n",
    "import seaborn as sns\n",
    "\n",
    "plt.figure(figsize=(10, 6))\n",
    "bins = [i for i in range(1,25)]\n",
    "print(bins)\n",
    "\n",
    "# Step 1: Create the histogram \n",
    "fig, ax1 = plt.subplots()\n",
    "sns.histplot(ans_len, bins=bins, kde=False, stat='count', color='blue', edgecolor='black', ax=ax1)\n",
    "ax1.set_ylabel('Count')\n",
    "#ax1.set_yscale('log')\n",
    "\n",
    "# Step 2: Density Curve\n",
    "#ax2 = ax1.twinx()\n",
    "#sns.histplot(ans_len, bins=bins, kde=True, stat='density', color='red', edgecolor='black', ax=ax2)\n",
    "#ax2.set_ylabel('Density')\n",
    "\n",
    "# Step 3: Add labels and title\n",
    "plt.title('Histogram of Answer Text Word Counts')\n",
    "plt.xlabel('Word Count')\n",
    "plt.xticks([b + 0.5 for b in bins], bins)\n",
    "plt.grid(True)\n",
    "\n",
    "# Show the plot\n",
    "plt.show()"
   ]
  },
  {
   "cell_type": "code",
   "execution_count": 15,
   "metadata": {},
   "outputs": [
    {
     "name": "stdout",
     "output_type": "stream",
     "text": [
      "3915\n"
     ]
    }
   ],
   "source": [
    "print((ans_len > 10).sum())"
   ]
  },
  {
   "cell_type": "code",
   "execution_count": 16,
   "metadata": {},
   "outputs": [
    {
     "data": {
      "text/plain": [
       "['the foundation announced in 2007 a review of its investments to assess social responsibility. It subsequently cancelled the review',\n",
       " 'Up to 2013, the Bill & Melinda Gates Foundation provided $71 million to Planned Parenthood',\n",
       " 'The lights can be switched on for 24-hrs/day, or a range of step-wise light regimens to encourage the birds to feed often and therefore grow rapidly',\n",
       " 'The cults of deities like Isis and Mithra were introduced into the Greek world.',\n",
       " 'a notice is posted in its place informing riders of where the actual permits are kept.',\n",
       " 'American Museum in Britain, the Museum of Bath Architecture, the Herschel Museum of Astronomy, the Jane Austen Centre, and the Roman Baths',\n",
       " 'instituting such a festival without the permission of the Holy See',\n",
       " 'can force individuals to identify with a label that may or may not accurately reflect their true sexual orientation',\n",
       " 'The bishop, for example dammed the Kromme Rijn at Wijk bij Duurstede to protect his estates from flooding',\n",
       " 'June 2, 1746, Austria and Russia concluded a defensive alliance that covered their own territory and Poland against attack by Prussia or the Ottoman Empire']"
      ]
     },
     "execution_count": 16,
     "metadata": {},
     "output_type": "execute_result"
    }
   ],
   "source": [
    "df[ans_len > 10][\"answer_text\"].sample(10).tolist()"
   ]
  },
  {
   "cell_type": "markdown",
   "metadata": {},
   "source": [
    "#\n",
    "# Vectorize to Milvus\n",
    "#"
   ]
  },
  {
   "cell_type": "code",
   "execution_count": 146,
   "metadata": {},
   "outputs": [
    {
     "name": "stdout",
     "output_type": "stream",
     "text": [
      "Loaded naver/splade-cocondenser-ensembledistil from cache.\n",
      "Loaded sentence-transformers/all-mpnet-base-v2 from cache.\n"
     ]
    }
   ],
   "source": [
    "import torch, os\n",
    "from sentence_transformers import SentenceTransformer\n",
    "from transformers import AutoTokenizer, AutoModel\n",
    "from sklearn.preprocessing import normalize\n",
    "\n",
    "# Define data scope\n",
    "samdf = df.sample(10000, random_state=42)\n",
    "\n",
    "# Define model names\n",
    "splade_model_name = \"naver/splade-cocondenser-ensembledistil\"\n",
    "mpnet_model_name = \"sentence-transformers/all-mpnet-base-v2\"\n",
    "\n",
    "# Default cache directories (can be customized)\n",
    "transformers_cache_dir = os.path.expanduser(\"~/.cache/huggingface/transformers\")\n",
    "sentence_transformers_cache_dir = os.path.expanduser(\"~/.cache/torch/sentence_transformers\")\n",
    "\n",
    "# Load SPLADE model\n",
    "try:\n",
    "    # Attempt to load the model from cache\n",
    "    splade_tokenizer = AutoTokenizer.from_pretrained(transformers_cache_dir)\n",
    "    splade_model = AutoModel.from_pretrained(transformers_cache_dir).to('cuda')\n",
    "    print(f\"Loaded {splade_model_name} from cache.\")\n",
    "except Exception as e:\n",
    "    print(f\"{splade_model_name} not found in cache. Downloading...\")\n",
    "    # Download and save the model\n",
    "    splade_tokenizer = AutoTokenizer.from_pretrained(splade_model_name)\n",
    "    splade_tokenizer.save_pretrained(transformers_cache_dir)\n",
    "    splade_model = AutoModel.from_pretrained(splade_model_name)\n",
    "    splade_model.save_pretrained(transformers_cache_dir)\n",
    "    splade_model.to('cuda')\n",
    "\n",
    "    # splade_tokenizer = AutoTokenizer.from_pretrained(\"naver/splade-cocondenser-ensembledistil\")\n",
    "    # splade_model = AutoModel.from_pretrained(\"naver/splade-cocondenser-ensembledistil\").to('cuda')\n",
    "\n",
    "# Load ALL-MPNET-BASE-V2 model\n",
    "try:\n",
    "    # Attempt to load the model from cache\n",
    "    mpnet_model = SentenceTransformer(sentence_transformers_cache_dir)\n",
    "    print(f\"Loaded {mpnet_model_name} from cache.\")\n",
    "except Exception as e:\n",
    "    print(f\"{mpnet_model_name} not found in cache. Downloading...\")\n",
    "    # Download and save the model\n",
    "    mpnet_model = SentenceTransformer(mpnet_model_name)\n",
    "    mpnet_model.save(sentence_transformers_cache_dir)\n",
    "    mpnet_model.to('cuda')\n",
    "\n",
    "    #mpnet_model = SentenceTransformer('sentence-transformers/all-mpnet-base-v2')\n",
    "    #mpnet_model = mpnet_model.to('cuda')"
   ]
  },
  {
   "cell_type": "code",
   "execution_count": 147,
   "metadata": {},
   "outputs": [
    {
     "name": "stderr",
     "output_type": "stream",
     "text": [
      "Vectorizing with ALL-MPNET-BASE-V2: 100%|██████████| 20/20 [00:11<00:00,  1.70it/s]\n"
     ]
    }
   ],
   "source": [
    "# Vectorize using ALL-MPNET-BASE-V2 with tqdm progress bar\n",
    "def vectorize_mpnet_batch(texts, BATCH_SIZE=1):\n",
    "    embeddings = []\n",
    "    for i in tqdm(range(0, len(texts), BATCH_SIZE), desc=\"Vectorizing with ALL-MPNET-BASE-V2\"):\n",
    "        batch_texts = texts[i:i+BATCH_SIZE]\n",
    "        valid_texts = [text if isinstance(text, str) else \"\" for text in batch_texts]\n",
    "        batch_embeddings = mpnet_model.encode(valid_texts, device='cuda', batch_size=BATCH_SIZE, normalize_embeddings=True)\n",
    "        embeddings.extend(batch_embeddings)\n",
    "    return embeddings\n",
    "\n",
    "BATCH_SIZE = 512\n",
    "mpnet_embeddings = vectorize_mpnet_batch(samdf['answer_text'].tolist(), BATCH_SIZE)"
   ]
  },
  {
   "cell_type": "code",
   "execution_count": 148,
   "metadata": {},
   "outputs": [
    {
     "data": {
      "text/plain": [
       "\"mpnet_model.to('cpu')\\ndel mpnet_model\\ntorch.cuda.empty_cache()\""
      ]
     },
     "execution_count": 148,
     "metadata": {},
     "output_type": "execute_result"
    }
   ],
   "source": [
    "\"\"\"mpnet_model.to('cpu')\n",
    "del mpnet_model\n",
    "torch.cuda.empty_cache()\"\"\""
   ]
  },
  {
   "cell_type": "code",
   "execution_count": 149,
   "metadata": {},
   "outputs": [
    {
     "name": "stderr",
     "output_type": "stream",
     "text": [
      "Vectorizing with SPLADE: 100%|██████████| 20/20 [00:10<00:00,  1.84it/s]\n"
     ]
    }
   ],
   "source": [
    "# Vectorize using SPLADE with tqdm for progress bar (on GPU)\n",
    "def vectorize_splade_batch(texts, BATCH_SIZE=1):\n",
    "    embeddings = []\n",
    "    for i in tqdm(range(0, len(texts), BATCH_SIZE), desc=\"Vectorizing with SPLADE\"):\n",
    "        batch_texts = texts[i:i+BATCH_SIZE]\n",
    "        valid_texts = [text if isinstance(text, str) else \"\" for text in batch_texts]\n",
    "\n",
    "        # Tokenize the valid texts, applying padding and truncation as necessary, and ...\n",
    "        # ... convert them into PyTorch tensors. Move tensors to GPU ('cuda').\n",
    "        inputs = splade_tokenizer(valid_texts, padding=True, truncation=True, return_tensors='pt').to('cuda')\n",
    "        with torch.no_grad(): # Disable gradient calculation\n",
    "            # Pass the tokenized inputs through the SPLADE model to obtain outputs\n",
    "            outputs = splade_model(**inputs) \n",
    "\n",
    "            # Compute the mean of the last hidden state across all tokens for each input text,\n",
    "            # effectively pooling the output to get a single embedding vector per text.\n",
    "            pooled_output = outputs.last_hidden_state.mean(dim=1).cpu().numpy()\n",
    "\n",
    "            # Normalize the pooled output to have a norm of 1 (L2 normalization)\n",
    "            normalized_output = normalize(pooled_output, norm='l2')\n",
    "            \n",
    "            # Extend the embeddings list with the pooled output from this batch\n",
    "            embeddings.extend(pooled_output)\n",
    "    return embeddings\n",
    "\n",
    "BATCH_SIZE = 512\n",
    "splade_embeddings = vectorize_splade_batch(samdf['answer_text'].tolist(), BATCH_SIZE)"
   ]
  },
  {
   "cell_type": "code",
   "execution_count": 150,
   "metadata": {},
   "outputs": [
    {
     "data": {
      "text/plain": [
       "\"splade_model.to('cpu')\\ndel splade_model\\ntorch.cuda.empty_cache()\""
      ]
     },
     "execution_count": 150,
     "metadata": {},
     "output_type": "execute_result"
    }
   ],
   "source": [
    "\"\"\"splade_model.to('cpu')\n",
    "del splade_model\n",
    "torch.cuda.empty_cache()\"\"\""
   ]
  },
  {
   "cell_type": "code",
   "execution_count": 151,
   "metadata": {},
   "outputs": [
    {
     "name": "stdout",
     "output_type": "stream",
     "text": [
      "3706\n"
     ]
    }
   ],
   "source": [
    "max_context = samdf[\"context\"].str.len().max()\n",
    "print(max_context)"
   ]
  },
  {
   "cell_type": "code",
   "execution_count": 161,
   "metadata": {},
   "outputs": [
    {
     "name": "stdout",
     "output_type": "stream",
     "text": [
      "Successfully connected to Milvus\n",
      "Collection 'squad2train' exists. Dropping it...\n",
      "Collection 'squad2train' has been dropped.\n"
     ]
    },
    {
     "data": {
      "text/plain": [
       "Status(code=0, message=)"
      ]
     },
     "execution_count": 161,
     "metadata": {},
     "output_type": "execute_result"
    }
   ],
   "source": [
    "from pymilvus import connections, FieldSchema, CollectionSchema, DataType, Collection, utility \n",
    "\n",
    "# Connect to Milvus server\n",
    "try:\n",
    "    # Replace 'localhost' with the actual host if Milvus is running on a different machine\n",
    "    connections.connect(\"default\", host=\"milvus-host\", port=\"19530\")\n",
    "\n",
    "    # Verify the connection\n",
    "    if connections.has_connection(\"default\"):\n",
    "        print(\"Successfully connected to Milvus\")\n",
    "    else:\n",
    "        print(\"Failed to connect to Milvus\")\n",
    "except MilvusException as e:\n",
    "    print(f\"MilvusException: {e}\")\n",
    "\n",
    "# Define schema for the collection\n",
    "fields = [\n",
    "    FieldSchema(name=\"mindex\", dtype=DataType.INT64, is_primary=True, auto_id=True), # milvus index as primary key\n",
    "    FieldSchema(name=\"qid\", dtype=DataType.VARCHAR, max_length=50), # dataset row and question id, not a primary key in milvus\n",
    "    FieldSchema(name=\"mpnet_vector\", dtype=DataType.FLOAT_VECTOR, dim=768),  # Dimension of ALL-MPNET-BASE-V2 vectors\n",
    "    FieldSchema(name=\"splade_vector\", dtype=DataType.FLOAT_VECTOR, dim=768),  # SPLADE vector dimension\n",
    "    FieldSchema(name=\"context\", dtype=DataType.VARCHAR, max_length=4096)  # SPLADE vector dimension\n",
    "]\n",
    "\n",
    "schema = CollectionSchema(fields)\n",
    "collection_name = \"squad2train\"\n",
    "\n",
    "# Check if the collection exists\n",
    "if utility.has_collection(collection_name):\n",
    "    print(f\"Collection '{collection_name}' exists. Dropping it...\")\n",
    "    utility.drop_collection(collection_name)\n",
    "    print(f\"Collection '{collection_name}' has been dropped.\")\n",
    "else:\n",
    "    print(f\"Collection '{collection_name}' does not exist. Making it...\")\n",
    "\n",
    "collection = Collection(name=collection_name, schema=schema)\n",
    "\n",
    "# Create index on vector fields (optional but recommended for faster searches)\n",
    "index_params = {\"index_type\": \"HNSW\", \"metric_type\": \"COSINE\", \"params\": {\"M\": 16, \"efConstruction\": 32}}\n",
    "collection.create_index(field_name=\"splade_vector\", index_params=index_params)\n",
    "collection.create_index(field_name=\"mpnet_vector\", index_params=index_params)"
   ]
  },
  {
   "cell_type": "code",
   "execution_count": 162,
   "metadata": {},
   "outputs": [
    {
     "name": "stderr",
     "output_type": "stream",
     "text": [
      "Inserting data into Milvus: 100%|██████████| 20/20 [00:02<00:00,  8.74it/s]\n"
     ]
    }
   ],
   "source": [
    "# Prepare data for insertion\n",
    "data_to_insert = [\n",
    "    #[i for i in range(len(samdf))], \n",
    "    samdf.index.tolist(),  # Index column from dataframe\n",
    "    mpnet_embeddings,    # ALL-MPNET-BASE-V2 embeddings\n",
    "    splade_embeddings,    # SPLADE embeddings\n",
    "    samdf[\"context\"].tolist() # Context\n",
    "]\n",
    "\n",
    "# Insert data into Milvus collection\n",
    "BATCH_SIZE = 500  # Adjust batch size as needed\n",
    "total_vectors = len(data_to_insert[0])\n",
    "\n",
    "for start in tqdm(range(0, total_vectors, BATCH_SIZE), desc=\"Inserting data into Milvus\"):\n",
    "    end = min(start + BATCH_SIZE, total_vectors)\n",
    "    batch_data = [data_to_insert[i][start:end] for i in range(len(data_to_insert))]\n",
    "    \n",
    "    try:\n",
    "        collection.insert(batch_data)\n",
    "    except Exception as e:\n",
    "        print(f\"Error inserting batch from {start} to {end}: {e}\")\n",
    "\n",
    "# collection.insert(data_to_insert)\n",
    "\n",
    "# Flush to ensure data is written to disk\n",
    "collection.flush()"
   ]
  },
  {
   "cell_type": "code",
   "execution_count": 163,
   "metadata": {},
   "outputs": [
    {
     "name": "stdout",
     "output_type": "stream",
     "text": [
      "Number of entities in collection: 10000\n",
      "Sample of 2 Rows:\n",
      "{'mpnet_vector': [0.025621735, 0.10380047, -0.03159703, -0.019575072, -0.03504852, 0.008564239, -0.00029994064, 0.0146016665, -0.053520013, -0.011299664, 0.063560635, 0.0018681497, 0.025050474, -0.018824654, -0.042643413, -0.054078467, 0.044488125, 0.056292538, -0.036293205, 0.009327283, -0.046845675, 0.0020134696, -0.0409575, 0.031021623, -0.029333133, -0.019806262, 0.01856577, -0.03196584, -0.04405515, 0.013677739, 0.028096123, 0.02052099, 0.0018646471, 0.010264305, 2.106845e-06, -0.03696142, -0.034961417, 0.012207357, -0.0123694725, 0.04738402, 0.023442162, 0.055745702, -0.048744094, -0.035397116, -0.02704772, 0.010672098, 0.0510926, 0.012376503, 0.022554496, -0.031463377, -0.010967139, -0.013532689, 0.02431354, -0.015464002, -0.038061, -0.0042667505, -0.018451156, -0.022838455, 0.022135107, -0.04970649, 0.009275926, -5.7128265e-05, -0.010678853, 0.026805632, -0.03936823, 0.05340951, 0.010635132, -0.010584835, -0.02373319, -0.024992919, 0.018212678, -0.024916198, -0.0216395, 0.07197342, -0.06831181, -0.031491548, 0.043351464, -0.06221728, 0.03606647, -0.0443272, -0.070461564, 0.020883838, 0.010083892, 0.010819561, -0.032749865, 0.04706161, 0.0022918659, -0.054669116, 0.020632764, -0.0026823205, 0.012321481, 0.035640623, 0.02402841, 0.008093214, 0.0306977, -0.026053073, 0.008943897, 0.061295226, -0.04234369, -0.017073505, 0.08620477, 0.03473564, -0.03110834, 0.043862615, -0.027506448, 0.031549525, 0.019311588, -0.014613847, -0.012321939, 0.04677255, -0.018319897, 0.026504794, -0.0013749349, -0.0022185072, 0.012083068, 0.011067597, 0.054479014, 0.03471314, 0.0056053745, -0.008516713, -0.0626651, -0.0113745, -0.049742233, 0.004794023, -0.05174854, -0.001801405, -0.014556704, -0.01866914, -0.022419974, -0.01769756, -0.009832661, 0.0006440786, -0.00051046826, -0.07385494, 0.029402193, -0.02800521, -0.024373489, 0.0057064164, 0.051542744, -0.038572267, -0.02774768, 0.013014176, -0.054469228, 0.013181623, 0.022579245, 0.0004152968, 0.014014726, -0.038418617, 0.023766477, -0.016934488, -0.02764519, 0.014779177, -0.028917914, 0.021297364, 0.049927063, 0.023223946, 0.017615683, -0.017474188, 0.009753034, 0.025844991, -0.016793773, 0.025214117, -0.025236955, 0.00048343212, 0.03585618, 0.018494822, -0.03990191, 0.007673127, -0.044055596, -0.02810308, -0.07638663, -0.051208783, 0.0050441185, 0.037585773, -0.0019497004, 0.01266833, -0.014899978, -0.022474943, -0.034953695, -0.011456152, 0.029423645, -0.18000771, 0.0025693213, -0.0033828497, 0.056582786, 0.012694907, -0.025064409, -0.025487376, -0.0011775603, -0.0053403806, 0.066764735, -0.0018461695, 0.044059195, 0.025900546, -0.004163986, -0.019386597, 0.055412542, 0.09052219, 0.021904634, 0.024663368, -0.016099, 0.012012029, 0.045607913, -0.003404576, -0.02840814, -0.00091556314, 0.0058317794, -0.056283586, -0.041596003, -0.003137298, 0.019485926, 0.019763298, 0.00948623, 0.024915218, -0.024244618, 0.047494024, 0.022436714, -0.015608758, 0.07062354, 0.053303536, 0.024966795, 0.030827584, 0.03604522, 0.013239386, -0.0493981, 0.025241902, -0.046716854, 0.018183451, 0.010414405, -0.015577646, -0.054155253, 0.017728064, 0.04443694, 0.012374606, -0.008043928, 0.038370818, 0.044062264, -0.05911687, 0.019936016, 0.0089914445, 0.020906791, 0.03651304, -0.0067935707, 0.038932223, 0.067415796, 0.04314414, 0.04724995, -0.07727865, -0.08172402, -0.03349041, -0.01020774, -0.02420799, 0.06631581, 0.006292437, 0.010457152, 0.032917883, 0.005917517, 0.03710183, -0.027616134, -0.04894772, 0.009757026, 0.006909009, 0.033684276, -0.0005705237, 0.07802755, -0.025687084, -0.022870338, -0.0043055145, 0.027298674, -0.011314501, 0.016350701, -0.006697228, 0.0016203818, 0.007872289, -0.01904136, 0.019855935, -0.104482345, -0.0017474125, 0.010016472, 0.00848151, 0.030407293, 0.07582547, -0.021403491, -0.017079853, 0.0013574397, 0.026276767, 0.020155761, 0.0020363205, 0.027227664, 0.0034513308, -0.07642063, 0.008871661, 0.060469177, 0.023648543, 0.05315069, 0.07127274, 0.00042510402, 0.014715459, 0.004984884, 0.045110077, -0.018835878, 0.032863192, 0.016124725, -0.0043312465, -0.00039673035, -0.04259205, -0.014061695, -0.054071482, 0.029254314, 0.04289838, -0.016825836, 0.019883564, -0.015928242, -0.025377207, 0.0016209354, -0.010647405, -0.026719168, -0.005332073, -0.0006009861, 0.10621425, -0.07083774, -0.016228292, -0.0639956, 0.011382221, -0.018327603, 0.016468938, 0.009667236, 0.026144184, 0.03999081, -0.016739095, 0.03139479, -0.056567438, 0.030639999, -0.061623625, 0.0013268037, 0.038287386, -0.0074437535, -0.03563764, -0.015073825, 0.045797694, -0.024897851, 0.0153454775, -0.015309583, -0.054793756, -0.03755538, -0.08705065, -0.056424778, 0.07481449, -0.098116554, 0.044481162, -0.0360689, 0.029790148, 0.014495379, -0.011826239, 0.008237509, 0.042642083, 0.012035932, -0.008400859, 0.023013044, -0.011950232, -0.0027210785, -0.0026245138, -0.01899975, 0.03252856, -0.02239563, -0.01614038, 0.0024196773, 0.050193444, 0.005777249, 0.040153068, -0.0011307837, 0.02914055, -0.075251475, 0.015635729, 0.0083368225, 0.039137267, 0.013717112, 0.06288666, -0.025787888, -0.020324886, -0.018367156, -0.021616615, 0.024254432, -0.02027415, -0.05971475, 0.0043794485, 0.034035824, -0.0009075965, -0.06143487, 0.012303679, 0.008938675, -0.021001657, 0.112698115, 0.10383758, -7.400586e-05, 0.028677259, 0.013091628, 0.016110087, 0.008459791, 0.01660648, 0.01870819, 0.038730543, 0.007956044, 0.079436205, 0.014800788, 0.0024382595, 0.0954876, 0.009456979, -0.0027414453, -0.0036096957, 0.046784796, -0.028986491, 0.014683947, -0.002903932, -0.011284146, 0.00012384223, -0.040100496, 0.01241924, -0.028695228, -0.034051485, 0.06619288, 0.017827095, 0.040098406, -0.024394222, 0.0067835804, 0.016813358, -0.045028046, -0.047187973, -0.0034587272, -0.01680986, 0.0041274126, -0.024275547, -0.025217703, -0.013887342, -0.015201821, -0.052417498, -0.0043703434, 0.0118019525, -0.0062423525, -0.0072013577, 0.009859844, 0.032935496, -0.029835524, -0.010650706, -0.04611461, 0.0021947415, -0.020216165, -0.033397682, -0.022169609, -0.0113057885, 0.03431633, -0.067063265, -0.003947689, -0.0012389269, 0.051467817, -0.024918238, 0.046203155, -0.053708352, 0.034651004, 0.03526562, 0.020244028, 0.019515663, -0.0066946405, -0.025499878, 0.028388036, 0.028002143, -0.013820257, -0.020611057, -0.024720585, -0.032566264, -0.042462878, -0.039299995, 0.009567858, 0.0024384935, 0.009409207, 0.009614961, -0.015732398, -0.113992475, 0.03132382, -0.008380905, -0.06853822, 0.03939854, 0.037377287, -0.043417014, 0.021891858, -0.063394286, 0.02216409, 0.020319626, -0.02885625, -0.056343045, -0.013811415, 0.04430276, 0.001294898, -0.0047056703, 0.04258322, 0.07294048, -0.07430985, 0.026552694, 0.00977674, 0.09348294, 0.011264163, 0.057503, -0.015753977, 0.042130888, -0.0013943113, 0.033584416, -0.017361796, -0.032064024, 0.04821112, 0.025761368, 0.020664157, 0.014655956, -0.033777196, 0.018436177, 0.032675467, 0.025933957, 0.053593848, -0.05958766, -0.001442714, -0.024024477, 0.0028953012, 0.0177763, 0.020185307, 0.05514092, -0.031059975, -0.037340578, 0.005084826, -0.009419091, 0.0009949293, -0.0044293953, -0.046718456, -0.022046743, 0.049099144, 0.040730312, -0.051568203, 0.02891351, -0.11470246, 0.022030018, 0.01584271, 0.051153876, -0.020047428, 0.021358913, 0.028168786, -0.05746781, -0.0143944835, 0.055724934, 0.010919856, -0.015344323, 0.021475585, -0.0009544053, 0.024936752, 0.043093726, -0.07607346, -0.018040761, -0.07217571, -7.964221e-33, 0.036733326, 0.031844657, -0.011779201, -0.06853362, -0.076396145, -0.035681803, 0.016239544, -0.006387353, -0.01287276, -0.035248104, -0.058327515, -0.03387748, 0.042322244, -0.024785439, -0.0008950147, -0.015539977, 0.00504992, -0.019095689, -0.0065498953, -0.015201637, 0.02552403, 0.028161589, 0.05631596, 0.046807624, 0.067295425, 0.01610232, -0.009910492, -0.01823968, 0.03842261, -0.030856945, 0.006014611, -0.049372543, -0.016078906, -0.09544474, 0.04769732, -0.04137207, 0.018836461, -0.0056870724, -0.0056521925, -0.04673158, -0.0042380053, 0.028766373, -0.014943943, -0.0077159745, -0.030088184, -0.03390128, 0.0023393203, -0.066323616, -0.007010398, -0.049235415, -0.034431964, -0.009827913, -0.024545705, 0.00468343, -0.035997603, -0.03448761, 0.00512615, 0.006786279, -0.038672484, -0.035560347, -0.016730392, -0.0030604412, -0.007052598, 0.026579117, 0.023543451, 0.011243819, -0.031110857, 0.055480715, -0.01869541, 0.05217503, -0.0020104228, -9.292813e-05, -0.0023981496, -0.006297095, -0.04020789, -0.03270005, -0.025498413, 0.03666007, 0.001232235, 0.04544124, 0.0038076502, -0.058376916, -0.03973124, 0.021225953, 0.0064537027, 0.024501063, 0.0041462258, -0.016742349, -0.004083631, -0.02414678, -0.026747115, -0.0058398047, -0.006102251, -0.013538058, -0.033491507, -0.024520619, -0.061045505, -0.008069868, -0.016832784, 0.049314264, -0.0033017774, -0.012374492, 0.0045951656, 0.019243406, 0.015174418, -0.031347267, -0.00074802764, -0.0015074105, -0.085098624, 0.0093944715, 0.010897929, 0.04676005, 0.06815873, -0.019081093, -0.021758566, 0.06591885, 0.011274918, -0.045191206, -0.047523033, 0.04896085, -0.019589908, 0.033929516, -0.05964442, -0.0015980925, -0.056405336, -0.037956536, -0.02809566, -0.07440986, -0.067622446, 0.0064390167, 0.0019143535, 0.008637681, 2.6333828e-07, -0.0089857625, -0.009228024, 0.011064578, 0.019669676, -0.020113654, -0.03774644, -0.052841097, -0.02285222, 0.07019021, 0.054441914, 0.014294519, 0.023264121, -0.001941783, -0.010368527, 0.08725719, -0.050625253, -0.0129708415, 0.03734652, -0.032178566, -0.023132406, 0.062551, 0.035739094, 0.015416727, 0.01135731, 0.014650933, -0.061062112, 0.08841106, -0.07278732, -0.03721957, -0.036248367, 0.065309756, -0.01695705, -0.020357002, 0.042076316, 0.057416804, 0.007940312, -0.012484141, -0.0009940327, 0.050431762, 0.005698368, -0.04173325, 0.00540452, -0.033344828, -0.023465872, 0.016356638, 0.012681863, 0.00030273537, 0.010120078, -0.06633866, 0.01055243, -0.015037488, 0.030605407, 0.015017793, 0.06360704, 0.0061225416, 0.06348856, 0.043117613, 0.030213572, -0.05157033, -0.0364817, 0.02559395, -0.027565006, 0.013808221, 0.046208255, 0.03440289, 0.0039760396, -0.01250338, 8.6506925e-35, -0.01591907, 0.027749093, 0.069588564, 0.0024242352, -0.012049449, -0.01334982, 0.028551202, -0.05992907, 0.020530974, 0.0058230427, -0.019332735], 'splade_vector': [-0.17760408, -0.41175014, 0.032082956, 0.29922295, -0.2729604, -0.34583333, 0.27851072, 0.22624949, -0.04474605, -0.120671675, 0.0016042365, 0.4787514, 0.006314042, 0.106447846, 0.09506233, 0.48813114, 0.18861201, 0.030302197, 0.6830978, 0.12047298, -0.46336475, -0.15737481, 0.4931915, -0.2659477, 0.06387822, -0.07146533, -0.22624367, -0.07993722, -0.2715773, 0.07720193, -0.073383845, -0.044349596, 0.5796597, 0.03052309, -0.966736, -0.21826774, -0.22675663, 0.012842642, -0.09957814, -0.09022905, 0.12642619, -0.5198149, -0.24541116, -0.002040705, -0.47015044, -0.034335084, -1.8861471, 0.17414914, 0.39161128, 0.12188543, -0.47245744, 0.2261804, -0.48583135, -0.09951584, 0.10636168, -0.18960159, 0.20565033, -0.060524832, 0.052459616, -0.49662828, 0.09995096, -0.29105052, 0.41072854, -0.32432652, -0.20583358, 0.040584426, 0.0847389, 0.06592442, -0.27715558, -0.35529494, -0.11407666, -0.69681203, -0.5023747, -0.034431513, 0.1368655, -0.076370664, 0.15603003, 0.36989722, 0.28822297, 0.16412807, 0.12741205, 0.057031643, 0.2555875, -0.1417967, -0.47062573, -0.35768247, 0.14683555, 0.31304845, 0.12980364, 0.65961456, -0.58053184, 0.057521377, 0.16853303, 0.28946796, -0.24881257, -0.5218922, -0.102631636, 0.00861106, 0.8388698, -0.6479333, -0.493179, -0.13783097, 0.30629396, 0.062105097, -0.38974547, 0.30956644, -0.25938413, 0.27690202, 0.3115249, -0.1200168, -0.36745542, 0.060539853, 0.1366849, -0.16226155, -0.040570408, 0.14295298, 0.38104564, 0.028448656, 0.013208385, -0.35355017, 0.2793639, 0.5616456, 0.14108308, 0.3357519, 0.26133308, 0.046227075, -0.37334362, 0.044737734, -0.13151784, 0.050511405, -0.055320088, -0.1316582, -0.12904373, -0.39491087, -0.10545788, -0.8332872, -0.053273976, -0.12361594, 0.009607193, 0.11399091, -0.36607802, 0.22430328, -0.2677753, -0.40589458, -0.06691997, -0.32360303, 0.117803134, -0.12964623, -0.7206422, -0.010296143, 0.20449975, 0.42608988, -0.003472557, -0.19670695, 0.048161026, 0.35474798, 0.36095187, 0.28424656, -0.15408748, 0.08912552, 0.26176298, 0.4536937, 0.052765954, -0.06686794, 0.3962447, -0.14025429, -0.12054332, 0.19223352, 0.019746872, -0.32230547, -0.46607825, -0.1811725, 0.24550915, -0.27014276, -0.19834647, 0.20480195, 0.8527745, -0.19958109, -0.30705532, 0.039750118, -0.81602114, 0.04984159, 0.2482928, 0.1921788, 0.11363175, 0.17750879, 0.5113097, 0.02255646, 0.37030357, 0.38947496, -0.19518284, 0.01803178, 0.07556515, -0.18733102, 0.25546545, -0.49018827, -0.2835624, 0.13223116, 0.078925535, 0.28869876, -0.19218825, -0.01499173, 0.3191407, -0.24512476, -0.46853122, 1.0241169, 0.4086352, -0.33836603, 0.123126075, 0.12644462, -0.08595866, -0.11175802, 0.54606986, -0.027997585, 0.37987176, -0.21817094, -0.118002266, 0.03572368, 0.047266833, -0.22395028, 0.41904154, -0.04656998, 0.14432158, 0.37943226, -0.32654476, 0.60348976, 0.18921089, -0.06938505, 0.37780666, -0.4286045, -0.63148206, -0.10682486, -0.012074891, 0.012542342, -0.07471109, 0.3305698, 0.28882495, -0.08363404, 0.3275294, -0.07517846, 0.22110114, 0.043452397, -0.19390209, 0.29997084, -0.300097, 0.04945415, 0.2304241, -0.11343873, -0.36692917, -0.34828874, -0.060536176, 0.15208833, 0.16127805, -0.24870528, -0.023014907, -0.08563544, -0.19724649, -0.16397384, 0.10400387, 0.42984146, -0.023855252, -0.1007656, 0.2334328, 0.056770682, -0.43857676, -0.22949839, -0.24750397, -0.32293317, 0.09697658, 0.09370577, -0.047541957, -0.1063452, 0.40366903, -0.13441178, 0.022967251, -0.056490485, 0.40579143, 0.29211983, -0.10315825, -0.17757353, 0.10527934, 0.24594806, 0.32640618, -0.4931306, -0.12336795, -0.40671888, -0.060081843, -0.13805576, -0.0623642, 0.0013371619, 0.09254516, 0.28319356, 0.101709604, 0.10599036, 0.53029525, -0.2775499, -0.09124191, -0.01287165, -0.44620702, 0.610605, -0.17476618, 0.6180383, -0.18381126, 0.18120891, -0.014892748, 0.40016443, 0.027729115, 0.10625176, -9.826489, -0.56935436, -0.64733064, -0.23836672, 0.33161825, 0.29799595, -0.104060486, -0.36728185, -0.11752148, -0.20253722, -0.029469458, 0.133467, -0.035338107, 0.29159987, -0.009148875, -0.29157653, -0.052510135, -0.33365542, -0.20256934, 0.44596606, -0.45302686, -0.50265586, -0.22341606, 0.07520364, -0.40452203, 0.40363672, 0.055630997, -0.03631885, -0.33665726, 0.29398635, -0.041876506, 0.30937594, 0.1453872, 0.15658067, -0.04181308, -0.47268203, 0.33719447, -0.026130863, -0.07955193, -0.011661348, -0.38274655, 0.42222396, 0.050327156, 0.6460656, 0.78818524, 0.072500676, -0.35339883, -0.38933513, -0.18905805, 0.35220724, -0.18862031, -0.09244688, 0.1767764, -0.1154089, -0.1333902, 0.019158304, -0.04438831, -0.0968533, 0.0074949437, -0.042787872, -0.0061513092, 0.012373331, 0.39650118, 0.3616539, 0.028997462, 0.085038826, -0.3414911, -0.36584583, 0.63316953, 0.41168845, -0.21760046, -0.5080634, 0.4498784, -3.4262547, -0.671451, -0.037487075, -0.16609299, -0.5337621, 0.25626644, -0.46758258, -0.051654603, -0.3301313, 0.39848384, 0.3718462, 0.344879, 0.08417294, 0.3242058, 0.007905504, -0.26011875, 0.18959446, 0.60349184, -0.43356892, 0.14600278, 0.16974342, 0.38404503, 0.49216747, -0.104787126, 0.039869916, -0.32072762, -0.18526381, 0.603812, -0.11963319, -0.761585, -0.1672598, -0.21496604, -0.23752213, 0.011111787, 0.20908329, 0.23151347, 0.30555007, 0.35148868, -0.2517411, -0.10051928, -0.23530711, 0.25552726, -0.16799988, 0.13661483, 0.3008803, 0.07878622, 0.1709562, 0.16828194, 0.049773887, -0.3769214, 0.04956087, -0.22855102, -0.06482062, -0.16922358, -0.59534633, 0.19805942, -0.11349926, -0.20375824, -0.16962631, 0.14503232, 0.04508851, 0.17178473, 0.065105185, -0.11847814, -0.56258374, -0.26123992, 0.16688383, 0.11189678, -0.2323341, 0.50530505, 0.2293521, 0.79800886, -0.03884496, -0.003981101, 1.7983384e-05, -0.16003035, 0.20573288, 0.34574002, 0.10948811, 0.25060898, -0.11639047, -0.7412934, 0.27414834, 0.80366194, -0.35511234, -0.22715634, 0.15879433, 0.28065726, -0.20586349, -0.95903754, -0.18390568, -0.0033718369, 0.6379302, -0.19031991, 0.21816784, -0.14740951, -0.2856655, 0.0029341592, -0.03303239, -0.6400481, 0.0056481026, -0.049656965, 0.34316006, 0.11032642, 0.16005404, 0.22686511, 0.43927625, -0.24492598, 0.025791649, 0.048904557, -0.015954206, -0.16897325, 0.061422925, -0.6601168, -0.0855117, -0.24478595, 0.6536588, 0.42489582, 0.4120168, 0.33832046, 0.2512843, 0.06272306, -0.3985159, 0.26446053, 0.49905574, -0.1803655, 0.33524644, 0.1536481, -0.27707386, -0.4044532, -0.0748419, 0.52502584, -0.11801887, 0.4358217, -0.3281917, -0.20892118, 0.1538631, -0.21791482, -0.44522777, -0.06952742, 0.2694734, 0.57060397, -0.15526062, 0.29633522, -0.073563255, -0.13825923, -0.36436158, 0.044533037, 0.11924652, -0.6747758, -0.3423404, 0.49312246, 0.4814197, 0.33543676, -0.3178825, -0.095095426, -0.10066152, -0.20390914, -0.018273646, -0.2477864, 0.45382568, 0.3503918, -0.2683442, 0.16929337, 0.67422706, -0.06474441, 0.11951275, -0.27448124, 0.1488061, -0.029723521, -0.385926, -0.12102859, 0.13829437, 0.35565364, 0.043975987, 0.66602206, 0.17539474, -0.16940944, -0.029673662, 0.39580756, -0.11154742, 0.3377252, -0.57750094, -0.18436593, -0.022452772, -0.19968437, -0.399844, 0.031168338, 0.54786116, -0.18273644, -0.109884925, -0.06969124, 0.19386987, -0.021899974, -0.014914267, -0.36900938, -0.021584272, 0.13899273, -0.20385721, 0.13536483, -0.6890797, 0.12859182, -0.06229994, -0.03562533, 0.34765646, -0.031762853, 0.64548224, 0.06438777, 0.13087328, -0.24705799, 0.2703643, 0.25326777, -0.23227052, 0.26803184, -0.009100604, 0.1249754, -0.07437337, -0.037591323, 0.024854435, -0.28213492, 0.31190667, -0.24113432, 0.26141214, 0.23479737, 0.4676958, -0.009138916, 0.3968044, -0.5580336, 0.489957, 0.14669995, -0.10866405, -0.06535086, -0.055718232, 0.08083146, -0.9284904, 0.22853704, -0.029984567, -0.00825762, -0.098620504, 0.18689233, -0.0685723, -0.66840625, -0.3105886, 0.6524532, -0.7208332, -0.1190696, 0.21663082, 0.15554526, -0.23738623, 0.5956167, 0.39383858, 0.14698209, 0.25455865, 0.28204754, 0.2437084, 0.3894125, 0.15187699, 0.6457623, -0.15121807, -0.01644702, 0.37653518, 0.3242522, 0.1034715, 0.23168662, -0.042791855, 0.15303983, 0.5819564, 0.07461912, 0.4523998, -0.421262, 0.41535416, 0.21239358, 0.0029798197, 0.17025363, -0.23720375, 0.23352028, 0.29277778, 0.40852866, 0.061783787, -0.60211736, -0.5245339, 0.05236576, 0.004382255, -0.22019506, 0.20812145, -0.18260914, -0.46952626, 0.1226781, -0.31227514, 0.6116579, 0.49891943, 0.17992456, 0.024576206, -0.33514825, 0.08231295, 0.096316986, -0.2517407, 0.07446407, -0.3083617, 0.34018952, -0.030071095, 0.22170036, -0.16248094, -0.003957907, -0.10782299, 0.18376254, -0.1046018, 0.40918177, -0.107890375, -0.1868688, 0.22715062, 0.058354277, -0.56372434, 0.3198928, 0.37761256, 0.09038377, -0.17718835, 0.036517307, -0.5144266, 0.20314862, 0.08952467, -0.6893095, 0.1436694, -0.36359322, 0.011783235, 0.42462957, 0.0397608, 0.32197833, -0.010634931, 0.17964076, 0.020622987, 0.24809544, 0.43422192, -0.20167822, -0.3624152, -0.265127, 0.15450768, 0.16484967, 0.22821966, -0.19667618, 0.7742954, -0.50789243, -0.083221294, -0.07129814, -0.0037259606, 0.6112897, -0.0645909, -0.22475474, 0.05115884, 0.24651395, 0.6073264, -0.015890477, 0.31052962, -0.015650302, 0.052553415, -0.08847682, 0.09312809, -0.4212787, -0.40087548, 0.2285998, 0.060815003, 0.5326638, -0.41737536, 0.09622528, -0.1612248, 0.29263523, -0.117986865, 0.16436766, 0.52396744, -0.24802107, -0.4300578, -0.2773161, -0.3471075, -0.028250478, 0.037232872, -0.08731251, 0.08221753, -0.24960221, -0.36027968, 0.12573577, -0.300371, 0.3122941, -0.22694588, -0.25404778, 0.14728802, 0.03546036, -0.09375634], 'context': 'It threatened the collapse of large financial institutions, which was prevented by the bailout of banks by national governments, but stock markets still dropped worldwide. In many areas, the housing market also suffered, resulting in evictions, foreclosures and prolonged unemployment. The crisis played a significant role in the failure of key businesses, declines in consumer wealth estimated in trillions of U.S. dollars, and a downturn in economic activity leading to the 2008–2012 global recession and contributing to the European sovereign-debt crisis. The active phase of the crisis, which manifested as a liquidity crisis, can be dated from August 9, 2007, when BNP Paribas terminated withdrawals from three hedge funds citing \"a complete evaporation of liquidity\".', 'mindex': 453983507864650074, 'qid': '573257950fdd8d15006c69ee'}\n",
      "{'mpnet_vector': [-0.002076187, 0.024773093, -0.014949534, -0.033212498, -0.040890068, 0.02061294, -0.017092675, 0.007823976, 0.028695336, 0.012104599, 0.0797788, -0.016864138, -0.015305068, -0.060142837, 0.011520592, -0.010443487, 0.014704564, 0.029450027, -0.005376172, 0.0010659994, -0.048402674, -0.039740473, -0.0022633872, -7.845634e-06, 0.03224375, -0.06355428, 0.002507008, 0.004758431, -0.007211539, -0.041366708, -0.014879555, -0.0099965865, 0.019576715, -0.043641165, 1.8878164e-06, 0.0038591796, -0.015267461, -0.01954969, 0.0091009205, 0.0075169806, -0.06726796, 0.09514435, 0.004926921, -0.021514595, -0.019692626, 0.012717452, 0.06216815, 0.00011961841, 0.018700378, -0.021385817, -0.00022685704, -0.016717454, -0.04232307, -0.009048457, 0.11016937, 0.039654586, -0.017373474, -0.06256919, -0.014013885, -0.07100376, 0.03365608, -0.00846734, -0.0073085576, 0.07233372, 0.03714333, 0.015119145, 0.007484843, 0.028605258, -0.010642504, -0.032195482, -0.0006745463, 0.011504205, 0.0028403886, 0.099713825, -0.023835046, -0.039907794, -0.03613579, 0.023792297, -0.002576096, -0.019265901, -0.034797404, 0.01854936, 0.07531124, 0.027827932, 0.021895222, 0.025260441, 0.005238487, -0.01901771, -0.0046443148, -0.030319449, 0.015641566, 0.0047215596, -0.013382995, 0.018156186, 0.03547733, -0.019140124, -0.0013388916, 0.04727422, 0.0029681327, 0.0008291476, 0.033052888, 0.004219677, -0.041047215, 0.0058707204, -0.03114533, 0.051702518, -0.0036511521, 0.010355141, -0.010522895, 0.059272215, -0.022489442, 0.01557457, -0.046153612, 0.08560198, 0.059128627, 0.011712541, -0.024587246, -0.008486602, -0.061230425, 0.009532546, -0.093738206, 0.030509999, 0.019104011, 0.016424824, 0.004115811, -0.03191675, -0.06612037, -0.012652968, 0.05155798, 0.026202021, -0.021913953, -0.042164803, -0.034425136, -0.00975869, 0.024375036, 0.116236985, 0.029212872, 0.033804152, -0.06485808, 0.00022686763, 0.061441053, -0.063147835, -0.0029985788, -0.017016403, -0.014877701, 0.0132020535, 0.0063375863, -0.10050852, 0.005522028, -0.038283475, 0.0065347296, 0.04298437, 0.056987856, -0.01723986, 0.055159625, 0.03579749, 0.030542735, -0.057217345, 0.004381853, 0.04362492, -0.029857589, 0.032268025, 0.082850315, -0.009972162, -0.014384189, 0.024474105, -0.028360695, -0.02368241, 0.050996725, -0.0022710338, -0.083443284, -0.018809052, -0.014046744, -0.04719764, -0.012069106, 0.007991037, -0.14828624, 0.012247571, -0.041594997, -0.055669248, -0.035841655, -0.048113942, 0.0036721001, 0.0072324076, 0.022149365, 0.013316848, -0.007627395, 0.01818312, -0.045594845, 0.028151851, 0.013929647, 0.011690981, 0.03875548, 0.027233064, -0.0329737, 0.003722563, -0.010878757, 0.044820223, -0.009271152, -0.037697043, -0.028133882, -0.027374545, 0.03795592, 0.010902489, -0.046549078, 0.004040526, 0.012967238, -0.02236313, 0.0046698228, -0.021650828, -0.020785656, 0.047818847, 0.076401636, -0.023451272, 0.01657507, 0.0023100628, 0.010863292, 0.08481092, -0.08355731, 0.04614594, -0.025236387, 0.03728829, 0.040712267, 0.013536578, -0.062106747, -0.02336226, -0.029986132, -0.0049226787, 0.022453139, -0.01196651, 0.0056848796, 0.020966846, 0.05168121, 0.0019160799, 0.042075288, 0.008486964, 0.017344369, 0.014626875, -0.009039298, -0.06972718, 0.045625873, -0.012115818, -0.010236496, 0.020622492, 0.05539337, 0.022674315, 0.052734222, -0.008592407, 0.0052146004, -0.010486632, -0.0020629764, -0.040996242, 0.042794656, -0.03922192, 0.021145731, -0.078484654, -0.043799873, 0.02997552, -0.024340674, -0.004180261, 0.0042202016, -0.042813364, 0.0335283, -0.029133132, -0.030419325, -0.024580361, -0.01455593, -0.02052358, 0.019866712, 0.008013885, 0.0077143055, -0.023253191, -0.011340657, -0.012939067, -0.0014945216, -0.030614646, -0.0026617302, -0.056379646, 0.021793695, -0.009552462, 0.04119756, 0.019451449, -0.015477283, -0.005016489, 0.018886754, 0.050080445, -0.025947388, -0.027026134, 0.022125067, -0.022866273, -0.05609323, -0.012292827, 0.0036864872, -0.027489744, 0.019663468, -0.000652751, 0.03585603, 0.06082174, -0.06180503, 0.028324738, 0.020062683, -0.0066464143, 0.026028508, -0.027944056, -0.040656712, -0.029345373, 0.017806802, -0.06207411, -0.030165311, 0.1096013, 0.02935126, 0.021952946, 0.043794252, -0.07446421, -0.0012791299, -0.010813031, -0.019200003, -0.06211486, 0.0060485885, 0.03582439, -0.028370017, 0.015958268, -0.011864163, 0.014037861, 0.018472543, -0.013584981, 0.037396047, 0.06567957, 0.05272431, 0.06643816, -0.007813799, 0.06392371, -0.014394747, -0.029774286, -0.09858572, -0.0013162114, -0.033306744, -0.044386614, -0.03273587, -0.0018819235, 0.05235527, 0.016174078, -0.016212663, 0.0064714174, -0.0041524754, -0.037031606, -0.011861705, 0.027405903, -0.10405035, -0.012236243, 0.024568686, 0.050192896, -0.007145894, -0.025227135, 0.019530239, -0.037739467, 0.009540248, -0.0092243925, 0.028099347, -0.016427742, -0.013951538, 0.045688875, 0.07633281, 0.043241687, 0.007885985, 9.091958e-07, 0.010713265, 0.0008523747, -0.05860402, 0.049950074, 0.029161904, 0.022438651, -0.038175713, 0.0041289153, 0.015006751, -0.0434277, -0.022411749, -0.038446017, 0.010886823, 0.0071349484, -0.0006699405, -0.0056338296, -0.0031802962, 0.022272233, 0.0052440315, -0.054476045, -0.0174019, 0.06202369, 0.003926298, 0.007922606, 0.025084453, -0.10713023, 0.02860672, 0.004961796, 0.009019706, 0.017228328, -0.00096884434, -0.008074755, 0.0038278298, -0.011695013, 0.020619439, 0.051368892, 0.059639562, 0.06233826, 0.023168432, 0.012300097, 0.07783323, -0.00073382247, 0.011715544, -0.07311773, 0.012929218, 0.001431882, 0.008098609, -0.012113329, 0.073346935, 0.0054484485, -0.01300034, 0.0016214754, 0.011374656, 0.009197275, 0.027655039, 0.010120395, 0.021926697, -0.06049936, 0.021492293, 0.015569697, -0.009486724, 0.0043812874, -0.0003586865, 0.0010889276, 0.01383835, -0.023572085, -0.05686295, 0.101469584, -0.03960013, -0.0039966456, 0.03605881, 0.0010660841, -0.010231025, -0.015777657, -0.016136924, -0.0037254277, 0.0062042014, 0.040445346, -0.036855515, -0.062379975, -0.027751343, -0.07994488, -0.058978435, 0.038489394, -0.0013990828, 0.018613603, 0.028342338, -0.056243, 0.014368436, 0.015799295, 0.033703387, -0.06772844, 0.011259734, 0.13121745, 0.054146107, 0.03163418, -0.0063731256, -0.008928258, 0.0047046104, 0.06644208, -0.0054462394, -0.006157477, 0.03414621, -0.0131015675, -0.011613431, -0.031305037, -0.021768728, -0.006536525, -0.024461951, 0.017554263, -0.050602257, -0.06524778, 0.08625629, -0.0075440444, -0.035598498, 0.07857712, -0.018793771, 0.032401904, 0.014873111, -0.034644555, -3.8463742e-05, -0.016450584, 0.0061674896, -0.025098365, 0.037152044, -0.0013673321, 0.018262157, -0.018286116, 0.013392803, 0.020087415, -0.04514673, -0.06566979, 0.043245263, 0.044903044, 0.0019722972, 0.038025003, -0.028874876, 0.036757685, -0.0055005504, 0.047836393, 0.0128851505, 0.068514735, 0.023669874, 0.009587473, -0.024981014, -0.028771263, -0.0329312, -0.057151943, 0.0051799715, 0.027781075, 0.0023063147, -0.04586474, -0.060515244, -0.00852159, 0.019589854, -0.023198674, -0.035828393, 0.06589161, -0.008338489, -0.017517611, 0.006864503, -0.04001888, 0.059567314, -0.016638909, -0.066390924, 0.054779902, -0.011033484, -0.027577253, -0.028878998, 0.05637961, -0.039327372, 0.07738172, -0.0031998497, -0.04004882, -0.020992568, 0.04712771, 0.00021321833, -0.02301091, 0.019291297, -0.0214907, -0.02075876, 0.024910536, 0.010280189, 0.0035495867, -0.019786933, 0.030335966, -0.06698156, -0.018883217, -0.011296915, -7.9944695e-33, -0.019208591, 0.035323605, -0.004129829, -0.018877968, -0.08643962, -0.021766461, -0.017549394, 0.03949072, -0.008112295, -0.033416066, 0.024569096, -0.03530188, 0.016805803, 0.0105794305, 0.015781254, -0.035737947, -0.037363123, 0.053970963, -0.008430159, -0.015927633, 0.04507597, 0.037978422, 0.014153505, -0.012678886, -0.009686924, -0.00042891342, -0.0014605963, -0.013844867, -0.0127965845, -0.018882629, -0.017300265, -0.033150334, -0.032994565, -0.049887512, 0.020132901, -0.05301452, -0.030131077, 0.0016134812, 0.006979234, -0.05190734, -0.05248991, -0.08624924, 0.021960227, -0.027884364, 0.005418983, -0.02516382, 0.012681552, -0.03304987, -0.059760462, 0.012477276, 0.01497981, -0.04708428, -0.0019078882, -0.0014076201, -0.018722307, -0.013495667, -0.024726337, 0.06842163, -0.060813013, -0.0010386467, -0.069754116, 0.040099207, -0.0005794795, 0.01362805, 0.03560591, 0.049774684, 0.08379656, 0.003952321, -0.044583514, 0.076707475, 0.002662498, 0.012672081, 0.02593503, -0.024346251, -0.022676269, -0.059152104, 0.021049386, 0.007107247, -0.043181036, 0.011033627, 0.028987193, 0.01334231, 0.008007482, 0.027210401, 0.0067984588, 0.030150788, -0.02425171, -0.0007669083, -0.014094153, -0.017749928, 0.0027659065, 0.019573975, 0.015866812, 0.012847992, -0.0056656213, -0.021347584, -0.03227156, 0.004125129, -0.015764039, 0.0018255272, 0.04708797, 0.03157229, -0.034571804, 0.05218851, 0.03585241, 0.004017425, 0.009144811, 0.011091875, -0.052597366, -0.018973168, -0.015028954, 0.00022915388, 0.025929818, -0.009571997, -0.04235371, 0.027993253, 0.0032813523, -0.031081308, -0.017268147, 0.013605554, 0.022323608, -0.01793347, -0.0866414, -0.013051875, -0.028415266, 0.03341748, -0.029647144, 0.012351099, -0.04674516, -0.044480745, 0.005424787, 0.0030329342, 2.575113e-07, -0.10585631, 0.019067002, -0.008963618, -0.06897937, 0.009812483, 0.0041460725, -0.0037726073, 0.017251786, 0.04972655, -0.039376087, 0.0017157191, 0.031773753, 0.008383111, 0.00081459386, 0.041895334, 0.04135361, 0.063581936, -0.019280393, -0.027259119, 0.001624391, 0.0056312024, -0.013743596, 0.04127246, -0.0018378805, -0.0077682226, -0.004110538, 0.020098561, -0.040676914, 0.0027924227, -0.016977707, 0.03505777, 0.102329426, -0.00394735, -0.009903273, -0.014193339, -0.06809776, 0.03916648, 0.0014823675, 0.00270537, 0.00017239102, -0.030902997, 0.04358363, -0.023277154, 0.025964301, 0.0077870362, 0.01643689, 0.0025970251, 0.08741797, -0.042714644, -0.0038280308, 0.034156475, 0.02217621, 0.039740205, 0.06307366, -0.03231608, 0.01930626, 0.061311964, -0.0069255396, 0.013460701, 0.023384213, 0.04864245, 0.057469133, 0.021185558, 0.0003291988, -0.05443586, -0.10001089, -0.030509368, 1.2135579e-34, 0.014195607, -0.043374974, -0.009381134, 0.03641762, 0.0052695326, 0.009929303, 0.0024149737, 0.0014671214, 0.010624272, -0.007836399, 0.0054390403], 'splade_vector': [-0.37291843, -0.15685911, 0.18443161, 0.39454135, -0.106301524, -0.12161076, 0.13002306, 0.046284497, -0.486713, -0.11660776, -0.23952734, 0.5735334, 0.19750975, 0.30125695, 0.25192776, 0.34173203, 0.11050019, -0.25128895, 0.29743627, 0.013432602, -0.17323408, -0.13266188, 0.18099865, 0.022335548, -0.38914025, -0.008148253, -0.20688753, -0.23750359, -0.33229735, 0.6022296, -0.28327596, -0.102875985, 0.31259087, 0.04839025, -0.5239434, 0.053547684, -0.63258994, 0.085936844, -0.09867588, -0.3632791, 0.2957578, -0.17671412, -0.38698468, 0.07259271, -0.532555, 0.13702916, -2.0843272, 0.005731385, 0.18677233, -0.5819561, -0.4126481, 0.49504235, 0.0586751, -0.004733283, -0.16918378, -0.1060559, -0.050977882, 0.1675811, 0.3580463, -0.2280378, 0.45471624, -0.43539193, 0.2276959, -0.18236616, -0.16427034, 0.03707704, 0.1001018, 0.015894806, 0.13675478, 0.16319506, -0.02340557, -0.45519873, -0.3012946, 0.0015605288, -0.2551762, -0.39301607, 0.5304637, 0.2857582, -0.01274086, 0.3867408, 0.28606305, 0.15781905, 0.29294777, -0.15842973, -0.37845802, -0.6362039, 0.050299753, 0.16005406, -0.16254008, 0.5230554, -0.22921339, -0.037611615, 0.1601407, 0.29087713, -0.17321841, -0.61158615, -0.011076485, -0.081288144, 0.79997444, -0.23598364, -0.5946306, -0.23028703, 0.08287566, -0.15324317, -0.4722381, 0.22463055, -0.2902481, 0.1658726, 0.38341352, -0.6418102, -0.47627208, -0.052143797, -0.12187606, -0.04754059, -0.30353925, 0.06776925, 0.062177315, 0.035918538, 0.05912691, 0.061149728, 0.19454823, 0.55455995, 0.30193093, 0.059574112, 0.014474787, 0.0103532905, -0.18211596, -0.1773162, -0.56328315, -0.06808694, 0.08539148, -0.03616609, -0.2746614, -0.014986253, 0.35407057, -0.62412846, -0.1785464, 0.26452842, 0.22373731, -0.16380319, -0.33134648, 0.09651853, -0.7018472, -0.032899812, 0.331121, -0.24411246, -0.038441166, 0.14344886, -0.3487593, 0.3827148, -0.22307004, 0.55097497, 0.051564682, -0.544675, -0.14103463, 0.23381886, -0.076879665, -0.08828326, -0.07147558, -0.044627804, 0.10327421, 0.19035937, -0.009023189, 0.10120049, 0.25085545, -0.34082815, -0.08868369, -0.01877279, -0.16735467, -0.0975647, -0.09396377, -0.015661497, 0.30586514, -0.11817523, -0.41598105, 0.24606287, 0.9309208, -0.043649267, -0.23794897, -0.06473622, -0.55244935, 0.026403915, -0.022998242, -0.21136929, -0.25939712, 0.31697783, 0.06627536, 0.15873942, 0.43944174, 0.25956148, -0.3117243, -0.15344432, 0.071831636, -0.15762538, 0.36430675, -0.38348085, -0.41907507, 0.6105068, 0.19289935, 0.5402497, -0.35274893, -0.14624287, -0.17337985, 0.09830577, -0.070876464, 1.0551919, 0.42339796, -0.07045199, -0.035690937, 0.15644725, -0.00041663926, -0.14266446, 0.48588377, -0.039766934, 0.35587075, -0.24623013, -0.08697609, -0.07410781, 0.19592027, -0.42010227, 0.3115195, -0.050276805, 0.15989135, -0.05190122, -0.34876359, 0.7735947, 0.2647927, -0.28381485, 0.72752357, -0.81506985, -0.44489214, -0.22817591, -0.4613385, 0.08865821, 0.05635235, 0.20038146, 0.59417737, -0.17937875, 0.24313478, 0.14232767, 0.15398224, -0.30010736, -0.17682768, 0.4963307, -0.2630744, 0.1318527, 0.21127954, -0.10508004, -0.4057099, -0.3801234, -0.35205236, 0.5126696, -0.1323691, -0.13928859, 0.26589257, -0.31920838, -0.07944186, -0.40412015, 0.20468087, 0.34357774, -0.35816243, 0.16507784, 0.23416744, -0.1774336, -0.23818196, -0.05309513, -0.34667733, -0.3684444, 0.10748267, 0.09398912, 0.04894155, -0.013323117, 0.37990004, -0.58223075, -0.19066684, 0.16645934, 0.24970551, 0.055530168, -0.19621909, -0.049274568, -0.17889462, 0.15463726, -0.07069666, -0.38977712, 0.30596405, -0.42300496, 0.075622454, -0.51398045, -0.17302601, -0.050641846, 0.05165995, 0.3485342, 0.09465623, 0.09824798, 0.18690224, -0.08217091, 0.08203007, 0.29574746, -0.6777465, 0.4696479, -0.2613974, 0.58746564, -0.3468511, 0.07282992, 0.30359697, 0.28147334, 0.007908031, 0.3113269, -10.303611, -0.35452968, -0.4704754, -0.21153513, 0.007419686, 0.06655205, 0.35022807, -0.11398671, -0.36632413, -0.036521994, -0.32065588, 0.35024467, -0.09230846, 0.18432626, -0.02610236, -0.46572158, -0.2500754, -0.52756447, -0.3030711, 0.4754237, -0.5500475, -0.10928262, -0.39758307, 0.22753517, -0.49094537, 0.48900956, 0.04410145, 0.38400358, -0.27419895, 0.23942122, -0.14272031, 0.3634472, 0.25433692, 0.25074202, -0.039959613, -0.0074152974, 0.17346488, -0.027617812, -0.090084545, -0.083406344, -0.3620345, -0.024309538, 0.1261803, 0.3944798, 0.35137668, -0.073420286, -0.21465133, -0.14719984, 0.18300623, 0.09727316, -0.34174308, -0.06561296, 0.588539, 0.13685428, -0.051599525, -0.047459975, -0.03333972, -0.1149034, -0.052462135, -0.03054147, -0.010155857, 0.17119628, -0.034540653, -0.0072131706, 0.07235519, 0.07197019, -0.019289078, -0.6560177, 0.5683576, 0.38942346, -0.23729214, -0.45789042, 0.3247068, -2.794329, -0.5441538, 0.33541578, -0.15807687, -0.23272277, -0.0061354255, 0.10730587, -0.34036005, -0.1797204, 0.54202443, 0.41922468, 0.07186781, 0.09373004, 0.34264353, 0.039226845, -0.16752513, 0.75906765, 0.45296004, -0.21263202, -0.2704783, -0.0518564, 0.09121713, 0.41959298, -0.40389007, 0.05075779, 0.39403033, -0.17325951, 0.4317154, -0.3504596, -0.28263068, -0.25274846, 0.4120336, 0.025905779, -0.13688478, 0.17024632, 0.2636894, 0.34408036, 0.25429583, 0.3377346, 0.036723413, 0.1891633, 0.5422925, -0.31650707, 0.1609776, 0.03041081, 0.32739574, -0.1311038, -0.3156148, 0.042894308, -0.4144337, 0.23009476, -0.45727506, 0.037664916, 0.048921045, -0.10081689, 0.078125864, 0.092545055, 0.17299516, -0.02537045, -0.14318365, 0.19628364, 0.11196999, -0.029275423, -0.1561586, 0.019691547, -0.115201786, -0.14368431, 0.4605474, -0.5842088, 0.70920926, 0.14694217, 0.60912275, -0.14506252, -0.26401672, -0.24345405, -0.13546745, 0.28655174, 0.15791526, -0.29448333, 0.20442545, 0.03206363, -0.42185885, 0.0399709, 0.4421786, -0.49615175, 0.025035651, 0.40652585, -0.0026083612, -0.5609051, -0.49483997, -0.37387344, -0.20077549, 0.49433985, -0.26414403, 0.06878374, 0.024059352, -0.04106834, 0.09083893, 0.011574711, -0.41444597, 0.038806684, 0.04670012, 0.40870914, -0.0031994714, 0.35172266, 0.26323777, 0.35211393, -0.042780563, 0.26137808, 0.32566607, 0.1307073, 0.12005185, -0.20256427, -0.39152154, 0.01801172, -0.7340218, 0.23025495, 0.3803878, 0.14861448, -0.07280546, 0.12456451, 0.022199973, -0.3794897, -0.008634917, 0.6783505, -0.0051935324, 0.34851536, -0.1347921, -0.22723873, -0.28601336, 0.10692357, 0.4890297, -0.5479389, 0.27693883, -0.31463218, -0.4221467, 0.13165338, -0.31187108, -0.23209912, 0.08609847, 0.011015301, 0.30936837, -0.091374695, 0.0033689549, -0.08018849, -0.10260446, -0.04978562, 0.344184, 0.36967826, -0.5206298, -0.2203125, 0.34566268, 0.4998452, 0.29487038, -0.16807629, 0.42176422, -0.14029068, -0.0400501, -0.059779048, -0.19252801, 0.54123116, 0.6098694, -0.6123374, 0.41961426, 0.5481402, 0.02631994, 0.19860674, 0.40844366, 0.3635131, 0.12542306, -0.30642954, -0.06910443, 0.14559874, 0.567102, -0.06392797, 0.40141085, 0.3527064, -0.27324325, -0.026188672, 0.18989182, -0.17126207, 0.7092613, -0.27799627, -0.07270577, -0.05672206, -0.35139778, -0.3165862, 0.21441337, 0.5337186, -0.05231698, 0.054784473, -0.20023786, 0.1071001, -0.14230095, -0.049250096, 0.0021700435, 0.031417575, 0.33855534, -0.042194165, 0.11481698, 0.32941344, 0.12473099, -0.09976774, 0.23982356, 0.38196278, 0.05417472, 0.31622842, 0.3366719, 0.15836759, -0.39004266, -0.0890907, -0.10016732, -0.19852418, 0.27443084, -0.2688277, -0.033118777, -0.01604527, 0.1054392, 0.35358378, 0.2647804, 0.53443027, -0.0028715804, -0.084220655, -0.29176483, 0.65963125, 0.24061081, 0.019676927, -0.48296455, 0.8274722, -0.08430857, -0.43758494, -0.09733967, -0.13940158, 0.26299518, -0.60574245, 0.050694898, -0.24054219, 0.14577115, -0.09595125, 0.16121699, -0.031622518, -0.10045483, -0.36929572, 0.6882554, -0.6956681, -0.3436231, 0.16387804, 0.109194666, -0.22325864, 0.3518351, 0.089637995, 0.48704052, 0.19549215, 0.32595786, 0.24255936, 0.36760727, 0.14258595, 0.8672095, 0.07838578, 0.20064157, 0.3935155, 0.18307655, 0.43000573, 0.34015837, -0.56967306, -0.037930083, 0.37489697, 0.1028994, 0.3543583, -0.527763, 0.15964611, 0.18369704, 0.22445975, 0.19460997, 0.1240739, 0.112268835, 0.04820808, 0.095000446, 0.10696824, -0.45539144, -0.5038739, 0.3289598, 0.33731776, -0.0915765, -0.02637238, -0.54124665, -0.56899947, 0.27502793, -0.38651675, 0.67501056, 0.6481427, 0.1272065, -0.47923213, -0.21172844, 0.00022598042, 0.3131338, 0.26757336, 0.024133228, -0.24842402, 0.10094539, 0.26772597, 0.14640114, -0.13400227, 0.033181023, -0.25039342, 0.14911596, -0.0737571, 0.42615896, -0.16689911, -0.15830684, 0.017857507, 0.28149745, -0.7884985, 0.21613616, 0.20655885, -0.0005244354, 0.035357133, -0.047267534, -0.28775954, -0.4086325, 0.11752495, -0.29332834, 0.018525543, -0.4052328, -0.0538229, 0.43834496, 0.0014390192, 0.06737039, 0.26130986, 0.06213032, -0.2466916, 0.08373562, 0.5071285, 0.04028483, -0.17437142, -0.55219465, -0.06835227, 0.22075386, 0.22323307, -0.12992156, 0.5042728, -0.1281546, -0.21207729, -0.2743001, -0.15520681, 0.36463946, -0.59546864, -0.055158596, 0.2563927, 0.3349361, 0.16413398, -0.3082932, 0.4896853, 0.16160417, 0.027231794, -0.10082407, -0.097293496, -0.11714001, -0.036445543, 0.19373949, 0.017820735, 0.05413312, -0.5756506, 0.20146851, 0.04531927, 0.3956076, -0.24127829, -0.24591324, 0.24582735, 0.019290755, -0.058154706, -0.77495694, -0.06500099, -0.012550027, -0.06772901, -0.3118846, 0.16339834, -0.09173509, -0.34692624, 0.37057203, -0.27508697, 0.43390515, -0.05722309, -0.33583084, -0.011955746, -0.09805127, 0.012369135], 'context': 'But house was also being developed on Ibiza,[citation needed] although no house artists or labels were coming from this tiny island at the time. By the mid-1980s a distinct Balearic mix of house was discernible.[citation needed] Several clubs such as Amnesia with DJ Alfredo were playing a mix of rock, pop, disco and house. These clubs, fueled by their distinctive sound and Ecstasy, began to have an influence on the British scene. By late 1987, DJs such as Trevor Fung, Paul Oakenfold and Danny Rampling were bringing the Ibiza sound to UK clubs such as the Haçienda in Manchester, and in London clubs such as Shoom in Southwark, Heaven, Future and Spectrum.', 'mindex': 453983507864650075, 'qid': '5706b11d0eeca41400aa0d36'}\n"
     ]
    }
   ],
   "source": [
    "# Get collection statistics to verify insertion\n",
    "stats = collection.num_entities\n",
    "print(f\"Number of entities in collection: {stats}\")\n",
    "\n",
    "# Fetching data without a specific filter\n",
    "nsample = 2\n",
    "collection.load()\n",
    "results = collection.query(\n",
    "    expr=\"\",\n",
    "    output_fields=[\"*\"],  # Retrieve all fields; adjust as needed\n",
    "    limit=nsample,              # Limit to 5 rows directly in the query\n",
    "    offset=0              # Start from the first row\n",
    ")\n",
    "\n",
    "# Step 5: Print the results\n",
    "print(f\"Sample of {nsample} Rows:\")\n",
    "for row in results:\n",
    "    print(row)"
   ]
  },
  {
   "cell_type": "code",
   "execution_count": 164,
   "metadata": {},
   "outputs": [
    {
     "name": "stderr",
     "output_type": "stream",
     "text": [
      "Vectorizing with ALL-MPNET-BASE-V2: 100%|██████████| 7/7 [00:00<00:00, 25.51it/s]\n",
      "Vectorizing with SPLADE: 100%|██████████| 7/7 [00:00<00:00, 65.90it/s]"
     ]
    },
    {
     "name": "stdout",
     "output_type": "stream",
     "text": [
      "Collection 'squad2train' is not loaded. Loading now...\n",
      "Load state for 'squad2train': Loaded\n",
      "Schema : {'auto_id': True, 'description': '', 'fields': [{'name': 'mindex', 'description': '', 'type': <DataType.INT64: 5>, 'is_primary': True, 'auto_id': True}, {'name': 'qid', 'description': '', 'type': <DataType.VARCHAR: 21>, 'params': {'max_length': 50}}, {'name': 'mpnet_vector', 'description': '', 'type': <DataType.FLOAT_VECTOR: 101>, 'params': {'dim': 768}}, {'name': 'splade_vector', 'description': '', 'type': <DataType.FLOAT_VECTOR: 101>, 'params': {'dim': 768}}, {'name': 'context', 'description': '', 'type': <DataType.VARCHAR: 21>, 'params': {'max_length': 4096}}], 'enable_dynamic_field': False}\n",
      "Num of Entries : 10000\n",
      "##############################\n"
     ]
    },
    {
     "name": "stderr",
     "output_type": "stream",
     "text": [
      "\n"
     ]
    }
   ],
   "source": [
    "def search_collection(collection_name, keyword):\n",
    "    # Generate embeddings for the keyword\n",
    "    mpnet_emb = vectorize_mpnet_batch(keyword, 1)\n",
    "    splade_emb = vectorize_splade_batch(keyword, 1)\n",
    "\n",
    "    # Assuming you want to use SPLADE embedding for searching\n",
    "    if not utility.has_collection(collection_name):\n",
    "        print(f\"Collection '{collection_name}' does not exist.\")\n",
    "    else:\n",
    "        print(f\"Collection '{collection_name}' is not loaded. Loading now...\")\n",
    "        collection = Collection(collection_name)\n",
    "        collection.load()\n",
    "        \n",
    "        load_state = utility.load_state(collection_name)\n",
    "        print(f\"Load state for '{collection_name}': {load_state}\")\n",
    "        print(f\"Schema : {collection.schema}\")\n",
    "        print(f\"Num of Entries : {collection.num_entities}\")\n",
    "    print(\"#\"*30)\n",
    "    \n",
    "    # Perform the search using the SPLADE embedding\n",
    "    search_params = {\"metric_type\": \"COSINE\", \"params\": {\"ef\": 64, \"nprobe\": 10}}  # Adjust parameters as needed\n",
    "    splade_results = collection.search(\n",
    "        data=splade_emb, \n",
    "        anns_field=\"splade_vector\",      # Field name where embeddings are stored\n",
    "        param=search_params,\n",
    "        output_fields=[\"*\"],\n",
    "        limit=10,\n",
    "        expr=None                     # Optional: additional filtering conditions\n",
    "    )\n",
    "\n",
    "    # Search with MPNet embedding\n",
    "    mpnet_results = collection.search(\n",
    "        data=mpnet_emb,\n",
    "        anns_field=\"mpnet_vector\",\n",
    "        param=search_params,\n",
    "        output_fields=[\"*\"],\n",
    "        limit=10,\n",
    "        expr=None\n",
    "    )\n",
    "\n",
    "    return splade_results, mpnet_results\n",
    "\n",
    "keyword = \"Bermuda\"\n",
    "splade_results, mpnet_results = search_collection(collection_name, keyword)"
   ]
  },
  {
   "cell_type": "code",
   "execution_count": 165,
   "metadata": {},
   "outputs": [
    {
     "name": "stdout",
     "output_type": "stream",
     "text": [
      "Splade Search Results: Bermuda\n",
      "ID: 453983507864658302, Distance: 0.83, Has Key: No, \n",
      "Text: As noted above, there are 55 tinkhundla in Swaziland and each elects one representative to the House of Assembly of Swaziland. Each inkhundla has a development committee (bucopho) elected from the var\n",
      "\n",
      "ID: 453983507864651459, Distance: 0.83, Has Key: No, \n",
      "Text: By 1874, Bell's initial work on the harmonic telegraph had entered a formative stage, with progress made both at his new Boston \"laboratory\" (a rented facility) and at his family home in Canada a big \n",
      "\n",
      "ID: 453983507864651037, Distance: 0.83, Has Key: No, \n",
      "Text: In Old Chinese, (e.g. Classical Chinese) most words were monosyllabic and there was a close correspondence between characters and words. In modern Chinese (esp. Mandarin Chinese), characters do not ne\n",
      "\n",
      "ID: 453983507864650440, Distance: 0.82, Has Key: No, \n",
      "Text: The particular contrasts which are phonemic in a language can change over time. At one time, [f] and [v], two sounds that have the same place and manner of articulation and differ in voicing only, wer\n",
      "\n",
      "ID: 453983507864658331, Distance: 0.82, Has Key: No, \n",
      "Text: There is no single standard for HDTV color support. Colors are typically broadcast using a (10-bits per channel) YUV color space but, depending on the underlying image generating technologies of the r\n",
      "\n",
      "ID: 453983507864655086, Distance: 0.82, Has Key: No, \n",
      "Text: In the 2010s, American jurisdictions have experienced a shortage of lethal injection drugs, due to anti-death penalty advocacy and low production volume. Hospira, the only U.S. manufacturer of sodium \n",
      "\n",
      "ID: 453983507864657885, Distance: 0.82, Has Key: No, \n",
      "Text: On the difference between the ideals of architecture and mere construction, the renowned 20th-century architect Le Corbusier wrote: \"You employ stone, wood, and concrete, and with these materials you \n",
      "\n",
      "ID: 453983507864652709, Distance: 0.82, Has Key: No, \n",
      "Text: The period saw the growth of a distinct and trained architectural profession; before the mid-century \"the high-sounding title, 'architect' was adopted by anyone who could get away with it\". But most b\n",
      "\n",
      "ID: 453983507864659010, Distance: 0.82, Has Key: No, \n",
      "Text: Although the Founding Fathers of the United States did not originally intend for American politics to be partisan, early political controversies in the 1790s over the extent of federal government powe\n",
      "\n",
      "ID: 453983507864652963, Distance: 0.82, Has Key: No, \n",
      "Text: Classification seeks to describe the diversity of bacterial species by naming and grouping organisms based on similarities. Bacteria can be classified on the basis of cell structure, cellular metaboli\n",
      "\n",
      "ID: 453983507864651037, Distance: 0.82, Has Key: No, \n",
      "Text: In Old Chinese, (e.g. Classical Chinese) most words were monosyllabic and there was a close correspondence between characters and words. In modern Chinese (esp. Mandarin Chinese), characters do not ne\n",
      "\n",
      "ID: 453983507864651459, Distance: 0.82, Has Key: No, \n",
      "Text: By 1874, Bell's initial work on the harmonic telegraph had entered a formative stage, with progress made both at his new Boston \"laboratory\" (a rented facility) and at his family home in Canada a big \n",
      "\n",
      "ID: 453983507864652358, Distance: 0.82, Has Key: No, \n",
      "Text: Electoral fraud is illegal interference with the process of an election. Acts of fraud affect vote counts to bring about an election result, whether by increasing the vote share of the favored candida\n",
      "\n",
      "ID: 453983507864658302, Distance: 0.82, Has Key: No, \n",
      "Text: As noted above, there are 55 tinkhundla in Swaziland and each elects one representative to the House of Assembly of Swaziland. Each inkhundla has a development committee (bucopho) elected from the var\n",
      "\n",
      "ID: 453983507864658536, Distance: 0.82, Has Key: No, \n",
      "Text: Fryderyk Chopin was born in Żelazowa Wola, 46 kilometres (29 miles) west of Warsaw, in what was then the Duchy of Warsaw, a Polish state established by Napoleon. The parish baptismal record gives his \n",
      "\n",
      "ID: 453983507864651180, Distance: 0.82, Has Key: No, \n",
      "Text: The egalitarianism typical of human hunters and gatherers is never total, but is striking when viewed in an evolutionary context. One of humanity's two closest primate relatives, chimpanzees, are anyt\n",
      "\n",
      "ID: 453983507864658468, Distance: 0.82, Has Key: No, \n",
      "Text: Napoleon III, since the Crimean War Britain's closest ally, visited London in April 1855, and from 17 to 28 August the same year Victoria and Albert returned the visit. Napoleon III met the couple at \n",
      "\n",
      "ID: 453983507864650440, Distance: 0.82, Has Key: No, \n",
      "Text: The particular contrasts which are phonemic in a language can change over time. At one time, [f] and [v], two sounds that have the same place and manner of articulation and differ in voicing only, wer\n",
      "\n",
      "ID: 453983507864651350, Distance: 0.82, Has Key: No, \n",
      "Text: The first British patent for the use of asphalt/bitumen was 'Cassell's patent asphalte or bitumen' in 1834. Then on 25 November 1837, Richard Tappin Claridge patented the use of Seyssel asphalt (paten\n",
      "\n",
      "ID: 453983507864654752, Distance: 0.82, Has Key: No, \n",
      "Text: Under New York State's gradual abolition act of 1799, children of slave mothers were born to be eventually liberated but were held in indentured servitude until their mid-to-late twenties. Together wi\n",
      "\n",
      "ID: 453983507864650440, Distance: 0.83, Has Key: No, \n",
      "Text: The particular contrasts which are phonemic in a language can change over time. At one time, [f] and [v], two sounds that have the same place and manner of articulation and differ in voicing only, wer\n",
      "\n",
      "ID: 453983507864651037, Distance: 0.83, Has Key: No, \n",
      "Text: In Old Chinese, (e.g. Classical Chinese) most words were monosyllabic and there was a close correspondence between characters and words. In modern Chinese (esp. Mandarin Chinese), characters do not ne\n",
      "\n",
      "ID: 453983507864658302, Distance: 0.82, Has Key: No, \n",
      "Text: As noted above, there are 55 tinkhundla in Swaziland and each elects one representative to the House of Assembly of Swaziland. Each inkhundla has a development committee (bucopho) elected from the var\n",
      "\n",
      "ID: 453983507864655154, Distance: 0.82, Has Key: No, \n",
      "Text: Steven Waldman notes that; \"The evangelicals provided the political muscle for the efforts of Madison and Jefferson, not merely because they wanted to block official churches but because they wanted t\n",
      "\n",
      "ID: 453983507864651350, Distance: 0.82, Has Key: No, \n",
      "Text: The first British patent for the use of asphalt/bitumen was 'Cassell's patent asphalte or bitumen' in 1834. Then on 25 November 1837, Richard Tappin Claridge patented the use of Seyssel asphalt (paten\n",
      "\n",
      "ID: 453983507864659010, Distance: 0.82, Has Key: No, \n",
      "Text: Although the Founding Fathers of the United States did not originally intend for American politics to be partisan, early political controversies in the 1790s over the extent of federal government powe\n",
      "\n",
      "ID: 453983507864654062, Distance: 0.82, Has Key: No, \n",
      "Text: Krispy Kreme, an international chain of doughnut stores, was started in North Carolina; the company's headquarters are in Winston-Salem. Pepsi-Cola was first produced in 1898 in New Bern. A regional s\n",
      "\n",
      "ID: 453983507864651733, Distance: 0.82, Has Key: No, \n",
      "Text: In addition there are two service bells, cast by Robert Mot, in 1585 and 1598 respectively, a Sanctus bell cast in 1738 by Richard Phelps and Thomas Lester and two unused bells—one cast about 1320, by\n",
      "\n",
      "ID: 453983507864654752, Distance: 0.82, Has Key: No, \n",
      "Text: Under New York State's gradual abolition act of 1799, children of slave mothers were born to be eventually liberated but were held in indentured servitude until their mid-to-late twenties. Together wi\n",
      "\n",
      "ID: 453983507864654032, Distance: 0.82, Has Key: No, \n",
      "Text: According to the Institute of Russian Language of the Russian Academy of Sciences, an optional acute accent (знак ударения) may, and sometimes should, be used to mark stress. For example, it is used t\n",
      "\n",
      "ID: 453983507864658315, Distance: 0.85, Has Key: No, \n",
      "Text: Detroit is cited as the birthplace of techno music in the early 1980s. The city also lends its name to an early and pioneering genre of electronic dance music, \"Detroit techno\". Featuring science fict\n",
      "\n",
      "ID: 453983507864655086, Distance: 0.84, Has Key: No, \n",
      "Text: In the 2010s, American jurisdictions have experienced a shortage of lethal injection drugs, due to anti-death penalty advocacy and low production volume. Hospira, the only U.S. manufacturer of sodium \n",
      "\n",
      "ID: 453983507864658302, Distance: 0.84, Has Key: No, \n",
      "Text: As noted above, there are 55 tinkhundla in Swaziland and each elects one representative to the House of Assembly of Swaziland. Each inkhundla has a development committee (bucopho) elected from the var\n",
      "\n",
      "ID: 453983507864651459, Distance: 0.84, Has Key: No, \n",
      "Text: By 1874, Bell's initial work on the harmonic telegraph had entered a formative stage, with progress made both at his new Boston \"laboratory\" (a rented facility) and at his family home in Canada a big \n",
      "\n",
      "ID: 453983507864650440, Distance: 0.84, Has Key: No, \n",
      "Text: The particular contrasts which are phonemic in a language can change over time. At one time, [f] and [v], two sounds that have the same place and manner of articulation and differ in voicing only, wer\n",
      "\n",
      "ID: 453983507864651037, Distance: 0.84, Has Key: No, \n",
      "Text: In Old Chinese, (e.g. Classical Chinese) most words were monosyllabic and there was a close correspondence between characters and words. In modern Chinese (esp. Mandarin Chinese), characters do not ne\n",
      "\n",
      "ID: 453983507864656473, Distance: 0.84, Has Key: No, \n",
      "Text: Vocal music in the Renaissance is noted for the flourishing of an increasingly elaborate polyphonic style. The principal liturgical forms which endured throughout the entire Renaissance period were ma\n",
      "\n",
      "ID: 453983507864652308, Distance: 0.84, Has Key: No, \n",
      "Text: Trading in influence, or influence peddling, refers a person selling his/her influence over the decision making process to benefit a third party (person or institution). The difference with bribery is\n",
      "\n",
      "ID: 453983507864657885, Distance: 0.84, Has Key: No, \n",
      "Text: On the difference between the ideals of architecture and mere construction, the renowned 20th-century architect Le Corbusier wrote: \"You employ stone, wood, and concrete, and with these materials you \n",
      "\n",
      "ID: 453983507864652709, Distance: 0.84, Has Key: No, \n",
      "Text: The period saw the growth of a distinct and trained architectural profession; before the mid-century \"the high-sounding title, 'architect' was adopted by anyone who could get away with it\". But most b\n",
      "\n",
      "ID: 453983507864654515, Distance: 0.88, Has Key: No, \n",
      "Text: In 2000, the five most common self-reported ethnic groups in the state were: American (17.3%), African American (13.0%), Irish (9.3%), English (9.1%), and German (8.3%). Most Tennesseans who self-iden\n",
      "\n",
      "ID: 453983507864658315, Distance: 0.88, Has Key: No, \n",
      "Text: Detroit is cited as the birthplace of techno music in the early 1980s. The city also lends its name to an early and pioneering genre of electronic dance music, \"Detroit techno\". Featuring science fict\n",
      "\n",
      "ID: 453983507864659758, Distance: 0.88, Has Key: No, \n",
      "Text: Some other popular sights are the Waterloo Column, the Laves House, the Wangenheim Palace, the Lower Saxony State Archives, the Hanover Playhouse, the Kröpcke Clock, the Anzeiger Tower Block, the Admi\n",
      "\n",
      "ID: 453983507864650440, Distance: 0.88, Has Key: No, \n",
      "Text: The particular contrasts which are phonemic in a language can change over time. At one time, [f] and [v], two sounds that have the same place and manner of articulation and differ in voicing only, wer\n",
      "\n",
      "ID: 453983507864656502, Distance: 0.88, Has Key: No, \n",
      "Text: Thus, while the rest of Europe saw revolutionary uprisings, the Swiss drew up a constitution which provided for a federal layout, much of it inspired by the American example. This constitution provide\n",
      "\n",
      "ID: 453983507864655154, Distance: 0.88, Has Key: No, \n",
      "Text: Steven Waldman notes that; \"The evangelicals provided the political muscle for the efforts of Madison and Jefferson, not merely because they wanted to block official churches but because they wanted t\n",
      "\n",
      "ID: 453983507864651035, Distance: 0.87, Has Key: No, \n",
      "Text: The Odrysian Kingdom was a union of Thracian tribes under the kings of the powerful Odrysian tribe centered around the region of Thrace. Various parts of Thrace were under Macedonian rule under Philip\n",
      "\n",
      "ID: 453983507864651459, Distance: 0.87, Has Key: No, \n",
      "Text: By 1874, Bell's initial work on the harmonic telegraph had entered a formative stage, with progress made both at his new Boston \"laboratory\" (a rented facility) and at his family home in Canada a big \n",
      "\n",
      "ID: 453983507864651037, Distance: 0.87, Has Key: No, \n",
      "Text: In Old Chinese, (e.g. Classical Chinese) most words were monosyllabic and there was a close correspondence between characters and words. In modern Chinese (esp. Mandarin Chinese), characters do not ne\n",
      "\n",
      "ID: 453983507864657547, Distance: 0.87, Has Key: No, \n",
      "Text: These immigrants were largely responsible for the first general strike in North America in 1835, in which workers in the city won the ten-hour workday. The city was a destination for thousands of Iris\n",
      "\n",
      "ID: 453983507864651037, Distance: 0.84, Has Key: No, \n",
      "Text: In Old Chinese, (e.g. Classical Chinese) most words were monosyllabic and there was a close correspondence between characters and words. In modern Chinese (esp. Mandarin Chinese), characters do not ne\n",
      "\n",
      "ID: 453983507864655154, Distance: 0.84, Has Key: No, \n",
      "Text: Steven Waldman notes that; \"The evangelicals provided the political muscle for the efforts of Madison and Jefferson, not merely because they wanted to block official churches but because they wanted t\n",
      "\n",
      "ID: 453983507864658315, Distance: 0.84, Has Key: No, \n",
      "Text: Detroit is cited as the birthplace of techno music in the early 1980s. The city also lends its name to an early and pioneering genre of electronic dance music, \"Detroit techno\". Featuring science fict\n",
      "\n",
      "ID: 453983507864659437, Distance: 0.84, Has Key: No, \n",
      "Text: La Diablada Carnival takes place in Oruro in central Bolivia. It is celebrated in honor of the miners' patron saint, Vírgen de Socavon (the Virgin of the Tunnels). Over 50 parade groups dance, sing an\n",
      "\n",
      "ID: 453983507864651459, Distance: 0.84, Has Key: No, \n",
      "Text: By 1874, Bell's initial work on the harmonic telegraph had entered a formative stage, with progress made both at his new Boston \"laboratory\" (a rented facility) and at his family home in Canada a big \n",
      "\n",
      "ID: 453983507864658536, Distance: 0.84, Has Key: No, \n",
      "Text: Fryderyk Chopin was born in Żelazowa Wola, 46 kilometres (29 miles) west of Warsaw, in what was then the Duchy of Warsaw, a Polish state established by Napoleon. The parish baptismal record gives his \n",
      "\n",
      "ID: 453983507864650440, Distance: 0.84, Has Key: No, \n",
      "Text: The particular contrasts which are phonemic in a language can change over time. At one time, [f] and [v], two sounds that have the same place and manner of articulation and differ in voicing only, wer\n",
      "\n",
      "ID: 453983507864658302, Distance: 0.84, Has Key: No, \n",
      "Text: As noted above, there are 55 tinkhundla in Swaziland and each elects one representative to the House of Assembly of Swaziland. Each inkhundla has a development committee (bucopho) elected from the var\n",
      "\n",
      "ID: 453983507864651035, Distance: 0.84, Has Key: No, \n",
      "Text: The Odrysian Kingdom was a union of Thracian tribes under the kings of the powerful Odrysian tribe centered around the region of Thrace. Various parts of Thrace were under Macedonian rule under Philip\n",
      "\n",
      "ID: 453983507864657885, Distance: 0.84, Has Key: No, \n",
      "Text: On the difference between the ideals of architecture and mere construction, the renowned 20th-century architect Le Corbusier wrote: \"You employ stone, wood, and concrete, and with these materials you \n",
      "\n",
      "ID: 453983507864651459, Distance: 0.92, Has Key: No, \n",
      "Text: By 1874, Bell's initial work on the harmonic telegraph had entered a formative stage, with progress made both at his new Boston \"laboratory\" (a rented facility) and at his family home in Canada a big \n",
      "\n",
      "ID: 453983507864658315, Distance: 0.92, Has Key: No, \n",
      "Text: Detroit is cited as the birthplace of techno music in the early 1980s. The city also lends its name to an early and pioneering genre of electronic dance music, \"Detroit techno\". Featuring science fict\n",
      "\n",
      "ID: 453983507864658302, Distance: 0.91, Has Key: No, \n",
      "Text: As noted above, there are 55 tinkhundla in Swaziland and each elects one representative to the House of Assembly of Swaziland. Each inkhundla has a development committee (bucopho) elected from the var\n",
      "\n",
      "ID: 453983507864658006, Distance: 0.91, Has Key: No, \n",
      "Text: Japan sponsored several puppet governments, one of which was headed by Wang Jingwei. However, its policies of brutality toward the Chinese population, of not yielding any real power to these regimes, \n",
      "\n",
      "ID: 453983507864650248, Distance: 0.91, Has Key: No, \n",
      "Text: In the United Kingdom, the film grossed £4.1 million ($6.4 million) from its Monday preview screenings. It grossed £6.3 million ($9.2 million) on its opening day and then £5.7 million ($8.8 million) o\n",
      "\n",
      "ID: 453983507864657328, Distance: 0.91, Has Key: No, \n",
      "Text: Grande Saline Bay provides temporary anchorage for small vessels while Colombier Bay, to the northwest, has a 4 fathoms patch near mid entrance. In the bight of St. Jean Bay there is a narrow cut thro\n",
      "\n",
      "ID: 453983507864650226, Distance: 0.91, Has Key: No, \n",
      "Text: The Cork accent, part of the Southwest dialect of Hiberno-English, displays various features which set it apart from other accents in Ireland. Patterns of tone and intonation often rise and fall, with\n",
      "\n",
      "ID: 453983507864650975, Distance: 0.91, Has Key: No, \n",
      "Text: The fairs held at the shrines of Sufi saints are called urs. They generally mark the death anniversary of the saint. On these occasions devotees assemble in large numbers and pay homage to the memory \n",
      "\n",
      "ID: 453983507864650271, Distance: 0.91, Has Key: No, \n",
      "Text: Bell is also credited with developing one of the early versions of a metal detector in 1881. The device was quickly put together in an attempt to find the bullet in the body of U.S. President James Ga\n",
      "\n",
      "ID: 453983507864655932, Distance: 0.90, Has Key: No, \n",
      "Text: In the 19th century, southern and central European sport hunters often pursued game only for a trophy, usually the head or pelt of an animal, which was then displayed as a sign of prowess. The rest of\n",
      "\n"
     ]
    }
   ],
   "source": [
    "def printsearch(results=[]):\n",
    "    for result in results:\n",
    "        for entity in result:\n",
    "            entity_id = entity.id  # Get the ID of the result\n",
    "            entity_text = entity.entity.get(\"context\")  # Get original text (replace 'text' with your field name)\n",
    "            entity_text = entity_text.replace(keyword, f\"***{keyword}***\")\n",
    "            distance = entity.distance  # Get distance of the result\n",
    "            containskey = \"Yes\" if (keyword in entity_text) else \"No\"\n",
    "            \n",
    "            print(f\"ID: {entity_id}, Distance: {distance:.2f}, Has Key: {containskey}, \\nText: {entity_text:.200}\\n\")\n",
    "    return\n",
    "\n",
    "print(f\"Splade Search Results: {keyword}\")\n",
    "printsearch(splade_results)"
   ]
  },
  {
   "cell_type": "code",
   "execution_count": 166,
   "metadata": {},
   "outputs": [
    {
     "name": "stdout",
     "output_type": "stream",
     "text": [
      "ALL MPNET Search Results: Bermuda\n",
      "ID: 453983507864651828, Distance: 0.45, Has Key: No, \n",
      "Text: Unique to the development of Dutch is the collaps of older ol/ul/al + dental into ol + dental, followed by vocalisation of pre-consonantal /l/ and after a short vowel, creating the diphthong /ɑu/ e.g.\n",
      "\n",
      "ID: 453983507864652111, Distance: 0.44, Has Key: No, \n",
      "Text: Compass-M1 transmits in 3 bands: E2, E5B, and E6. In each frequency band two coherent sub-signals have been detected with a phase shift of 90 degrees (in quadrature). These signal components are furth\n",
      "\n",
      "ID: 453983507864653157, Distance: 0.43, Has Key: No, \n",
      "Text: The bandwidth characteristics of a resonant antenna element can be characterized according to its Q, just as one uses to characterize the sharpness of an L-C resonant circuit. However it is often assu\n",
      "\n",
      "ID: 453983507864658369, Distance: 0.41, Has Key: No, \n",
      "Text: Hydrogen is a chemical element with chemical symbol H and atomic number 1. With an atomic weight of 7000100794000000000♠1.00794 u, hydrogen is the lightest element on the periodic table. Its monatomic\n",
      "\n",
      "ID: 453983507864651936, Distance: 0.40, Has Key: No, \n",
      "Text: The Schnellweg (en: expressway) system, a number of Bundesstraße roads, forms a structure loosely resembling a large ring road together with A2 and A7. The roads are B 3, B 6 and B 65, called Westschn\n",
      "\n",
      "ID: 453983507864654555, Distance: 0.39, Has Key: No, \n",
      "Text: Unlike other data cables (e.g., Ethernet, HDMI), each end of a USB cable uses a different kind of connector; a Type-A or a Type-B. This kind of design was chosen to prevent electrical overloads and da\n",
      "\n",
      "ID: 453983507864659893, Distance: 0.37, Has Key: No, \n",
      "Text: Modern editions of Old English manuscripts generally introduce some additional conventions. The modern forms of Latin letters are used, including ⟨g⟩ in place of the insular G, ⟨s⟩ for long S, and oth\n",
      "\n",
      "ID: 453983507864653318, Distance: 0.34, Has Key: No, \n",
      "Text: Named one of the best business schools in the Midwest by Princeton Review, the KU School of Business has been continually accredited by the Association to Advance Collegiate Schools of Business (AACSB\n",
      "\n",
      "ID: 453983507864659992, Distance: 0.33, Has Key: No, \n",
      "Text: Houston (i/ˈhjuːstən/ HYOO-stən) is the most populous city in Texas and the fourth most populous city in the United States, located in Southeast Texas near the Gulf of Mexico. With a census-estimated \n",
      "\n",
      "ID: 453983507864658971, Distance: 0.33, Has Key: No, \n",
      "Text: Some of Australia's most prominent and well known schools are based in Melbourne. Of the top twenty high schools in Australia according to the Better Education ranking, six are located in Melbourne. T\n",
      "\n",
      "ID: 453983507864651828, Distance: 0.51, Has Key: No, \n",
      "Text: Unique to the development of Dutch is the collaps of older ol/ul/al + dental into ol + dental, followed by vocalisation of pre-consonantal /l/ and after a short vowel, creating the diphthong /ɑu/ e.g.\n",
      "\n",
      "ID: 453983507864658369, Distance: 0.47, Has Key: No, \n",
      "Text: Hydrogen is a chemical element with chemical symbol H and atomic number 1. With an atomic weight of 7000100794000000000♠1.00794 u, hydrogen is the lightest element on the periodic table. Its monatomic\n",
      "\n",
      "ID: 453983507864659893, Distance: 0.44, Has Key: No, \n",
      "Text: Modern editions of Old English manuscripts generally introduce some additional conventions. The modern forms of Latin letters are used, including ⟨g⟩ in place of the insular G, ⟨s⟩ for long S, and oth\n",
      "\n",
      "ID: 453983507864653157, Distance: 0.43, Has Key: No, \n",
      "Text: The bandwidth characteristics of a resonant antenna element can be characterized according to its Q, just as one uses to characterize the sharpness of an L-C resonant circuit. However it is often assu\n",
      "\n",
      "ID: 453983507864653518, Distance: 0.39, Has Key: No, \n",
      "Text: The different dialects show many sound shifts in different vowels (even shifting between diphthongs and monophthongs), and in some cases consonants also shift pronunciation. For example, an oddity of \n",
      "\n",
      "ID: 453983507864650893, Distance: 0.38, Has Key: No, \n",
      "Text: Wood has been an important construction material since humans began building shelters, houses and boats. Nearly all boats were made out of wood until the late 19th century, and wood remains in common \n",
      "\n",
      "ID: 453983507864655082, Distance: 0.38, Has Key: No, \n",
      "Text: Following a steady decline, beginning in the late 1990s up through the mid-2000s, illicit drug use among adolescents has been on the rise in the U.S. Aside from alcohol, marijuana is the most commonly\n",
      "\n",
      "ID: 453983507864655124, Distance: 0.37, Has Key: No, \n",
      "Text: Prior to the Reformation, the Polish nobility were mostly either Roman Catholic or Orthodox with a small group of Muslims. Many families, however, soon adopted the Reformed faiths. After the Counter-R\n",
      "\n",
      "ID: 453983507864652962, Distance: 0.36, Has Key: No, \n",
      "Text: ELPJ, a Japanese-based company, sells a laser turntable that uses a laser to read vinyl discs optically, without physical contact. The laser turntable eliminates record wear and the possibility of acc\n",
      "\n",
      "ID: 453983507864657132, Distance: 0.35, Has Key: No, \n",
      "Text: Chengdu Economic and Technological Development Zone (Chinese: 成都经济技术开发区; pinyin: Chéngdū jīngjì jìshù kāifā qū) was approved as state-level development zone in February 2000. The zone now has a develo\n",
      "\n",
      "ID: 453983507864659893, Distance: 0.48, Has Key: No, \n",
      "Text: Modern editions of Old English manuscripts generally introduce some additional conventions. The modern forms of Latin letters are used, including ⟨g⟩ in place of the insular G, ⟨s⟩ for long S, and oth\n",
      "\n",
      "ID: 453983507864653157, Distance: 0.43, Has Key: No, \n",
      "Text: The bandwidth characteristics of a resonant antenna element can be characterized according to its Q, just as one uses to characterize the sharpness of an L-C resonant circuit. However it is often assu\n",
      "\n",
      "ID: 453983507864651828, Distance: 0.43, Has Key: No, \n",
      "Text: Unique to the development of Dutch is the collaps of older ol/ul/al + dental into ol + dental, followed by vocalisation of pre-consonantal /l/ and after a short vowel, creating the diphthong /ɑu/ e.g.\n",
      "\n",
      "ID: 453983507864655074, Distance: 0.43, Has Key: No, \n",
      "Text: The city was originally built on a hilly peninsula surrounded by the River Aare, but outgrew natural boundaries by the 19th century. A number of bridges have been built to allow the city to expand bey\n",
      "\n",
      "ID: 453983507864652715, Distance: 0.40, Has Key: No, \n",
      "Text: The history of science is the study of the development of science and scientific knowledge, including both the natural sciences and social sciences. (The history of the arts and humanities is termed a\n",
      "\n",
      "ID: 453983507864650720, Distance: 0.38, Has Key: No, \n",
      "Text: Theologus Autodidactus, written by the Arabian polymath Ibn al-Nafis (1213–1288), is the first example of a science fiction novel. It deals with various science fiction elements such as spontaneous ge\n",
      "\n",
      "ID: 453983507864657341, Distance: 0.37, Has Key: No, \n",
      "Text: When Emperor Haile Selassie unilaterally dissolved the Eritrean parliament and annexed the country in 1962, the Eritrean Liberation Front (ELF) waged an armed struggle for independence. The ensuing Er\n",
      "\n",
      "ID: 453983507864658369, Distance: 0.36, Has Key: No, \n",
      "Text: Hydrogen is a chemical element with chemical symbol H and atomic number 1. With an atomic weight of 7000100794000000000♠1.00794 u, hydrogen is the lightest element on the periodic table. Its monatomic\n",
      "\n",
      "ID: 453983507864656545, Distance: 0.36, Has Key: No, \n",
      "Text: Zinc chemistry is similar to the chemistry of the late first-row transition metals nickel and copper, though it has a filled d-shell, so its compounds are diamagnetic and mostly colorless. The ionic r\n",
      "\n",
      "ID: 453983507864655082, Distance: 0.35, Has Key: No, \n",
      "Text: Following a steady decline, beginning in the late 1990s up through the mid-2000s, illicit drug use among adolescents has been on the rise in the U.S. Aside from alcohol, marijuana is the most commonly\n",
      "\n",
      "ID: 453983507864651828, Distance: 0.46, Has Key: No, \n",
      "Text: Unique to the development of Dutch is the collaps of older ol/ul/al + dental into ol + dental, followed by vocalisation of pre-consonantal /l/ and after a short vowel, creating the diphthong /ɑu/ e.g.\n",
      "\n",
      "ID: 453983507864658369, Distance: 0.46, Has Key: No, \n",
      "Text: Hydrogen is a chemical element with chemical symbol H and atomic number 1. With an atomic weight of 7000100794000000000♠1.00794 u, hydrogen is the lightest element on the periodic table. Its monatomic\n",
      "\n",
      "ID: 453983507864654080, Distance: 0.43, Has Key: No, \n",
      "Text: A Misratan militia took Gaddafi prisoner, beating him, causing serious injuries; the events were filmed on a mobile phone. A video appears to picture Gaddafi being poked or stabbed in the rear end \"wi\n",
      "\n",
      "ID: 453983507864659893, Distance: 0.43, Has Key: No, \n",
      "Text: Modern editions of Old English manuscripts generally introduce some additional conventions. The modern forms of Latin letters are used, including ⟨g⟩ in place of the insular G, ⟨s⟩ for long S, and oth\n",
      "\n",
      "ID: 453983507864651029, Distance: 0.43, Has Key: No, \n",
      "Text: The Georgics' tone wavers between optimism and pessimism, sparking critical debate on the poet's intentions, but the work lays the foundations for later didactic poetry. Virgil and Maecenas are said t\n",
      "\n",
      "ID: 453983507864651209, Distance: 0.40, Has Key: No, \n",
      "Text: In Argentina, the most representative Carnival performed is the so-called Murga, although other famous Carnivals, more like Brazil's, are held in Argentine Mesopotamia and the North-East. Gualeguaychú\n",
      "\n",
      "ID: 453983507864653157, Distance: 0.40, Has Key: No, \n",
      "Text: The bandwidth characteristics of a resonant antenna element can be characterized according to its Q, just as one uses to characterize the sharpness of an L-C resonant circuit. However it is often assu\n",
      "\n",
      "ID: 453983507864653518, Distance: 0.39, Has Key: No, \n",
      "Text: The different dialects show many sound shifts in different vowels (even shifting between diphthongs and monophthongs), and in some cases consonants also shift pronunciation. For example, an oddity of \n",
      "\n",
      "ID: 453983507864660110, Distance: 0.38, Has Key: No, \n",
      "Text: General Aguirre moved to the deserts of the southeastern portion of the state and defeated the French forces in Parral, led by Colonel Cottret. By the middle of 1866, the state of Chihuahua was declar\n",
      "\n",
      "ID: 453983507864659162, Distance: 0.37, Has Key: No, \n",
      "Text: Parkson enters by acquiring local brand Centro Department Store in 2011. Centro still operates for middle market while the 'Parkson' brand itself, positioned for middle-up segment, enters in 2014 by o\n",
      "\n",
      "ID: 453983507864651828, Distance: 0.56, Has Key: No, \n",
      "Text: Unique to the development of Dutch is the collaps of older ol/ul/al + dental into ol + dental, followed by vocalisation of pre-consonantal /l/ and after a short vowel, creating the diphthong /ɑu/ e.g.\n",
      "\n",
      "ID: 453983507864653157, Distance: 0.48, Has Key: No, \n",
      "Text: The bandwidth characteristics of a resonant antenna element can be characterized according to its Q, just as one uses to characterize the sharpness of an L-C resonant circuit. However it is often assu\n",
      "\n",
      "ID: 453983507864659893, Distance: 0.47, Has Key: No, \n",
      "Text: Modern editions of Old English manuscripts generally introduce some additional conventions. The modern forms of Latin letters are used, including ⟨g⟩ in place of the insular G, ⟨s⟩ for long S, and oth\n",
      "\n",
      "ID: 453983507864654937, Distance: 0.44, Has Key: No, \n",
      "Text: The 7th and 6th centuries BC witnessed the composition of the earliest Upanishads. Upanishads form the theoretical basis of classical Hinduism and are known as Vedanta (conclusion of the Vedas). The o\n",
      "\n",
      "ID: 453983507864650135, Distance: 0.41, Has Key: No, \n",
      "Text: Physically, clothing serves many purposes: it can serve as protection from the elements, and can enhance safety during hazardous activities such as hiking and cooking. It protects the wearer from roug\n",
      "\n",
      "ID: 453983507864655720, Distance: 0.41, Has Key: No, \n",
      "Text: After agreeing to sign the Boxer Protocol the government then initiated unprecedented fiscal and administrative reforms, including elections, a new legal code, and abolition of the examination system.\n",
      "\n",
      "ID: 453983507864651276, Distance: 0.39, Has Key: No, \n",
      "Text: With the advent of quantum physics, some scientists believed the concept of matter had merely changed, while others believed the conventional position could no longer be maintained. For instance Werne\n",
      "\n",
      "ID: 453983507864655215, Distance: 0.37, Has Key: No, \n",
      "Text: Universal owned the rights to the \"Oswald the Lucky Rabbit\" character, although Walt Disney and Ub Iwerks had created Oswald, and their films had enjoyed a successful theatrical run. After Charles Min\n",
      "\n",
      "ID: 453983507864651940, Distance: 0.37, Has Key: No, \n",
      "Text: An advantage of the universal motor is that AC supplies may be used on motors which have some characteristics more common in DC motors, specifically high starting torque and very compact design if hig\n",
      "\n",
      "ID: 453983507864653728, Distance: 0.37, Has Key: No, \n",
      "Text: These years saw an evolution in the participation of Empress Dowager Cixi (Wade–Giles: Tz'u-Hsi) in state affairs. She entered the imperial palace in the 1850s as a concubine to the Xianfeng Emperor (\n",
      "\n",
      "ID: 453983507864653157, Distance: 0.44, Has Key: No, \n",
      "Text: The bandwidth characteristics of a resonant antenna element can be characterized according to its Q, just as one uses to characterize the sharpness of an L-C resonant circuit. However it is often assu\n",
      "\n",
      "ID: 453983507864651828, Distance: 0.43, Has Key: No, \n",
      "Text: Unique to the development of Dutch is the collaps of older ol/ul/al + dental into ol + dental, followed by vocalisation of pre-consonantal /l/ and after a short vowel, creating the diphthong /ɑu/ e.g.\n",
      "\n",
      "ID: 453983507864658369, Distance: 0.41, Has Key: No, \n",
      "Text: Hydrogen is a chemical element with chemical symbol H and atomic number 1. With an atomic weight of 7000100794000000000♠1.00794 u, hydrogen is the lightest element on the periodic table. Its monatomic\n",
      "\n",
      "ID: 453983507864659893, Distance: 0.38, Has Key: No, \n",
      "Text: Modern editions of Old English manuscripts generally introduce some additional conventions. The modern forms of Latin letters are used, including ⟨g⟩ in place of the insular G, ⟨s⟩ for long S, and oth\n",
      "\n",
      "ID: 453983507864659992, Distance: 0.36, Has Key: No, \n",
      "Text: Houston (i/ˈhjuːstən/ HYOO-stən) is the most populous city in Texas and the fourth most populous city in the United States, located in Southeast Texas near the Gulf of Mexico. With a census-estimated \n",
      "\n",
      "ID: 453983507864658971, Distance: 0.36, Has Key: No, \n",
      "Text: Some of Australia's most prominent and well known schools are based in Melbourne. Of the top twenty high schools in Australia according to the Better Education ranking, six are located in Melbourne. T\n",
      "\n",
      "ID: 453983507864655776, Distance: 0.36, Has Key: No, \n",
      "Text: The era of planning in Himachal Pradesh started 1948 along with the rest of India. The first five-year plan allocated ₹ 52.7 million to Himachal. More than 50% of this expenditure was incurred on road\n",
      "\n",
      "ID: 453983507864657104, Distance: 0.36, Has Key: No, \n",
      "Text: In 2010, Forbes evaluated Barcelona's worth to be around €752 million (USD $1 billion), ranking them fourth after Manchester United, Real Madrid, and Arsenal, based on figures from the 2008–09 season.\n",
      "\n",
      "ID: 453983507864651468, Distance: 0.36, Has Key: No, \n",
      "Text: The years following 2009 marked a shift in the structure of the \"Big Four\" with Tottenham Hotspur and Manchester City both breaking into the top four. In the 2009–10 season, Tottenham finished fourth \n",
      "\n",
      "ID: 453983507864659832, Distance: 0.34, Has Key: No, \n",
      "Text: Digimon hatch from types of eggs which are called Digi-Eggs (デジタマ, Dejitama?). In the English iterations of the franchise there is another type of Digi-Egg that can be used to digivolve, or transform,\n",
      "\n",
      "ID: 453983507864658369, Distance: 0.42, Has Key: No, \n",
      "Text: Hydrogen is a chemical element with chemical symbol H and atomic number 1. With an atomic weight of 7000100794000000000♠1.00794 u, hydrogen is the lightest element on the periodic table. Its monatomic\n",
      "\n",
      "ID: 453983507864653157, Distance: 0.41, Has Key: No, \n",
      "Text: The bandwidth characteristics of a resonant antenna element can be characterized according to its Q, just as one uses to characterize the sharpness of an L-C resonant circuit. However it is often assu\n",
      "\n",
      "ID: 453983507864656250, Distance: 0.40, Has Key: No, \n",
      "Text: The very large and ornate School Hall and School Library (by L K. Hall) were erected in 1906-8 across the road from Upper School as the school's memorial to the Etonians who had died in the Boer War. \n",
      "\n",
      "ID: 453983507864651828, Distance: 0.38, Has Key: No, \n",
      "Text: Unique to the development of Dutch is the collaps of older ol/ul/al + dental into ol + dental, followed by vocalisation of pre-consonantal /l/ and after a short vowel, creating the diphthong /ɑu/ e.g.\n",
      "\n",
      "ID: 453983507864651650, Distance: 0.37, Has Key: No, \n",
      "Text: The Independent State of Samoa ( Samoan: Malo Sa 'oloto Tuto 'atasi o Sāmoa, IPA: [ˌsaːˈmoa]), commonly known as Samoa (Samoan: Sāmoa) and formerly known as Western Samoa, is a Unitary Parliamentary R\n",
      "\n",
      "ID: 453983507864659893, Distance: 0.37, Has Key: No, \n",
      "Text: Modern editions of Old English manuscripts generally introduce some additional conventions. The modern forms of Latin letters are used, including ⟨g⟩ in place of the insular G, ⟨s⟩ for long S, and oth\n",
      "\n",
      "ID: 453983507864651333, Distance: 0.36, Has Key: No, \n",
      "Text: In previous times, at the consistory at which the pope named a new cardinal, he would bestow upon him a distinctive wide-brimmed hat called a galero. This custom was discontinued in 1969 and the inves\n",
      "\n",
      "ID: 453983507864651966, Distance: 0.36, Has Key: No, \n",
      "Text: In 1925 the British adopted a new instrument developed by Vickers. It was a mechanical analogue computer Predictor AA No 1. Given the target height its operators tracked the target and the predictor p\n",
      "\n",
      "ID: 453983507864653518, Distance: 0.36, Has Key: No, \n",
      "Text: The different dialects show many sound shifts in different vowels (even shifting between diphthongs and monophthongs), and in some cases consonants also shift pronunciation. For example, an oddity of \n",
      "\n",
      "ID: 453983507864656661, Distance: 0.35, Has Key: No, \n",
      "Text: The Gospel of Matthew describes many women at the crucifixion, some of whom are named in the Gospels. Apart from these women, the three Synoptic Gospels speak of the presence of others: \"the chief pri\n",
      "\n"
     ]
    }
   ],
   "source": [
    "print(f\"ALL MPNET Search Results: {keyword}\")\n",
    "printsearch(mpnet_results)"
   ]
  },
  {
   "cell_type": "code",
   "execution_count": null,
   "metadata": {},
   "outputs": [],
   "source": [
    "# TODO: save in .csv\n",
    "\n",
    "# TODO: run official eval script \n",
    "\n",
    "# TODO: run visualization of official results "
   ]
  }
 ],
 "metadata": {
  "colab": {
   "provenance": []
  },
  "kernelspec": {
   "display_name": "Python 3 (ipykernel)",
   "language": "python",
   "name": "python3"
  },
  "language_info": {
   "codemirror_mode": {
    "name": "ipython",
    "version": 3
   },
   "file_extension": ".py",
   "mimetype": "text/x-python",
   "name": "python",
   "nbconvert_exporter": "python",
   "pygments_lexer": "ipython3",
   "version": "3.10.15"
  }
 },
 "nbformat": 4,
 "nbformat_minor": 4
}
