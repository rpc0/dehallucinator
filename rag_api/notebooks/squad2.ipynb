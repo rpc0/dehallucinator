{
 "cells": [
  {
   "cell_type": "code",
   "execution_count": 1,
   "metadata": {
    "id": "7bGlwDfSLct3"
   },
   "outputs": [],
   "source": [
    "import json, requests\n",
    "import pandas as pd\n",
    "from tqdm import tqdm"
   ]
  },
  {
   "cell_type": "code",
   "execution_count": 2,
   "metadata": {
    "id": "H7EDzBMfLc8k"
   },
   "outputs": [],
   "source": [
    "# Load the SQuAD 2.0 JSON file\n",
    "# URL of the SQuAD 2.0 dataset\n",
    "url = 'https://rajpurkar.github.io/SQuAD-explorer/dataset/train-v2.0.json'\n",
    "\n",
    "# Fetch the content from the URL\n",
    "response = requests.get(url)\n",
    "\n",
    "# Check if the request was successful (status code 200)\n",
    "if response.status_code == 200:\n",
    "    # Load the JSON content into a dictionary\n",
    "    squad_data = response.json()"
   ]
  },
  {
   "cell_type": "code",
   "execution_count": 3,
   "metadata": {
    "colab": {
     "base_uri": "https://localhost:8080/"
    },
    "id": "A3f38k5IK--L",
    "outputId": "8e2e406d-05d7-4704-f00b-8ba2694fdaf0"
   },
   "outputs": [
    {
     "name": "stderr",
     "output_type": "stream",
     "text": [
      "Processing Articles: 100%|██████████| 442/442 [00:00<00:00, 4456.52it/s]"
     ]
    },
    {
     "name": "stdout",
     "output_type": "stream",
     "text": [
      "                            title  \\\n",
      "id                                  \n",
      "56be85543aeaaa14008c9063  Beyoncé   \n",
      "56be85543aeaaa14008c9065  Beyoncé   \n",
      "56be85543aeaaa14008c9066  Beyoncé   \n",
      "56bf6b0f3aeaaa14008c9601  Beyoncé   \n",
      "56bf6b0f3aeaaa14008c9602  Beyoncé   \n",
      "\n",
      "                                                                    context  \\\n",
      "id                                                                            \n",
      "56be85543aeaaa14008c9063  Beyoncé Giselle Knowles-Carter (/biːˈjɒnseɪ/ b...   \n",
      "56be85543aeaaa14008c9065  Beyoncé Giselle Knowles-Carter (/biːˈjɒnseɪ/ b...   \n",
      "56be85543aeaaa14008c9066  Beyoncé Giselle Knowles-Carter (/biːˈjɒnseɪ/ b...   \n",
      "56bf6b0f3aeaaa14008c9601  Beyoncé Giselle Knowles-Carter (/biːˈjɒnseɪ/ b...   \n",
      "56bf6b0f3aeaaa14008c9602  Beyoncé Giselle Knowles-Carter (/biːˈjɒnseɪ/ b...   \n",
      "\n",
      "                                                                   question  \\\n",
      "id                                                                            \n",
      "56be85543aeaaa14008c9063           When did Beyonce start becoming popular?   \n",
      "56be85543aeaaa14008c9065  What areas did Beyonce compete in when she was...   \n",
      "56be85543aeaaa14008c9066  When did Beyonce leave Destiny's Child and bec...   \n",
      "56bf6b0f3aeaaa14008c9601      In what city and state did Beyonce  grow up?    \n",
      "56bf6b0f3aeaaa14008c9602         In which decade did Beyonce become famous?   \n",
      "\n",
      "                          is_impossible          answer_text  answer_start  \n",
      "id                                                                          \n",
      "56be85543aeaaa14008c9063          False    in the late 1990s         269.0  \n",
      "56be85543aeaaa14008c9065          False  singing and dancing         207.0  \n",
      "56be85543aeaaa14008c9066          False                 2003         526.0  \n",
      "56bf6b0f3aeaaa14008c9601          False       Houston, Texas         166.0  \n",
      "56bf6b0f3aeaaa14008c9602          False           late 1990s         276.0  \n"
     ]
    },
    {
     "name": "stderr",
     "output_type": "stream",
     "text": [
      "\n"
     ]
    }
   ],
   "source": [
    "# Initialize lists to hold flattened data\n",
    "data_list = []\n",
    "\n",
    "# Use tqdm to add a progress bar to the outer loop\n",
    "for article in tqdm(squad_data['data'], desc='Processing Articles'):\n",
    "    title = article['title']\n",
    "    for paragraph in article['paragraphs']:\n",
    "        context = paragraph['context']\n",
    "        for qa in paragraph['qas']:\n",
    "            question = qa['question']\n",
    "            qid = qa['id']\n",
    "            is_impossible = qa.get('is_impossible', False)\n",
    "            answers = qa.get('answers', [])\n",
    "            if not is_impossible:\n",
    "                for answer in answers:\n",
    "                    answer_text = answer['text']\n",
    "                    answer_start = answer['answer_start']\n",
    "                    data_list.append({\n",
    "                        'title': title,\n",
    "                        'context': context,\n",
    "                        'question': question,\n",
    "                        'id': qid,\n",
    "                        'is_impossible': is_impossible,\n",
    "                        'answer_text': answer_text,\n",
    "                        'answer_start': answer_start\n",
    "                    })\n",
    "            else:\n",
    "                # For unanswerable questions, append with empty answer fields\n",
    "                data_list.append({\n",
    "                    'title': title,\n",
    "                    'context': context,\n",
    "                    'question': question,\n",
    "                    'id': qid,\n",
    "                    'is_impossible': is_impossible,\n",
    "                    'answer_text': None,\n",
    "                    'answer_start': None\n",
    "                })\n",
    "\n",
    "# Convert list of records to a DataFrame\n",
    "df = pd.DataFrame(data_list)\n",
    "df.set_index(\"id\", inplace=True)\n",
    "\n",
    "# Display the DataFrame\n",
    "print(df.head())"
   ]
  },
  {
   "cell_type": "code",
   "execution_count": 4,
   "metadata": {
    "colab": {
     "base_uri": "https://localhost:8080/",
     "height": 674
    },
    "id": "HPgJwJPRMQOn",
    "outputId": "60345f37-7a8a-4e49-94af-397f3501e61c"
   },
   "outputs": [
    {
     "data": {
      "text/html": [
       "<div>\n",
       "<style scoped>\n",
       "    .dataframe tbody tr th:only-of-type {\n",
       "        vertical-align: middle;\n",
       "    }\n",
       "\n",
       "    .dataframe tbody tr th {\n",
       "        vertical-align: top;\n",
       "    }\n",
       "\n",
       "    .dataframe thead th {\n",
       "        text-align: right;\n",
       "    }\n",
       "</style>\n",
       "<table border=\"1\" class=\"dataframe\">\n",
       "  <thead>\n",
       "    <tr style=\"text-align: right;\">\n",
       "      <th></th>\n",
       "      <th>title</th>\n",
       "      <th>context</th>\n",
       "      <th>question</th>\n",
       "      <th>is_impossible</th>\n",
       "      <th>answer_text</th>\n",
       "      <th>answer_start</th>\n",
       "    </tr>\n",
       "    <tr>\n",
       "      <th>id</th>\n",
       "      <th></th>\n",
       "      <th></th>\n",
       "      <th></th>\n",
       "      <th></th>\n",
       "      <th></th>\n",
       "      <th></th>\n",
       "    </tr>\n",
       "  </thead>\n",
       "  <tbody>\n",
       "    <tr>\n",
       "      <th>572edf54dfa6aa1500f8d489</th>\n",
       "      <td>The_Blitz</td>\n",
       "      <td>Within the Luftwaffe, there was a more muted v...</td>\n",
       "      <td>Who believe air power alone would not be decis...</td>\n",
       "      <td>False</td>\n",
       "      <td>Luftwaffe</td>\n",
       "      <td>11.0</td>\n",
       "    </tr>\n",
       "    <tr>\n",
       "      <th>5727fc32ff5b5019007d9a14</th>\n",
       "      <td>USB</td>\n",
       "      <td>Sleep-and-charge USB ports can be used to char...</td>\n",
       "      <td>What remain powered even whenever the computer...</td>\n",
       "      <td>False</td>\n",
       "      <td>Sleep-and-charge USB ports</td>\n",
       "      <td>232.0</td>\n",
       "    </tr>\n",
       "    <tr>\n",
       "      <th>570c301c6b8089140040fbe9</th>\n",
       "      <td>Federal_Bureau_of_Investigation</td>\n",
       "      <td>For over 40 years, the FBI crime lab in Quanti...</td>\n",
       "      <td>What did the National Academy of Sciences inde...</td>\n",
       "      <td>False</td>\n",
       "      <td>deeply flawed</td>\n",
       "      <td>584.0</td>\n",
       "    </tr>\n",
       "    <tr>\n",
       "      <th>572ac813111d821400f38d68</th>\n",
       "      <td>John_Kerry</td>\n",
       "      <td>In a speech before the Organization of America...</td>\n",
       "      <td>Where did Kerry speak in Nov 2013?</td>\n",
       "      <td>False</td>\n",
       "      <td>the Organization of American States</td>\n",
       "      <td>19.0</td>\n",
       "    </tr>\n",
       "    <tr>\n",
       "      <th>5a6a637fa9e0c9001a4e9dd7</th>\n",
       "      <td>Liberal_Party_of_Australia</td>\n",
       "      <td>The Gorton Government increased funding for th...</td>\n",
       "      <td>Who increased funding for corporations?</td>\n",
       "      <td>True</td>\n",
       "      <td>None</td>\n",
       "      <td>NaN</td>\n",
       "    </tr>\n",
       "  </tbody>\n",
       "</table>\n",
       "</div>"
      ],
      "text/plain": [
       "                                                    title  \\\n",
       "id                                                          \n",
       "572edf54dfa6aa1500f8d489                        The_Blitz   \n",
       "5727fc32ff5b5019007d9a14                              USB   \n",
       "570c301c6b8089140040fbe9  Federal_Bureau_of_Investigation   \n",
       "572ac813111d821400f38d68                       John_Kerry   \n",
       "5a6a637fa9e0c9001a4e9dd7       Liberal_Party_of_Australia   \n",
       "\n",
       "                                                                    context  \\\n",
       "id                                                                            \n",
       "572edf54dfa6aa1500f8d489  Within the Luftwaffe, there was a more muted v...   \n",
       "5727fc32ff5b5019007d9a14  Sleep-and-charge USB ports can be used to char...   \n",
       "570c301c6b8089140040fbe9  For over 40 years, the FBI crime lab in Quanti...   \n",
       "572ac813111d821400f38d68  In a speech before the Organization of America...   \n",
       "5a6a637fa9e0c9001a4e9dd7  The Gorton Government increased funding for th...   \n",
       "\n",
       "                                                                   question  \\\n",
       "id                                                                            \n",
       "572edf54dfa6aa1500f8d489  Who believe air power alone would not be decis...   \n",
       "5727fc32ff5b5019007d9a14  What remain powered even whenever the computer...   \n",
       "570c301c6b8089140040fbe9  What did the National Academy of Sciences inde...   \n",
       "572ac813111d821400f38d68                 Where did Kerry speak in Nov 2013?   \n",
       "5a6a637fa9e0c9001a4e9dd7            Who increased funding for corporations?   \n",
       "\n",
       "                          is_impossible                          answer_text  \\\n",
       "id                                                                             \n",
       "572edf54dfa6aa1500f8d489          False                            Luftwaffe   \n",
       "5727fc32ff5b5019007d9a14          False           Sleep-and-charge USB ports   \n",
       "570c301c6b8089140040fbe9          False                        deeply flawed   \n",
       "572ac813111d821400f38d68          False  the Organization of American States   \n",
       "5a6a637fa9e0c9001a4e9dd7           True                                 None   \n",
       "\n",
       "                          answer_start  \n",
       "id                                      \n",
       "572edf54dfa6aa1500f8d489          11.0  \n",
       "5727fc32ff5b5019007d9a14         232.0  \n",
       "570c301c6b8089140040fbe9         584.0  \n",
       "572ac813111d821400f38d68          19.0  \n",
       "5a6a637fa9e0c9001a4e9dd7           NaN  "
      ]
     },
     "execution_count": 4,
     "metadata": {},
     "output_type": "execute_result"
    }
   ],
   "source": [
    "df.sample(5)"
   ]
  },
  {
   "cell_type": "markdown",
   "metadata": {
    "id": "1ccBoOAzROGB"
   },
   "source": [
    "Evaluation on LLM-RAG:\n",
    "\n",
    "1. Retrieval - RAG retrieved the needed context? <br>\n",
    "2. Relevance - LLM deciphered the relevant context? <br>\n",
    "3. Accuracy - LLM answer contains the answer <br>\n",
    "4. Precision - LLM answer does not contain irrelevant answer <br>\n",
    "\n",
    "\n",
    "\n",
    "\n",
    "\n"
   ]
  },
  {
   "cell_type": "code",
   "execution_count": 5,
   "metadata": {},
   "outputs": [],
   "source": [
    "import itertools\n",
    "from langchain_community.llms import Ollama\n",
    "from langchain.prompts import PromptTemplate\n",
    "\n",
    "import deh.settings as settings\n",
    "import deh.guardrail as guardrail\n",
    "from deh.utils import format_context_documents as format_docs\n",
    "from deh.utils import retriever_with_scores, dedupulicate_contexts\n",
    "from deh.prompts import (\n",
    "    qa_eval_prompt_with_context_text,\n",
    "    LLMEvalResult,\n",
    "    rag_text_prompts,\n",
    "    hyde_prompts,\n",
    ")\n",
    "import deh"
   ]
  },
  {
   "cell_type": "code",
   "execution_count": 6,
   "metadata": {},
   "outputs": [
    {
     "name": "stdout",
     "output_type": "stream",
     "text": [
      "\u001b[1mOllama\u001b[0m\n",
      "Params: {'model': 'llama3.1:8b-instruct-q3_K_L', 'format': None, 'options': {'mirostat': None, 'mirostat_eta': None, 'mirostat_tau': None, 'num_ctx': None, 'num_gpu': None, 'num_thread': None, 'num_predict': None, 'repeat_last_n': None, 'repeat_penalty': None, 'temperature': None, 'stop': None, 'tfs_z': None, 'top_k': None, 'top_p': None}, 'system': None, 'template': None, 'keep_alive': None, 'raw': None}\n"
     ]
    },
    {
     "name": "stderr",
     "output_type": "stream",
     "text": [
      "/tmp/ipykernel_23/1481578329.py:3: LangChainDeprecationWarning: The class `Ollama` was deprecated in LangChain 0.3.1 and will be removed in 1.0.0. An updated version of the class exists in the :class:`~langchain-ollama package and should be used instead. To use it run `pip install -U :class:`~langchain-ollama` and import as `from :class:`~langchain_ollama import OllamaLLM``.\n",
      "  LLM = [Ollama(\n"
     ]
    }
   ],
   "source": [
    "# Set up load balancing between the two instances\n",
    "nLLM = 8\n",
    "LLM = [Ollama(\n",
    "            base_url=settings.OLLAMA_HOST, model=settings.LLM_MODEL, verbose=True\n",
    "        ) for i in range(nLLM)\n",
    "      ] \n",
    "\n",
    "print(len(LLM))\n",
    "print(LLM[-1])\n",
    "\n",
    "# Create a round-robin iterator using itertools.cycle\n",
    "round_robin_models = itertools.cycle(LLM)\n",
    "\n",
    "def LLMinvoke(prompt):\n",
    "    # Get the next model in the round-robin cycle\n",
    "    selected_model = next(round_robin_models)\n",
    "    \n",
    "    # Invoke the selected model with the prompt\n",
    "    response = selected_model.invoke(prompt)\n",
    "    return response"
   ]
  },
  {
   "cell_type": "code",
   "execution_count": 7,
   "metadata": {},
   "outputs": [
    {
     "name": "stdout",
     "output_type": "stream",
     "text": [
      "Beyoncé started becoming popular in the late 1990s as lead singer of R&B girl-group Destiny's Child. This was also when her group became one of the world's best-selling girl groups of all time. Her solo debut album, Dangerously in Love (2003), further established her popularity worldwide.\n"
     ]
    }
   ],
   "source": [
    "row = 0\n",
    "q = df.iloc[row][\"question\"]\n",
    "c = df.iloc[row][\"context\"]\n",
    "gt = df.iloc[row][\"answer_text\"]\n",
    "\n",
    "# Initial LLM generation prompt:\n",
    "qa_prompt = PromptTemplate(\n",
    "    template=rag_text_prompts[0], input_variables=[\"question\", \"context\"]\n",
    ")\n",
    "\n",
    "chain = qa_prompt | LLMinvoke\n",
    "llmans = chain.invoke({\"question\": q, \"context\": c})\n",
    "\n",
    "print(llmans)"
   ]
  },
  {
   "cell_type": "code",
   "execution_count": 8,
   "metadata": {},
   "outputs": [
    {
     "name": "stdout",
     "output_type": "stream",
     "text": [
      "When did Beyonce start becoming popular?\n",
      "Beyoncé Giselle Knowles-Carter (/biːˈjɒnseɪ/ bee-YON-say) (born September 4, 1981) is an American singer, songwriter, record producer and actress. Born and raised in Houston, Texas, she performed in various singing and dancing competitions as a child, and rose to fame in the late 1990s as lead singer of R&B girl-group Destiny's Child. Managed by her father, Mathew Knowles, the group became one of the world's best-selling girl groups of all time. Their hiatus saw the release of Beyoncé's debut album, Dangerously in Love (2003), which established her as a solo artist worldwide, earned five Grammy Awards and featured the Billboard Hot 100 number-one singles \"Crazy in Love\" and \"Baby Boy\".\n",
      "in the late 1990s\n",
      "first=PromptTemplate(input_variables=['context', 'question'], input_types={}, partial_variables={}, template=\"\\n    You are an assistant for question-answering tasks.\\n    Use the following pieces of retrieved context to answer the question.\\n    If you don't know the answer, just say that you don't know.\\n    Use three sentences maximum and keep the answer concise.\\n\\n    Question: {question}\\n    Context: {context}\\n\\n    Answer:\\n    \") middle=[] last=RunnableLambda(LLMinvoke)\n"
     ]
    }
   ],
   "source": [
    "print(q)\n",
    "print(c)\n",
    "print(gt)\n",
    "print(chain)"
   ]
  },
  {
   "cell_type": "code",
   "execution_count": 9,
   "metadata": {},
   "outputs": [],
   "source": [
    "import asyncio\n",
    "from tqdm.asyncio import tqdm_asyncio\n",
    "import nest_asyncio\n",
    "\n",
    "nest_asyncio.apply()\n",
    "\n",
    "# Assuming chain.invoke is an asynchronous function\n",
    "async def invoke_chain(chain, q, c, semaphore, pbar):\n",
    "    async with semaphore:\n",
    "        pbar.update(1)\n",
    "        return await chain.ainvoke({\"question\": q, \"context\": c})\n",
    "\n",
    "async def main(df = None, LLM = None, n=50, clim=8):\n",
    "    # input validation \n",
    "    if df.empty:\n",
    "        raise ValueError(\"The DataFrame is empty\")\n",
    "    assert (LLM != None)\n",
    "    \n",
    "    # Initial LLM generation prompt:\n",
    "    qa_prompt = PromptTemplate(\n",
    "        template=rag_text_prompts[0], input_variables=[\"question\", \"context\"]\n",
    "    )\n",
    "    chain = qa_prompt | LLMinvoke\n",
    "\n",
    "    # Create a semaphore with a limit on concurrent tasks\n",
    "    semaphore = asyncio.Semaphore(clim)\n",
    "\n",
    "    # Create a tqdm progress bar\n",
    "    samdf = df.sample(n, random_state=42)\n",
    "    with tqdm(total=n, desc=\"Processing\") as pbar:\n",
    "        tasks = [invoke_chain(chain, row['question'], row['context'], semaphore, pbar) for _, row in samdf.iterrows()]\n",
    "        results = await asyncio.gather(*tasks)\n",
    "\n",
    "    return results"
   ]
  },
  {
   "cell_type": "code",
   "execution_count": 10,
   "metadata": {},
   "outputs": [
    {
     "name": "stderr",
     "output_type": "stream",
     "text": [
      "Processing: 100%|██████████| 1000/1000 [07:46<00:00,  2.14it/s]\n"
     ]
    }
   ],
   "source": [
    "# Run the main function\n",
    "results = await main(df, LLM, 1000, 32)"
   ]
  },
  {
   "cell_type": "code",
   "execution_count": 11,
   "metadata": {},
   "outputs": [
    {
     "name": "stdout",
     "output_type": "stream",
     "text": [
      "0 : The global recession that followed the financial crisis of 2007 ended in 2012. This was a period of economic downturn that lasted for about five years, affecting many countries worldwide. It was linked to the European sovereign-debt crisis and other economic challenges.\n",
      "1 : Amnesia was a popular club in Ibiza that started playing dance and house music, featuring DJ Alfredo. It played a mix of rock, pop, disco, and house, which began to influence the British scene. This sound was later brought to UK clubs by DJs such as Trevor Fung, Paul Oakenfold, and Danny Rampling.\n",
      "2 : Martin Luther honored Mary as the Mother of God in the 16th century. This was around the same time that Calvin and Huldrych Zwingli showed similar reverence for Mary. Their actions were later distinguished from Catholic veneration by the Protestant movement.\n",
      "3 : Himachal experiences a diverse climate due to its varying elevation, ranging from hot and humid tropical to cold and glacial conditions. The state has three main seasons: summer, winter, and rainy season, with temperatures varying significantly across different regions. Summer is hot in most areas (28-32°C) while winters bring snowfall to the higher elevations above 2,200 metres.\n",
      "4 : I don't know, the provided context only mentions a general tour of Canada without specifying the number of times.\n",
      "5 : Yes, Bermuda's constitution has been amended twice, once in 1989 and again in 2003. These amendments were made to update the constitution to reflect changing circumstances and needs. The exact changes are not specified in the provided context.\n",
      "6 : The Sunset Limited train line connects Florida to the south via Orlando to New Orleans, Houston, San Antonio, and Los Angeles before terminating in LA. However, it was discontinued from Orlando in 2005. The Silver Star and Silver Meteor trains also travel through Miami, but do not directly connect to the south.\n",
      "7 : Patrick Kielty Almost Live is a show from Northern Ireland broadcast all over the United Kingdom. It is a talk show produced by BBC Northern Ireland. The show is presented by comedian Patrick Kielty.\n",
      "8 : Whitehead left behind no Nachlass because his family carried out his instructions to destroy all of his papers after his death. He believed in the importance of privacy and wrote few personal letters that could provide insight into his life. This scarcity of personal documents made it challenging for biographers like Victor Lowe to write a comprehensive biography.\n",
      "9 : Concerns related to animals digging in the soil for food include potential exposure to pesticide contaminants that have been absorbed by plants or accumulated in the soil. The use of pesticides has led to widespread contamination of the environment, including water, air, and soil. This can harm not just the animals but also other non-target species in the ecosystem.\n"
     ]
    }
   ],
   "source": [
    "# Print the results\n",
    "for i in range(10): \n",
    "    print(str(i) + \" : \" + results[i])"
   ]
  },
  {
   "cell_type": "code",
   "execution_count": 12,
   "metadata": {},
   "outputs": [
    {
     "name": "stderr",
     "output_type": "stream",
     "text": [
      "Processing: 100%|██████████| 1000/1000 [07:50<00:00,  2.12it/s]\n"
     ]
    }
   ],
   "source": [
    "# Run the main function\n",
    "results = await main(df, LLM, 1000, 32)"
   ]
  },
  {
   "cell_type": "code",
   "execution_count": 14,
   "metadata": {},
   "outputs": [
    {
     "name": "stdout",
     "output_type": "stream",
     "text": [
      "0 : The global recession that followed the financial crisis of 2007 ended in 2012. This is indicated by the text as part of the global recession and European sovereign-debt crisis. It lasted for approximately 5 years.\n",
      "1 : Amnesia was a popular club in Ibiza that started playing dance and house music. It was known for its distinct Balearic mix of house by the mid-1980s. DJ Alfredo played at Amnesia, contributing to the club's influence on the British scene.\n",
      "2 : Martin Luther honored Mary as the Mother of God in the 16th century, but less than Calvin and Zwingli. The first Protestants initially respected Mary, but later criticized Catholics for venerating her. This led to a decline in Protestant interest in Mary by the Age of the Enlightenment.\n",
      "3 : Himachal's climate varies greatly due to its diverse elevation, ranging from hot and subhumid tropical to cold, alpine, and glacial conditions. The state experiences three seasons: summer, winter, and rainy season, with summer lasting from mid-April to June and winter from late November to March. Areas above 2,200 meters experience snowfall during the winter months.\n",
      "4 : I don't know how many times the Queen has toured Canada, as that information is not provided in the given context.\n",
      "5 : Yes, Bermuda's constitution has been amended twice, in 1989 and 2003. These amendments were made after the original constitution came into force on June 1, 1967. The amendments are part of the country's efforts to update its foundational document over time.\n",
      "6 : The Auto Train connects Florida to the south by originating in Lorton, Virginia, but I don't see a direct connection from Florida to any southern state. The Silver Star and Silver Meteor trains operate between New York City and Miami, which is in the southeast, not directly south of Florida.\n",
      "7 : The name of a show from Northern Ireland broadcast all over the United Kingdom is \"Patrick Kielty Almost Live\". It is a talk show produced by BBC Northern Ireland.\n",
      "8 : Whitehead left behind no Nachlass after his death because his family followed his instructions to destroy all his papers. He had a strong belief in privacy and wrote few personal letters that could shed light on his life. This made it challenging for biographers like Victor Lowe to gather information about him.\n",
      "9 : When animals dig in the soil for food, they may be exposed to pesticide residues that have accumulated in the soil, which can harm their health. This exposure is a concern as pesticides can be toxic and even carcinogenic. Pesticide residues in the soil can also affect the overall ecosystem balance.\n"
     ]
    }
   ],
   "source": [
    "# Print the results\n",
    "for i in range(10): \n",
    "    print(str(i) + \" : \" + results[i])"
   ]
  },
  {
   "cell_type": "code",
   "execution_count": 15,
   "metadata": {},
   "outputs": [
    {
     "name": "stdout",
     "output_type": "stream",
     "text": [
      "3.1627716796627543\n",
      "3.3909471172900374\n"
     ]
    }
   ],
   "source": [
    "ans_len = df[\"answer_text\"].str.split().str.len()\n",
    "print(ans_len.mean())\n",
    "print(ans_len.std())"
   ]
  },
  {
   "cell_type": "code",
   "execution_count": 18,
   "metadata": {},
   "outputs": [
    {
     "name": "stdout",
     "output_type": "stream",
     "text": [
      "Collecting matplotlib\n",
      "  Downloading matplotlib-3.9.2-cp310-cp310-manylinux_2_17_x86_64.manylinux2014_x86_64.whl.metadata (11 kB)\n",
      "Collecting seaborn\n",
      "  Downloading seaborn-0.13.2-py3-none-any.whl.metadata (5.4 kB)\n",
      "Collecting contourpy>=1.0.1 (from matplotlib)\n",
      "  Downloading contourpy-1.3.0-cp310-cp310-manylinux_2_17_x86_64.manylinux2014_x86_64.whl.metadata (5.4 kB)\n",
      "Collecting cycler>=0.10 (from matplotlib)\n",
      "  Downloading cycler-0.12.1-py3-none-any.whl.metadata (3.8 kB)\n",
      "Collecting fonttools>=4.22.0 (from matplotlib)\n",
      "  Downloading fonttools-4.54.1-cp310-cp310-manylinux_2_17_x86_64.manylinux2014_x86_64.whl.metadata (163 kB)\n",
      "Collecting kiwisolver>=1.3.1 (from matplotlib)\n",
      "  Downloading kiwisolver-1.4.7-cp310-cp310-manylinux_2_12_x86_64.manylinux2010_x86_64.whl.metadata (6.3 kB)\n",
      "Requirement already satisfied: numpy>=1.23 in /usr/local/lib/python3.10/site-packages (from matplotlib) (1.26.4)\n",
      "Requirement already satisfied: packaging>=20.0 in /usr/local/lib/python3.10/site-packages (from matplotlib) (24.2)\n",
      "Requirement already satisfied: pillow>=8 in /usr/local/lib/python3.10/site-packages (from matplotlib) (11.0.0)\n",
      "Collecting pyparsing>=2.3.1 (from matplotlib)\n",
      "  Downloading pyparsing-3.2.0-py3-none-any.whl.metadata (5.0 kB)\n",
      "Requirement already satisfied: python-dateutil>=2.7 in /usr/local/lib/python3.10/site-packages (from matplotlib) (2.8.2)\n",
      "Requirement already satisfied: pandas>=1.2 in /usr/local/lib/python3.10/site-packages (from seaborn) (2.2.3)\n",
      "Requirement already satisfied: pytz>=2020.1 in /usr/local/lib/python3.10/site-packages (from pandas>=1.2->seaborn) (2024.2)\n",
      "Requirement already satisfied: tzdata>=2022.7 in /usr/local/lib/python3.10/site-packages (from pandas>=1.2->seaborn) (2024.2)\n",
      "Requirement already satisfied: six>=1.5 in /usr/local/lib/python3.10/site-packages (from python-dateutil>=2.7->matplotlib) (1.16.0)\n",
      "Downloading matplotlib-3.9.2-cp310-cp310-manylinux_2_17_x86_64.manylinux2014_x86_64.whl (8.3 MB)\n",
      "\u001b[2K   \u001b[90m━━━━━━━━━━━━━━━━━━━━━━━━━━━━━━━━━━━━━━━━\u001b[0m \u001b[32m8.3/8.3 MB\u001b[0m \u001b[31m644.8 kB/s\u001b[0m eta \u001b[36m0:00:00\u001b[0m00:01\u001b[0m00:01\u001b[0m\n",
      "\u001b[?25hDownloading seaborn-0.13.2-py3-none-any.whl (294 kB)\n",
      "Downloading contourpy-1.3.0-cp310-cp310-manylinux_2_17_x86_64.manylinux2014_x86_64.whl (322 kB)\n",
      "Downloading cycler-0.12.1-py3-none-any.whl (8.3 kB)\n",
      "Downloading fonttools-4.54.1-cp310-cp310-manylinux_2_17_x86_64.manylinux2014_x86_64.whl (4.6 MB)\n",
      "\u001b[2K   \u001b[90m━━━━━━━━━━━━━━━━━━━━━━━━━━━━━━━━━━━━━━━━\u001b[0m \u001b[32m4.6/4.6 MB\u001b[0m \u001b[31m719.4 kB/s\u001b[0m eta \u001b[36m0:00:00\u001b[0ma \u001b[36m0:00:01\u001b[0m\n",
      "\u001b[?25hDownloading kiwisolver-1.4.7-cp310-cp310-manylinux_2_12_x86_64.manylinux2010_x86_64.whl (1.6 MB)\n",
      "\u001b[2K   \u001b[90m━━━━━━━━━━━━━━━━━━━━━━━━━━━━━━━━━━━━━━━━\u001b[0m \u001b[32m1.6/1.6 MB\u001b[0m \u001b[31m623.2 kB/s\u001b[0m eta \u001b[36m0:00:00\u001b[0ma \u001b[36m0:00:01\u001b[0m\n",
      "\u001b[?25hDownloading pyparsing-3.2.0-py3-none-any.whl (106 kB)\n",
      "Installing collected packages: pyparsing, kiwisolver, fonttools, cycler, contourpy, matplotlib, seaborn\n",
      "Successfully installed contourpy-1.3.0 cycler-0.12.1 fonttools-4.54.1 kiwisolver-1.4.7 matplotlib-3.9.2 pyparsing-3.2.0 seaborn-0.13.2\n",
      "\u001b[33mWARNING: Running pip as the 'root' user can result in broken permissions and conflicting behaviour with the system package manager, possibly rendering your system unusable.It is recommended to use a virtual environment instead: https://pip.pypa.io/warnings/venv. Use the --root-user-action option if you know what you are doing and want to suppress this warning.\u001b[0m\u001b[33m\n",
      "\u001b[0m"
     ]
    }
   ],
   "source": [
    "!pip install matplotlib seaborn"
   ]
  },
  {
   "cell_type": "code",
   "execution_count": 19,
   "metadata": {},
   "outputs": [
    {
     "data": {
      "image/png": "[encoded data removed]",
      "text/plain": [
       "<Figure size 1000x600 with 1 Axes>"
      ]
     },
     "metadata": {},
     "output_type": "display_data"
    }
   ],
   "source": [
    "import matplotlib.pyplot as plt\n",
    "import seaborn as sns\n",
    "\n",
    "plt.figure(figsize=(10, 6))\n",
    "\n",
    "# Step 3: Create the histogram with density curve\n",
    "sns.histplot(ans_len, bins=range(2, 8), kde=True, stat='density', color='blue', edgecolor='black')\n",
    "\n",
    "# Step 4: Add density curve (optional, as kde=True already adds it)\n",
    "sns.kdeplot(ans_len, color='red', linewidth=2)\n",
    "\n",
    "# Step 5: Add labels and title\n",
    "plt.title('Histogram of Word Counts with Density Curve')\n",
    "plt.xlabel('Word Count')\n",
    "plt.ylabel('Density')\n",
    "plt.xticks(range(2, 8))\n",
    "plt.grid(True)\n",
    "\n",
    "# Show the plot\n",
    "plt.show()"
   ]
  },
  {
   "cell_type": "code",
   "execution_count": 21,
   "metadata": {},
   "outputs": [
    {
     "name": "stdout",
     "output_type": "stream",
     "text": [
      "3915\n"
     ]
    }
   ],
   "source": [
    "print((ans_len > 10).sum())"
   ]
  },
  {
   "cell_type": "code",
   "execution_count": 27,
   "metadata": {},
   "outputs": [
    {
     "data": {
      "text/plain": [
       "['successful for the Prussian-led forces on the continent, in contrast to disappointing British campaigns in North America.',\n",
       " 'the measurement of light sensitivity of the entire digital camera system and not of individual components',\n",
       " 'neo-Attic Imperial Roman copies of the late 1st or early 2nd century',\n",
       " 'host both transient and deployed USN and USAF aircraft, as well as transitioning or deployed Royal Air Force and Canadian Forces aircraft.',\n",
       " 'American University of Armenia and the QSI International School of Yerevan',\n",
       " 'the 2009 World Badminton Championships and the 2009 IBSF World Snooker Championship',\n",
       " 'Short-toed eagles (Circaetus gallicus), tawny eagles (Aquila rapax), spotted eagles (Aquila clanga)',\n",
       " 'word γραῖα graia \"old woman\" comes from the PIE root *ǵerh2-/*ǵreh2-, \"to grow old\" via Proto-Greek *gera-/grau-iu',\n",
       " 'first recorded on audio tape, which could then be processed and/or edited, and then dubbed on to the master disc',\n",
       " 'the sole objective of getting John XXIII to appear at the window to address them',\n",
       " 'minority leader is provided with extra staff resources—beyond those accorded him or her as a Representative',\n",
       " 'the ESA allows listed species to be shipped across state lines as long as they are not sold',\n",
       " 'the practice of the beth din that converted him or her',\n",
       " 'where lower ranked teams beat higher placed opposition, known as \"giant killings\", is much anticipated by the public',\n",
       " 'every person that comes into the world, is touched at his birth by the devil',\n",
       " \"A large influx of Americans soon followed, originally with the approval of Mexico's president. In 1836\",\n",
       " 'the death of Wolfe, and the Battle of Fort William Henry',\n",
       " \"the type of videographic recording medium used and the image's characteristics\",\n",
       " 'Broadcasters were faced with having to adapt daily to the varied recording',\n",
       " 'the federal system passed in the parliaments of Wallonia and Brussels.',\n",
       " 'breaking the Portuguese sphere of influence on the Indian Ocean and in the Orient',\n",
       " 'was the only physical music medium with increasing sales with relation to the previous year',\n",
       " 'The spirit at once surrenders itself to this universal claim and appropriates it for itself',\n",
       " 'follows the completion of a school such as a high school',\n",
       " 'Andaman Sea to the southwest and the south, which forms one quarter of its total perimeter.',\n",
       " 'lack of sales for the single, and a lack of general interest',\n",
       " 'Muslim tradition or hadith, which states that the only children born without the \"touch of Satan,\" were Mary and Jesus.',\n",
       " 'They celebrated the ideas which \"over the last 150 years have revolutionised our understanding of nature and our place within it\".',\n",
       " '\"the focus on a few diseases has shortchanged basic needs such as nutrition and transportation',\n",
       " 'the possible pollution caused by the proposed disposal of the Brent Spar platform into the North Sea',\n",
       " 'Good Manufacturing Practice (GMP) Violations, Off Label Marketing, Best Price Fraud, CME Fraud, Medicaid Price Reporting, and Manufactured Compound Drugs.',\n",
       " 'the more impact it may have. However, short term exposure to stress also causes impairment in memory by interfering with the function of the hippocampus',\n",
       " 'introduces unnecessary complexity and questions as to how to interpret each character when encountered alone',\n",
       " 'in recent times when this pattern was not followed were 1999–2000',\n",
       " 'collate information about the financial situation of all administrations dependent on the Holy See and present the results to the College of Cardinals',\n",
       " 'George Lucas, Francis Ford Coppola, Martin Scorsese, John Milius, and Brian De Palma',\n",
       " '\"If the gentiles wish to make peace, we shall make peace and leave them on clear terms',\n",
       " 're-captured the port of Emden in March 1758 before crossing the Rhine with his own forces',\n",
       " 'only one Grand Lodge will be recognised in any geographical area',\n",
       " 'modern cup was beginning to be established by the 1888–89 season,',\n",
       " 'several banned websites, including YouTube, Democratic Voice of Burma and Voice of America, were unblocked.',\n",
       " \"7.0 per cent of the islands' people are either Hispanic or Hispanophone or both.\",\n",
       " \"Gaddafi's paternal grandfather, Abdessalam Bouminyar, was killed by the Italian Army during the Italian invasion of 1911\",\n",
       " 'There are far fewer witnesses to classical texts than to the Bible',\n",
       " \"the county has supplied aggregates. Foster Yeoman is Europe's large supplier of limestone aggregates\",\n",
       " '14 different players from 10 different clubs have won or shared the top scorers title.',\n",
       " 'nonprofit organisation that meets stricter criteria regarding its purpose and the method in which it makes decisions and reports its finances',\n",
       " 'Sky and BT paid a total of £5.136 billion to renew their contracts with the Premier League for another three years up to the 2018–19 season.',\n",
       " 'Anti-miscegenation laws were passed in most states during the 18th, 19th and early 20th centuries',\n",
       " 'an ID function based on the configuration data channel and vendor-defined messages']"
      ]
     },
     "execution_count": 27,
     "metadata": {},
     "output_type": "execute_result"
    }
   ],
   "source": [
    "df[ans_len > 10][\"answer_text\"].sample(50).tolist()"
   ]
  }
 ],
 "metadata": {
  "colab": {
   "provenance": []
  },
  "kernelspec": {
   "display_name": "Python 3 (ipykernel)",
   "language": "python",
   "name": "python3"
  },
  "language_info": {
   "codemirror_mode": {
    "name": "ipython",
    "version": 3
   },
   "file_extension": ".py",
   "mimetype": "text/x-python",
   "name": "python",
   "nbconvert_exporter": "python",
   "pygments_lexer": "ipython3",
   "version": "3.10.15"
  }
 },
 "nbformat": 4,
 "nbformat_minor": 4
}
