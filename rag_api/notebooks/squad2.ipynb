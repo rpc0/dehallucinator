{
 "cells": [
  {
   "cell_type": "markdown",
   "metadata": {},
   "source": [
    "#\n",
    "# Load squad2.0 train .json onto df\n",
    "#"
   ]
  },
  {
   "cell_type": "code",
   "execution_count": 1,
   "metadata": {
    "id": "7bGlwDfSLct3"
   },
   "outputs": [],
   "source": [
    "import json, requests\n",
    "import pandas as pd\n",
    "from tqdm import tqdm"
   ]
  },
  {
   "cell_type": "code",
   "execution_count": 2,
   "metadata": {
    "id": "H7EDzBMfLc8k"
   },
   "outputs": [],
   "source": [
    "# Load the SQuAD 2.0 JSON file\n",
    "# URL of the SQuAD 2.0 dataset\n",
    "url = 'https://rajpurkar.github.io/SQuAD-explorer/dataset/train-v2.0.json'\n",
    "\n",
    "# Fetch the content from the URL\n",
    "response = requests.get(url)\n",
    "\n",
    "# Check if the request was successful (status code 200)\n",
    "if response.status_code == 200:\n",
    "    # Load the JSON content into a dictionary\n",
    "    squad_data = response.json()"
   ]
  },
  {
   "cell_type": "code",
   "execution_count": 3,
   "metadata": {
    "colab": {
     "base_uri": "https://localhost:8080/"
    },
    "id": "A3f38k5IK--L",
    "outputId": "8e2e406d-05d7-4704-f00b-8ba2694fdaf0"
   },
   "outputs": [
    {
     "name": "stderr",
     "output_type": "stream",
     "text": [
      "Processing Articles: 100%|██████████| 442/442 [00:00<00:00, 4561.79it/s]\n"
     ]
    },
    {
     "name": "stdout",
     "output_type": "stream",
     "text": [
      "                            title  \\\n",
      "id                                  \n",
      "56be85543aeaaa14008c9063  Beyoncé   \n",
      "56be85543aeaaa14008c9065  Beyoncé   \n",
      "56be85543aeaaa14008c9066  Beyoncé   \n",
      "56bf6b0f3aeaaa14008c9601  Beyoncé   \n",
      "56bf6b0f3aeaaa14008c9602  Beyoncé   \n",
      "\n",
      "                                                                    context  \\\n",
      "id                                                                            \n",
      "56be85543aeaaa14008c9063  Beyoncé Giselle Knowles-Carter (/biːˈjɒnseɪ/ b...   \n",
      "56be85543aeaaa14008c9065  Beyoncé Giselle Knowles-Carter (/biːˈjɒnseɪ/ b...   \n",
      "56be85543aeaaa14008c9066  Beyoncé Giselle Knowles-Carter (/biːˈjɒnseɪ/ b...   \n",
      "56bf6b0f3aeaaa14008c9601  Beyoncé Giselle Knowles-Carter (/biːˈjɒnseɪ/ b...   \n",
      "56bf6b0f3aeaaa14008c9602  Beyoncé Giselle Knowles-Carter (/biːˈjɒnseɪ/ b...   \n",
      "\n",
      "                                                                   question  \\\n",
      "id                                                                            \n",
      "56be85543aeaaa14008c9063           When did Beyonce start becoming popular?   \n",
      "56be85543aeaaa14008c9065  What areas did Beyonce compete in when she was...   \n",
      "56be85543aeaaa14008c9066  When did Beyonce leave Destiny's Child and bec...   \n",
      "56bf6b0f3aeaaa14008c9601      In what city and state did Beyonce  grow up?    \n",
      "56bf6b0f3aeaaa14008c9602         In which decade did Beyonce become famous?   \n",
      "\n",
      "                          is_impossible          answer_text  answer_start  \n",
      "id                                                                          \n",
      "56be85543aeaaa14008c9063          False    in the late 1990s         269.0  \n",
      "56be85543aeaaa14008c9065          False  singing and dancing         207.0  \n",
      "56be85543aeaaa14008c9066          False                 2003         526.0  \n",
      "56bf6b0f3aeaaa14008c9601          False       Houston, Texas         166.0  \n",
      "56bf6b0f3aeaaa14008c9602          False           late 1990s         276.0  \n"
     ]
    }
   ],
   "source": [
    "# Initialize lists to hold flattened data\n",
    "data_list = []\n",
    "\n",
    "# Use tqdm to add a progress bar to the outer loop\n",
    "for article in tqdm(squad_data['data'], desc='Processing Articles'):\n",
    "    title = article['title']\n",
    "    for paragraph in article['paragraphs']:\n",
    "        context = paragraph['context']\n",
    "        for qa in paragraph['qas']:\n",
    "            question = qa['question']\n",
    "            qid = qa['id']\n",
    "            is_impossible = qa.get('is_impossible', False)\n",
    "            answers = qa.get('answers', [])\n",
    "            if not is_impossible:\n",
    "                for answer in answers:\n",
    "                    answer_text = answer['text']\n",
    "                    answer_start = answer['answer_start']\n",
    "                    data_list.append({\n",
    "                        'title': title,\n",
    "                        'context': context,\n",
    "                        'question': question,\n",
    "                        'id': qid,\n",
    "                        'is_impossible': is_impossible,\n",
    "                        'answer_text': answer_text,\n",
    "                        'answer_start': answer_start\n",
    "                    })\n",
    "            else:\n",
    "                # For unanswerable questions, append with empty answer fields\n",
    "                data_list.append({\n",
    "                    'title': title,\n",
    "                    'context': context,\n",
    "                    'question': question,\n",
    "                    'id': qid,\n",
    "                    'is_impossible': is_impossible,\n",
    "                    'answer_text': None,\n",
    "                    'answer_start': None\n",
    "                })\n",
    "\n",
    "# Convert list of records to a DataFrame\n",
    "df = pd.DataFrame(data_list)\n",
    "df.set_index(\"id\", inplace=True)\n",
    "\n",
    "# Display the DataFrame\n",
    "print(df.head())"
   ]
  },
  {
   "cell_type": "code",
   "execution_count": 4,
   "metadata": {
    "colab": {
     "base_uri": "https://localhost:8080/",
     "height": 674
    },
    "id": "HPgJwJPRMQOn",
    "outputId": "60345f37-7a8a-4e49-94af-397f3501e61c"
   },
   "outputs": [
    {
     "data": {
      "text/html": [
       "<div>\n",
       "<style scoped>\n",
       "    .dataframe tbody tr th:only-of-type {\n",
       "        vertical-align: middle;\n",
       "    }\n",
       "\n",
       "    .dataframe tbody tr th {\n",
       "        vertical-align: top;\n",
       "    }\n",
       "\n",
       "    .dataframe thead th {\n",
       "        text-align: right;\n",
       "    }\n",
       "</style>\n",
       "<table border=\"1\" class=\"dataframe\">\n",
       "  <thead>\n",
       "    <tr style=\"text-align: right;\">\n",
       "      <th></th>\n",
       "      <th>title</th>\n",
       "      <th>context</th>\n",
       "      <th>question</th>\n",
       "      <th>is_impossible</th>\n",
       "      <th>answer_text</th>\n",
       "      <th>answer_start</th>\n",
       "    </tr>\n",
       "    <tr>\n",
       "      <th>id</th>\n",
       "      <th></th>\n",
       "      <th></th>\n",
       "      <th></th>\n",
       "      <th></th>\n",
       "      <th></th>\n",
       "      <th></th>\n",
       "    </tr>\n",
       "  </thead>\n",
       "  <tbody>\n",
       "    <tr>\n",
       "      <th>57327238e99e3014001e67ba</th>\n",
       "      <td>Dwight_D._Eisenhower</td>\n",
       "      <td>In July 1953, an armistice took effect with Ko...</td>\n",
       "      <td>Who described the armistice as Eisenhower's gr...</td>\n",
       "      <td>False</td>\n",
       "      <td>Ambrose</td>\n",
       "      <td>388.0</td>\n",
       "    </tr>\n",
       "    <tr>\n",
       "      <th>5acec39532bba1001ae4b333</th>\n",
       "      <td>Athanasius_of_Alexandria</td>\n",
       "      <td>The accession of Valens gave a fresh lease of ...</td>\n",
       "      <td>What happened on October 4?</td>\n",
       "      <td>True</td>\n",
       "      <td>None</td>\n",
       "      <td>NaN</td>\n",
       "    </tr>\n",
       "    <tr>\n",
       "      <th>5a1e1c4b3de3f40018b264d6</th>\n",
       "      <td>Hokkien</td>\n",
       "      <td>Hokkien dialects are typically written using C...</td>\n",
       "      <td>What is adapted to the spoken form of Chinese?</td>\n",
       "      <td>True</td>\n",
       "      <td>None</td>\n",
       "      <td>NaN</td>\n",
       "    </tr>\n",
       "    <tr>\n",
       "      <th>56de523ccffd8e1900b4b809</th>\n",
       "      <td>Institute_of_technology</td>\n",
       "      <td>Most of Thailand's institutes of technology we...</td>\n",
       "      <td>What type of degree were Thailand's technical ...</td>\n",
       "      <td>False</td>\n",
       "      <td>bachelor's degrees</td>\n",
       "      <td>112.0</td>\n",
       "    </tr>\n",
       "    <tr>\n",
       "      <th>5a85e576b4e223001a8e728a</th>\n",
       "      <td>Poultry</td>\n",
       "      <td>The greylag goose (Anser anser) was domesticat...</td>\n",
       "      <td>What other name is the swan goose no longer kn...</td>\n",
       "      <td>True</td>\n",
       "      <td>None</td>\n",
       "      <td>NaN</td>\n",
       "    </tr>\n",
       "  </tbody>\n",
       "</table>\n",
       "</div>"
      ],
      "text/plain": [
       "                                             title  \\\n",
       "id                                                   \n",
       "57327238e99e3014001e67ba      Dwight_D._Eisenhower   \n",
       "5acec39532bba1001ae4b333  Athanasius_of_Alexandria   \n",
       "5a1e1c4b3de3f40018b264d6                   Hokkien   \n",
       "56de523ccffd8e1900b4b809   Institute_of_technology   \n",
       "5a85e576b4e223001a8e728a                   Poultry   \n",
       "\n",
       "                                                                    context  \\\n",
       "id                                                                            \n",
       "57327238e99e3014001e67ba  In July 1953, an armistice took effect with Ko...   \n",
       "5acec39532bba1001ae4b333  The accession of Valens gave a fresh lease of ...   \n",
       "5a1e1c4b3de3f40018b264d6  Hokkien dialects are typically written using C...   \n",
       "56de523ccffd8e1900b4b809  Most of Thailand's institutes of technology we...   \n",
       "5a85e576b4e223001a8e728a  The greylag goose (Anser anser) was domesticat...   \n",
       "\n",
       "                                                                   question  \\\n",
       "id                                                                            \n",
       "57327238e99e3014001e67ba  Who described the armistice as Eisenhower's gr...   \n",
       "5acec39532bba1001ae4b333                        What happened on October 4?   \n",
       "5a1e1c4b3de3f40018b264d6     What is adapted to the spoken form of Chinese?   \n",
       "56de523ccffd8e1900b4b809  What type of degree were Thailand's technical ...   \n",
       "5a85e576b4e223001a8e728a  What other name is the swan goose no longer kn...   \n",
       "\n",
       "                          is_impossible         answer_text  answer_start  \n",
       "id                                                                         \n",
       "57327238e99e3014001e67ba          False             Ambrose         388.0  \n",
       "5acec39532bba1001ae4b333           True                None           NaN  \n",
       "5a1e1c4b3de3f40018b264d6           True                None           NaN  \n",
       "56de523ccffd8e1900b4b809          False  bachelor's degrees         112.0  \n",
       "5a85e576b4e223001a8e728a           True                None           NaN  "
      ]
     },
     "execution_count": 4,
     "metadata": {},
     "output_type": "execute_result"
    }
   ],
   "source": [
    "df.sample(5)"
   ]
  },
  {
   "cell_type": "markdown",
   "metadata": {
    "id": "1ccBoOAzROGB"
   },
   "source": [
    "Evaluation on LLM-RAG:\n",
    "\n",
    "1. Retrieval - RAG retrieved the needed context? <br>\n",
    "2. Relevance - LLM deciphered the relevant context? <br>\n",
    "3. Accuracy - LLM answer contains the answer <br>\n",
    "4. Precision - LLM answer does not contain irrelevant answer <br>\n",
    "\n",
    "\n",
    "\n",
    "\n",
    "\n"
   ]
  },
  {
   "cell_type": "markdown",
   "metadata": {},
   "source": [
    "#\n",
    "# Multi-Ollama for Concurrent Invokes\n",
    "#"
   ]
  },
  {
   "cell_type": "code",
   "execution_count": 5,
   "metadata": {},
   "outputs": [],
   "source": [
    "import itertools\n",
    "from langchain_community.llms import Ollama\n",
    "from langchain.prompts import PromptTemplate\n",
    "\n",
    "import deh.settings as settings\n",
    "import deh.guardrail as guardrail\n",
    "from deh.utils import format_context_documents as format_docs\n",
    "from deh.utils import retriever_with_scores, dedupulicate_contexts\n",
    "from deh.prompts import (\n",
    "    qa_eval_prompt_with_context_text,\n",
    "    LLMEvalResult,\n",
    "    rag_text_prompts,\n",
    "    hyde_prompts,\n",
    ")\n",
    "import deh"
   ]
  },
  {
   "cell_type": "code",
   "execution_count": 6,
   "metadata": {},
   "outputs": [
    {
     "name": "stdout",
     "output_type": "stream",
     "text": [
      "8\n",
      "\u001b[1mOllama\u001b[0m\n",
      "Params: {'model': 'llama3.1:8b-instruct-q3_K_L', 'format': None, 'options': {'mirostat': None, 'mirostat_eta': None, 'mirostat_tau': None, 'num_ctx': None, 'num_gpu': None, 'num_thread': None, 'num_predict': None, 'repeat_last_n': None, 'repeat_penalty': None, 'temperature': None, 'stop': None, 'tfs_z': None, 'top_k': None, 'top_p': None}, 'system': None, 'template': None, 'keep_alive': None, 'raw': None}\n"
     ]
    },
    {
     "name": "stderr",
     "output_type": "stream",
     "text": [
      "/tmp/ipykernel_24/2320936863.py:3: LangChainDeprecationWarning: The class `Ollama` was deprecated in LangChain 0.3.1 and will be removed in 1.0.0. An updated version of the class exists in the :class:`~langchain-ollama package and should be used instead. To use it run `pip install -U :class:`~langchain-ollama` and import as `from :class:`~langchain_ollama import OllamaLLM``.\n",
      "  LLM = [Ollama(\n"
     ]
    }
   ],
   "source": [
    "# Set up load balancing between the two instances\n",
    "nLLM = 8\n",
    "LLM = [Ollama(\n",
    "            base_url=settings.OLLAMA_HOST, model=settings.LLM_MODEL, verbose=True\n",
    "        ) for i in range(nLLM)\n",
    "      ] \n",
    "\n",
    "print(len(LLM))\n",
    "print(LLM[-1])\n",
    "\n",
    "# Create a round-robin iterator using itertools.cycle\n",
    "round_robin_models = itertools.cycle(LLM)\n",
    "\n",
    "def LLMinvoke(prompt):\n",
    "    # Get the next model in the round-robin cycle\n",
    "    selected_model = next(round_robin_models)\n",
    "    \n",
    "    # Invoke the selected model with the prompt\n",
    "    response = selected_model.invoke(prompt)\n",
    "    return response"
   ]
  },
  {
   "cell_type": "code",
   "execution_count": 7,
   "metadata": {},
   "outputs": [
    {
     "name": "stdout",
     "output_type": "stream",
     "text": [
      "Beyonce started becoming popular in the late 1990s as lead singer of R&B girl-group Destiny's Child. This was followed by her solo debut album, Dangerously in Love, released in 2003, which established her as a solo artist worldwide. The album featured two number-one singles, \"Crazy in Love\" and \"Baby Boy\".\n"
     ]
    }
   ],
   "source": [
    "row = 0\n",
    "q = df.iloc[row][\"question\"]\n",
    "c = df.iloc[row][\"context\"]\n",
    "gt = df.iloc[row][\"answer_text\"]\n",
    "\n",
    "# Initial LLM generation prompt:\n",
    "qa_prompt = PromptTemplate(\n",
    "    template=rag_text_prompts[0], input_variables=[\"question\", \"context\"]\n",
    ")\n",
    "\n",
    "chain = qa_prompt | LLMinvoke\n",
    "llmans = chain.invoke({\"question\": q, \"context\": c})\n",
    "\n",
    "print(llmans)"
   ]
  },
  {
   "cell_type": "code",
   "execution_count": 8,
   "metadata": {},
   "outputs": [
    {
     "name": "stdout",
     "output_type": "stream",
     "text": [
      "When did Beyonce start becoming popular?\n",
      "Beyoncé Giselle Knowles-Carter (/biːˈjɒnseɪ/ bee-YON-say) (born September 4, 1981) is an American singer, songwriter, record producer and actress. Born and raised in Houston, Texas, she performed in various singing and dancing competitions as a child, and rose to fame in the late 1990s as lead singer of R&B girl-group Destiny's Child. Managed by her father, Mathew Knowles, the group became one of the world's best-selling girl groups of all time. Their hiatus saw the release of Beyoncé's debut album, Dangerously in Love (2003), which established her as a solo artist worldwide, earned five Grammy Awards and featured the Billboard Hot 100 number-one singles \"Crazy in Love\" and \"Baby Boy\".\n",
      "in the late 1990s\n",
      "first=PromptTemplate(input_variables=['context', 'question'], input_types={}, partial_variables={}, template=\"\\n    You are an assistant for question-answering tasks.\\n    Use the following pieces of retrieved context to answer the question.\\n    If you don't know the answer, just say that you don't know.\\n    Use three sentences maximum and keep the answer concise.\\n\\n    Question: {question}\\n    Context: {context}\\n\\n    Answer:\\n    \") middle=[] last=RunnableLambda(LLMinvoke)\n"
     ]
    }
   ],
   "source": [
    "print(q)\n",
    "print(c)\n",
    "print(gt)\n",
    "print(chain)"
   ]
  },
  {
   "cell_type": "code",
   "execution_count": 9,
   "metadata": {},
   "outputs": [],
   "source": [
    "import asyncio\n",
    "from tqdm.asyncio import tqdm_asyncio\n",
    "import nest_asyncio\n",
    "\n",
    "nest_asyncio.apply()\n",
    "\n",
    "# Assuming chain.invoke is an asynchronous function\n",
    "async def invoke_chain(chain, q, c, semaphore, pbar):\n",
    "    async with semaphore:\n",
    "        pbar.update(1)\n",
    "        return await chain.ainvoke({\"question\": q, \"context\": c})\n",
    "\n",
    "async def main(df = None, LLM = None, n=50, clim=8):\n",
    "    # input validation \n",
    "    if df.empty:\n",
    "        raise ValueError(\"The DataFrame is empty\")\n",
    "    assert (LLM != None)\n",
    "    \n",
    "    # Initial LLM generation prompt:\n",
    "    qa_prompt = PromptTemplate(\n",
    "        template=rag_text_prompts[0], input_variables=[\"question\", \"context\"]\n",
    "    )\n",
    "    chain = qa_prompt | LLMinvoke\n",
    "\n",
    "    # Create a semaphore with a limit on concurrent tasks\n",
    "    semaphore = asyncio.Semaphore(clim)\n",
    "\n",
    "    # Create a tqdm progress bar\n",
    "    samdf = df.sample(n, random_state=42)\n",
    "    with tqdm(total=n, desc=\"Processing\") as pbar:\n",
    "        tasks = [invoke_chain(chain, row['question'], row['context'], semaphore, pbar) for _, row in samdf.iterrows()]\n",
    "        results = await asyncio.gather(*tasks)\n",
    "\n",
    "    return results"
   ]
  },
  {
   "cell_type": "code",
   "execution_count": 10,
   "metadata": {},
   "outputs": [
    {
     "name": "stderr",
     "output_type": "stream",
     "text": [
      "Processing: 100%|██████████| 100/100 [02:54<00:00,  1.74s/it]\n"
     ]
    }
   ],
   "source": [
    "# Run the main function\n",
    "results = await main(df, LLM, 100, 32)"
   ]
  },
  {
   "cell_type": "code",
   "execution_count": 11,
   "metadata": {},
   "outputs": [
    {
     "name": "stdout",
     "output_type": "stream",
     "text": [
      "0 : The global recession that followed the financial crisis of 2007 ended in 2012. This period of economic downturn lasted for approximately five years. The exact timing and severity of the end varied across regions.\n",
      "1 : One popular club in Ibiza that started playing dance and house music was Amnesia, specifically with DJ Alfredo. This club played a mix of rock, pop, disco, and house music. It had a distinctive sound fueled by Ecstasy and later influenced the UK club scene.\n",
      "2 : The 16th century is when Martin Luther honored Mary as the Mother of God, alongside Calvin and Huldrych Zwingli, but less so than them. This was a time before the idea of Marian veneration became associated with Catholics, leading to decreased interest in Mary among Protestants. The decline continued during the Age of the Enlightenment.\n",
      "3 : The climate in Himachal varies greatly due to its varying elevation, ranging from hot and subhumid tropical to cold and alpine. It experiences three seasons: summer, winter, and rainy season, with temperatures fluctuating between 28-90°F (82-32°C) across different regions. The state receives heavy rainfall in some areas while others are almost rainless.\n",
      "4 : I don't know how many times the Queen has toured Canada based on the provided context. However, it mentions that the Queen's visit to Australia was referred to as a \"farewell tour\", implying she had made multiple visits before. The context doesn't explicitly state the number of her Canadian tours.\n",
      "5 : Yes, Bermuda's constitution has been amended twice, in 1989 and 2003. These amendments were made to the Constitution that came into force on June 1, 1967. The amendments suggest updates to the existing constitutional framework of Bermuda.\n",
      "6 : I don't know what specific train line connects Florida to the south. However, it appears that the Sunset Limited used to run through Florida from New Orleans to Los Angeles until 2005. The Auto Train also originates in Virginia and ends at Sanford, Florida.\n",
      "7 : The name of the show from Northern Ireland broadcast all over the United Kingdom is Patrick Kielty Almost Live. It's a talk show produced by BBC Northern Ireland. The show provides entertainment and comedy for viewers across the UK.\n",
      "8 : Whitehead left behind no Nachlass (papers) after his death because his family carried out his instructions to destroy them all. He was known for valuing his privacy highly and had a limited habit of writing personal letters. This lack of documentation made it challenging for biographers like Victor Lowe to piece together details about his life.\n",
      "9 : The concern is that these animals may be exposed to pesticide residues in the soil, which can have negative effects on their health and well-being. The persistence of pesticides in the soil could also mean they remain there for a long time, potentially harming other animals that dig in the same area. This highlights the importance of managing pesticide use carefully to minimize environmental impact.\n"
     ]
    }
   ],
   "source": [
    "# Print the results\n",
    "for i in range(10): \n",
    "    print(str(i) + \" : \" + results[i])"
   ]
  },
  {
   "cell_type": "code",
   "execution_count": null,
   "metadata": {},
   "outputs": [],
   "source": [
    "ans_len = df[\"answer_text\"].str.split().str.len()\n",
    "print(ans_len.mean())\n",
    "print(ans_len.std())"
   ]
  },
  {
   "cell_type": "markdown",
   "metadata": {},
   "source": [
    "#\n",
    "# Visualization of words counts\n",
    "#"
   ]
  },
  {
   "cell_type": "code",
   "execution_count": 13,
   "metadata": {},
   "outputs": [
    {
     "name": "stdout",
     "output_type": "stream",
     "text": [
      "Requirement already satisfied: matplotlib in /usr/local/lib/python3.10/site-packages (3.9.2)\n",
      "Requirement already satisfied: seaborn in /usr/local/lib/python3.10/site-packages (0.13.2)\n",
      "Requirement already satisfied: contourpy>=1.0.1 in /usr/local/lib/python3.10/site-packages (from matplotlib) (1.3.0)\n",
      "Requirement already satisfied: cycler>=0.10 in /usr/local/lib/python3.10/site-packages (from matplotlib) (0.12.1)\n",
      "Requirement already satisfied: fonttools>=4.22.0 in /usr/local/lib/python3.10/site-packages (from matplotlib) (4.54.1)\n",
      "Requirement already satisfied: kiwisolver>=1.3.1 in /usr/local/lib/python3.10/site-packages (from matplotlib) (1.4.7)\n",
      "Requirement already satisfied: numpy>=1.23 in /usr/local/lib/python3.10/site-packages (from matplotlib) (1.26.4)\n",
      "Requirement already satisfied: packaging>=20.0 in /usr/local/lib/python3.10/site-packages (from matplotlib) (24.2)\n",
      "Requirement already satisfied: pillow>=8 in /usr/local/lib/python3.10/site-packages (from matplotlib) (11.0.0)\n",
      "Requirement already satisfied: pyparsing>=2.3.1 in /usr/local/lib/python3.10/site-packages (from matplotlib) (3.2.0)\n",
      "Requirement already satisfied: python-dateutil>=2.7 in /usr/local/lib/python3.10/site-packages (from matplotlib) (2.8.2)\n",
      "Requirement already satisfied: pandas>=1.2 in /usr/local/lib/python3.10/site-packages (from seaborn) (2.2.3)\n",
      "Requirement already satisfied: pytz>=2020.1 in /usr/local/lib/python3.10/site-packages (from pandas>=1.2->seaborn) (2024.2)\n",
      "Requirement already satisfied: tzdata>=2022.7 in /usr/local/lib/python3.10/site-packages (from pandas>=1.2->seaborn) (2024.2)\n",
      "Requirement already satisfied: six>=1.5 in /usr/local/lib/python3.10/site-packages (from python-dateutil>=2.7->matplotlib) (1.16.0)\n",
      "\u001b[33mWARNING: Running pip as the 'root' user can result in broken permissions and conflicting behaviour with the system package manager, possibly rendering your system unusable.It is recommended to use a virtual environment instead: https://pip.pypa.io/warnings/venv. Use the --root-user-action option if you know what you are doing and want to suppress this warning.\u001b[0m\u001b[33m\n",
      "\u001b[0m"
     ]
    }
   ],
   "source": [
    "!pip install matplotlib seaborn"
   ]
  },
  {
   "cell_type": "code",
   "execution_count": 40,
   "metadata": {},
   "outputs": [
    {
     "name": "stdout",
     "output_type": "stream",
     "text": [
      "[1, 2, 3, 4, 5, 6, 7, 8, 9, 10, 11, 12, 13, 14, 15, 16, 17, 18, 19, 20, 21, 22, 23, 24]\n"
     ]
    },
    {
     "data": {
      "text/plain": [
       "<Figure size 1000x600 with 0 Axes>"
      ]
     },
     "metadata": {},
     "output_type": "display_data"
    },
    {
     "data": {
      "image/png": "[encoded data removed]",
      "text/plain": [
       "<Figure size 640x480 with 1 Axes>"
      ]
     },
     "metadata": {},
     "output_type": "display_data"
    }
   ],
   "source": [
    "import matplotlib.pyplot as plt\n",
    "import seaborn as sns\n",
    "\n",
    "plt.figure(figsize=(10, 6))\n",
    "bins = [i for i in range(1,25)]\n",
    "print(bins)\n",
    "\n",
    "# Step 1: Create the histogram \n",
    "fig, ax1 = plt.subplots()\n",
    "sns.histplot(ans_len, bins=bins, kde=False, stat='count', color='blue', edgecolor='black', ax=ax1)\n",
    "ax1.set_ylabel('Count')\n",
    "#ax1.set_yscale('log')\n",
    "\n",
    "# Step 2: Density Curve\n",
    "#ax2 = ax1.twinx()\n",
    "#sns.histplot(ans_len, bins=bins, kde=True, stat='density', color='red', edgecolor='black', ax=ax2)\n",
    "#ax2.set_ylabel('Density')\n",
    "\n",
    "# Step 3: Add labels and title\n",
    "plt.title('Histogram of Answer Text Word Counts')\n",
    "plt.xlabel('Word Count')\n",
    "plt.xticks([b + 0.5 for b in bins], bins)\n",
    "plt.grid(True)\n",
    "\n",
    "# Show the plot\n",
    "plt.show()"
   ]
  },
  {
   "cell_type": "code",
   "execution_count": 43,
   "metadata": {},
   "outputs": [
    {
     "name": "stdout",
     "output_type": "stream",
     "text": [
      "3915\n"
     ]
    }
   ],
   "source": [
    "print((ans_len > 10).sum())"
   ]
  },
  {
   "cell_type": "code",
   "execution_count": 44,
   "metadata": {},
   "outputs": [
    {
     "data": {
      "text/plain": [
       "[\"devastating effects the job can have on one's life and health\",\n",
       " 'set up the Shoah Foundation, a non-profit organization that archives filmed testimony of Holocaust survivors',\n",
       " 'These \"classical\" concepts fail to adequately account for change, and overlook the active and experiential nature of the most basic elements of the world.',\n",
       " 'The presence of gas molecules knocks the liberated tungsten atoms back to the filament',\n",
       " 'Spanish were never able to effectively police the border region and the backwoods settlers',\n",
       " 'government funds to pay for transportation of students to both public and Catholic schools',\n",
       " \"Amer's allies in the officers corps threatened to mobilize against him\",\n",
       " 'one of the Masterpieces of the Oral and Intangible Heritage of Humanity',\n",
       " 'as a means for the weak to collectively constrain the strong.',\n",
       " 'When a high-speed USB 2.0 hub is plugged into a high-speed USB host or hub']"
      ]
     },
     "execution_count": 44,
     "metadata": {},
     "output_type": "execute_result"
    }
   ],
   "source": [
    "df[ans_len > 10][\"answer_text\"].sample(10).tolist()"
   ]
  },
  {
   "cell_type": "markdown",
   "metadata": {},
   "source": [
    "#\n",
    "# Vectorize to Milvus\n",
    "#"
   ]
  },
  {
   "cell_type": "code",
   "execution_count": 48,
   "metadata": {},
   "outputs": [
    {
     "name": "stderr",
     "output_type": "stream",
     "text": [
      "Some weights of BertModel were not initialized from the model checkpoint at naver/splade-cocondenser-ensembledistil and are newly initialized: ['bert.pooler.dense.bias', 'bert.pooler.dense.weight']\n",
      "You should probably TRAIN this model on a down-stream task to be able to use it for predictions and inference.\n"
     ]
    }
   ],
   "source": [
    "import torch\n",
    "from sentence_transformers import SentenceTransformer\n",
    "from transformers import AutoTokenizer, AutoModel\n",
    "\n",
    "# Load SPLADE model\n",
    "splade_tokenizer = AutoTokenizer.from_pretrained(\"naver/splade-cocondenser-ensembledistil\")\n",
    "splade_model = AutoModel.from_pretrained(\"naver/splade-cocondenser-ensembledistil\").to('cuda')\n",
    "# Load ALL-MPNET-BASE-V2 model\n",
    "mpnet_model = SentenceTransformer('sentence-transformers/all-mpnet-base-v2')\n",
    "mpnet_model = mpnet_model.to('cuda')"
   ]
  },
  {
   "cell_type": "code",
   "execution_count": 56,
   "metadata": {},
   "outputs": [
    {
     "name": "stderr",
     "output_type": "stream",
     "text": [
      "Vectorizing with ALL-MPNET-BASE-V2:   2%|▏         | 2075/130319 [16:28<16:58:06,  2.10it/s]\n",
      "Vectorizing with ALL-MPNET-BASE-V2: 100%|██████████| 255/255 [01:56<00:00,  2.18it/s]\n"
     ]
    }
   ],
   "source": [
    "# Vectorize using ALL-MPNET-BASE-V2 with tqdm progress bar\n",
    "def vectorize_mpnet_batch(texts):\n",
    "    embeddings = []\n",
    "    for i in tqdm(range(0, len(texts), BATCH_SIZE), desc=\"Vectorizing with ALL-MPNET-BASE-V2\"):\n",
    "        batch_texts = texts[i:i+BATCH_SIZE]\n",
    "        valid_texts = [text if isinstance(text, str) else \"\" for text in batch_texts]\n",
    "        batch_embeddings = mpnet_model.encode(valid_texts, device='cuda', batch_size=BATCH_SIZE)\n",
    "        embeddings.extend(batch_embeddings)\n",
    "    return embeddings\n",
    "\n",
    "BATCH_SIZE = 512\n",
    "mpnet_embeddings = vectorize_mpnet_batch(df['answer_text'].tolist())"
   ]
  },
  {
   "cell_type": "code",
   "execution_count": 60,
   "metadata": {},
   "outputs": [],
   "source": [
    "mpnet_model.to('cpu')\n",
    "del mpnet_model\n",
    "torch.cuda.empty_cache()"
   ]
  },
  {
   "cell_type": "code",
   "execution_count": 61,
   "metadata": {},
   "outputs": [
    {
     "name": "stderr",
     "output_type": "stream",
     "text": [
      "Vectorizing with SPLADE: 100%|██████████| 255/255 [01:48<00:00,  2.36it/s]\n"
     ]
    }
   ],
   "source": [
    "# Vectorize using SPLADE with tqdm for progress bar (on GPU)\n",
    "def vectorize_splade_batch(texts):\n",
    "    embeddings = []\n",
    "    for i in tqdm(range(0, len(texts), BATCH_SIZE), desc=\"Vectorizing with SPLADE\"):\n",
    "        batch_texts = texts[i:i+BATCH_SIZE]\n",
    "        valid_texts = [text if isinstance(text, str) else \"\" for text in batch_texts]\n",
    "        inputs = splade_tokenizer(valid_texts, padding=True, truncation=True, return_tensors='pt').to('cuda')\n",
    "        with torch.no_grad():\n",
    "            outputs = splade_model(**inputs)\n",
    "            pooled_output = outputs.last_hidden_state.mean(dim=1).cpu().numpy()\n",
    "            embeddings.extend(pooled_output)\n",
    "    return embeddings\n",
    "\n",
    "BATCH_SIZE = 512\n",
    "splade_embeddings = vectorize_splade_batch(df['answer_text'].tolist())"
   ]
  },
  {
   "cell_type": "code",
   "execution_count": 62,
   "metadata": {},
   "outputs": [],
   "source": [
    "splade_model.to('cpu')\n",
    "del splade_model\n",
    "torch.cuda.empty_cache()"
   ]
  },
  {
   "cell_type": "code",
   "execution_count": 64,
   "metadata": {},
   "outputs": [
    {
     "ename": "MilvusException",
     "evalue": "<MilvusException: (code=2, message=Fail connecting to server on localhost:19530, illegal connection params or server unavailable)>",
     "output_type": "error",
     "traceback": [
      "\u001b[0;31m---------------------------------------------------------------------------\u001b[0m",
      "\u001b[0;31mFutureTimeoutError\u001b[0m                        Traceback (most recent call last)",
      "File \u001b[0;32m/usr/local/lib/python3.10/site-packages/pymilvus/client/grpc_handler.py:147\u001b[0m, in \u001b[0;36mGrpcHandler._wait_for_channel_ready\u001b[0;34m(self, timeout)\u001b[0m\n\u001b[1;32m    146\u001b[0m \u001b[38;5;28;01mtry\u001b[39;00m:\n\u001b[0;32m--> 147\u001b[0m     \u001b[43mgrpc\u001b[49m\u001b[38;5;241;43m.\u001b[39;49m\u001b[43mchannel_ready_future\u001b[49m\u001b[43m(\u001b[49m\u001b[38;5;28;43mself\u001b[39;49m\u001b[38;5;241;43m.\u001b[39;49m\u001b[43m_channel\u001b[49m\u001b[43m)\u001b[49m\u001b[38;5;241;43m.\u001b[39;49m\u001b[43mresult\u001b[49m\u001b[43m(\u001b[49m\u001b[43mtimeout\u001b[49m\u001b[38;5;241;43m=\u001b[39;49m\u001b[43mtimeout\u001b[49m\u001b[43m)\u001b[49m\n\u001b[1;32m    148\u001b[0m     \u001b[38;5;28mself\u001b[39m\u001b[38;5;241m.\u001b[39m_setup_identifier_interceptor(\u001b[38;5;28mself\u001b[39m\u001b[38;5;241m.\u001b[39m_user, timeout\u001b[38;5;241m=\u001b[39mtimeout)\n",
      "File \u001b[0;32m/usr/local/lib/python3.10/site-packages/grpc/_utilities.py:162\u001b[0m, in \u001b[0;36m_ChannelReadyFuture.result\u001b[0;34m(self, timeout)\u001b[0m\n\u001b[1;32m    161\u001b[0m \u001b[38;5;28;01mdef\u001b[39;00m \u001b[38;5;21mresult\u001b[39m(\u001b[38;5;28mself\u001b[39m, timeout: Optional[\u001b[38;5;28mfloat\u001b[39m] \u001b[38;5;241m=\u001b[39m \u001b[38;5;28;01mNone\u001b[39;00m) \u001b[38;5;241m-\u001b[39m\u001b[38;5;241m>\u001b[39m \u001b[38;5;28;01mNone\u001b[39;00m:\n\u001b[0;32m--> 162\u001b[0m     \u001b[38;5;28;43mself\u001b[39;49m\u001b[38;5;241;43m.\u001b[39;49m\u001b[43m_block\u001b[49m\u001b[43m(\u001b[49m\u001b[43mtimeout\u001b[49m\u001b[43m)\u001b[49m\n",
      "File \u001b[0;32m/usr/local/lib/python3.10/site-packages/grpc/_utilities.py:106\u001b[0m, in \u001b[0;36m_ChannelReadyFuture._block\u001b[0;34m(self, timeout)\u001b[0m\n\u001b[1;32m    105\u001b[0m \u001b[38;5;28;01mif\u001b[39;00m remaining \u001b[38;5;241m<\u001b[39m \u001b[38;5;241m0\u001b[39m:\n\u001b[0;32m--> 106\u001b[0m     \u001b[38;5;28;01mraise\u001b[39;00m grpc\u001b[38;5;241m.\u001b[39mFutureTimeoutError()\n\u001b[1;32m    107\u001b[0m \u001b[38;5;28;01melse\u001b[39;00m:\n",
      "\u001b[0;31mFutureTimeoutError\u001b[0m: ",
      "\nThe above exception was the direct cause of the following exception:\n",
      "\u001b[0;31mMilvusException\u001b[0m                           Traceback (most recent call last)",
      "Cell \u001b[0;32mIn[64], line 4\u001b[0m\n\u001b[1;32m      1\u001b[0m \u001b[38;5;28;01mfrom\u001b[39;00m \u001b[38;5;21;01mpymilvus\u001b[39;00m \u001b[38;5;28;01mimport\u001b[39;00m connections, FieldSchema, CollectionSchema, DataType, Collection\n\u001b[1;32m      3\u001b[0m \u001b[38;5;66;03m# Connect to Milvus server\u001b[39;00m\n\u001b[0;32m----> 4\u001b[0m \u001b[43mconnections\u001b[49m\u001b[38;5;241;43m.\u001b[39;49m\u001b[43mconnect\u001b[49m\u001b[43m(\u001b[49m\u001b[38;5;124;43m\"\u001b[39;49m\u001b[38;5;124;43mdefault\u001b[39;49m\u001b[38;5;124;43m\"\u001b[39;49m\u001b[43m,\u001b[49m\u001b[43m \u001b[49m\u001b[43mhost\u001b[49m\u001b[38;5;241;43m=\u001b[39;49m\u001b[38;5;124;43m\"\u001b[39;49m\u001b[38;5;124;43mlocalhost\u001b[39;49m\u001b[38;5;124;43m\"\u001b[39;49m\u001b[43m,\u001b[49m\u001b[43m \u001b[49m\u001b[43mport\u001b[49m\u001b[38;5;241;43m=\u001b[39;49m\u001b[38;5;124;43m\"\u001b[39;49m\u001b[38;5;124;43m19530\u001b[39;49m\u001b[38;5;124;43m\"\u001b[39;49m\u001b[43m)\u001b[49m\n\u001b[1;32m      5\u001b[0m \u001b[38;5;28mprint\u001b[39m(connections\u001b[38;5;241m.\u001b[39mhas_connection(\u001b[38;5;124m\"\u001b[39m\u001b[38;5;124mdefault\u001b[39m\u001b[38;5;124m\"\u001b[39m))\n\u001b[1;32m      7\u001b[0m \u001b[38;5;66;03m# Define schema for the collection\u001b[39;00m\n",
      "File \u001b[0;32m/usr/local/lib/python3.10/site-packages/pymilvus/orm/connections.py:449\u001b[0m, in \u001b[0;36mConnections.connect\u001b[0;34m(self, alias, user, password, db_name, token, **kwargs)\u001b[0m\n\u001b[1;32m    446\u001b[0m         \u001b[38;5;28;01mif\u001b[39;00m parsed_uri\u001b[38;5;241m.\u001b[39mscheme \u001b[38;5;241m==\u001b[39m \u001b[38;5;124m\"\u001b[39m\u001b[38;5;124mhttps\u001b[39m\u001b[38;5;124m\"\u001b[39m:\n\u001b[1;32m    447\u001b[0m             kwargs[\u001b[38;5;124m\"\u001b[39m\u001b[38;5;124msecure\u001b[39m\u001b[38;5;124m\"\u001b[39m] \u001b[38;5;241m=\u001b[39m \u001b[38;5;28;01mTrue\u001b[39;00m\n\u001b[0;32m--> 449\u001b[0m     \u001b[43mconnect_milvus\u001b[49m\u001b[43m(\u001b[49m\u001b[38;5;241;43m*\u001b[39;49m\u001b[38;5;241;43m*\u001b[39;49m\u001b[43mkwargs\u001b[49m\u001b[43m,\u001b[49m\u001b[43m \u001b[49m\u001b[43muser\u001b[49m\u001b[38;5;241;43m=\u001b[39;49m\u001b[43muser\u001b[49m\u001b[43m,\u001b[49m\u001b[43m \u001b[49m\u001b[43mpassword\u001b[49m\u001b[38;5;241;43m=\u001b[39;49m\u001b[43mpassword\u001b[49m\u001b[43m,\u001b[49m\u001b[43m \u001b[49m\u001b[43mtoken\u001b[49m\u001b[38;5;241;43m=\u001b[39;49m\u001b[43mtoken\u001b[49m\u001b[43m,\u001b[49m\u001b[43m \u001b[49m\u001b[43mdb_name\u001b[49m\u001b[38;5;241;43m=\u001b[39;49m\u001b[43mdb_name\u001b[49m\u001b[43m)\u001b[49m\n\u001b[1;32m    450\u001b[0m     \u001b[38;5;28;01mreturn\u001b[39;00m\n\u001b[1;32m    452\u001b[0m \u001b[38;5;66;03m# 2nd Priority, connection configs from env\u001b[39;00m\n",
      "File \u001b[0;32m/usr/local/lib/python3.10/site-packages/pymilvus/orm/connections.py:400\u001b[0m, in \u001b[0;36mConnections.connect.<locals>.connect_milvus\u001b[0;34m(**kwargs)\u001b[0m\n\u001b[1;32m    397\u001b[0m t \u001b[38;5;241m=\u001b[39m kwargs\u001b[38;5;241m.\u001b[39mget(\u001b[38;5;124m\"\u001b[39m\u001b[38;5;124mtimeout\u001b[39m\u001b[38;5;124m\"\u001b[39m)\n\u001b[1;32m    398\u001b[0m timeout \u001b[38;5;241m=\u001b[39m t \u001b[38;5;28;01mif\u001b[39;00m \u001b[38;5;28misinstance\u001b[39m(t, (\u001b[38;5;28mint\u001b[39m, \u001b[38;5;28mfloat\u001b[39m)) \u001b[38;5;28;01melse\u001b[39;00m Config\u001b[38;5;241m.\u001b[39mMILVUS_CONN_TIMEOUT\n\u001b[0;32m--> 400\u001b[0m \u001b[43mgh\u001b[49m\u001b[38;5;241;43m.\u001b[39;49m\u001b[43m_wait_for_channel_ready\u001b[49m\u001b[43m(\u001b[49m\u001b[43mtimeout\u001b[49m\u001b[38;5;241;43m=\u001b[39;49m\u001b[43mtimeout\u001b[49m\u001b[43m)\u001b[49m\n\u001b[1;32m    401\u001b[0m \u001b[38;5;28;01mif\u001b[39;00m kwargs\u001b[38;5;241m.\u001b[39mget(\u001b[38;5;124m\"\u001b[39m\u001b[38;5;124mkeep_alive\u001b[39m\u001b[38;5;124m\"\u001b[39m, \u001b[38;5;28;01mFalse\u001b[39;00m):\n\u001b[1;32m    402\u001b[0m     gh\u001b[38;5;241m.\u001b[39mregister_state_change_callback(\n\u001b[1;32m    403\u001b[0m         ReconnectHandler(\u001b[38;5;28mself\u001b[39m, alias, kwargs_copy)\u001b[38;5;241m.\u001b[39mreconnect_on_idle\n\u001b[1;32m    404\u001b[0m     )\n",
      "File \u001b[0;32m/usr/local/lib/python3.10/site-packages/pymilvus/client/grpc_handler.py:150\u001b[0m, in \u001b[0;36mGrpcHandler._wait_for_channel_ready\u001b[0;34m(self, timeout)\u001b[0m\n\u001b[1;32m    148\u001b[0m     \u001b[38;5;28mself\u001b[39m\u001b[38;5;241m.\u001b[39m_setup_identifier_interceptor(\u001b[38;5;28mself\u001b[39m\u001b[38;5;241m.\u001b[39m_user, timeout\u001b[38;5;241m=\u001b[39mtimeout)\n\u001b[1;32m    149\u001b[0m \u001b[38;5;28;01mexcept\u001b[39;00m grpc\u001b[38;5;241m.\u001b[39mFutureTimeoutError \u001b[38;5;28;01mas\u001b[39;00m e:\n\u001b[0;32m--> 150\u001b[0m     \u001b[38;5;28;01mraise\u001b[39;00m MilvusException(\n\u001b[1;32m    151\u001b[0m         code\u001b[38;5;241m=\u001b[39mStatus\u001b[38;5;241m.\u001b[39mCONNECT_FAILED,\n\u001b[1;32m    152\u001b[0m         message\u001b[38;5;241m=\u001b[39m\u001b[38;5;124mf\u001b[39m\u001b[38;5;124m\"\u001b[39m\u001b[38;5;124mFail connecting to server on \u001b[39m\u001b[38;5;132;01m{\u001b[39;00m\u001b[38;5;28mself\u001b[39m\u001b[38;5;241m.\u001b[39m_address\u001b[38;5;132;01m}\u001b[39;00m\u001b[38;5;124m, illegal connection params or server unavailable\u001b[39m\u001b[38;5;124m\"\u001b[39m,\n\u001b[1;32m    153\u001b[0m     ) \u001b[38;5;28;01mfrom\u001b[39;00m \u001b[38;5;21;01me\u001b[39;00m\n\u001b[1;32m    154\u001b[0m \u001b[38;5;28;01mexcept\u001b[39;00m \u001b[38;5;167;01mException\u001b[39;00m \u001b[38;5;28;01mas\u001b[39;00m e:\n\u001b[1;32m    155\u001b[0m     \u001b[38;5;28;01mraise\u001b[39;00m e \u001b[38;5;28;01mfrom\u001b[39;00m \u001b[38;5;21;01me\u001b[39;00m\n",
      "\u001b[0;31mMilvusException\u001b[0m: <MilvusException: (code=2, message=Fail connecting to server on localhost:19530, illegal connection params or server unavailable)>"
     ]
    }
   ],
   "source": [
    "from pymilvus import connections, FieldSchema, CollectionSchema, DataType, Collection\n",
    "\n",
    "# Connect to Milvus server\n",
    "connections.connect(\"default\", host=\"localhost\", port=\"19530\")\n",
    "print(connections.has_connection(\"default\"))\n",
    "\n",
    "# Define schema for the collection\n",
    "fields = [\n",
    "    FieldSchema(name=\"index\", dtype=DataType.INT64, is_primary=True),\n",
    "    FieldSchema(name=\"mpnet_vector\", dtype=DataType.FLOAT_VECTOR, dim=768),  # Dimension of ALL-MPNET-BASE-V2 vectors\n",
    "    FieldSchema(name=\"splade_vector\", dtype=DataType.FLOAT_VECTOR, dim=splade_embeddings[0].shape())  # SPLADE vector dimension\n",
    "]\n",
    "\n",
    "schema = CollectionSchema(fields)\n",
    "collection_name = \"text_vectors\"\n",
    "collection = Collection(name=collection_name, schema=schema)\n",
    "\n",
    "# Create index on vector fields (optional but recommended for faster searches)\n",
    "index_params = {\"index_type\": \"IVF_FLAT\", \"metric_type\": \"COSINE\", \"params\": {\"nlist\": 128}}\n",
    "collection.create_index(field_name=\"mpnet_vector\", index_params=index_params)\n",
    "collection.create_index(field_name=\"splade_vector\", index_params=index_params)"
   ]
  },
  {
   "cell_type": "code",
   "execution_count": null,
   "metadata": {},
   "outputs": [],
   "source": [
    "# Prepare data for insertion\n",
    "data_to_insert = [\n",
    "    df['id'].tolist(),  # Index column from dataframe\n",
    "    mpnet_embeddings.tolist(),    # ALL-MPNET-BASE-V2 embeddings\n",
    "    splade_embeddings.tolist()    # SPLADE embeddings\n",
    "]\n",
    "\n",
    "# Insert data into Milvus collection\n",
    "collection.insert(data_to_insert)\n",
    "\n",
    "# Flush to ensure data is written to disk\n",
    "collection.flush()"
   ]
  },
  {
   "cell_type": "code",
   "execution_count": null,
   "metadata": {},
   "outputs": [],
   "source": [
    "# Get collection statistics to verify insertion\n",
    "stats = collection.num_entities\n",
    "print(f\"Number of entities in collection: {stats}\")"
   ]
  }
 ],
 "metadata": {
  "colab": {
   "provenance": []
  },
  "kernelspec": {
   "display_name": "Python 3 (ipykernel)",
   "language": "python",
   "name": "python3"
  },
  "language_info": {
   "codemirror_mode": {
    "name": "ipython",
    "version": 3
   },
   "file_extension": ".py",
   "mimetype": "text/x-python",
   "name": "python",
   "nbconvert_exporter": "python",
   "pygments_lexer": "ipython3",
   "version": "3.10.15"
  }
 },
 "nbformat": 4,
 "nbformat_minor": 4
}
