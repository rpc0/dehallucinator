{
 "cells": [
  {
   "cell_type": "code",
   "execution_count": 1,
   "metadata": {
    "id": "7bGlwDfSLct3"
   },
   "outputs": [],
   "source": [
    "import json, requests\n",
    "import pandas as pd\n",
    "from tqdm import tqdm"
   ]
  },
  {
   "cell_type": "code",
   "execution_count": 2,
   "metadata": {
    "id": "H7EDzBMfLc8k"
   },
   "outputs": [],
   "source": [
    "# Load the SQuAD 2.0 JSON file\n",
    "# URL of the SQuAD 2.0 dataset\n",
    "url = 'https://rajpurkar.github.io/SQuAD-explorer/dataset/train-v2.0.json'\n",
    "\n",
    "# Fetch the content from the URL\n",
    "response = requests.get(url)\n",
    "\n",
    "# Check if the request was successful (status code 200)\n",
    "if response.status_code == 200:\n",
    "    # Load the JSON content into a dictionary\n",
    "    squad_data = response.json()"
   ]
  },
  {
   "cell_type": "code",
   "execution_count": 3,
   "metadata": {
    "colab": {
     "base_uri": "https://localhost:8080/"
    },
    "id": "A3f38k5IK--L",
    "outputId": "8e2e406d-05d7-4704-f00b-8ba2694fdaf0"
   },
   "outputs": [
    {
     "name": "stderr",
     "output_type": "stream",
     "text": [
      "Processing Articles: 100%|██████████| 442/442 [00:00<00:00, 4517.60it/s]"
     ]
    },
    {
     "name": "stdout",
     "output_type": "stream",
     "text": [
      "                            title  \\\n",
      "id                                  \n",
      "56be85543aeaaa14008c9063  Beyoncé   \n",
      "56be85543aeaaa14008c9065  Beyoncé   \n",
      "56be85543aeaaa14008c9066  Beyoncé   \n",
      "56bf6b0f3aeaaa14008c9601  Beyoncé   \n",
      "56bf6b0f3aeaaa14008c9602  Beyoncé   \n",
      "\n",
      "                                                                    context  \\\n",
      "id                                                                            \n",
      "56be85543aeaaa14008c9063  Beyoncé Giselle Knowles-Carter (/biːˈjɒnseɪ/ b...   \n",
      "56be85543aeaaa14008c9065  Beyoncé Giselle Knowles-Carter (/biːˈjɒnseɪ/ b...   \n",
      "56be85543aeaaa14008c9066  Beyoncé Giselle Knowles-Carter (/biːˈjɒnseɪ/ b...   \n",
      "56bf6b0f3aeaaa14008c9601  Beyoncé Giselle Knowles-Carter (/biːˈjɒnseɪ/ b...   \n",
      "56bf6b0f3aeaaa14008c9602  Beyoncé Giselle Knowles-Carter (/biːˈjɒnseɪ/ b...   \n",
      "\n",
      "                                                                   question  \\\n",
      "id                                                                            \n",
      "56be85543aeaaa14008c9063           When did Beyonce start becoming popular?   \n",
      "56be85543aeaaa14008c9065  What areas did Beyonce compete in when she was...   \n",
      "56be85543aeaaa14008c9066  When did Beyonce leave Destiny's Child and bec...   \n",
      "56bf6b0f3aeaaa14008c9601      In what city and state did Beyonce  grow up?    \n",
      "56bf6b0f3aeaaa14008c9602         In which decade did Beyonce become famous?   \n",
      "\n",
      "                          is_impossible          answer_text  answer_start  \n",
      "id                                                                          \n",
      "56be85543aeaaa14008c9063          False    in the late 1990s         269.0  \n",
      "56be85543aeaaa14008c9065          False  singing and dancing         207.0  \n",
      "56be85543aeaaa14008c9066          False                 2003         526.0  \n",
      "56bf6b0f3aeaaa14008c9601          False       Houston, Texas         166.0  \n",
      "56bf6b0f3aeaaa14008c9602          False           late 1990s         276.0  \n"
     ]
    },
    {
     "name": "stderr",
     "output_type": "stream",
     "text": [
      "\n"
     ]
    }
   ],
   "source": [
    "# Initialize lists to hold flattened data\n",
    "data_list = []\n",
    "\n",
    "# Use tqdm to add a progress bar to the outer loop\n",
    "for article in tqdm(squad_data['data'], desc='Processing Articles'):\n",
    "    title = article['title']\n",
    "    for paragraph in article['paragraphs']:\n",
    "        context = paragraph['context']\n",
    "        for qa in paragraph['qas']:\n",
    "            question = qa['question']\n",
    "            qid = qa['id']\n",
    "            is_impossible = qa.get('is_impossible', False)\n",
    "            answers = qa.get('answers', [])\n",
    "            if not is_impossible:\n",
    "                for answer in answers:\n",
    "                    answer_text = answer['text']\n",
    "                    answer_start = answer['answer_start']\n",
    "                    data_list.append({\n",
    "                        'title': title,\n",
    "                        'context': context,\n",
    "                        'question': question,\n",
    "                        'id': qid,\n",
    "                        'is_impossible': is_impossible,\n",
    "                        'answer_text': answer_text,\n",
    "                        'answer_start': answer_start\n",
    "                    })\n",
    "            else:\n",
    "                # For unanswerable questions, append with empty answer fields\n",
    "                data_list.append({\n",
    "                    'title': title,\n",
    "                    'context': context,\n",
    "                    'question': question,\n",
    "                    'id': qid,\n",
    "                    'is_impossible': is_impossible,\n",
    "                    'answer_text': None,\n",
    "                    'answer_start': None\n",
    "                })\n",
    "\n",
    "# Convert list of records to a DataFrame\n",
    "df = pd.DataFrame(data_list)\n",
    "df.set_index(\"id\", inplace=True)\n",
    "\n",
    "# Display the DataFrame\n",
    "print(df.head())"
   ]
  },
  {
   "cell_type": "code",
   "execution_count": 4,
   "metadata": {
    "colab": {
     "base_uri": "https://localhost:8080/",
     "height": 674
    },
    "id": "HPgJwJPRMQOn",
    "outputId": "60345f37-7a8a-4e49-94af-397f3501e61c"
   },
   "outputs": [
    {
     "data": {
      "text/html": [
       "<div>\n",
       "<style scoped>\n",
       "    .dataframe tbody tr th:only-of-type {\n",
       "        vertical-align: middle;\n",
       "    }\n",
       "\n",
       "    .dataframe tbody tr th {\n",
       "        vertical-align: top;\n",
       "    }\n",
       "\n",
       "    .dataframe thead th {\n",
       "        text-align: right;\n",
       "    }\n",
       "</style>\n",
       "<table border=\"1\" class=\"dataframe\">\n",
       "  <thead>\n",
       "    <tr style=\"text-align: right;\">\n",
       "      <th></th>\n",
       "      <th>title</th>\n",
       "      <th>context</th>\n",
       "      <th>question</th>\n",
       "      <th>is_impossible</th>\n",
       "      <th>answer_text</th>\n",
       "      <th>answer_start</th>\n",
       "    </tr>\n",
       "    <tr>\n",
       "      <th>id</th>\n",
       "      <th></th>\n",
       "      <th></th>\n",
       "      <th></th>\n",
       "      <th></th>\n",
       "      <th></th>\n",
       "      <th></th>\n",
       "    </tr>\n",
       "  </thead>\n",
       "  <tbody>\n",
       "    <tr>\n",
       "      <th>5ad11b91645df0001a2d0dac</th>\n",
       "      <td>Uranium</td>\n",
       "      <td>Uranium is a naturally occurring element that ...</td>\n",
       "      <td>Where does uranium rank among elements in term...</td>\n",
       "      <td>True</td>\n",
       "      <td>None</td>\n",
       "      <td>NaN</td>\n",
       "    </tr>\n",
       "    <tr>\n",
       "      <th>57342c97d058e614000b6a9c</th>\n",
       "      <td>Portugal</td>\n",
       "      <td>The 20th century saw the arrival of Modernism,...</td>\n",
       "      <td>In which century did Portugal see the arrival ...</td>\n",
       "      <td>False</td>\n",
       "      <td>20th century</td>\n",
       "      <td>4.0</td>\n",
       "    </tr>\n",
       "    <tr>\n",
       "      <th>56d20469e7d4791d009025fd</th>\n",
       "      <td>To_Kill_a_Mockingbird</td>\n",
       "      <td>Just as Lee explores Jem's development in comi...</td>\n",
       "      <td>Who chastis Scout for the way she dresse and a...</td>\n",
       "      <td>False</td>\n",
       "      <td>Mrs. Dubose</td>\n",
       "      <td>817.0</td>\n",
       "    </tr>\n",
       "    <tr>\n",
       "      <th>57290ee56aef051400154a07</th>\n",
       "      <td>States_of_Germany</td>\n",
       "      <td>In 1952, following a referendum, Baden, Württe...</td>\n",
       "      <td>When did the German reunification take place?</td>\n",
       "      <td>False</td>\n",
       "      <td>1990</td>\n",
       "      <td>221.0</td>\n",
       "    </tr>\n",
       "    <tr>\n",
       "      <th>57324a59e17f3d14004227e4</th>\n",
       "      <td>Dwight_D._Eisenhower</td>\n",
       "      <td>French cooperation was deemed necessary to the...</td>\n",
       "      <td>Who served as High Commissioner of North Afric...</td>\n",
       "      <td>False</td>\n",
       "      <td>Henri Giraud</td>\n",
       "      <td>1072.0</td>\n",
       "    </tr>\n",
       "  </tbody>\n",
       "</table>\n",
       "</div>"
      ],
      "text/plain": [
       "                                          title  \\\n",
       "id                                                \n",
       "5ad11b91645df0001a2d0dac                Uranium   \n",
       "57342c97d058e614000b6a9c               Portugal   \n",
       "56d20469e7d4791d009025fd  To_Kill_a_Mockingbird   \n",
       "57290ee56aef051400154a07      States_of_Germany   \n",
       "57324a59e17f3d14004227e4   Dwight_D._Eisenhower   \n",
       "\n",
       "                                                                    context  \\\n",
       "id                                                                            \n",
       "5ad11b91645df0001a2d0dac  Uranium is a naturally occurring element that ...   \n",
       "57342c97d058e614000b6a9c  The 20th century saw the arrival of Modernism,...   \n",
       "56d20469e7d4791d009025fd  Just as Lee explores Jem's development in comi...   \n",
       "57290ee56aef051400154a07  In 1952, following a referendum, Baden, Württe...   \n",
       "57324a59e17f3d14004227e4  French cooperation was deemed necessary to the...   \n",
       "\n",
       "                                                                   question  \\\n",
       "id                                                                            \n",
       "5ad11b91645df0001a2d0dac  Where does uranium rank among elements in term...   \n",
       "57342c97d058e614000b6a9c  In which century did Portugal see the arrival ...   \n",
       "56d20469e7d4791d009025fd  Who chastis Scout for the way she dresse and a...   \n",
       "57290ee56aef051400154a07      When did the German reunification take place?   \n",
       "57324a59e17f3d14004227e4  Who served as High Commissioner of North Afric...   \n",
       "\n",
       "                          is_impossible   answer_text  answer_start  \n",
       "id                                                                   \n",
       "5ad11b91645df0001a2d0dac           True          None           NaN  \n",
       "57342c97d058e614000b6a9c          False  20th century           4.0  \n",
       "56d20469e7d4791d009025fd          False   Mrs. Dubose         817.0  \n",
       "57290ee56aef051400154a07          False          1990         221.0  \n",
       "57324a59e17f3d14004227e4          False  Henri Giraud        1072.0  "
      ]
     },
     "execution_count": 4,
     "metadata": {},
     "output_type": "execute_result"
    }
   ],
   "source": [
    "df.sample(5)"
   ]
  },
  {
   "cell_type": "markdown",
   "metadata": {
    "id": "1ccBoOAzROGB"
   },
   "source": [
    "Evaluation on LLM-RAG:\n",
    "\n",
    "1. Retrieval - RAG retrieved the needed context? <br>\n",
    "2. Relevance - LLM deciphered the relevant context? <br>\n",
    "3. Accuracy - LLM answer contains the answer <br>\n",
    "4. Precision - LLM answer does not contain irrelevant answer <br>\n",
    "\n",
    "\n",
    "\n",
    "\n",
    "\n"
   ]
  },
  {
   "cell_type": "code",
   "execution_count": 5,
   "metadata": {},
   "outputs": [],
   "source": [
    "from langchain_community.llms import Ollama\n",
    "from langchain.prompts import PromptTemplate\n",
    "\n",
    "import deh.settings as settings\n",
    "import deh.guardrail as guardrail\n",
    "from deh.utils import format_context_documents as format_docs\n",
    "from deh.utils import retriever_with_scores, dedupulicate_contexts\n",
    "from deh.prompts import (\n",
    "    qa_eval_prompt_with_context_text,\n",
    "    LLMEvalResult,\n",
    "    rag_prompt_llama_text,\n",
    "    hyde_prompts,\n",
    ")\n",
    "import deh"
   ]
  },
  {
   "cell_type": "code",
   "execution_count": 6,
   "metadata": {},
   "outputs": [
    {
     "name": "stdout",
     "output_type": "stream",
     "text": [
      "\u001b[1mOllama\u001b[0m\n",
      "Params: {'model': 'llama3.1:8b-instruct-q3_K_L', 'format': None, 'options': {'mirostat': None, 'mirostat_eta': None, 'mirostat_tau': None, 'num_ctx': None, 'num_gpu': None, 'num_thread': None, 'num_predict': None, 'repeat_last_n': None, 'repeat_penalty': None, 'temperature': None, 'stop': None, 'tfs_z': None, 'top_k': None, 'top_p': None}, 'system': None, 'template': None, 'keep_alive': None, 'raw': None}\n"
     ]
    },
    {
     "name": "stderr",
     "output_type": "stream",
     "text": [
      "/tmp/ipykernel_29/2248878434.py:1: LangChainDeprecationWarning: The class `Ollama` was deprecated in LangChain 0.3.1 and will be removed in 1.0.0. An updated version of the class exists in the :class:`~langchain-ollama package and should be used instead. To use it run `pip install -U :class:`~langchain-ollama` and import as `from :class:`~langchain_ollama import OllamaLLM``.\n",
      "  LLM = Ollama(\n"
     ]
    }
   ],
   "source": [
    "LLM = Ollama(\n",
    "            base_url=settings.OLLAMA_HOST, model=settings.LLM_MODEL, verbose=True\n",
    "        )\n",
    "print(LLM)"
   ]
  },
  {
   "cell_type": "code",
   "execution_count": 7,
   "metadata": {},
   "outputs": [
    {
     "name": "stdout",
     "output_type": "stream",
     "text": [
      "Beyoncé started becoming popular in the late 1990s as lead singer of R&B girl-group Destiny's Child. The group gained widespread recognition during this time, becoming one of the world's best-selling girl groups of all time. Her solo debut album, Dangerously in Love, was released in 2003 and further established her as a solo artist worldwide.\n"
     ]
    }
   ],
   "source": [
    "row = 0\n",
    "q = df.iloc[row][\"question\"]\n",
    "c = df.iloc[row][\"context\"]\n",
    "gt = df.iloc[row][\"answer_text\"]\n",
    "\n",
    "# Initial LLM generation prompt:\n",
    "qa_prompt = PromptTemplate(\n",
    "    template=rag_prompt_llama_text, input_variables=[\"question\", \"context\"]\n",
    ")\n",
    "\n",
    "chain = qa_prompt | LLM\n",
    "llmans = chain.invoke({\"question\": q, \"context\": c})\n",
    "\n",
    "print(llmans)"
   ]
  },
  {
   "cell_type": "code",
   "execution_count": 8,
   "metadata": {},
   "outputs": [
    {
     "name": "stdout",
     "output_type": "stream",
     "text": [
      "When did Beyonce start becoming popular?\n",
      "Beyoncé Giselle Knowles-Carter (/biːˈjɒnseɪ/ bee-YON-say) (born September 4, 1981) is an American singer, songwriter, record producer and actress. Born and raised in Houston, Texas, she performed in various singing and dancing competitions as a child, and rose to fame in the late 1990s as lead singer of R&B girl-group Destiny's Child. Managed by her father, Mathew Knowles, the group became one of the world's best-selling girl groups of all time. Their hiatus saw the release of Beyoncé's debut album, Dangerously in Love (2003), which established her as a solo artist worldwide, earned five Grammy Awards and featured the Billboard Hot 100 number-one singles \"Crazy in Love\" and \"Baby Boy\".\n",
      "in the late 1990s\n",
      "first=PromptTemplate(input_variables=['context', 'question'], input_types={}, partial_variables={}, template=\"\\nYou are an assistant for question-answering tasks.\\nUse the following pieces of retrieved context to answer the question.\\nIf you don't know the answer, just say that you don't know.\\nUse three sentences maximum and keep the answer concise.\\n\\nQuestion: {question}\\nContext: {context}\\n\\nAnswer:\\n\") middle=[] last=Ollama(base_url='http://172.17.0.1:7869', model='llama3.1:8b-instruct-q3_K_L')\n"
     ]
    }
   ],
   "source": [
    "print(q)\n",
    "print(c)\n",
    "print(gt)\n",
    "print(chain)"
   ]
  },
  {
   "cell_type": "code",
   "execution_count": 9,
   "metadata": {},
   "outputs": [],
   "source": [
    "import asyncio\n",
    "from tqdm.asyncio import tqdm_asyncio\n",
    "import nest_asyncio\n",
    "\n",
    "nest_asyncio.apply()\n",
    "\n",
    "# Assuming chain.invoke is an asynchronous function\n",
    "async def invoke_chain(chain, q, c, semaphore, pbar):\n",
    "    async with semaphore:\n",
    "        pbar.update(1)\n",
    "        return await chain.ainvoke({\"question\": q, \"context\": c})\n",
    "\n",
    "async def main(df = None, LLM = None, n=50, clim=10):\n",
    "    # input validation \n",
    "    if df.empty:\n",
    "        raise ValueError(\"The DataFrame is empty\")\n",
    "    assert (LLM != None)\n",
    "    \n",
    "    # Initial LLM generation prompt:\n",
    "    qa_prompt = PromptTemplate(\n",
    "        template=rag_prompt_llama_text, input_variables=[\"question\", \"context\"]\n",
    "    )\n",
    "    chain = qa_prompt | LLM\n",
    "\n",
    "    # Create a semaphore with a limit on concurrent tasks\n",
    "    semaphore = asyncio.Semaphore(clim)\n",
    "\n",
    "    # Create a tqdm progress bar\n",
    "    samdf = df.sample(n)\n",
    "    with tqdm(total=n, desc=\"Processing\") as pbar:\n",
    "        tasks = [invoke_chain(chain, row['question'], row['context'], semaphore, pbar) for _, row in samdf.iterrows()]\n",
    "        results = await asyncio.gather(*tasks)\n",
    "\n",
    "    return results"
   ]
  },
  {
   "cell_type": "code",
   "execution_count": 12,
   "metadata": {},
   "outputs": [
    {
     "name": "stderr",
     "output_type": "stream",
     "text": [
      "Processing: 100%|██████████| 1000/1000 [21:56<00:00,  1.32s/it]\n"
     ]
    }
   ],
   "source": [
    "# Run the main function\n",
    "results = await main(df, LLM, 1000, 32)"
   ]
  },
  {
   "cell_type": "code",
   "execution_count": 13,
   "metadata": {},
   "outputs": [
    {
     "name": "stdout",
     "output_type": "stream",
     "text": [
      "0 : Afro Samurai initially aired on Spike TV channel in 2007. It was later adapted into a full feature animated film and became available on gaming consoles such as the PlayStation 3 and Xbox. The series was produced for American viewers by Studio Gonzo.\n",
      "1 : An early form of semi-cursive script appeared at the end of the late Eastern Han period. It developed from a cursively written form of neo-clerical script. This new script is attributed to Liu Desheng, although it likely evolved over time through various masters.\n",
      "2 : Pyometra affects unspayed female dogs of all types and ages. This condition can occur in any age group, not just older females. It is a serious medical issue that requires immediate attention.\n",
      "3 : Two of the 50 largest cities in the United States are located in Oklahoma, which are Oklahoma City and Tulsa.\n",
      "4 : Baruch College is the institution that described New York as the cultural capital of the world. This description was made in conjunction with diplomatic consulates from Iceland and Latvia. A book titled \"New York, culture capital of the world, 1940–1965\" also supports this claim.\n",
      "5 : F. Elorriaga was arrested by Gaspar de Ochoa and Anastasio Bustamante in February 1830. He was the new governor at that time. This took place after Guerrero's liberal administration was overthrown.\n",
      "6 : William Marshal was declared the protector of Henry III after John's death. He served as regent for the nine-year-old king until he could rule on his own. This period marked the beginning of Marshal's influential administration.\n",
      "7 : The dates depicted on the Arsenal anniversary crest are 1886 and 2011. These dates represent the founding year and the current year of the anniversary celebration. They appear on either side of the motto \"Forward\".\n",
      "8 : I don't know who specifically refused to practice assimilation and intermarriage.\n",
      "9 : China's leadership team researches the economic, political, cultural, social, and military fields as they relate to network security and information technology strategy. These fields include macroeconomic policy and national network security legislation. The focus is on how these areas impact national security capabilities.\n"
     ]
    }
   ],
   "source": [
    "# Print the results\n",
    "for i in range(10): \n",
    "    print(str(i) + \" : \" + results[i])"
   ]
  }
 ],
 "metadata": {
  "colab": {
   "provenance": []
  },
  "kernelspec": {
   "display_name": "Python 3 (ipykernel)",
   "language": "python",
   "name": "python3"
  },
  "language_info": {
   "codemirror_mode": {
    "name": "ipython",
    "version": 3
   },
   "file_extension": ".py",
   "mimetype": "text/x-python",
   "name": "python",
   "nbconvert_exporter": "python",
   "pygments_lexer": "ipython3",
   "version": "3.10.15"
  }
 },
 "nbformat": 4,
 "nbformat_minor": 4
}
