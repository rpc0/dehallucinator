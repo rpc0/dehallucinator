{
 "cells": [
  {
   "cell_type": "code",
   "execution_count": 1,
   "metadata": {},
   "outputs": [],
   "source": [
    "import numpy as np\n",
    "import pandas as pd\n",
    "import os\n",
    "import sys\n",
    "import matplotlib.pyplot as plt\n",
    "import random\n",
    "import csv\n",
    "from datetime import datetime\n",
    "\n",
    "from langchain.schema.runnable import RunnableSequence"
   ]
  },
  {
   "cell_type": "code",
   "execution_count": 2,
   "metadata": {},
   "outputs": [],
   "source": [
    "# Do imports for squad_scoring and prompts\n",
    "from pathlib import Path\n",
    "\n",
    "utils_folder = Path(\"..\")\n",
    "sys.path.append(str(utils_folder))\n",
    "\n",
    "utils_folder = Path(\"../src/deh\")\n",
    "sys.path.append(str(utils_folder))\n",
    "\n",
    "utils_folder = Path(\".\")\n",
    "sys.path.append(str(utils_folder))\n",
    "\n",
    "import squad_scoring\n",
    "import deh_prompts\n",
    "import deh_vector_store\n",
    "import deh_squad_data\n",
    "import deh_hyde\n",
    "from deh_llm import get_llm"
   ]
  },
  {
   "cell_type": "markdown",
   "metadata": {},
   "source": [
    "##### Set Global variables"
   ]
  },
  {
   "cell_type": "code",
   "execution_count": null,
   "metadata": {},
   "outputs": [],
   "source": [
    "# # Folders for storing data and the results\n",
    "DATA_ROOT = \"../../../deh_data_results/data\"         # Set to your own data folder\n",
    "RESULTS_ROOT = \"../../../deh_data_results/results\"   # Set to your own results folder\n",
    "HYDE_BASED_CONTEXTS_ROOT = F\"{DATA_ROOT}/hyde_based_contexts\"   # Set to your own results folder\n",
    "\n",
    "# SQuAD dataset\n",
    "data_file = f\"{DATA_ROOT}/dev-v2.0.json\"\n",
    "dataset = squad_scoring.load_dataset(data_file)\n",
    "\n",
    "# # Vector Store Parameters\n",
    "VECTOR_STORE_TOP_K = 5\n",
    "CHUNK_SIZE = 1000\n",
    "CHUNK_OVERLAP = 100\n",
    "DEFAULT_CHROMA_PREFIX = \"deh_rag\"\n",
    "DEFAULT_CHROMA_COLLECTION = \"per_article\"\n",
    "CHUNK_SQUAD_DATASET = False        # Set to True to vectorize the squad dataset. If False, \n",
    "                                   # then the documents and their embeddings should already\n",
    "                                   # exist in the vector store.\n",
    "\n",
    "# # CONTEXT Creation Parameters\n",
    "REFRESH_QUESTION_CONTEXTS = False   # Set to True to create question contexts from the vector store; \n",
    "                                    # if False, the question contexts are loaded from a csv file.\n",
    "REFRESH_HYDE_CONTEXTS = False       # Set to True to create hyde contexts; if False,\n",
    "#                                   # the hyde contexts are loaded from a csv file.                                    \n",
    "\n",
    "READ_QAS_FROM_FILE = True\n",
    "\n",
    "# # Bootstrap Parameters\n",
    "SAMPLE_SIZE = 100\n",
    "BOOTSTRAPS_N = 10000\n",
    "# #TODO check if this code is ok for setting the seed\n",
    "# # SEED = 42\n",
    "# # set_seed = random.seed(SEED)\n",
    "\n",
    "# PERSIST_ANSWER_SAMPLES = False   # Set to True to persist the llm answers for each sample, for each experiment\n"
   ]
  },
  {
   "cell_type": "markdown",
   "metadata": {},
   "source": [
    "##### Load the SQuAD Dataset"
   ]
  },
  {
   "cell_type": "code",
   "execution_count": 4,
   "metadata": {},
   "outputs": [
    {
     "name": "stdout",
     "output_type": "stream",
     "text": [
      "Loading squad data...\n",
      "#articles in the dataset:     35\n",
      "#contexts in the dataset:   1204\n",
      "#questions in the dataset: 26232\n",
      "#unique questions in the dataset: 11849\n",
      "#unique qas in the dataset: 16209\n",
      "Reading qas and contexts from a csv file...\n"
     ]
    }
   ],
   "source": [
    "csv_file_path = f\"{DATA_ROOT}/qas_with_contexts.csv\"\n",
    "\n",
    "# load the squad data to initialize articles, contexts, qas_with_duplicates, qas, unique_questions\n",
    "# note that qas may be overwritten in the next statement, if READ_QAS_FROM_FILE is True\n",
    "print(f\"Loading squad data...\")\n",
    "articles, contexts, qas_with_duplicates, qas, unique_questions = deh_squad_data.load_squad_data()\n",
    "\n",
    "if READ_QAS_FROM_FILE: \n",
    "    print(f\"Reading qas and contexts from a csv file...\")\n",
    "    \n",
    "    # Read the qas dataset (including contexts) from a CSV file\n",
    "    qas = []\n",
    "\n",
    "    with open(csv_file_path, mode='r') as file:\n",
    "        csv_reader = csv.reader(file)\n",
    "        \n",
    "        for i, row in enumerate(csv_reader):\n",
    "            if i == 0:\n",
    "                continue\n",
    "            qas.append({\"title\": row[0], \"context\": row[1], \"qid\": row[2], \"question\": row[3], \"is_impossible\": row[4], \n",
    "                        \"answer\": row[5], \"hyde_article\": row[6], \"hyde_based_context\": row[7], \"question_context\": row[8]})\n",
    "            \n",
    "            "
   ]
  },
  {
   "cell_type": "markdown",
   "metadata": {},
   "source": [
    "##### Intialize the Vector Store (Chroma; Milvus not yet included)"
   ]
  },
  {
   "cell_type": "code",
   "execution_count": 6,
   "metadata": {},
   "outputs": [
    {
     "name": "stdout",
     "output_type": "stream",
     "text": [
      "Chunking not foreseen. Skipping chunking.\n"
     ]
    }
   ],
   "source": [
    "if CHUNK_SQUAD_DATASET:    \n",
    "    deh_vector_store.chunk_squad_dataset(contexts, dataset, CHUNK_SIZE, CHUNK_OVERLAP)\n",
    "else:\n",
    "    print(\"Chunking not foreseen. Skipping chunking.\")"
   ]
  },
  {
   "cell_type": "code",
   "execution_count": 7,
   "metadata": {},
   "outputs": [],
   "source": [
    "# Intiialize the Chroma vector store\n",
    "vector_store = deh_vector_store.get_vector_store(DEFAULT_CHROMA_PREFIX, DEFAULT_CHROMA_COLLECTION)"
   ]
  },
  {
   "cell_type": "markdown",
   "metadata": {},
   "source": [
    "##### Get hyde-based contexts\n",
    "\n",
    "Always get hyde-based contexts that already exist and these to the qas dataset"
   ]
  },
  {
   "cell_type": "code",
   "execution_count": 8,
   "metadata": {},
   "outputs": [],
   "source": [
    "if not READ_QAS_FROM_FILE:\n",
    "    hyde_based_context_path = f\"{HYDE_BASED_CONTEXTS_ROOT}/hyde_based_contexts.csv\"\n",
    "    hyde_based_contexts, questions_already_processed = deh_hyde.get_hyde_based_contexts(hyde_based_context_path)\n",
    "    print(f\"Number of questions with hyde-based context: {len(questions_already_processed)}\")"
   ]
  },
  {
   "cell_type": "code",
   "execution_count": 9,
   "metadata": {},
   "outputs": [],
   "source": [
    "if not READ_QAS_FROM_FILE:\n",
    "    # Now add the hyde-based contexts to the qas dataset\n",
    "    def get_hyde_based_info_from_qid(qid):\n",
    "        for hbc in hyde_based_contexts:\n",
    "            if hbc[\"qid\"] == qid:\n",
    "                return (hbc[\"hyde_article\"], hbc[\"hyde_based_context\"])\n",
    "        return (\"\", \"\")\n",
    "\n",
    "    for qa in qas:\n",
    "        qid = qa[\"qid\"]\n",
    "        hyde_article, hyde_based_context = get_hyde_based_info_from_qid(qid)\n",
    "        qa[\"hyde_article\"] = hyde_article\n",
    "        qa[\"hyde_based_context\"] = hyde_based_context\n"
   ]
  },
  {
   "cell_type": "markdown",
   "metadata": {},
   "source": [
    "##### Normal (i.e. not hyde-based) Question Contexts\n",
    "\n",
    "Questions:\n",
    "\n",
    "- if configured, either: generate normal question contexts and then persist\n",
    "- or: read the question contexts from a .csv file\n"
   ]
  },
  {
   "cell_type": "code",
   "execution_count": 10,
   "metadata": {},
   "outputs": [],
   "source": [
    "def persist_question_contexts(qas, csv_file_path):\n",
    "\n",
    "    # Write the the qas dataset including the question contexts to a CSV file\n",
    "    with open(csv_file_path, mode=\"w\", newline=\"\", encoding=\"utf-8\") as file:\n",
    "        fieldnames = [\"title\", \"context\", \"qid\", \"question\", \"is_impossible\",\n",
    "                      \"answer\", \"hyde_article\", \"hyde_based_context\", \"question_context\"]\n",
    "        writer = csv.DictWriter(file, fieldnames=fieldnames)\n",
    "        writer.writeheader()   # Write the header row\n",
    "        writer.writerows(qas)  # Write the data rows\n",
    "\n",
    "    print(f\"Data successfully written to {csv_file_path}\")\n"
   ]
  },
  {
   "cell_type": "code",
   "execution_count": 11,
   "metadata": {},
   "outputs": [],
   "source": [
    "# Refresh question contexts (normal contexts and hyde-based contexts)\n",
    "if REFRESH_QUESTION_CONTEXTS or REFRESH_HYDE_CONTEXTS:\n",
    "    print(f\"Generating question contexts for the dataset and persisting these in a csv file...\")\n",
    "\n",
    "    for i, qa in enumerate(qas):\n",
    "        if i %100 == 0:\n",
    "            print(f\"Processing question {i}...\")\n",
    "\n",
    "        if REFRESH_QUESTION_CONTEXTS:\n",
    "            question = qa[\"question\"]\n",
    "            \n",
    "            top_docs = vector_store.similarity_search(\n",
    "                query = question,\n",
    "                k = VECTOR_STORE_TOP_K,\n",
    "            )\n",
    "            qa[\"question_context\"] = \" \".join([top_doc.page_content for top_doc in top_docs])\n",
    "\n",
    "        if REFRESH_HYDE_CONTEXTS:\n",
    "            hyde_article = qa[\"hyde_article\"]\n",
    "            if len(hyde_article) > 0:\n",
    "                #print(f\"hyde_article: {hyde_article}\")\n",
    "                top_docs = vector_store.similarity_search(\n",
    "                    query = hyde_article,\n",
    "                    k = VECTOR_STORE_TOP_K,\n",
    "                )\n",
    "\n",
    "                qa[\"hyde_based_context\"] = \" \".join([top_doc.page_content for top_doc in top_docs])\n",
    "\n",
    "    persist_question_contexts(qas, csv_file_path)\n",
    "\n"
   ]
  },
  {
   "cell_type": "markdown",
   "metadata": {},
   "source": [
    "##### Define functions that are needed for experiments"
   ]
  },
  {
   "cell_type": "code",
   "execution_count": 12,
   "metadata": {},
   "outputs": [],
   "source": [
    "# Create the runnable chain\n",
    "def get_runnable_chain(current_query_prompt, llm):\n",
    "    runnable_chain = RunnableSequence(current_query_prompt | llm)\n",
    "    return runnable_chain"
   ]
  },
  {
   "cell_type": "code",
   "execution_count": 13,
   "metadata": {},
   "outputs": [],
   "source": [
    "# Get the Hyde context for a question\n",
    "# Could be made much more efficient by creating a dictionary of hyde contexts\n",
    "def get_hyde_context(question):\n",
    "    for qa in qas:\n",
    "        if qa[\"question\"] == question:\n",
    "            return qa[\"hyde_based_context\"]\n",
    "    return None"
   ]
  },
  {
   "cell_type": "code",
   "execution_count": 14,
   "metadata": {},
   "outputs": [],
   "source": [
    "# generate the LLM answers, using a runnable chain and the sample of questions provided\n",
    "def generate_llm_answers(runnable_chain, qas_sample, hyde=False):\n",
    "    \n",
    "    preds = {}\n",
    "\n",
    "    sample_size = len(qas_sample)\n",
    "    print(f\"sample_size: {sample_size}\")\n",
    "\n",
    "    for i, qa in enumerate(qas_sample):\n",
    "\n",
    "        question = qa[\"question\"]\n",
    "        if hyde:\n",
    "            #context = qa[\"hyde_context\"]\n",
    "            context = get_hyde_context(question)\n",
    "        else:\n",
    "            context = qa[\"vector_store_context\"]\n",
    "            \n",
    "        # print(f\"question --> {question}\")\n",
    "        # print(context)\n",
    "        response = runnable_chain.invoke({\"context\": context, \"question\": question})\n",
    "                \n",
    "        qid = squad_scoring.get_qid_from_question(question, dataset)\n",
    "        \n",
    "        if response.content.upper() == \"DONT KNOW\":\n",
    "            llm_answer = \"\"\n",
    "        else:\n",
    "            llm_answer = response.content\n",
    "\n",
    "        preds[qid] = llm_answer\n",
    "        qas_sample[i][\"llm_answer\"] = llm_answer\n",
    "\n",
    "    return preds\n"
   ]
  },
  {
   "cell_type": "code",
   "execution_count": 15,
   "metadata": {},
   "outputs": [],
   "source": [
    "#%%capture\n",
    "\n",
    "# Get the metrics for a set of predictions (preds) that have been generated in a run\n",
    "def get_squad_metrics(dataset, preds, verbose=False):\n",
    "    squad_metrics = squad_scoring.calc_squad_metrics(dataset, preds);\n",
    "    return squad_metrics[\"precision\"], squad_metrics[\"recall\"], squad_metrics[\"f1\"]\n"
   ]
  },
  {
   "cell_type": "code",
   "execution_count": 16,
   "metadata": {},
   "outputs": [],
   "source": [
    "# Calculate the mean and confidence interval for a list of scores\n",
    "# TODO: Check if this is calculation is correct !!\n",
    "def calculate_mean_confidence_interval(scores_l):\n",
    "\n",
    "    # Calculate mean\n",
    "    mean = np.mean(scores_l)\n",
    "\n",
    "    # Calculate 95% confidence interval\n",
    "    sample_std_dev = np.std(scores_l, ddof=1)\n",
    "    margin_of_error = 1.96 * sample_std_dev\n",
    "    ci = (mean - margin_of_error, mean + margin_of_error)\n",
    "\n",
    "    return mean, ci"
   ]
  },
  {
   "cell_type": "code",
   "execution_count": 17,
   "metadata": {},
   "outputs": [],
   "source": [
    "# Generate a histogram for a list of scores and persist it\n",
    "def generate_histogram(scores_l, mean, ci, results_folder_name, experiment_name):\n",
    "\n",
    "    plt.clf\n",
    "    plt.hist(scores_l, bins=30, density=False, edgecolor='black', alpha=0.6, color = 'lightblue' ) # color='aquamarine')\n",
    "    plt.xlim(0, 100)\n",
    "    plt.title(f\"F1-Scores for {experiment_name} - (Bootstraps: {BOOTSTRAPS_N} - Sample Size: {SAMPLE_SIZE})\", fontsize=10)\n",
    "    plt.xlabel(\"F1-Score\")\n",
    "    plt.ylabel(\"Frequency\")\n",
    "\n",
    "    # Add a vertical line for the mean\n",
    "    plt.axvline(mean, color='red', linestyle='dotted', linewidth=2, label=f'Mean F1: {round(mean, 2)}')\n",
    "\n",
    "    # Add vertical lines for the 95% confidence interval\n",
    "    plt.axvline(ci[0], color='orange', linestyle='dashdot', linewidth=1.5, label='95% CI Lower')\n",
    "    plt.axvline(ci[1], color='orange', linestyle='dashdot', linewidth=1.5, label='95% CI Upper')\n",
    "\n",
    "    plt.legend(loc='upper right', fontsize=10)\n",
    "    plt.savefig(os.path.join(results_folder_name, f\"{experiment_name}_{BOOTSTRAPS_N}_{SAMPLE_SIZE}\"))"
   ]
  },
  {
   "cell_type": "markdown",
   "metadata": {},
   "source": [
    "##### Define functions for Bootstrapping"
   ]
  },
  {
   "cell_type": "code",
   "execution_count": 18,
   "metadata": {},
   "outputs": [],
   "source": [
    "# Get the current timestamp and format the start timestamp as a string\n",
    "def get_timestamp_as_string():\n",
    "    start_timestamp = datetime.now()\n",
    "    start_timestamp_str = start_timestamp.strftime('%Y%m%d_%H%M%S')\n",
    "    return start_timestamp_str"
   ]
  },
  {
   "cell_type": "code",
   "execution_count": null,
   "metadata": {},
   "outputs": [],
   "source": [
    "# Adding f1, precision, recall for NO_RAG\n",
    "\n",
    "def calculate_scores(qas, query_prompt_idx, experiment_name, context_needed=False, suppress_answers=False):\n",
    "\n",
    "    # Create the chain\n",
    "    current_query_prompt = deh_prompts.query_prompts[query_prompt_idx]\n",
    "    print(f\"current_query_prompt = {current_query_prompt.template}\\n\")\n",
    "    llm = get_llm(current_query_prompt)\n",
    "    runnable_chain = get_runnable_chain(current_query_prompt, llm)\n",
    "\n",
    "    # Generate the LLM answers for all questions and calculate per-answer metrics \n",
    "    preds = {}\n",
    "    for i, qa in enumerate(qas):\n",
    "\n",
    "        if i % 10 == 0:\n",
    "            print(f\"Processing question {i}...\")\n",
    "\n",
    "        qid = qa[\"qid\"]\n",
    "        question = qa[\"question\"]\n",
    "\n",
    "        if context_needed:\n",
    "            if experiment_name == \"BASIC_RAG_HYDE\":\n",
    "                context = qa[\"hyde_based_context\"]\n",
    "            else:\n",
    "                context = qa[\"question_context\"]\n",
    "            response = runnable_chain.invoke({\"question\": question, \"context\": context})\n",
    "        else:\n",
    "            response = runnable_chain.invoke({\"question\": question})\n",
    "\n",
    "        llm_answer = response.content\n",
    "\n",
    "        if llm_answer.upper() == \"DONT KNOW\":\n",
    "            if suppress_answers:\n",
    "                continue\n",
    "            else:\n",
    "                llm_answer = \"\"\n",
    "\n",
    "        preds[qid] = llm_answer\n",
    "        scores = squad_scoring.calc_squad_metrics(dataset, preds)\n",
    "        f1 = scores[\"f1\"]\n",
    "        precision = scores[\"precision\"]\n",
    "        recall = scores[\"recall\"]\n",
    "\n",
    "        preds = {}\n",
    "        qa[f\"{experiment_name.lower()}_llm_answer\"] = llm_answer\n",
    "        qa[f\"{experiment_name.lower()}_f1\"] = f1\n",
    "        qa[f\"{experiment_name.lower()}_precision\"] = precision\n",
    "        qa[f\"{experiment_name.lower()}_recall\"] = recall\n",
    "        "
   ]
  },
  {
   "cell_type": "code",
   "execution_count": 20,
   "metadata": {},
   "outputs": [],
   "source": [
    "def persist_results(results_folder_name, experiment_name, df):\n",
    "\n",
    "    # if not os.path.exists(results_folder_name):\n",
    "    #     os.makedirs(results_folder_name)\n",
    "    # print(f\"results_folder_name: {results_folder_name}\")\n",
    "    df = pd.DataFrame(qas)\n",
    "    df.to_csv(f\"{results_folder_name}/qas_{experiment_name.lower()}_scores.csv\", header=True, index=False)"
   ]
  },
  {
   "cell_type": "code",
   "execution_count": 21,
   "metadata": {},
   "outputs": [],
   "source": [
    "def do_bootstrapping(scores_l, results_folder_name, experiment_name, bootstraps_n = BOOTSTRAPS_N):\n",
    "\n",
    "    mu_hats = []\n",
    "    n = len(scores_l)\n",
    "    #print(f\"scores_l: {scores_l}\")\n",
    "    for i in range(bootstraps_n):\n",
    "        if i % 100 == 0:\n",
    "            print(f\"Processing sample {i}...\")\n",
    "        bootstrap_sample = random.choices(scores_l, k=n) # sample with replacement\n",
    "        mu_hat = np.mean(bootstrap_sample)\n",
    "        mu_hats.append(mu_hat)\n",
    "\n",
    "    bootstraps_mean, ci = calculate_mean_confidence_interval(mu_hats)\n",
    "    #print(f\"mu_hats: {mu_hats}\")\n",
    "    generate_histogram(mu_hats, bootstraps_mean, ci, results_folder_name, experiment_name)"
   ]
  },
  {
   "cell_type": "code",
   "execution_count": 22,
   "metadata": {},
   "outputs": [],
   "source": [
    "def create_results_folder(experiment_name):\n",
    "    start_timestamp_str = get_timestamp_as_string()\n",
    "    results_folder_name = f\"{RESULTS_ROOT}/{experiment_name}/results_{start_timestamp_str}\"\n",
    "    if not os.path.exists(results_folder_name):\n",
    "        os.makedirs(results_folder_name, exist_ok=True)\n",
    "    return results_folder_name"
   ]
  },
  {
   "cell_type": "code",
   "execution_count": 23,
   "metadata": {},
   "outputs": [],
   "source": [
    "def conduct_experiment(qas, experiment_name, query_prompt_idx, context_needed=False, suppress_answers=False):\n",
    "\n",
    "    print(f\"============= Creating results folder for {experiment_name} =============\")\n",
    "    results_folder_name = create_results_folder(experiment_name)\n",
    "    \n",
    "    print(f\"============= Calculating scores for {experiment_name} =============\")\n",
    "    print(f\"SAMPLE_SIZE: {SAMPLE_SIZE}\")\n",
    "    calculate_scores(qas, query_prompt_idx, experiment_name, context_needed, suppress_answers)\n",
    "\n",
    "\n",
    "    print(f\"============= Persisting results for {experiment_name} =============\")\n",
    "    df = pd.DataFrame(qas)\n",
    "    persist_results(results_folder_name, experiment_name, df)\n",
    "\n",
    "    print(f\"\\n============= Bootstrapping for {experiment_name} =============\")\n",
    "    print(f\"BOOTSTRAPS_N: {BOOTSTRAPS_N}\")\n",
    "    do_bootstrapping(df[f\"{experiment_name.lower()}_f1\"].dropna().tolist(), results_folder_name, experiment_name, BOOTSTRAPS_N)"
   ]
  },
  {
   "cell_type": "markdown",
   "metadata": {},
   "source": [
    "##### Creating a sample from qas for bootstrapping and bootstrapping with Hyde (will be used for all experiments)"
   ]
  },
  {
   "cell_type": "code",
   "execution_count": 24,
   "metadata": {},
   "outputs": [],
   "source": [
    "# Getting qid, question, question_context\n",
    "qas_for_bootstrapping = [{\"qid\": qa[\"qid\"], \"question\": qa[\"question\"], \"question_context\": qa[\"question_context\"]} for qa in qas]\n",
    "# Removing duplicates\n",
    "qas_for_bootstrapping = list({frozenset(item.items()): item for item in qas_for_bootstrapping}.values())\n",
    "# Taking a sample of size SAMPLE_SIZE\n",
    "qas_for_bootstrapping = random.sample(qas_for_bootstrapping, SAMPLE_SIZE)\n",
    "len(qas_for_bootstrapping)\n",
    "\n",
    "qas_for_hyde_bootstrapping = [{\"qid\": qa[\"qid\"], \"question\": qa[\"question\"], \"hyde_based_context\": qa[\"hyde_based_context\"]} for qa in qas if len(qa[\"hyde_based_context\"]) > 0]\n",
    "# Removing duplicates\n",
    "qas_for_hyde_bootstrapping = list({frozenset(item.items()): item for item in qas_for_hyde_bootstrapping}.values())\n",
    "# Taking a sample of size SAMPLE_SIZE for hyde experiment\n",
    "qas_for_hyde_bootstrapping = random.sample(qas_for_hyde_bootstrapping, SAMPLE_SIZE)\n"
   ]
  },
  {
   "cell_type": "markdown",
   "metadata": {},
   "source": [
    "##### Calculate Resulst for NO_RAG"
   ]
  },
  {
   "cell_type": "code",
   "execution_count": null,
   "metadata": {},
   "outputs": [],
   "source": [
    "conduct_experiment(qas_for_bootstrapping, \"NO_RAG\", 0, context_needed=False)"
   ]
  },
  {
   "cell_type": "markdown",
   "metadata": {},
   "source": [
    "##### Calculating scores for BASIC_RAG"
   ]
  },
  {
   "cell_type": "code",
   "execution_count": null,
   "metadata": {},
   "outputs": [],
   "source": [
    "conduct_experiment(qas_for_bootstrapping, \"BASIC_RAG\", 1, context_needed=True)\n"
   ]
  },
  {
   "cell_type": "markdown",
   "metadata": {},
   "source": [
    "##### Calculate results for BASIC_RAG_DONT_LIE"
   ]
  },
  {
   "cell_type": "code",
   "execution_count": null,
   "metadata": {},
   "outputs": [],
   "source": [
    "conduct_experiment(qas_for_bootstrapping, \"BASIC_RAG_DONT_LIE\", 2, context_needed=True)"
   ]
  },
  {
   "cell_type": "markdown",
   "metadata": {},
   "source": [
    "##### Caclulation for BASIC_RAG_SUPPRESS_ANSWSERS"
   ]
  },
  {
   "cell_type": "code",
   "execution_count": null,
   "metadata": {},
   "outputs": [],
   "source": [
    "conduct_experiment(qas_for_bootstrapping, \"BASIC_RAG_SUPPRESS_ANSWERS\", 2, context_needed=True, suppress_answers=True)"
   ]
  },
  {
   "cell_type": "markdown",
   "metadata": {},
   "source": [
    "##### Calculation for BASIC_RAG_HYDE_ANSWERS"
   ]
  },
  {
   "cell_type": "code",
   "execution_count": 25,
   "metadata": {},
   "outputs": [
    {
     "name": "stdout",
     "output_type": "stream",
     "text": [
      "============= Creating results folder for BASIC_RAG_HYDE =============\n",
      "============= Calculating scores for BASIC_RAG_HYDE =============\n",
      "SAMPLE_SIZE: 30\n",
      "current_query_prompt = \n",
      "                You are an assistant for question-answering tasks.\n",
      "                Use the following pieces of retrieved context to answer the question.\n",
      "                If you don't know the answer, just return 'DONT KNOW'. \n",
      "                If you know the answer, keep it as short and concise as possible,\n",
      "                i.e. to a maximum of a couple of words.\n",
      "\n",
      "                Question: {question}\n",
      "                Context: {context}\n",
      "\n",
      "                Answer:\n",
      "                \n",
      "\n",
      "Processing question 0...\n",
      "taking hyde_based_context\n",
      "taking hyde_based_context\n",
      "taking hyde_based_context\n",
      "taking hyde_based_context\n",
      "taking hyde_based_context\n",
      "taking hyde_based_context\n",
      "taking hyde_based_context\n",
      "taking hyde_based_context\n",
      "taking hyde_based_context\n",
      "taking hyde_based_context\n",
      "Processing question 10...\n",
      "taking hyde_based_context\n",
      "taking hyde_based_context\n",
      "taking hyde_based_context\n",
      "taking hyde_based_context\n",
      "taking hyde_based_context\n",
      "taking hyde_based_context\n",
      "taking hyde_based_context\n",
      "taking hyde_based_context\n",
      "taking hyde_based_context\n",
      "taking hyde_based_context\n",
      "Processing question 20...\n",
      "taking hyde_based_context\n",
      "taking hyde_based_context\n",
      "taking hyde_based_context\n",
      "taking hyde_based_context\n",
      "taking hyde_based_context\n",
      "taking hyde_based_context\n",
      "taking hyde_based_context\n",
      "taking hyde_based_context\n",
      "taking hyde_based_context\n",
      "taking hyde_based_context\n",
      "============= Persisting results for BASIC_RAG_HYDE =============\n",
      "\n",
      "============= Bootstrapping for BASIC_RAG_HYDE =============\n",
      "BOOTSTRAPS_N: 10000\n",
      "Processing sample 0...\n",
      "Processing sample 100...\n",
      "Processing sample 200...\n",
      "Processing sample 300...\n",
      "Processing sample 400...\n",
      "Processing sample 500...\n",
      "Processing sample 600...\n",
      "Processing sample 700...\n",
      "Processing sample 800...\n",
      "Processing sample 900...\n",
      "Processing sample 1000...\n",
      "Processing sample 1100...\n",
      "Processing sample 1200...\n",
      "Processing sample 1300...\n",
      "Processing sample 1400...\n",
      "Processing sample 1500...\n",
      "Processing sample 1600...\n",
      "Processing sample 1700...\n",
      "Processing sample 1800...\n",
      "Processing sample 1900...\n",
      "Processing sample 2000...\n",
      "Processing sample 2100...\n",
      "Processing sample 2200...\n",
      "Processing sample 2300...\n",
      "Processing sample 2400...\n",
      "Processing sample 2500...\n",
      "Processing sample 2600...\n",
      "Processing sample 2700...\n",
      "Processing sample 2800...\n",
      "Processing sample 2900...\n",
      "Processing sample 3000...\n",
      "Processing sample 3100...\n",
      "Processing sample 3200...\n",
      "Processing sample 3300...\n",
      "Processing sample 3400...\n",
      "Processing sample 3500...\n",
      "Processing sample 3600...\n",
      "Processing sample 3700...\n",
      "Processing sample 3800...\n",
      "Processing sample 3900...\n",
      "Processing sample 4000...\n",
      "Processing sample 4100...\n",
      "Processing sample 4200...\n",
      "Processing sample 4300...\n",
      "Processing sample 4400...\n",
      "Processing sample 4500...\n",
      "Processing sample 4600...\n",
      "Processing sample 4700...\n",
      "Processing sample 4800...\n",
      "Processing sample 4900...\n",
      "Processing sample 5000...\n",
      "Processing sample 5100...\n",
      "Processing sample 5200...\n",
      "Processing sample 5300...\n",
      "Processing sample 5400...\n",
      "Processing sample 5500...\n",
      "Processing sample 5600...\n",
      "Processing sample 5700...\n",
      "Processing sample 5800...\n",
      "Processing sample 5900...\n",
      "Processing sample 6000...\n",
      "Processing sample 6100...\n",
      "Processing sample 6200...\n",
      "Processing sample 6300...\n",
      "Processing sample 6400...\n",
      "Processing sample 6500...\n",
      "Processing sample 6600...\n",
      "Processing sample 6700...\n",
      "Processing sample 6800...\n",
      "Processing sample 6900...\n",
      "Processing sample 7000...\n",
      "Processing sample 7100...\n",
      "Processing sample 7200...\n",
      "Processing sample 7300...\n",
      "Processing sample 7400...\n",
      "Processing sample 7500...\n",
      "Processing sample 7600...\n",
      "Processing sample 7700...\n",
      "Processing sample 7800...\n",
      "Processing sample 7900...\n",
      "Processing sample 8000...\n",
      "Processing sample 8100...\n",
      "Processing sample 8200...\n",
      "Processing sample 8300...\n",
      "Processing sample 8400...\n",
      "Processing sample 8500...\n",
      "Processing sample 8600...\n",
      "Processing sample 8700...\n",
      "Processing sample 8800...\n",
      "Processing sample 8900...\n",
      "Processing sample 9000...\n",
      "Processing sample 9100...\n",
      "Processing sample 9200...\n",
      "Processing sample 9300...\n",
      "Processing sample 9400...\n",
      "Processing sample 9500...\n",
      "Processing sample 9600...\n",
      "Processing sample 9700...\n",
      "Processing sample 9800...\n",
      "Processing sample 9900...\n"
     ]
    },
    {
     "data": {
      "image/png": "[encoded data removed]",
      "text/plain": [
       "<Figure size 640x480 with 1 Axes>"
      ]
     },
     "metadata": {},
     "output_type": "display_data"
    }
   ],
   "source": [
    "conduct_experiment(qas_for_hyde_bootstrapping, \"BASIC_RAG_HYDE\", 2, context_needed=True, suppress_answers=False    )"
   ]
  },
  {
   "cell_type": "code",
   "execution_count": null,
   "metadata": {},
   "outputs": [],
   "source": []
  }
 ],
 "metadata": {
  "kernelspec": {
   "display_name": "dh_p12",
   "language": "python",
   "name": "python3"
  },
  "language_info": {
   "codemirror_mode": {
    "name": "ipython",
    "version": 3
   },
   "file_extension": ".py",
   "mimetype": "text/x-python",
   "name": "python",
   "nbconvert_exporter": "python",
   "pygments_lexer": "ipython3",
   "version": "3.12.2"
  }
 },
 "nbformat": 4,
 "nbformat_minor": 2
}
